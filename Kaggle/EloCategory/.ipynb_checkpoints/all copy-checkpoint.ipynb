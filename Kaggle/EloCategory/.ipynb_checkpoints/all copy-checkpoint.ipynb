{
 "cells": [
  {
   "cell_type": "markdown",
   "metadata": {
    "_uuid": "a7174d68d8df9d53837177dcf62e54b49bbce47f"
   },
   "source": [
    "<a id=\"2.1\"></a> <br>\n",
    "## 2.1 Data Load\n",
    "\n",
    "Loading different libraries and packeges into the notebook. Some modules are imported in the relevant cells to make it more understandable and readable. "
   ]
  },
  {
   "cell_type": "code",
   "execution_count": 175,
   "metadata": {
    "_cell_guid": "b1076dfc-b9ad-4769-8c92-a6c4dae69d19",
    "_kg_hide-input": false,
    "_uuid": "8f2839f25d086af736a60e9eeb907d3b93b6e0e5",
    "execution": {
     "iopub.execute_input": "2022-07-19T14:57:30.796559Z",
     "iopub.status.busy": "2022-07-19T14:57:30.796138Z",
     "iopub.status.idle": "2022-07-19T14:57:30.810322Z",
     "shell.execute_reply": "2022-07-19T14:57:30.809149Z",
     "shell.execute_reply.started": "2022-07-19T14:57:30.796496Z"
    }
   },
   "outputs": [
    {
     "data": {
      "text/html": [
       "        <script type=\"text/javascript\">\n",
       "        window.PlotlyConfig = {MathJaxConfig: 'local'};\n",
       "        if (window.MathJax && window.MathJax.Hub && window.MathJax.Hub.Config) {window.MathJax.Hub.Config({SVG: {font: \"STIX-Web\"}});}\n",
       "        if (typeof require !== 'undefined') {\n",
       "        require.undef(\"plotly\");\n",
       "        requirejs.config({\n",
       "            paths: {\n",
       "                'plotly': ['https://cdn.plot.ly/plotly-2.12.1.min']\n",
       "            }\n",
       "        });\n",
       "        require(['plotly'], function(Plotly) {\n",
       "            window._Plotly = Plotly;\n",
       "        });\n",
       "        }\n",
       "        </script>\n",
       "        "
      ]
     },
     "metadata": {},
     "output_type": "display_data"
    }
   ],
   "source": [
    "# Importing libraries and packages\n",
    "import numpy as np\n",
    "import pandas as pd \n",
    "import matplotlib.pyplot as plt\n",
    "import seaborn as sns\n",
    "import graphviz\n",
    "from matplotlib.pyplot import figure\n",
    "import matplotlib.ticker as ticker\n",
    "\n",
    "import warnings\n",
    "import time \n",
    "import sys \n",
    "import datetime\n",
    "import gc\n",
    "warnings.simplefilter(action='ignore')\n",
    "\n",
    "import plotly.offline as poff\n",
    "py.init_notebook_mode(connected=True)\n",
    "import plotly.graph_objs as go \n",
    "import plotly.tools as tls\n",
    "\n",
    "from sklearn.metrics import mean_squared_error\n",
    "from sklearn.linear_model import BayesianRidge\n",
    "from sklearn import model_selection, preprocessing, metrics\n",
    "from sklearn.model_selection import train_test_split, KFold, StratifiedKFold, learning_curve, validation_curve\n",
    "from sklearn import tree\n",
    "from sklearn.tree import DecisionTreeRegressor\n",
    "import lightgbm as lgb "
   ]
  },
  {
   "cell_type": "code",
   "execution_count": 127,
   "metadata": {},
   "outputs": [
    {
     "data": {
      "text/plain": [
       "feature_1                      int64\n",
       "feature_2                      int64\n",
       "feature_3                      int64\n",
       "elapsed_time                   int64\n",
       "hist_transactions_count_x      int64\n",
       "                              ...   \n",
       "hist_purchase_date_ptp_y     float64\n",
       "hist_purchase_date_min_y     float64\n",
       "hist_purchase_date_max_y     float64\n",
       "hist_month_lag_min_y         float64\n",
       "hist_month_lag_max_y         float64\n",
       "Length: 74, dtype: object"
      ]
     },
     "execution_count": 127,
     "metadata": {},
     "output_type": "execute_result"
    }
   ],
   "source": [
    "train.dtypes"
   ]
  },
  {
   "cell_type": "markdown",
   "metadata": {
    "_uuid": "fb8a48aa8bab4d973e4e927d1c5767f449549f66"
   },
   "source": [
    "On of the first necessary steps was it, to challenge the **memory problem**. We reduced the memory usage by this function from Ashish Gupta.  https://www.kaggle.com/roydatascience/elo-stack-interactions-on-categorical-variables\n",
    "\n",
    "It basicially changes the data types and helped us to reduce our memory usage by up to 56%."
   ]
  },
  {
   "cell_type": "code",
   "execution_count": 3,
   "metadata": {
    "_cell_guid": "79c7e3d0-c299-4dcb-8224-4455121ee9b0",
    "_kg_hide-input": false,
    "_uuid": "d629ff2d2480ee46fbb7e2d37f6b5fab8052498a",
    "execution": {
     "iopub.execute_input": "2022-07-19T14:57:30.812233Z",
     "iopub.status.busy": "2022-07-19T14:57:30.811898Z",
     "iopub.status.idle": "2022-07-19T14:57:30.825691Z",
     "shell.execute_reply": "2022-07-19T14:57:30.824588Z",
     "shell.execute_reply.started": "2022-07-19T14:57:30.812180Z"
    }
   },
   "outputs": [],
   "source": [
    "# How it works? Our column usually has the type int64 and float64 but \n",
    "# we don't need so many memory for a small number, for example 744 or 6999\n",
    "# therefore we need reduce memory for these values. In this way we can \n",
    "# reduce the time for training our model.\n",
    "\n",
    "def reduce_mem_usage(df, verbose=True):\n",
    "    # all types of numerical values\n",
    "    numerics = ['int16', 'int32', 'int64', 'float16', 'float32', 'float64']\n",
    "    start_mem = df.memory_usage().sum() / 1024**2    \n",
    "    for col in df.columns:\n",
    "        # determine a type of column\n",
    "        col_type = df[col].dtypes\n",
    "        if col_type in numerics:\n",
    "            # find max and min of every column\n",
    "            c_min = df[col].min()\n",
    "            c_max = df[col].max()\n",
    "            if str(col_type)[:3] == 'int':\n",
    "                # if type == 'int' then convert the column to 'int->8,16,32'\n",
    "                if c_min > np.iinfo(np.int8).min and c_max < np.iinfo(np.int8).max:\n",
    "                    df[col] = df[col].astype(np.int8)\n",
    "                elif c_min > np.iinfo(np.int16).min and c_max < np.iinfo(np.int16).max:\n",
    "                    df[col] = df[col].astype(np.int16)\n",
    "                elif c_min > np.iinfo(np.int32).min and c_max < np.iinfo(np.int32).max:\n",
    "                    df[col] = df[col].astype(np.int32)\n",
    "                elif c_min > np.iinfo(np.int64).min and c_max < np.iinfo(np.int64).max:\n",
    "                    df[col] = df[col].astype(np.int64)  \n",
    "            else:\n",
    "                # the same for float\n",
    "                if c_min > np.finfo(np.float16).min and c_max < np.finfo(np.float16).max:\n",
    "                    df[col] = df[col].astype(np.float16)\n",
    "                elif c_min > np.finfo(np.float32).min and c_max < np.finfo(np.float32).max:\n",
    "                    df[col] = df[col].astype(np.float32)\n",
    "                else:\n",
    "                    df[col] = df[col].astype(np.float64)    \n",
    "    end_mem = df.memory_usage().sum() / 1024**2\n",
    "    if verbose: print('Mem. usage decreased to {:5.2f} Mb ({:.1f}% reduction)'.format(end_mem, 100 * (start_mem - end_mem) / start_mem))\n",
    "    return df"
   ]
  },
  {
   "cell_type": "markdown",
   "metadata": {
    "_uuid": "1ae7626c90602b0ff9b410239bd4d270c35978b0"
   },
   "source": [
    "Loading the data into the Kernel:"
   ]
  },
  {
   "cell_type": "code",
   "execution_count": 4,
   "metadata": {
    "_uuid": "fd32ef726bcac7a0020599518e51311fcd83a7bf",
    "execution": {
     "iopub.execute_input": "2022-07-19T14:57:30.828501Z",
     "iopub.status.busy": "2022-07-19T14:57:30.827757Z",
     "iopub.status.idle": "2022-07-19T14:59:47.512507Z",
     "shell.execute_reply": "2022-07-19T14:59:47.511200Z",
     "shell.execute_reply.started": "2022-07-19T14:57:30.828368Z"
    },
    "scrolled": true
   },
   "outputs": [
    {
     "name": "stdout",
     "output_type": "stream",
     "text": [
      "CPU times: user 48.6 s, sys: 16.1 s, total: 1min 4s\n",
      "Wall time: 1min 7s\n"
     ]
    }
   ],
   "source": [
    "%%time\n",
    "# import data\n",
    "new_transactions = pd.read_csv('data/new_merchant_transactions.csv', parse_dates=['purchase_date'])\n",
    "historical_transactions = pd.read_csv('data/historical_transactions.csv', parse_dates=['purchase_date'])\n",
    "\n",
    "org_train = pd.read_csv('data/train.csv')\n",
    "org_test = pd.read_csv('data/test.csv')"
   ]
  },
  {
   "cell_type": "markdown",
   "metadata": {
    "_uuid": "61b9e5a07eac41b66b684cca0782d6e758a402eb"
   },
   "source": [
    "Reducing the memory usage with the predefined funtion."
   ]
  },
  {
   "cell_type": "code",
   "execution_count": 5,
   "metadata": {
    "_uuid": "52e1a72288098af842eef6b75757613ca4ae2c27",
    "execution": {
     "iopub.execute_input": "2022-07-19T14:59:47.514281Z",
     "iopub.status.busy": "2022-07-19T14:59:47.514012Z",
     "iopub.status.idle": "2022-07-19T14:59:54.884178Z",
     "shell.execute_reply": "2022-07-19T14:59:54.883050Z",
     "shell.execute_reply.started": "2022-07-19T14:59:47.514236Z"
    }
   },
   "outputs": [
    {
     "name": "stdout",
     "output_type": "stream",
     "text": [
      "Mem. usage decreased to 1749.11 Mb (43.7% reduction)\n",
      "Mem. usage decreased to 114.20 Mb (45.5% reduction)\n"
     ]
    }
   ],
   "source": [
    "# Reduce memory usage\n",
    "historical_transactions = reduce_mem_usage(historical_transactions)\n",
    "new_transactions = reduce_mem_usage(new_transactions)"
   ]
  },
  {
   "cell_type": "markdown",
   "metadata": {
    "_uuid": "db1e4d269e612f7019b9c714be8fe47aaeb0348c"
   },
   "source": [
    "<a id=\"2.2\"></a> <br>\n",
    "### 2.2 Visualization"
   ]
  },
  {
   "cell_type": "code",
   "execution_count": 6,
   "metadata": {
    "_uuid": "0f59820fe1cd36bc4cfc66681218dfe5a02c9c43",
    "execution": {
     "iopub.execute_input": "2022-07-19T14:59:54.885712Z",
     "iopub.status.busy": "2022-07-19T14:59:54.885448Z",
     "iopub.status.idle": "2022-07-19T14:59:56.663729Z",
     "shell.execute_reply": "2022-07-19T14:59:56.662391Z",
     "shell.execute_reply.started": "2022-07-19T14:59:54.885667Z"
    }
   },
   "outputs": [
    {
     "name": "stdout",
     "output_type": "stream",
     "text": [
      "historical_transactions contains 29112361 transactions for 325540 card_ids\n",
      "new_marchants_transactions contains 1963031 transactions for 290001 card_ids\n"
     ]
    }
   ],
   "source": [
    "print('historical_transactions contains ' + str(len(historical_transactions)) + ' transactions ' + 'for ' + str(len(historical_transactions.card_id.unique())) + ' card_ids')\n",
    "print('new_marchants_transactions contains ' + str(len(new_transactions)) + ' transactions ' + 'for ' + str(len(new_transactions.card_id.unique())) + ' card_ids')"
   ]
  },
  {
   "cell_type": "markdown",
   "metadata": {
    "_uuid": "4f7c376821caa6e73d26ec3f3311931f981a6f01"
   },
   "source": [
    "Just looking at org_train does not shape an understanding of data, so the next visualizations bring important aspects of that data into focus for further analysis.\n",
    "\n",
    "Firstly, let's take a look on the distribution of feature_1, feature_2 and feature_3. We can make the conclussion that feature_3 has to be binarized and the best approach in dealing with feature_1 and feature_2 is an implementation of dummies."
   ]
  },
  {
   "cell_type": "code",
   "execution_count": 143,
   "metadata": {
    "_kg_hide-input": true,
    "_uuid": "309b4737f586995e6c421c77de4fb27243723ceb",
    "execution": {
     "iopub.execute_input": "2022-07-19T14:59:56.665618Z",
     "iopub.status.busy": "2022-07-19T14:59:56.665254Z",
     "iopub.status.idle": "2022-07-19T14:59:57.055504Z",
     "shell.execute_reply": "2022-07-19T14:59:57.054427Z",
     "shell.execute_reply.started": "2022-07-19T14:59:56.665554Z"
    },
    "scrolled": true
   },
   "outputs": [
    {
     "data": {
      "image/png": "[encoded data removed]",
      "text/plain": [
       "<Figure size 1008x288 with 3 Axes>"
      ]
     },
     "metadata": {
      "needs_background": "light"
     },
     "output_type": "display_data"
    }
   ],
   "source": [
    "fig, ax = plt.subplots(1, 3, figsize = (14, 4));\n",
    "org_train['feature_1'].value_counts().sort_index().plot(kind='bar', ax=ax[0], color='darkorange', title='feature_1', fontsize = 5)\n",
    "org_train['feature_2'].value_counts().sort_index().plot(kind='bar', ax=ax[1], color='y', title='feature_2', fontsize = 5)\n",
    "org_train['feature_3'].value_counts().sort_index().plot(kind='pie', ax=ax[2], colors = ['chocolate', 'burlywood'], title='feature_3', explode=[0,0.1], autopct='%1.1f%%',shadow=False);"
   ]
  },
  {
   "cell_type": "markdown",
   "metadata": {
    "_kg_hide-input": true,
    "_uuid": "0c5407a8d3083e257c75c8c1be15de1d15797de2"
   },
   "source": [
    "What we can also do is to directly plot a correlation matrix. The correlation between different variables in a dataframe is very low, meaning that we are lacking the data in the org_train for accurate predictions."
   ]
  },
  {
   "cell_type": "code",
   "execution_count": 171,
   "metadata": {
    "_uuid": "219e236591a70b2d2758607a11843ce3380c6eac",
    "execution": {
     "iopub.execute_input": "2022-07-19T14:59:57.057683Z",
     "iopub.status.busy": "2022-07-19T14:59:57.057088Z",
     "iopub.status.idle": "2022-07-19T14:59:57.444587Z",
     "shell.execute_reply": "2022-07-19T14:59:57.443343Z",
     "shell.execute_reply.started": "2022-07-19T14:59:57.057623Z"
    },
    "scrolled": true
   },
   "outputs": [
    {
     "data": {
      "image/png": "[encoded data removed]",
      "text/plain": [
       "<Figure size 720x360 with 1 Axes>"
      ]
     },
     "metadata": {
      "needs_background": "light"
     },
     "output_type": "display_data"
    }
   ],
   "source": [
    "train_corr_matrix = org_train.corr()\n",
    "# Generate mask for the upper triangle\n",
    "mask = np.zeros_like(train_corr_matrix, dtype=np.bool)\n",
    "mask[np.triu_indices_from(mask)] = True\n",
    "\n",
    "f, ax = plt.subplots(figsize=(10, 5))\n",
    "cmap = sns.diverging_palette(50, 225)\n",
    "sns.heatmap(train_corr_matrix, mask=mask, cmap=cmap, vmax=.4, center=0,\n",
    "            annot=True, square=True, linewidths=.5, cbar=False);"
   ]
  },
  {
   "cell_type": "markdown",
   "metadata": {
    "_uuid": "537cace8e5e065f8fd8a70d94de4058998e6a5a0"
   },
   "source": [
    "Now, lets have a look at both org_train and org_test. The column first_active_month shows the month of the first purchase for a card_id. Basically, it makes sense to compare the number of first purchases in a month for train and test data.\n",
    "\n",
    "From the following graph the next information is discovered:\n",
    "\n",
    "- Test dataset is highly correlated with the train date having the same distribution\n",
    "- Test dataset has approximately twice less of observations"
   ]
  },
  {
   "cell_type": "code",
   "execution_count": 182,
   "metadata": {
    "_uuid": "3e41c651d627052494e9a05ca8bdde8b263f1e68",
    "execution": {
     "iopub.execute_input": "2022-07-19T14:59:57.447136Z",
     "iopub.status.busy": "2022-07-19T14:59:57.446413Z",
     "iopub.status.idle": "2022-07-19T14:59:57.762758Z",
     "shell.execute_reply": "2022-07-19T14:59:57.761494Z",
     "shell.execute_reply.started": "2022-07-19T14:59:57.447064Z"
    }
   },
   "outputs": [
    {
     "data": {
      "application/vnd.plotly.v1+json": {
       "config": {
        "linkText": "Export to plot.ly",
        "plotlyServerURL": "https://plot.ly",
        "showLink": false
       },
       "data": [
        {
         "marker": {
          "color": "orange"
         },
         "mode": "lines+markers",
         "name": "train",
         "type": "scatter",
         "x": [
          "2011-11",
          "2011-12",
          "2012-02",
          "2012-03",
          "2012-04",
          "2012-05",
          "2012-06",
          "2012-07",
          "2012-08",
          "2012-09",
          "2012-10",
          "2012-11",
          "2012-12",
          "2013-01",
          "2013-02",
          "2013-03",
          "2013-04",
          "2013-05",
          "2013-06",
          "2013-07",
          "2013-08",
          "2013-09",
          "2013-10",
          "2013-11",
          "2013-12",
          "2014-01",
          "2014-02",
          "2014-03",
          "2014-04",
          "2014-05",
          "2014-06",
          "2014-07",
          "2014-08",
          "2014-09",
          "2014-10",
          "2014-11",
          "2014-12",
          "2015-01",
          "2015-02",
          "2015-03",
          "2015-04",
          "2015-05",
          "2015-06",
          "2015-07",
          "2015-08",
          "2015-09",
          "2015-10",
          "2015-11",
          "2015-12",
          "2016-01",
          "2016-02",
          "2016-03",
          "2016-04",
          "2016-05",
          "2016-06",
          "2016-07",
          "2016-08",
          "2016-09",
          "2016-10",
          "2016-11",
          "2016-12",
          "2017-01",
          "2017-02",
          "2017-03",
          "2017-04",
          "2017-05",
          "2017-06",
          "2017-07",
          "2017-08",
          "2017-09",
          "2017-10",
          "2017-11",
          "2017-12",
          "2018-01",
          "2018-02"
         ],
         "y": [
          8,
          2,
          7,
          10,
          18,
          28,
          19,
          29,
          36,
          38,
          31,
          48,
          18,
          23,
          37,
          58,
          58,
          94,
          79,
          110,
          126,
          121,
          126,
          132,
          165,
          144,
          198,
          242,
          352,
          431,
          345,
          407,
          399,
          431,
          476,
          481,
          617,
          533,
          526,
          608,
          733,
          918,
          1104,
          1393,
          1376,
          1494,
          1532,
          1582,
          2343,
          1711,
          1636,
          2005,
          2938,
          3314,
          4102,
          4188,
          4977,
          4410,
          5371,
          7222,
          9403,
          9605,
          8110,
          8271,
          8761,
          9168,
          9930,
          12363,
          13638,
          13878,
          13695,
          12930,
          10170,
          34,
          1
         ]
        },
        {
         "marker": {
          "color": "lightseagreen"
         },
         "mode": "lines+markers",
         "name": "test",
         "type": "scatter",
         "x": [
          "2011-11",
          "2011-12",
          "2012-01",
          "2012-02",
          "2012-03",
          "2012-04",
          "2012-05",
          "2012-06",
          "2012-07",
          "2012-08",
          "2012-09",
          "2012-10",
          "2012-11",
          "2012-12",
          "2013-01",
          "2013-02",
          "2013-03",
          "2013-04",
          "2013-05",
          "2013-06",
          "2013-07",
          "2013-08",
          "2013-09",
          "2013-10",
          "2013-11",
          "2013-12",
          "2014-01",
          "2014-02",
          "2014-03",
          "2014-04",
          "2014-05",
          "2014-06",
          "2014-07",
          "2014-08",
          "2014-09",
          "2014-10",
          "2014-11",
          "2014-12",
          "2015-01",
          "2015-02",
          "2015-03",
          "2015-04",
          "2015-05",
          "2015-06",
          "2015-07",
          "2015-08",
          "2015-09",
          "2015-10",
          "2015-11",
          "2015-12",
          "2016-01",
          "2016-02",
          "2016-03",
          "2016-04",
          "2016-05",
          "2016-06",
          "2016-07",
          "2016-08",
          "2016-09",
          "2016-10",
          "2016-11",
          "2016-12",
          "2017-01",
          "2017-02",
          "2017-03",
          "2017-04",
          "2017-05",
          "2017-06",
          "2017-07",
          "2017-08",
          "2017-09",
          "2017-10",
          "2017-11",
          "2017-12",
          "2018-01"
         ],
         "y": [
          3,
          2,
          1,
          4,
          10,
          11,
          12,
          14,
          15,
          21,
          18,
          13,
          18,
          16,
          14,
          28,
          34,
          40,
          44,
          56,
          72,
          73,
          75,
          80,
          80,
          95,
          90,
          97,
          141,
          209,
          263,
          220,
          236,
          265,
          257,
          291,
          296,
          390,
          279,
          335,
          397,
          433,
          604,
          711,
          862,
          882,
          818,
          936,
          955,
          1393,
          996,
          987,
          1258,
          1740,
          2096,
          2407,
          2610,
          3108,
          2663,
          3335,
          4444,
          5751,
          5974,
          4903,
          5058,
          5371,
          5598,
          6147,
          7344,
          8299,
          8805,
          8451,
          7807,
          6233,
          28
         ]
        }
       ],
       "layout": {
        "legend": {
         "orientation": "v"
        },
        "template": {
         "data": {
          "bar": [
           {
            "error_x": {
             "color": "#2a3f5f"
            },
            "error_y": {
             "color": "#2a3f5f"
            },
            "marker": {
             "line": {
              "color": "#E5ECF6",
              "width": 0.5
             },
             "pattern": {
              "fillmode": "overlay",
              "size": 10,
              "solidity": 0.2
             }
            },
            "type": "bar"
           }
          ],
          "barpolar": [
           {
            "marker": {
             "line": {
              "color": "#E5ECF6",
              "width": 0.5
             },
             "pattern": {
              "fillmode": "overlay",
              "size": 10,
              "solidity": 0.2
             }
            },
            "type": "barpolar"
           }
          ],
          "carpet": [
           {
            "aaxis": {
             "endlinecolor": "#2a3f5f",
             "gridcolor": "white",
             "linecolor": "white",
             "minorgridcolor": "white",
             "startlinecolor": "#2a3f5f"
            },
            "baxis": {
             "endlinecolor": "#2a3f5f",
             "gridcolor": "white",
             "linecolor": "white",
             "minorgridcolor": "white",
             "startlinecolor": "#2a3f5f"
            },
            "type": "carpet"
           }
          ],
          "choropleth": [
           {
            "colorbar": {
             "outlinewidth": 0,
             "ticks": ""
            },
            "type": "choropleth"
           }
          ],
          "contour": [
           {
            "colorbar": {
             "outlinewidth": 0,
             "ticks": ""
            },
            "colorscale": [
             [
              0,
              "#0d0887"
             ],
             [
              0.1111111111111111,
              "#46039f"
             ],
             [
              0.2222222222222222,
              "#7201a8"
             ],
             [
              0.3333333333333333,
              "#9c179e"
             ],
             [
              0.4444444444444444,
              "#bd3786"
             ],
             [
              0.5555555555555556,
              "#d8576b"
             ],
             [
              0.6666666666666666,
              "#ed7953"
             ],
             [
              0.7777777777777778,
              "#fb9f3a"
             ],
             [
              0.8888888888888888,
              "#fdca26"
             ],
             [
              1,
              "#f0f921"
             ]
            ],
            "type": "contour"
           }
          ],
          "contourcarpet": [
           {
            "colorbar": {
             "outlinewidth": 0,
             "ticks": ""
            },
            "type": "contourcarpet"
           }
          ],
          "heatmap": [
           {
            "colorbar": {
             "outlinewidth": 0,
             "ticks": ""
            },
            "colorscale": [
             [
              0,
              "#0d0887"
             ],
             [
              0.1111111111111111,
              "#46039f"
             ],
             [
              0.2222222222222222,
              "#7201a8"
             ],
             [
              0.3333333333333333,
              "#9c179e"
             ],
             [
              0.4444444444444444,
              "#bd3786"
             ],
             [
              0.5555555555555556,
              "#d8576b"
             ],
             [
              0.6666666666666666,
              "#ed7953"
             ],
             [
              0.7777777777777778,
              "#fb9f3a"
             ],
             [
              0.8888888888888888,
              "#fdca26"
             ],
             [
              1,
              "#f0f921"
             ]
            ],
            "type": "heatmap"
           }
          ],
          "heatmapgl": [
           {
            "colorbar": {
             "outlinewidth": 0,
             "ticks": ""
            },
            "colorscale": [
             [
              0,
              "#0d0887"
             ],
             [
              0.1111111111111111,
              "#46039f"
             ],
             [
              0.2222222222222222,
              "#7201a8"
             ],
             [
              0.3333333333333333,
              "#9c179e"
             ],
             [
              0.4444444444444444,
              "#bd3786"
             ],
             [
              0.5555555555555556,
              "#d8576b"
             ],
             [
              0.6666666666666666,
              "#ed7953"
             ],
             [
              0.7777777777777778,
              "#fb9f3a"
             ],
             [
              0.8888888888888888,
              "#fdca26"
             ],
             [
              1,
              "#f0f921"
             ]
            ],
            "type": "heatmapgl"
           }
          ],
          "histogram": [
           {
            "marker": {
             "pattern": {
              "fillmode": "overlay",
              "size": 10,
              "solidity": 0.2
             }
            },
            "type": "histogram"
           }
          ],
          "histogram2d": [
           {
            "colorbar": {
             "outlinewidth": 0,
             "ticks": ""
            },
            "colorscale": [
             [
              0,
              "#0d0887"
             ],
             [
              0.1111111111111111,
              "#46039f"
             ],
             [
              0.2222222222222222,
              "#7201a8"
             ],
             [
              0.3333333333333333,
              "#9c179e"
             ],
             [
              0.4444444444444444,
              "#bd3786"
             ],
             [
              0.5555555555555556,
              "#d8576b"
             ],
             [
              0.6666666666666666,
              "#ed7953"
             ],
             [
              0.7777777777777778,
              "#fb9f3a"
             ],
             [
              0.8888888888888888,
              "#fdca26"
             ],
             [
              1,
              "#f0f921"
             ]
            ],
            "type": "histogram2d"
           }
          ],
          "histogram2dcontour": [
           {
            "colorbar": {
             "outlinewidth": 0,
             "ticks": ""
            },
            "colorscale": [
             [
              0,
              "#0d0887"
             ],
             [
              0.1111111111111111,
              "#46039f"
             ],
             [
              0.2222222222222222,
              "#7201a8"
             ],
             [
              0.3333333333333333,
              "#9c179e"
             ],
             [
              0.4444444444444444,
              "#bd3786"
             ],
             [
              0.5555555555555556,
              "#d8576b"
             ],
             [
              0.6666666666666666,
              "#ed7953"
             ],
             [
              0.7777777777777778,
              "#fb9f3a"
             ],
             [
              0.8888888888888888,
              "#fdca26"
             ],
             [
              1,
              "#f0f921"
             ]
            ],
            "type": "histogram2dcontour"
           }
          ],
          "mesh3d": [
           {
            "colorbar": {
             "outlinewidth": 0,
             "ticks": ""
            },
            "type": "mesh3d"
           }
          ],
          "parcoords": [
           {
            "line": {
             "colorbar": {
              "outlinewidth": 0,
              "ticks": ""
             }
            },
            "type": "parcoords"
           }
          ],
          "pie": [
           {
            "automargin": true,
            "type": "pie"
           }
          ],
          "scatter": [
           {
            "fillpattern": {
             "fillmode": "overlay",
             "size": 10,
             "solidity": 0.2
            },
            "type": "scatter"
           }
          ],
          "scatter3d": [
           {
            "line": {
             "colorbar": {
              "outlinewidth": 0,
              "ticks": ""
             }
            },
            "marker": {
             "colorbar": {
              "outlinewidth": 0,
              "ticks": ""
             }
            },
            "type": "scatter3d"
           }
          ],
          "scattercarpet": [
           {
            "marker": {
             "colorbar": {
              "outlinewidth": 0,
              "ticks": ""
             }
            },
            "type": "scattercarpet"
           }
          ],
          "scattergeo": [
           {
            "marker": {
             "colorbar": {
              "outlinewidth": 0,
              "ticks": ""
             }
            },
            "type": "scattergeo"
           }
          ],
          "scattergl": [
           {
            "marker": {
             "colorbar": {
              "outlinewidth": 0,
              "ticks": ""
             }
            },
            "type": "scattergl"
           }
          ],
          "scattermapbox": [
           {
            "marker": {
             "colorbar": {
              "outlinewidth": 0,
              "ticks": ""
             }
            },
            "type": "scattermapbox"
           }
          ],
          "scatterpolar": [
           {
            "marker": {
             "colorbar": {
              "outlinewidth": 0,
              "ticks": ""
             }
            },
            "type": "scatterpolar"
           }
          ],
          "scatterpolargl": [
           {
            "marker": {
             "colorbar": {
              "outlinewidth": 0,
              "ticks": ""
             }
            },
            "type": "scatterpolargl"
           }
          ],
          "scatterternary": [
           {
            "marker": {
             "colorbar": {
              "outlinewidth": 0,
              "ticks": ""
             }
            },
            "type": "scatterternary"
           }
          ],
          "surface": [
           {
            "colorbar": {
             "outlinewidth": 0,
             "ticks": ""
            },
            "colorscale": [
             [
              0,
              "#0d0887"
             ],
             [
              0.1111111111111111,
              "#46039f"
             ],
             [
              0.2222222222222222,
              "#7201a8"
             ],
             [
              0.3333333333333333,
              "#9c179e"
             ],
             [
              0.4444444444444444,
              "#bd3786"
             ],
             [
              0.5555555555555556,
              "#d8576b"
             ],
             [
              0.6666666666666666,
              "#ed7953"
             ],
             [
              0.7777777777777778,
              "#fb9f3a"
             ],
             [
              0.8888888888888888,
              "#fdca26"
             ],
             [
              1,
              "#f0f921"
             ]
            ],
            "type": "surface"
           }
          ],
          "table": [
           {
            "cells": {
             "fill": {
              "color": "#EBF0F8"
             },
             "line": {
              "color": "white"
             }
            },
            "header": {
             "fill": {
              "color": "#C8D4E3"
             },
             "line": {
              "color": "white"
             }
            },
            "type": "table"
           }
          ]
         },
         "layout": {
          "annotationdefaults": {
           "arrowcolor": "#2a3f5f",
           "arrowhead": 0,
           "arrowwidth": 1
          },
          "autotypenumbers": "strict",
          "coloraxis": {
           "colorbar": {
            "outlinewidth": 0,
            "ticks": ""
           }
          },
          "colorscale": {
           "diverging": [
            [
             0,
             "#8e0152"
            ],
            [
             0.1,
             "#c51b7d"
            ],
            [
             0.2,
             "#de77ae"
            ],
            [
             0.3,
             "#f1b6da"
            ],
            [
             0.4,
             "#fde0ef"
            ],
            [
             0.5,
             "#f7f7f7"
            ],
            [
             0.6,
             "#e6f5d0"
            ],
            [
             0.7,
             "#b8e186"
            ],
            [
             0.8,
             "#7fbc41"
            ],
            [
             0.9,
             "#4d9221"
            ],
            [
             1,
             "#276419"
            ]
           ],
           "sequential": [
            [
             0,
             "#0d0887"
            ],
            [
             0.1111111111111111,
             "#46039f"
            ],
            [
             0.2222222222222222,
             "#7201a8"
            ],
            [
             0.3333333333333333,
             "#9c179e"
            ],
            [
             0.4444444444444444,
             "#bd3786"
            ],
            [
             0.5555555555555556,
             "#d8576b"
            ],
            [
             0.6666666666666666,
             "#ed7953"
            ],
            [
             0.7777777777777778,
             "#fb9f3a"
            ],
            [
             0.8888888888888888,
             "#fdca26"
            ],
            [
             1,
             "#f0f921"
            ]
           ],
           "sequentialminus": [
            [
             0,
             "#0d0887"
            ],
            [
             0.1111111111111111,
             "#46039f"
            ],
            [
             0.2222222222222222,
             "#7201a8"
            ],
            [
             0.3333333333333333,
             "#9c179e"
            ],
            [
             0.4444444444444444,
             "#bd3786"
            ],
            [
             0.5555555555555556,
             "#d8576b"
            ],
            [
             0.6666666666666666,
             "#ed7953"
            ],
            [
             0.7777777777777778,
             "#fb9f3a"
            ],
            [
             0.8888888888888888,
             "#fdca26"
            ],
            [
             1,
             "#f0f921"
            ]
           ]
          },
          "colorway": [
           "#636efa",
           "#EF553B",
           "#00cc96",
           "#ab63fa",
           "#FFA15A",
           "#19d3f3",
           "#FF6692",
           "#B6E880",
           "#FF97FF",
           "#FECB52"
          ],
          "font": {
           "color": "#2a3f5f"
          },
          "geo": {
           "bgcolor": "white",
           "lakecolor": "white",
           "landcolor": "#E5ECF6",
           "showlakes": true,
           "showland": true,
           "subunitcolor": "white"
          },
          "hoverlabel": {
           "align": "left"
          },
          "hovermode": "closest",
          "mapbox": {
           "style": "light"
          },
          "paper_bgcolor": "white",
          "plot_bgcolor": "#E5ECF6",
          "polar": {
           "angularaxis": {
            "gridcolor": "white",
            "linecolor": "white",
            "ticks": ""
           },
           "bgcolor": "#E5ECF6",
           "radialaxis": {
            "gridcolor": "white",
            "linecolor": "white",
            "ticks": ""
           }
          },
          "scene": {
           "xaxis": {
            "backgroundcolor": "#E5ECF6",
            "gridcolor": "white",
            "gridwidth": 2,
            "linecolor": "white",
            "showbackground": true,
            "ticks": "",
            "zerolinecolor": "white"
           },
           "yaxis": {
            "backgroundcolor": "#E5ECF6",
            "gridcolor": "white",
            "gridwidth": 2,
            "linecolor": "white",
            "showbackground": true,
            "ticks": "",
            "zerolinecolor": "white"
           },
           "zaxis": {
            "backgroundcolor": "#E5ECF6",
            "gridcolor": "white",
            "gridwidth": 2,
            "linecolor": "white",
            "showbackground": true,
            "ticks": "",
            "zerolinecolor": "white"
           }
          },
          "shapedefaults": {
           "line": {
            "color": "#2a3f5f"
           }
          },
          "ternary": {
           "aaxis": {
            "gridcolor": "white",
            "linecolor": "white",
            "ticks": ""
           },
           "baxis": {
            "gridcolor": "white",
            "linecolor": "white",
            "ticks": ""
           },
           "bgcolor": "#E5ECF6",
           "caxis": {
            "gridcolor": "white",
            "linecolor": "white",
            "ticks": ""
           }
          },
          "title": {
           "x": 0.05
          },
          "xaxis": {
           "automargin": true,
           "gridcolor": "white",
           "linecolor": "white",
           "ticks": "",
           "title": {
            "standoff": 15
           },
           "zerolinecolor": "white",
           "zerolinewidth": 2
          },
          "yaxis": {
           "automargin": true,
           "gridcolor": "white",
           "linecolor": "white",
           "ticks": "",
           "title": {
            "standoff": 15
           },
           "zerolinecolor": "white",
           "zerolinewidth": 2
          }
         }
        },
        "title": {
         "text": "Counts of first active"
        },
        "xaxis": {
         "title": {
          "text": "Month"
         }
        },
        "yaxis": {
         "title": {
          "text": "Count"
         }
        }
       }
      },
      "text/html": [
       "<div>                            <div id=\"cd6c4225-836b-4ae8-a701-c46ecc36dd02\" class=\"plotly-graph-div\" style=\"height:525px; width:100%;\"></div>            <script type=\"text/javascript\">                require([\"plotly\"], function(Plotly) {                    window.PLOTLYENV=window.PLOTLYENV || {};                                    if (document.getElementById(\"cd6c4225-836b-4ae8-a701-c46ecc36dd02\")) {                    Plotly.newPlot(                        \"cd6c4225-836b-4ae8-a701-c46ecc36dd02\",                        [{\"marker\":{\"color\":\"orange\"},\"mode\":\"lines+markers\",\"name\":\"train\",\"x\":[\"2011-11\",\"2011-12\",\"2012-02\",\"2012-03\",\"2012-04\",\"2012-05\",\"2012-06\",\"2012-07\",\"2012-08\",\"2012-09\",\"2012-10\",\"2012-11\",\"2012-12\",\"2013-01\",\"2013-02\",\"2013-03\",\"2013-04\",\"2013-05\",\"2013-06\",\"2013-07\",\"2013-08\",\"2013-09\",\"2013-10\",\"2013-11\",\"2013-12\",\"2014-01\",\"2014-02\",\"2014-03\",\"2014-04\",\"2014-05\",\"2014-06\",\"2014-07\",\"2014-08\",\"2014-09\",\"2014-10\",\"2014-11\",\"2014-12\",\"2015-01\",\"2015-02\",\"2015-03\",\"2015-04\",\"2015-05\",\"2015-06\",\"2015-07\",\"2015-08\",\"2015-09\",\"2015-10\",\"2015-11\",\"2015-12\",\"2016-01\",\"2016-02\",\"2016-03\",\"2016-04\",\"2016-05\",\"2016-06\",\"2016-07\",\"2016-08\",\"2016-09\",\"2016-10\",\"2016-11\",\"2016-12\",\"2017-01\",\"2017-02\",\"2017-03\",\"2017-04\",\"2017-05\",\"2017-06\",\"2017-07\",\"2017-08\",\"2017-09\",\"2017-10\",\"2017-11\",\"2017-12\",\"2018-01\",\"2018-02\"],\"y\":[8,2,7,10,18,28,19,29,36,38,31,48,18,23,37,58,58,94,79,110,126,121,126,132,165,144,198,242,352,431,345,407,399,431,476,481,617,533,526,608,733,918,1104,1393,1376,1494,1532,1582,2343,1711,1636,2005,2938,3314,4102,4188,4977,4410,5371,7222,9403,9605,8110,8271,8761,9168,9930,12363,13638,13878,13695,12930,10170,34,1],\"type\":\"scatter\"},{\"marker\":{\"color\":\"lightseagreen\"},\"mode\":\"lines+markers\",\"name\":\"test\",\"x\":[\"2011-11\",\"2011-12\",\"2012-01\",\"2012-02\",\"2012-03\",\"2012-04\",\"2012-05\",\"2012-06\",\"2012-07\",\"2012-08\",\"2012-09\",\"2012-10\",\"2012-11\",\"2012-12\",\"2013-01\",\"2013-02\",\"2013-03\",\"2013-04\",\"2013-05\",\"2013-06\",\"2013-07\",\"2013-08\",\"2013-09\",\"2013-10\",\"2013-11\",\"2013-12\",\"2014-01\",\"2014-02\",\"2014-03\",\"2014-04\",\"2014-05\",\"2014-06\",\"2014-07\",\"2014-08\",\"2014-09\",\"2014-10\",\"2014-11\",\"2014-12\",\"2015-01\",\"2015-02\",\"2015-03\",\"2015-04\",\"2015-05\",\"2015-06\",\"2015-07\",\"2015-08\",\"2015-09\",\"2015-10\",\"2015-11\",\"2015-12\",\"2016-01\",\"2016-02\",\"2016-03\",\"2016-04\",\"2016-05\",\"2016-06\",\"2016-07\",\"2016-08\",\"2016-09\",\"2016-10\",\"2016-11\",\"2016-12\",\"2017-01\",\"2017-02\",\"2017-03\",\"2017-04\",\"2017-05\",\"2017-06\",\"2017-07\",\"2017-08\",\"2017-09\",\"2017-10\",\"2017-11\",\"2017-12\",\"2018-01\"],\"y\":[3,2,1,4,10,11,12,14,15,21,18,13,18,16,14,28,34,40,44,56,72,73,75,80,80,95,90,97,141,209,263,220,236,265,257,291,296,390,279,335,397,433,604,711,862,882,818,936,955,1393,996,987,1258,1740,2096,2407,2610,3108,2663,3335,4444,5751,5974,4903,5058,5371,5598,6147,7344,8299,8805,8451,7807,6233,28],\"type\":\"scatter\"}],                        {\"legend\":{\"orientation\":\"v\"},\"template\":{\"data\":{\"barpolar\":[{\"marker\":{\"line\":{\"color\":\"#E5ECF6\",\"width\":0.5},\"pattern\":{\"fillmode\":\"overlay\",\"size\":10,\"solidity\":0.2}},\"type\":\"barpolar\"}],\"bar\":[{\"error_x\":{\"color\":\"#2a3f5f\"},\"error_y\":{\"color\":\"#2a3f5f\"},\"marker\":{\"line\":{\"color\":\"#E5ECF6\",\"width\":0.5},\"pattern\":{\"fillmode\":\"overlay\",\"size\":10,\"solidity\":0.2}},\"type\":\"bar\"}],\"carpet\":[{\"aaxis\":{\"endlinecolor\":\"#2a3f5f\",\"gridcolor\":\"white\",\"linecolor\":\"white\",\"minorgridcolor\":\"white\",\"startlinecolor\":\"#2a3f5f\"},\"baxis\":{\"endlinecolor\":\"#2a3f5f\",\"gridcolor\":\"white\",\"linecolor\":\"white\",\"minorgridcolor\":\"white\",\"startlinecolor\":\"#2a3f5f\"},\"type\":\"carpet\"}],\"choropleth\":[{\"colorbar\":{\"outlinewidth\":0,\"ticks\":\"\"},\"type\":\"choropleth\"}],\"contourcarpet\":[{\"colorbar\":{\"outlinewidth\":0,\"ticks\":\"\"},\"type\":\"contourcarpet\"}],\"contour\":[{\"colorbar\":{\"outlinewidth\":0,\"ticks\":\"\"},\"colorscale\":[[0.0,\"#0d0887\"],[0.1111111111111111,\"#46039f\"],[0.2222222222222222,\"#7201a8\"],[0.3333333333333333,\"#9c179e\"],[0.4444444444444444,\"#bd3786\"],[0.5555555555555556,\"#d8576b\"],[0.6666666666666666,\"#ed7953\"],[0.7777777777777778,\"#fb9f3a\"],[0.8888888888888888,\"#fdca26\"],[1.0,\"#f0f921\"]],\"type\":\"contour\"}],\"heatmapgl\":[{\"colorbar\":{\"outlinewidth\":0,\"ticks\":\"\"},\"colorscale\":[[0.0,\"#0d0887\"],[0.1111111111111111,\"#46039f\"],[0.2222222222222222,\"#7201a8\"],[0.3333333333333333,\"#9c179e\"],[0.4444444444444444,\"#bd3786\"],[0.5555555555555556,\"#d8576b\"],[0.6666666666666666,\"#ed7953\"],[0.7777777777777778,\"#fb9f3a\"],[0.8888888888888888,\"#fdca26\"],[1.0,\"#f0f921\"]],\"type\":\"heatmapgl\"}],\"heatmap\":[{\"colorbar\":{\"outlinewidth\":0,\"ticks\":\"\"},\"colorscale\":[[0.0,\"#0d0887\"],[0.1111111111111111,\"#46039f\"],[0.2222222222222222,\"#7201a8\"],[0.3333333333333333,\"#9c179e\"],[0.4444444444444444,\"#bd3786\"],[0.5555555555555556,\"#d8576b\"],[0.6666666666666666,\"#ed7953\"],[0.7777777777777778,\"#fb9f3a\"],[0.8888888888888888,\"#fdca26\"],[1.0,\"#f0f921\"]],\"type\":\"heatmap\"}],\"histogram2dcontour\":[{\"colorbar\":{\"outlinewidth\":0,\"ticks\":\"\"},\"colorscale\":[[0.0,\"#0d0887\"],[0.1111111111111111,\"#46039f\"],[0.2222222222222222,\"#7201a8\"],[0.3333333333333333,\"#9c179e\"],[0.4444444444444444,\"#bd3786\"],[0.5555555555555556,\"#d8576b\"],[0.6666666666666666,\"#ed7953\"],[0.7777777777777778,\"#fb9f3a\"],[0.8888888888888888,\"#fdca26\"],[1.0,\"#f0f921\"]],\"type\":\"histogram2dcontour\"}],\"histogram2d\":[{\"colorbar\":{\"outlinewidth\":0,\"ticks\":\"\"},\"colorscale\":[[0.0,\"#0d0887\"],[0.1111111111111111,\"#46039f\"],[0.2222222222222222,\"#7201a8\"],[0.3333333333333333,\"#9c179e\"],[0.4444444444444444,\"#bd3786\"],[0.5555555555555556,\"#d8576b\"],[0.6666666666666666,\"#ed7953\"],[0.7777777777777778,\"#fb9f3a\"],[0.8888888888888888,\"#fdca26\"],[1.0,\"#f0f921\"]],\"type\":\"histogram2d\"}],\"histogram\":[{\"marker\":{\"pattern\":{\"fillmode\":\"overlay\",\"size\":10,\"solidity\":0.2}},\"type\":\"histogram\"}],\"mesh3d\":[{\"colorbar\":{\"outlinewidth\":0,\"ticks\":\"\"},\"type\":\"mesh3d\"}],\"parcoords\":[{\"line\":{\"colorbar\":{\"outlinewidth\":0,\"ticks\":\"\"}},\"type\":\"parcoords\"}],\"pie\":[{\"automargin\":true,\"type\":\"pie\"}],\"scatter3d\":[{\"line\":{\"colorbar\":{\"outlinewidth\":0,\"ticks\":\"\"}},\"marker\":{\"colorbar\":{\"outlinewidth\":0,\"ticks\":\"\"}},\"type\":\"scatter3d\"}],\"scattercarpet\":[{\"marker\":{\"colorbar\":{\"outlinewidth\":0,\"ticks\":\"\"}},\"type\":\"scattercarpet\"}],\"scattergeo\":[{\"marker\":{\"colorbar\":{\"outlinewidth\":0,\"ticks\":\"\"}},\"type\":\"scattergeo\"}],\"scattergl\":[{\"marker\":{\"colorbar\":{\"outlinewidth\":0,\"ticks\":\"\"}},\"type\":\"scattergl\"}],\"scattermapbox\":[{\"marker\":{\"colorbar\":{\"outlinewidth\":0,\"ticks\":\"\"}},\"type\":\"scattermapbox\"}],\"scatterpolargl\":[{\"marker\":{\"colorbar\":{\"outlinewidth\":0,\"ticks\":\"\"}},\"type\":\"scatterpolargl\"}],\"scatterpolar\":[{\"marker\":{\"colorbar\":{\"outlinewidth\":0,\"ticks\":\"\"}},\"type\":\"scatterpolar\"}],\"scatter\":[{\"fillpattern\":{\"fillmode\":\"overlay\",\"size\":10,\"solidity\":0.2},\"type\":\"scatter\"}],\"scatterternary\":[{\"marker\":{\"colorbar\":{\"outlinewidth\":0,\"ticks\":\"\"}},\"type\":\"scatterternary\"}],\"surface\":[{\"colorbar\":{\"outlinewidth\":0,\"ticks\":\"\"},\"colorscale\":[[0.0,\"#0d0887\"],[0.1111111111111111,\"#46039f\"],[0.2222222222222222,\"#7201a8\"],[0.3333333333333333,\"#9c179e\"],[0.4444444444444444,\"#bd3786\"],[0.5555555555555556,\"#d8576b\"],[0.6666666666666666,\"#ed7953\"],[0.7777777777777778,\"#fb9f3a\"],[0.8888888888888888,\"#fdca26\"],[1.0,\"#f0f921\"]],\"type\":\"surface\"}],\"table\":[{\"cells\":{\"fill\":{\"color\":\"#EBF0F8\"},\"line\":{\"color\":\"white\"}},\"header\":{\"fill\":{\"color\":\"#C8D4E3\"},\"line\":{\"color\":\"white\"}},\"type\":\"table\"}]},\"layout\":{\"annotationdefaults\":{\"arrowcolor\":\"#2a3f5f\",\"arrowhead\":0,\"arrowwidth\":1},\"autotypenumbers\":\"strict\",\"coloraxis\":{\"colorbar\":{\"outlinewidth\":0,\"ticks\":\"\"}},\"colorscale\":{\"diverging\":[[0,\"#8e0152\"],[0.1,\"#c51b7d\"],[0.2,\"#de77ae\"],[0.3,\"#f1b6da\"],[0.4,\"#fde0ef\"],[0.5,\"#f7f7f7\"],[0.6,\"#e6f5d0\"],[0.7,\"#b8e186\"],[0.8,\"#7fbc41\"],[0.9,\"#4d9221\"],[1,\"#276419\"]],\"sequential\":[[0.0,\"#0d0887\"],[0.1111111111111111,\"#46039f\"],[0.2222222222222222,\"#7201a8\"],[0.3333333333333333,\"#9c179e\"],[0.4444444444444444,\"#bd3786\"],[0.5555555555555556,\"#d8576b\"],[0.6666666666666666,\"#ed7953\"],[0.7777777777777778,\"#fb9f3a\"],[0.8888888888888888,\"#fdca26\"],[1.0,\"#f0f921\"]],\"sequentialminus\":[[0.0,\"#0d0887\"],[0.1111111111111111,\"#46039f\"],[0.2222222222222222,\"#7201a8\"],[0.3333333333333333,\"#9c179e\"],[0.4444444444444444,\"#bd3786\"],[0.5555555555555556,\"#d8576b\"],[0.6666666666666666,\"#ed7953\"],[0.7777777777777778,\"#fb9f3a\"],[0.8888888888888888,\"#fdca26\"],[1.0,\"#f0f921\"]]},\"colorway\":[\"#636efa\",\"#EF553B\",\"#00cc96\",\"#ab63fa\",\"#FFA15A\",\"#19d3f3\",\"#FF6692\",\"#B6E880\",\"#FF97FF\",\"#FECB52\"],\"font\":{\"color\":\"#2a3f5f\"},\"geo\":{\"bgcolor\":\"white\",\"lakecolor\":\"white\",\"landcolor\":\"#E5ECF6\",\"showlakes\":true,\"showland\":true,\"subunitcolor\":\"white\"},\"hoverlabel\":{\"align\":\"left\"},\"hovermode\":\"closest\",\"mapbox\":{\"style\":\"light\"},\"paper_bgcolor\":\"white\",\"plot_bgcolor\":\"#E5ECF6\",\"polar\":{\"angularaxis\":{\"gridcolor\":\"white\",\"linecolor\":\"white\",\"ticks\":\"\"},\"bgcolor\":\"#E5ECF6\",\"radialaxis\":{\"gridcolor\":\"white\",\"linecolor\":\"white\",\"ticks\":\"\"}},\"scene\":{\"xaxis\":{\"backgroundcolor\":\"#E5ECF6\",\"gridcolor\":\"white\",\"gridwidth\":2,\"linecolor\":\"white\",\"showbackground\":true,\"ticks\":\"\",\"zerolinecolor\":\"white\"},\"yaxis\":{\"backgroundcolor\":\"#E5ECF6\",\"gridcolor\":\"white\",\"gridwidth\":2,\"linecolor\":\"white\",\"showbackground\":true,\"ticks\":\"\",\"zerolinecolor\":\"white\"},\"zaxis\":{\"backgroundcolor\":\"#E5ECF6\",\"gridcolor\":\"white\",\"gridwidth\":2,\"linecolor\":\"white\",\"showbackground\":true,\"ticks\":\"\",\"zerolinecolor\":\"white\"}},\"shapedefaults\":{\"line\":{\"color\":\"#2a3f5f\"}},\"ternary\":{\"aaxis\":{\"gridcolor\":\"white\",\"linecolor\":\"white\",\"ticks\":\"\"},\"baxis\":{\"gridcolor\":\"white\",\"linecolor\":\"white\",\"ticks\":\"\"},\"bgcolor\":\"#E5ECF6\",\"caxis\":{\"gridcolor\":\"white\",\"linecolor\":\"white\",\"ticks\":\"\"}},\"title\":{\"x\":0.05},\"xaxis\":{\"automargin\":true,\"gridcolor\":\"white\",\"linecolor\":\"white\",\"ticks\":\"\",\"title\":{\"standoff\":15},\"zerolinecolor\":\"white\",\"zerolinewidth\":2},\"yaxis\":{\"automargin\":true,\"gridcolor\":\"white\",\"linecolor\":\"white\",\"ticks\":\"\",\"title\":{\"standoff\":15},\"zerolinecolor\":\"white\",\"zerolinewidth\":2}}},\"title\":{\"text\":\"Counts of first active\"},\"xaxis\":{\"title\":{\"text\":\"Month\"}},\"yaxis\":{\"title\":{\"text\":\"Count\"}}},                        {\"responsive\": true}                    ).then(function(){\n",
       "                            \n",
       "var gd = document.getElementById('cd6c4225-836b-4ae8-a701-c46ecc36dd02');\n",
       "var x = new MutationObserver(function (mutations, observer) {{\n",
       "        var display = window.getComputedStyle(gd).display;\n",
       "        if (!display || display === 'none') {{\n",
       "            console.log([gd, 'removed!']);\n",
       "            Plotly.purge(gd);\n",
       "            observer.disconnect();\n",
       "        }}\n",
       "}});\n",
       "\n",
       "// Listen for the removal of the full notebook cells\n",
       "var notebookContainer = gd.closest('#notebook-container');\n",
       "if (notebookContainer) {{\n",
       "    x.observe(notebookContainer, {childList: true});\n",
       "}}\n",
       "\n",
       "// Listen for the clearing of the current output cell\n",
       "var outputEl = gd.closest('.output');\n",
       "if (outputEl) {{\n",
       "    x.observe(outputEl, {childList: true});\n",
       "}}\n",
       "\n",
       "                        })                };                });            </script>        </div>"
      ]
     },
     "metadata": {},
     "output_type": "display_data"
    }
   ],
   "source": [
    "d1 = org_train['first_active_month'].value_counts().sort_index()\n",
    "d2 = org_test['first_active_month'].value_counts().sort_index()\n",
    "data = [go.Scatter(x=d1.index, y=d1.values, name='train', mode='lines+markers', marker={'color': 'orange'}), go.Scatter(x=d2.index, y=d2.values, name='test', mode = 'lines+markers', marker={'color': 'lightseagreen'})]\n",
    "layout = go.Layout(dict(title = \"Counts of first active\",\n",
    "                  xaxis = dict(title = 'Month'),\n",
    "                  yaxis = dict(title = 'Count'),\n",
    "                  ),legend=dict(\n",
    "                orientation=\"v\"))\n",
    "poff.iplot(dict(data=data, layout=layout))"
   ]
  },
  {
   "cell_type": "markdown",
   "metadata": {
    "_uuid": "c53fbbce63075cc5ef50dc546a038b12a574cdf8"
   },
   "source": [
    "Loyalty numerical score is calculated two months after historical and evaluation period. \n",
    "Let's plot a histogram of loyalty score to understand what are we dealing with. From the histogram and descriptive statistics summary we observe that the **most of the output variables are fluctuating around 0**, however the minimum loyalty score observed in the train dataset is -33.21 and the maximum reached 17.96. In comparison to 2nd quantile (-0.02) that is more robust to outliers, the mean is -0.39."
   ]
  },
  {
   "cell_type": "code",
   "execution_count": 188,
   "metadata": {
    "_uuid": "026186098e5e667aae335fb60252afc7c5c54d89",
    "execution": {
     "iopub.execute_input": "2022-07-19T14:59:57.765195Z",
     "iopub.status.busy": "2022-07-19T14:59:57.764795Z",
     "iopub.status.idle": "2022-07-19T14:59:58.263815Z",
     "shell.execute_reply": "2022-07-19T14:59:58.262543Z",
     "shell.execute_reply.started": "2022-07-19T14:59:57.765124Z"
    }
   },
   "outputs": [
    {
     "name": "stdout",
     "output_type": "stream",
     "text": [
      "count    201917.000000\n",
      "mean         -0.393636\n",
      "std           3.850500\n",
      "min         -33.219281\n",
      "25%          -0.883110\n",
      "50%          -0.023437\n",
      "75%           0.765453\n",
      "max          17.965068\n",
      "Name: target, dtype: float64\n"
     ]
    },
    {
     "data": {
      "image/png": "[encoded data removed]",
      "text/plain": [
       "<Figure size 864x576 with 1 Axes>"
      ]
     },
     "metadata": {
      "needs_background": "light"
     },
     "output_type": "display_data"
    }
   ],
   "source": [
    "# Descriptive statistics summary\n",
    "print(org_train['target'].describe())\n",
    "# Histogram\n",
    "plt.figure(figsize=(12,8))\n",
    "sns.distplot(org_train.target.values, bins=50, color=\"firebrick\", kde=True, kde_kws={\"color\": \"maroon\"})\n",
    "plt.title(\"Histogram of Loyalty score\", fontsize = 18)\n",
    "plt.ylabel('Loyalty score', fontsize=12)\n",
    "plt.show()"
   ]
  },
  {
   "cell_type": "markdown",
   "metadata": {
    "_uuid": "e5c670e92574a028478d07a42462733f3fd566ff"
   },
   "source": [
    "### 2.3 Feature Engineering"
   ]
  },
  {
   "cell_type": "markdown",
   "metadata": {
    "_uuid": "a528a860e4dd50fbb0a2cd55be0339cd9a63ac7d"
   },
   "source": [
    "The first step of dealing with columns containing dates is to change the date format. There is a method(pandas.to_datetime) in pandas library that converts argument to datetime.\n",
    "<br>Taking the first look into data, there are some categorical columns and hence, they have to be binarized. The function below is the first step of dealing with such columns.\n"
   ]
  },
  {
   "cell_type": "code",
   "execution_count": 11,
   "metadata": {
    "_uuid": "6613c7036006e6efd5837e71ad1a8c3b458e53d2",
    "execution": {
     "iopub.execute_input": "2022-07-19T14:59:58.265704Z",
     "iopub.status.busy": "2022-07-19T14:59:58.265363Z",
     "iopub.status.idle": "2022-07-19T14:59:58.271626Z",
     "shell.execute_reply": "2022-07-19T14:59:58.270481Z",
     "shell.execute_reply.started": "2022-07-19T14:59:58.265645Z"
    }
   },
   "outputs": [],
   "source": [
    "# Read files, change date format and calculate 'elapsed_time'\n",
    "def read_data(input_file):\n",
    "    df = pd.read_csv(input_file)\n",
    "    df['first_active_month'] = pd.to_datetime(df['first_active_month'])\n",
    "    df['elapsed_time'] = (datetime.date(2018, 2, 1) - df['first_active_month'].dt.date).dt.days\n",
    "    return df\n",
    "\n",
    "# Binarize categorical values\n",
    "def binarize(df):\n",
    "    for col in ['authorized_flag', 'category_1']:\n",
    "        df[col] = df[col].map({'Y':1, 'N':0})\n",
    "    return df"
   ]
  },
  {
   "cell_type": "code",
   "execution_count": 12,
   "metadata": {
    "_uuid": "98bb7aac81ca432add23404286f4f308ed33236e",
    "execution": {
     "iopub.execute_input": "2022-07-19T14:59:58.273564Z",
     "iopub.status.busy": "2022-07-19T14:59:58.273176Z",
     "iopub.status.idle": "2022-07-19T15:00:10.714604Z",
     "shell.execute_reply": "2022-07-19T15:00:10.713467Z",
     "shell.execute_reply.started": "2022-07-19T14:59:58.273469Z"
    }
   },
   "outputs": [],
   "source": [
    "org_train = read_data('data/train.csv')\n",
    "org_test = read_data('data/test.csv')\n",
    "\n",
    "historical_transactions = binarize(historical_transactions)\n",
    "new_transactions = binarize(new_transactions)"
   ]
  },
  {
   "cell_type": "code",
   "execution_count": 13,
   "metadata": {
    "_uuid": "4e02915c4479457e626eca181aba674c40044d1d",
    "execution": {
     "iopub.execute_input": "2022-07-19T15:00:10.716323Z",
     "iopub.status.busy": "2022-07-19T15:00:10.716009Z",
     "iopub.status.idle": "2022-07-19T15:00:21.380910Z",
     "shell.execute_reply": "2022-07-19T15:00:21.379704Z",
     "shell.execute_reply.started": "2022-07-19T15:00:10.716256Z"
    }
   },
   "outputs": [],
   "source": [
    "# Dummy encoding for catogories\n",
    "historical_transactions = pd.get_dummies(historical_transactions, columns=['category_2', 'category_3'])\n",
    "new_transactions = pd.get_dummies(new_transactions, columns=['category_2', 'category_3'])"
   ]
  },
  {
   "cell_type": "code",
   "execution_count": 14,
   "metadata": {
    "_uuid": "5e6a01e6ed3067788b1c23d986873fb090beb4a7",
    "execution": {
     "iopub.execute_input": "2022-07-19T15:00:21.382625Z",
     "iopub.status.busy": "2022-07-19T15:00:21.382334Z",
     "iopub.status.idle": "2022-07-19T15:00:22.914651Z",
     "shell.execute_reply": "2022-07-19T15:00:22.913512Z",
     "shell.execute_reply.started": "2022-07-19T15:00:21.382571Z"
    }
   },
   "outputs": [],
   "source": [
    "# Purchase_month format to month\n",
    "historical_transactions['purchase_month'] = historical_transactions['purchase_date'].dt.month\n",
    "new_transactions['purchase_month'] = new_transactions['purchase_date'].dt.month"
   ]
  },
  {
   "cell_type": "markdown",
   "metadata": {
    "_uuid": "316970db8921bb81069d4eeefd31ef21b75ebcee"
   },
   "source": [
    "The aggregation of the different transcations for every 'card_id' turned out to be crucial to the success of the project. As seen in the procedure in the beginning of our project, we changed the aggregation of the different rows many times after we evaluated the model. \n",
    "\n",
    "As you will see in the correlation analysis of our features, tryining to find features which are really **correlating to the target**, appeared almost as an unsolvable task for us. What really helped us to find valuable features, was the given 'feature_importance' by the LightGBM trees at the end of the modelling chapter."
   ]
  },
  {
   "cell_type": "code",
   "execution_count": 204,
   "metadata": {
    "_uuid": "7140ade520ddfc8e14e73611f025005b9fe7a49d",
    "execution": {
     "iopub.execute_input": "2022-07-19T15:00:22.916707Z",
     "iopub.status.busy": "2022-07-19T15:00:22.916402Z",
     "iopub.status.idle": "2022-07-19T15:00:22.930209Z",
     "shell.execute_reply": "2022-07-19T15:00:22.929247Z",
     "shell.execute_reply.started": "2022-07-19T15:00:22.916652Z"
    }
   },
   "outputs": [],
   "source": [
    "# 'nunique' -> Returns number of unique elements in the group\n",
    "def aggregate_data(transactions):\n",
    "    transactions.loc[:, 'purchase_date'] = pd.DatetimeIndex(transactions['purchase_date']).\\\n",
    "                                      astype(np.int64) * 1e-9\n",
    "    \n",
    "    # Aggregate columns by:\n",
    "    aggregations = {\n",
    "        'category_1': ['sum', 'mean'],'category_2_1.0': ['mean'],'category_2_2.0': ['mean'],'category_2_3.0': ['mean'],\n",
    "        'category_2_4.0': ['mean'],'category_2_5.0': ['mean'],'category_3_A': ['mean'],'category_3_B': ['mean'],'category_3_C': ['mean'],\n",
    "        'merchant_id': ['nunique'],'merchant_category_id': ['nunique'],'state_id': ['nunique'],'city_id': ['nunique'],'subsector_id': ['nunique'],\n",
    "        'purchase_amount': ['sum', 'mean', 'max', 'min', 'std'], 'installments': ['sum', 'mean', 'max', 'min', 'std'],\n",
    "        'purchase_month': ['mean', 'max', 'min', 'std'], 'purchase_date': [np.ptp, 'min', 'max'],\n",
    "        'month_lag': ['min', 'max']\n",
    "        }\n",
    "    \n",
    "    # Group rows by 'card_id'\n",
    "    agg_transactions = transactions.groupby(['card_id']).agg(aggregations)\n",
    "    agg_transactions.columns = ['_'.join(col).strip() for col in agg_transactions.columns.values]\n",
    "    agg_transactions.reset_index(inplace=True)\n",
    "    \n",
    "    #\n",
    "    data = (transactions.groupby('card_id').size().reset_index(name='transactions_count'))\n",
    "    agg_transactions = pd.merge(data, agg_transactions, on='card_id', how='left')\n",
    "    return agg_transactions"
   ]
  },
  {
   "cell_type": "code",
   "execution_count": 212,
   "metadata": {
    "_uuid": "53a268dafea97f4d9d3c1781fae87266ee496f86",
    "execution": {
     "iopub.execute_input": "2022-07-19T15:00:22.932630Z",
     "iopub.status.busy": "2022-07-19T15:00:22.932083Z",
     "iopub.status.idle": "2022-07-19T15:03:58.576790Z",
     "shell.execute_reply": "2022-07-19T15:03:58.575101Z",
     "shell.execute_reply.started": "2022-07-19T15:00:22.932560Z"
    }
   },
   "outputs": [],
   "source": [
    "# Aggregate historical_transactions\n",
    "hist_agg = aggregate_data(historical_transactions)\n",
    "hist_agg.columns = ['hist_' + c if c != 'card_id' else c for c in hist_agg.columns]"
   ]
  },
  {
   "cell_type": "code",
   "execution_count": 17,
   "metadata": {
    "_uuid": "57c9fbdb3f34eebe91aa040313fd90bc807208df",
    "execution": {
     "iopub.execute_input": "2022-07-19T15:03:58.579336Z",
     "iopub.status.busy": "2022-07-19T15:03:58.578979Z",
     "iopub.status.idle": "2022-07-19T15:04:54.143622Z",
     "shell.execute_reply": "2022-07-19T15:04:54.142422Z",
     "shell.execute_reply.started": "2022-07-19T15:03:58.579258Z"
    }
   },
   "outputs": [],
   "source": [
    "# Aggregate new_transactions\n",
    "new_agg = aggregate_data(new_transactions)\n",
    "new_agg.columns = ['hist_' + c if c != 'card_id' else c for c in new_agg.columns]"
   ]
  },
  {
   "cell_type": "markdown",
   "metadata": {
    "_uuid": "834a97bbf99fae20ba7c794cabea4331365e2a1e"
   },
   "source": [
    "Finally we choosed a 'left-join' to merge every unique 'card_id' with its aggregated historical and new transactions. As we can see, that reduced the number of rows in our final_train set down to 0.01%."
   ]
  },
  {
   "cell_type": "code",
   "execution_count": 240,
   "metadata": {
    "_uuid": "dc22345d42d6bf3d4731ea851c1e07c213ce9b25",
    "execution": {
     "iopub.execute_input": "2022-07-19T15:04:54.146364Z",
     "iopub.status.busy": "2022-07-19T15:04:54.145838Z",
     "iopub.status.idle": "2022-07-19T15:04:56.037830Z",
     "shell.execute_reply": "2022-07-19T15:04:56.036543Z",
     "shell.execute_reply.started": "2022-07-19T15:04:54.146221Z"
    }
   },
   "outputs": [
    {
     "name": "stdout",
     "output_type": "stream",
     "text": [
      "Train original: (201917, 6)\n",
      "Test original: (123623, 5)\n",
      "Historical Transactions: (29112361, 21)\n",
      "New Transactions: (1963031, 21)\n",
      "Test merged: (201917, 76)\n",
      "Train merged: (123623, 75)\n",
      "Number of Rows through Aggregation  0.01%\n"
     ]
    }
   ],
   "source": [
    "# Join with train- and test-dataset\n",
    "final_train = pd.merge(org_train, hist_agg, on='card_id', how='left')\n",
    "final_test = pd.merge(org_test, hist_agg, on='card_id', how='left')\n",
    "\n",
    "final_train = pd.merge(final_train, new_agg, on='card_id', how='left')\n",
    "final_test = pd.merge(final_test, new_agg, on='card_id', how='left')\n",
    "\n",
    "print(\"Train original:\", org_train.shape); print(\"Test original:\", org_test.shape)\n",
    "print(\"Historical Transactions:\", historical_transactions.shape); print(\"New Transactions:\", new_transactions.shape); \n",
    "print(\"Test merged:\", final_train.shape); print(\"Train merged:\", final_test.shape)\n",
    "print(\"Number of Rows through Aggregation  {:0.2f}%\".format(final_train.shape[0]/(historical_transactions.shape[0] + new_transactions.shape[0])))"
   ]
  },
  {
   "cell_type": "markdown",
   "metadata": {
    "_uuid": "47de9a6267f10bf9a0ca35acd210cc33eba24619"
   },
   "source": [
    "That leads us to our final data sets to work with. We created one complete data set ( 'Full load' ) and a sample data set ( 'Data to work with') to reduce computation times and make working more convinient."
   ]
  },
  {
   "cell_type": "code",
   "execution_count": 252,
   "metadata": {
    "_uuid": "86c2a29b3f81c8d0c068f1caf5469674ecaff3f5",
    "execution": {
     "iopub.execute_input": "2022-07-19T15:04:56.039928Z",
     "iopub.status.busy": "2022-07-19T15:04:56.039544Z",
     "iopub.status.idle": "2022-07-19T15:04:56.392558Z",
     "shell.execute_reply": "2022-07-19T15:04:56.391280Z",
     "shell.execute_reply.started": "2022-07-19T15:04:56.039858Z"
    }
   },
   "outputs": [
    {
     "name": "stdout",
     "output_type": "stream",
     "text": [
      "X_train: (135284, 73) y_train: (135284,) X_test: (66633, 73) y_test: (66633,)\n"
     ]
    }
   ],
   "source": [
    "# Get features\n",
    "features = [c for c in final_train.columns if c not in ['card_id', 'first_active_month', 'target']]\n",
    "categorical_feats = [c for c in features if 'feature_' in c]\n",
    "\n",
    "# Full load\n",
    "target= final_train.target\n",
    "train = final_train[features]\n",
    "test = final_test[features]\n",
    "\n",
    "# Data to work with\n",
    "work_target=final_train.target\n",
    "work_data=final_train.sample(n=10000)\n",
    "work_train=final_train[features]\n",
    "\n",
    "# Training and test-dataset\n",
    "X_train,X_test,y_train,y_test=train_test_split(work_train, work_target, test_size=0.33,random_state=42)\n",
    "print(\"X_train:\",X_train.shape, \"y_train:\", y_train.shape, \"X_test:\", X_test.shape, \"y_test:\", y_test.shape)"
   ]
  },
  {
   "cell_type": "markdown",
   "metadata": {
    "_uuid": "4fac2ffd7ed4bd78ab16630517b02c1fc07453fd"
   },
   "source": [
    "Time to have a look an the correlation of those new features:"
   ]
  },
  {
   "cell_type": "code",
   "execution_count": 265,
   "metadata": {
    "_uuid": "b70d254a3b635973fec72122be30e63edd99336e",
    "execution": {
     "iopub.execute_input": "2022-07-19T15:04:56.394342Z",
     "iopub.status.busy": "2022-07-19T15:04:56.394068Z",
     "iopub.status.idle": "2022-07-19T15:05:01.639043Z",
     "shell.execute_reply": "2022-07-19T15:05:01.638011Z",
     "shell.execute_reply.started": "2022-07-19T15:04:56.394272Z"
    },
    "scrolled": true
   },
   "outputs": [
    {
     "data": {
      "image/png": "[encoded data removed]",
      "text/plain": [
       "<Figure size 792x792 with 2 Axes>"
      ]
     },
     "metadata": {
      "needs_background": "light"
     },
     "output_type": "display_data"
    }
   ],
   "source": [
    "import plotly.express as px\n",
    "\n",
    "# Compute correlation matrix\n",
    "train_corr = final_train.corr()\n",
    "\n",
    "# Generate mask for the upper triangle\n",
    "mask = np.zeros_like(train_corr, dtype=np.bool)\n",
    "mask[np.triu_indices_from(mask)] = True\n",
    "\n",
    "f, ax = plt.subplots(figsize=(11, 11))\n",
    "cmap = sns.diverging_palette(20, 150, as_cmap=True)\n",
    "sns.heatmap(train_corr, mask=mask, cmap=cmap, center=0,\n",
    "            square=True, linewidths=.5, cbar_kws={\"shrink\": .6});"
   ]
  },
  {
   "cell_type": "markdown",
   "metadata": {
    "_uuid": "7cfa8b774742ce7b1d90ad0d820760b9d7b78fd1"
   },
   "source": [
    "To make it a little more clear, we choosed the top 10 featueres with the highest correlation to the target. Unfortunately the observed correlations are super low. "
   ]
  },
  {
   "cell_type": "code",
   "execution_count": 21,
   "metadata": {
    "_uuid": "516474996f501298807c2d3204c590f1da8cf741",
    "execution": {
     "iopub.execute_input": "2022-07-19T15:05:01.640883Z",
     "iopub.status.busy": "2022-07-19T15:05:01.640580Z",
     "iopub.status.idle": "2022-07-19T15:05:05.244672Z",
     "shell.execute_reply": "2022-07-19T15:05:05.243647Z",
     "shell.execute_reply.started": "2022-07-19T15:05:01.640826Z"
    }
   },
   "outputs": [
    {
     "data": {
      "text/plain": [
       "target                        1.000000\n",
       "hist_purchase_date_min_y      0.109212\n",
       "hist_purchase_date_max_y      0.104947\n",
       "hist_purchase_month_max_y     0.092059\n",
       "hist_purchase_date_max_x      0.088260\n",
       "hist_purchase_month_mean_y    0.083291\n",
       "hist_purchase_month_std_x     0.072152\n",
       "hist_purchase_amount_max_y    0.065224\n",
       "hist_purchase_amount_std_y    0.065051\n",
       "hist_purchase_month_min_y     0.063648\n",
       "Name: target, dtype: float64"
      ]
     },
     "execution_count": 21,
     "metadata": {},
     "output_type": "execute_result"
    }
   ],
   "source": [
    "# Get correlation of features to target\n",
    "corr_matr=final_train.corr().abs().sort_values(by=['target'],ascending=False)['target'];\n",
    "corr_matr.head(10)"
   ]
  },
  {
   "cell_type": "markdown",
   "metadata": {
    "_uuid": "eefd7dc78e3816cd678f079567a0ac406fd711cb"
   },
   "source": [
    "<a id=\"2.4\"></a> <br>\n",
    "### 2.4 Pre-Processing"
   ]
  },
  {
   "cell_type": "markdown",
   "metadata": {
    "_uuid": "f42640fd5d628e7036c47dd2139283f81ed554c9"
   },
   "source": [
    "To train and validate our models in the following chapters we had to do some preprocessing. We choosed three different approaches and created various of our training data for each method:\n",
    "- Filling NaN's with the median value - > Sklearn trees do not except missing values\n",
    "- Scaling the data -> turned out to be useless, as the theory suggested \n",
    "- Removing the rows with outliers ( target value < -31 (around 10 times the standard deviation of the target))\n",
    "     -> Gave us the most exciting insights "
   ]
  },
  {
   "cell_type": "markdown",
   "metadata": {
    "_uuid": "3ba798815ee61a8867d9da59e4b194f7e6d1edcb"
   },
   "source": [
    "<a id=\"2.4.1\"></a> <br>\n",
    "### 2.4.1 Missing Values"
   ]
  },
  {
   "cell_type": "code",
   "execution_count": 274,
   "metadata": {
    "_uuid": "964a5940923e38360f5d436d611ade82ce5a78c4",
    "execution": {
     "iopub.execute_input": "2022-07-19T15:05:05.247405Z",
     "iopub.status.busy": "2022-07-19T15:05:05.246590Z",
     "iopub.status.idle": "2022-07-19T15:05:05.445250Z",
     "shell.execute_reply": "2022-07-19T15:05:05.444402Z",
     "shell.execute_reply.started": "2022-07-19T15:05:05.247352Z"
    }
   },
   "outputs": [
    {
     "data": {
      "text/plain": [
       "567167"
      ]
     },
     "execution_count": 274,
     "metadata": {},
     "output_type": "execute_result"
    }
   ],
   "source": [
    "# checkin data set for NaN's\n",
    "X_train.isna().sum().sum()"
   ]
  },
  {
   "cell_type": "code",
   "execution_count": 23,
   "metadata": {
    "_uuid": "ec7cb2033eb4fb1c40ecccda03ed80dfefa08845",
    "execution": {
     "iopub.execute_input": "2022-07-19T15:05:05.447020Z",
     "iopub.status.busy": "2022-07-19T15:05:05.446725Z",
     "iopub.status.idle": "2022-07-19T15:05:08.721899Z",
     "shell.execute_reply": "2022-07-19T15:05:08.719503Z",
     "shell.execute_reply.started": "2022-07-19T15:05:05.446967Z"
    }
   },
   "outputs": [
    {
     "data": {
      "text/plain": [
       "0"
      ]
     },
     "execution_count": 23,
     "metadata": {},
     "output_type": "execute_result"
    }
   ],
   "source": [
    "# Fill NaN's with median value\n",
    "from sklearn.impute import SimpleImputer\n",
    "imputer=SimpleImputer(strategy='median')\n",
    "imputer.fit(X_train)\n",
    "\n",
    "# For training data\n",
    "X_train_numpy=imputer.transform(X_train)\n",
    "X_train_filled=pd.DataFrame(X_train_numpy)\n",
    "\n",
    "# For test data\n",
    "X_test_numpy=imputer.transform(X_test)\n",
    "X_test_filled=pd.DataFrame(X_test_numpy)\n",
    "\n",
    "# Checkin data set for NaN's\n",
    "X_train_filled.isna().sum().sum()"
   ]
  },
  {
   "cell_type": "code",
   "execution_count": 277,
   "metadata": {},
   "outputs": [
    {
     "data": {
      "text/plain": [
       "1.0000000000000002"
      ]
     },
     "execution_count": 277,
     "metadata": {},
     "output_type": "execute_result"
    }
   ],
   "source": [
    "X_train_scaled.max().max()"
   ]
  },
  {
   "cell_type": "markdown",
   "metadata": {
    "_uuid": "26585fc194d44d0ed225ff221f0a05df143405f0"
   },
   "source": [
    "<a id=\"2.4.2\"></a> <br>\n",
    "### 2.4.2 Scaling"
   ]
  },
  {
   "cell_type": "code",
   "execution_count": 24,
   "metadata": {
    "_uuid": "f43da07e65585bf098c947233f2cf6ab3ac73c2e",
    "execution": {
     "iopub.execute_input": "2022-07-19T15:05:08.726002Z",
     "iopub.status.busy": "2022-07-19T15:05:08.725449Z",
     "iopub.status.idle": "2022-07-19T15:05:09.796417Z",
     "shell.execute_reply": "2022-07-19T15:05:09.794578Z",
     "shell.execute_reply.started": "2022-07-19T15:05:08.725908Z"
    }
   },
   "outputs": [],
   "source": [
    "# Creating scaled data sets\n",
    "from sklearn.preprocessing import MinMaxScaler\n",
    "scaler = MinMaxScaler(); train_scale=X_train; test_scale=X_test\n",
    "X_train_scaled = scaler.fit_transform(train_scale)\n",
    "X_train_scaled = pd.DataFrame(X_train_scaled,columns=features)\n",
    "X_test_scaled = scaler.fit_transform(test_scale)\n",
    "X_test_scaled = pd.DataFrame(X_test_scaled, columns=features)"
   ]
  },
  {
   "cell_type": "code",
   "execution_count": 25,
   "metadata": {
    "_uuid": "c1f33fdf894d666c8d13efd51a72d4e0898a1e59",
    "execution": {
     "iopub.execute_input": "2022-07-19T15:05:09.800261Z",
     "iopub.status.busy": "2022-07-19T15:05:09.799726Z",
     "iopub.status.idle": "2022-07-19T15:05:09.874120Z",
     "shell.execute_reply": "2022-07-19T15:05:09.871704Z",
     "shell.execute_reply.started": "2022-07-19T15:05:09.800190Z"
    }
   },
   "outputs": [
    {
     "name": "stdout",
     "output_type": "stream",
     "text": [
      "continuous\n",
      "multiclass\n"
     ]
    }
   ],
   "source": [
    "# Some models required a multiclass label instead of a continous one\n",
    "from sklearn import utils\n",
    "lab_enc = preprocessing.LabelEncoder()\n",
    "y_train_encoded = lab_enc.fit_transform(y_train)\n",
    "y_test_encoded = lab_enc.fit_transform(y_test)\n",
    "print(utils.multiclass.type_of_target(y_train))\n",
    "print(utils.multiclass.type_of_target(y_train_encoded))"
   ]
  },
  {
   "cell_type": "markdown",
   "metadata": {
    "_uuid": "6807ea4f67c962dad2630f493169b05df5ea7ed4"
   },
   "source": [
    "<a id=\"2.4.3\"></a> <br>\n",
    "### 2.4.3 Outliers"
   ]
  },
  {
   "cell_type": "markdown",
   "metadata": {
    "_uuid": "fdf38b7a013b7ad510648db0d318beb4b1712ca7"
   },
   "source": [
    "Based on the visualisation of Loyalty score, **1% of outliers** was identified. Let's try now to train the model on data without outliers and compare the results."
   ]
  },
  {
   "cell_type": "code",
   "execution_count": 109,
   "metadata": {
    "_uuid": "805320ab1b5ddc7f0bd729f58155ca6f7fe941a7",
    "execution": {
     "iopub.execute_input": "2022-07-19T15:05:09.877830Z",
     "iopub.status.busy": "2022-07-19T15:05:09.877374Z",
     "iopub.status.idle": "2022-07-19T15:05:10.503210Z",
     "shell.execute_reply": "2022-07-19T15:05:10.501529Z",
     "shell.execute_reply.started": "2022-07-19T15:05:09.877739Z"
    }
   },
   "outputs": [],
   "source": [
    "org_train = pd.read_csv('data/train.csv')\n",
    "org_test = pd.read_csv('data/test.csv')"
   ]
  },
  {
   "cell_type": "code",
   "execution_count": 290,
   "metadata": {
    "_uuid": "b0c263e63ac6ce3373208918094eea4d3a22dd1c",
    "execution": {
     "iopub.execute_input": "2022-07-19T15:05:10.505823Z",
     "iopub.status.busy": "2022-07-19T15:05:10.505407Z",
     "iopub.status.idle": "2022-07-19T15:05:10.621011Z",
     "shell.execute_reply": "2022-07-19T15:05:10.619094Z",
     "shell.execute_reply.started": "2022-07-19T15:05:10.505756Z"
    }
   },
   "outputs": [
    {
     "name": "stdout",
     "output_type": "stream",
     "text": [
      "Number of outliers in train data is: 2207\n",
      "Number of non-outliers in train data is: 199710\n",
      "Proportion of outliers in train dataset is 1.09%\n"
     ]
    }
   ],
   "source": [
    "# Adding a column to classify outliers\n",
    "identify_outlier_train = org_train.assign(outliers = org_train.target)\n",
    "\n",
    "identify_outlier_train.loc[identify_outlier_train.target < -31, 'outliers'] = 1\n",
    "identify_outlier_train.loc[identify_outlier_train.target > -31, 'outliers'] = 0\n",
    "\n",
    "# Only outliers\n",
    "dirty_train = identify_outlier_train[identify_outlier_train.outliers == 1]\n",
    "# Without outliers\n",
    "clean_train = identify_outlier_train[identify_outlier_train.outliers == 0]\n",
    "\n",
    "# Training and test data without outliers\n",
    "clean_target = clean_train['target']\n",
    "clean_train = clean_train.drop(['first_active_month','card_id'],axis=1)\n",
    "X_train_clean,X_test_clean,y_train_clean,y_test_clean=train_test_split(clean_train, clean_target, test_size=0.33, random_state=42)\n",
    "\n",
    "print('Number of outliers in train data is: ' + str(len(dirty_train)))\n",
    "print('Number of non-outliers in train data is: ' + str(len(clean_train)))\n",
    "print('Proportion of outliers in train dataset is {:0.2%}'.format((len(dirty_train) / len(identify_outlier_train))))"
   ]
  },
  {
   "cell_type": "markdown",
   "metadata": {},
   "source": [
    "## ##################################################################################"
   ]
  },
  {
   "cell_type": "code",
   "execution_count": 110,
   "metadata": {},
   "outputs": [
    {
     "name": "stdout",
     "output_type": "stream",
     "text": [
      "Number of outliers in train data is: 2207\n",
      "Number of non-outliers in train data is: 199710\n",
      "Proportion of outliers in train dataset is 1.09%\n"
     ]
    }
   ],
   "source": [
    "# Adding a column to classify outliers\n",
    "identify_outlier_train = org_train.assign(outliers = org_train.target)\n",
    "identify_outlier_train.shape\n",
    "\n",
    "identify_outlier_train.loc[identify_outlier_train.target < -31, 'outliers'] = 1\n",
    "identify_outlier_train.loc[identify_outlier_train.target > -31, 'outliers'] = 0\n",
    "\n",
    "# Only outliers\n",
    "dirty_train = identify_outlier_train[identify_outlier_train.outliers == 1]\n",
    "# Without outliers\n",
    "clean_train = identify_outlier_train[identify_outlier_train.outliers == 0]\n",
    "\n",
    "# Training and test data without outliers\n",
    "clean_target = clean_train['target']\n",
    "clean_train = clean_train.drop(['first_active_month','card_id', 'target', 'outliers'],axis=1)\n",
    "X_train_clean,X_test_clean,y_train_clean,y_test_clean=train_test_split(clean_train,clean_target,test_size=0.33,random_state=42)\n",
    "\n",
    "print('Number of outliers in train data is: ' + str(len(dirty_train)))\n",
    "print('Number of non-outliers in train data is: ' + str(len(clean_train)))\n",
    "print('Proportion of outliers in train dataset is {:0.2%}'.format((len(dirty_train)/len(identify_outlier_train))))"
   ]
  },
  {
   "cell_type": "markdown",
   "metadata": {
    "_uuid": "6ce11a6fe0cfa5d02e24c4d96f9272334498c8ba"
   },
   "source": [
    "<a id=\"3\"></a> <br>\n",
    "## 3. Model Training"
   ]
  },
  {
   "cell_type": "markdown",
   "metadata": {
    "_uuid": "db9f8e91a1bf0e43fb2f5d4c7c627fb1783fe576"
   },
   "source": [
    "#### Evaluation of Models\n",
    "\n",
    "In order to measure the quality of fit  and to evaluate the models in the following chapter, we defined the root-mean-square-error (**RMSE**). \n",
    "According to the ISLR the (R)MSE is small if the predicted response is close to the true responses and large if there is a substantial difference between the predicted and the true response.\n",
    "\n",
    "To compare our results we created a dummy-model, which is predicting the average of the giving targets by the training set. With an RMSE of 3.875 the is only 6.5% worse than the leading score on the competitions leaderbord (Team Name: senkin 13, Score: 3.637, Date 28.01.2019)."
   ]
  },
  {
   "cell_type": "code",
   "execution_count": 28,
   "metadata": {
    "_uuid": "20ff7d181778b4b0c1623a2ee4fb37e5f2276de6",
    "execution": {
     "iopub.execute_input": "2022-07-19T15:05:10.623933Z",
     "iopub.status.busy": "2022-07-19T15:05:10.623421Z",
     "iopub.status.idle": "2022-07-19T15:05:10.634634Z",
     "shell.execute_reply": "2022-07-19T15:05:10.631851Z",
     "shell.execute_reply.started": "2022-07-19T15:05:10.623829Z"
    }
   },
   "outputs": [],
   "source": [
    "# define function to calculate RMSE\n",
    "def rmse(y_test,prediction):\n",
    "    rmse=np.sqrt(mean_squared_error(y_test,prediction))\n",
    "    return rmse;"
   ]
  },
  {
   "cell_type": "code",
   "execution_count": 29,
   "metadata": {
    "_uuid": "26a674821a7448666251933e1b79140a61eded07",
    "execution": {
     "iopub.execute_input": "2022-07-19T15:05:10.638550Z",
     "iopub.status.busy": "2022-07-19T15:05:10.637472Z",
     "iopub.status.idle": "2022-07-19T15:05:10.657678Z",
     "shell.execute_reply": "2022-07-19T15:05:10.655229Z",
     "shell.execute_reply.started": "2022-07-19T15:05:10.638264Z"
    }
   },
   "outputs": [
    {
     "name": "stdout",
     "output_type": "stream",
     "text": [
      "Dummy-Model RMSE: 3.87\n"
     ]
    }
   ],
   "source": [
    "# create a dummy prediciton with the average, in order to compare the model to the most simplest one\n",
    "y_dummy=pd.Series(data=np.full((y_test.shape),np.average(target)))\n",
    "rmse_dummy=rmse(y_test,y_dummy)\n",
    "print('Dummy-Model RMSE: {:0.2f}'.format(rmse_dummy))"
   ]
  },
  {
   "cell_type": "code",
   "execution_count": 291,
   "metadata": {
    "_uuid": "ca159351a5855754c359fdf6a639fe326c363238",
    "execution": {
     "iopub.execute_input": "2022-07-19T15:05:10.661170Z",
     "iopub.status.busy": "2022-07-19T15:05:10.660751Z",
     "iopub.status.idle": "2022-07-19T15:05:10.674198Z",
     "shell.execute_reply": "2022-07-19T15:05:10.672388Z",
     "shell.execute_reply.started": "2022-07-19T15:05:10.661094Z"
    }
   },
   "outputs": [],
   "source": [
    "# define function in order to calculate RMSE and Improvement of Model\n",
    "def evaluation(model, X_train=X_train, y_train=y_train, X_test=X_test, y_test=y_test):\n",
    "    \"\"\"\n",
    "   This function evaluates the model, calculates the RMSE and measures its imporvement in comparison to the dummy-prediction.\n",
    "   If no specific Training and Test-set is given, it defaults to X_train, y_train, X_test and y_test.\n",
    "   \"\"\"\n",
    "    model.fit(X_train,y_train)\n",
    "    model_pred=model.predict(X_test)\n",
    "    rmse_new=rmse(y_test,model_pred)\n",
    "    #print(\"Number of features used:\",model.coef_!=0 )\n",
    "    print(\"Model:\",model.__class__.__name__,\";\",'RMSE: {:0.2f}'.format(rmse_new),\";\",'Improvement of: {:0.2f}%'.format(100 * (rmse_dummy- rmse_new) / rmse_new))"
   ]
  },
  {
   "cell_type": "code",
   "execution_count": 31,
   "metadata": {
    "_uuid": "33d19590965821a1c6c2aea07b0cae4bc98306be",
    "execution": {
     "iopub.execute_input": "2022-07-19T15:05:10.677239Z",
     "iopub.status.busy": "2022-07-19T15:05:10.676858Z",
     "iopub.status.idle": "2022-07-19T15:05:10.693802Z",
     "shell.execute_reply": "2022-07-19T15:05:10.691670Z",
     "shell.execute_reply.started": "2022-07-19T15:05:10.677180Z"
    }
   },
   "outputs": [],
   "source": [
    "# define RMSE for sklearn-models\n",
    "from sklearn.metrics import make_scorer\n",
    "rmse_scorer = make_scorer(rmse, greater_is_better=False)"
   ]
  },
  {
   "cell_type": "markdown",
   "metadata": {
    "_uuid": "1c57ac96dae06e598ae4394b6cb970338e90c798"
   },
   "source": [
    "<a id=\"3.1\"></a> <br>\n",
    "## 3.1 Linear Models"
   ]
  },
  {
   "cell_type": "markdown",
   "metadata": {
    "_uuid": "eb291713f2dad273d2a5358283d8b416f7248ffd"
   },
   "source": [
    "As a first approach to predict the loyalty score for the elo customers, we choosed Linear Models. Sklearn provides a wide range of linear models, which are easy to implement. In comparison to the usual LinearRegression, we tested the Lasso, Ridge and ElasticNet Regressor. Since we have a wide range of features, our motivation was it to use L1/L2 regularization in order select the optimal features. In the following the main charaktertics of the models are summed up:\n",
    "\n",
    "**Lasso (L1):**\n",
    "- L1 regularization adds a penalty equal to the sum of the absolute value of the coefficients\n",
    "- Shrinks some parameters to zero. Hence some variables will not play any role in the model, L1 regression can be seen as a way to select features in a model. \n",
    "- The optimization objective for Lasso is: *(1 / (2 * n_samples)) * ||y - Xw||^2_2 + alpha * ||w||_1*\n",
    "- alpha : float, optional \"Constant that multiplies the L1 term. Defaults to 1.0. alpha = 0 is equivalent to an ordinary least square, solved by the LinearRegression object.\" (Source: sklean)\n",
    "\n",
    "**Ridge (L2):**\n",
    "- L2 regularization adds a penalty equal to the sum of the squared value of the coefficients\n",
    "- Forces the parameters to be relatively small, the bigger the penalization, the smaller (and the more robust) the coefficients are.\n",
    "- Minimizes the objective function: *||y - Xw||^2_2 + alpha * ||w||^2_2*\n",
    "- alpha : {float, array-like}, shape (n_targets): Regularization strength; must be a positive float. Regularization improves the conditioning of the problem and reduces the variance of the estimates. (Source: sklearn)\n",
    "\n",
    "**Elastic Net (L1/L2):**\n",
    "- Linear regression with combined L1 and L2 priors as regularizer.\n",
    "- Minimizes the objective function: *1 / (2 * n_samples) * ||y - Xw||^2_2 + alpha * l1_ratio * ||w||_1 + 0.5 * alpha * (1 - l1_ratio) * ||w||^2_2*\n",
    "- alpha = a + b and l1_ratio = a / (a + b). Specifically, l1_ratio = 1 is the lasso penalty. Currently, l1_ratio <= 0.01 is not reliable, unless you supply your own sequence of alpha (Source: sklearn)"
   ]
  },
  {
   "cell_type": "code",
   "execution_count": 32,
   "metadata": {
    "_uuid": "19ceb9ea5a14f8e851be1ba2134acc0dbd44d6f5",
    "execution": {
     "iopub.execute_input": "2022-07-19T15:05:10.698759Z",
     "iopub.status.busy": "2022-07-19T15:05:10.697511Z",
     "iopub.status.idle": "2022-07-19T15:06:26.677950Z",
     "shell.execute_reply": "2022-07-19T15:06:26.676774Z",
     "shell.execute_reply.started": "2022-07-19T15:05:10.698517Z"
    }
   },
   "outputs": [
    {
     "name": "stdout",
     "output_type": "stream",
     "text": [
      "Model: LinearRegression ; RMSE: 3.85 ; Improvement of: 0.73%\n",
      "Model: Lasso ; RMSE: 3.85 ; Improvement of: 0.57%\n",
      "Model: Ridge ; RMSE: 3.85 ; Improvement of: 0.73%\n",
      "Model: ElasticNet ; RMSE: 3.85 ; Improvement of: 0.67%\n"
     ]
    }
   ],
   "source": [
    "# Testing Linear Models on Dataset\n",
    "# https://towardsdatascience.com/ridge-and-lasso-regression-a-complete-guide-with-python-scikit-learn-e20e34bcbf0b\n",
    "from sklearn.linear_model import LinearRegression, LogisticRegression, Lasso, Ridge, ElasticNet\n",
    "\n",
    "linReg=LinearRegression()\n",
    "logReg=LogisticRegression()\n",
    "lasso=Lasso(alpha=0.9)\n",
    "ridge=Ridge(alpha=0.9) # higher the alpha value, more restriction on the coefficients; \n",
    "                       # low alpha > more generalization, coefficients are barely\n",
    "elasNet=ElasticNet(0.5)\n",
    "\n",
    "for reg in (linReg,lasso,ridge,elasNet):\n",
    "    evaluation(reg,X_train=X_train_filled,X_test=X_test_filled);"
   ]
  },
  {
   "cell_type": "code",
   "execution_count": 33,
   "metadata": {
    "_uuid": "56d3d99a6066f0d9d575d150fc6b9beab28f4ab5",
    "execution": {
     "iopub.execute_input": "2022-07-19T15:06:26.692883Z",
     "iopub.status.busy": "2022-07-19T15:06:26.687010Z",
     "iopub.status.idle": "2022-07-19T15:06:26.883049Z",
     "shell.execute_reply": "2022-07-19T15:06:26.881929Z",
     "shell.execute_reply.started": "2022-07-19T15:06:26.692763Z"
    },
    "scrolled": true
   },
   "outputs": [
    {
     "data": {
      "text/html": [
       "<table class=\"simpletable\">\n",
       "<tr>\n",
       "      <td></td>         <th>coef</th>     <th>std err</th>      <th>t</th>      <th>P>|t|</th>  <th>[0.025</th>    <th>0.975]</th>  \n",
       "</tr>\n",
       "<tr>\n",
       "  <th>Intercept</th> <td>   -0.1593</td> <td>    0.034</td> <td>   -4.651</td> <td> 0.000</td> <td>   -0.226</td> <td>   -0.092</td>\n",
       "</tr>\n",
       "<tr>\n",
       "  <th>feature_1</th> <td>   -0.0538</td> <td>    0.009</td> <td>   -5.920</td> <td> 0.000</td> <td>   -0.072</td> <td>   -0.036</td>\n",
       "</tr>\n",
       "<tr>\n",
       "  <th>feature_2</th> <td>   -0.0437</td> <td>    0.012</td> <td>   -3.748</td> <td> 0.000</td> <td>   -0.067</td> <td>   -0.021</td>\n",
       "</tr>\n",
       "<tr>\n",
       "  <th>feature_3</th> <td>    0.0160</td> <td>    0.022</td> <td>    0.739</td> <td> 0.460</td> <td>   -0.026</td> <td>    0.058</td>\n",
       "</tr>\n",
       "</table>"
      ],
      "text/plain": [
       "<class 'statsmodels.iolib.table.SimpleTable'>"
      ]
     },
     "execution_count": 33,
     "metadata": {},
     "output_type": "execute_result"
    }
   ],
   "source": [
    "# add significane test\n",
    "import statsmodels.api as sm\n",
    "import statsmodels.formula.api as smf\n",
    "\n",
    "est = smf.ols('target ~ feature_1 + feature_2 + feature_3', final_train).fit()\n",
    "est.summary().tables[1]"
   ]
  },
  {
   "cell_type": "markdown",
   "metadata": {
    "_uuid": "a91ce4971634ac89bee3e2d0c0ba01f3e0564694"
   },
   "source": [
    "As seen in the results, the linear models did not really work on the given data set. We did not expect something else, because we do not have any real correlation between the target and the features."
   ]
  },
  {
   "cell_type": "markdown",
   "metadata": {
    "_uuid": "0d05bc707cc8982d27b07ec84a32b9b0b2eea14f"
   },
   "source": [
    "<a id=\"3.2\"></a> <br>\n",
    "## 3.2 Decision Trees"
   ]
  },
  {
   "cell_type": "markdown",
   "metadata": {
    "_uuid": "665ad76165a0ff564d7d0868633348fb2b799376"
   },
   "source": [
    "After the linear models were quite unsuccesfull we decided to go for **decision Trees**. Firsty we trained our data sets on the sklearn trees, later on we tried our luck with the **LighGBM**. Decision Tree's in general bring the following advantages with them:\n",
    "\n",
    "- Decision trees implicitly perform variable screening or **feature selection**. When we fit a decision tree to a training dataset, the top few nodes on which the tree is split are essentially the most important variables within the dataset and feature selection is completed automatically.\n",
    "\n",
    "- Decision trees require relatively little effort from users for data preparation. The Decision trees structure remains the same, with or without transformation. Also missing values will not prevent splitting the data for building trees. Decision trees are also **not sensitive to outliers** since the splitting happens based on proportion of samples within the split ranges and not on absolute values.\n",
    "\n",
    "- **Nonlinear relationships** between parameters do not affect tree performance. As mentioned earlier, highly nonlinear relationships between variables will result in failing checks for simple regression models and thus make such models invalid. Decision trees do not require any assumptions of linearity in the data. \n",
    "\n",
    "- And after all: Decision trees are **easy to interpret** and explain to executives!\n",
    "\n",
    "\n",
    "Source: http://www.simafore.com/blog/bid/62333/4-key-advantages-of-using-decision-trees-for-predictive-analytics"
   ]
  },
  {
   "cell_type": "markdown",
   "metadata": {
    "_uuid": "32ad15f8a3c98fca6234bb3d9594e0f595a08f96"
   },
   "source": [
    "#### Decision Tree"
   ]
  },
  {
   "cell_type": "code",
   "execution_count": 34,
   "metadata": {
    "_uuid": "fb091e4f34f6fb39aeb0b2afbeaa152e78dcb9ba",
    "execution": {
     "iopub.execute_input": "2022-07-19T15:06:26.898516Z",
     "iopub.status.busy": "2022-07-19T15:06:26.892314Z",
     "iopub.status.idle": "2022-07-19T15:06:29.227715Z",
     "shell.execute_reply": "2022-07-19T15:06:29.226474Z",
     "shell.execute_reply.started": "2022-07-19T15:06:26.898394Z"
    },
    "scrolled": true
   },
   "outputs": [
    {
     "name": "stdout",
     "output_type": "stream",
     "text": [
      "Model: DecisionTreeRegressor ; RMSE: 3.80 ; Improvement of: 1.99%\n"
     ]
    }
   ],
   "source": [
    "# Training Decision Tree and first Evaluation of Performance\n",
    "tree1 = DecisionTreeRegressor(max_depth=3)\n",
    "evaluation(tree1, X_train = X_train_filled, X_test = X_test_filled)"
   ]
  },
  {
   "cell_type": "markdown",
   "metadata": {
    "_uuid": "6a360e3cb4fa1da2999965cc7b558c717434d6a2"
   },
   "source": [
    "#### Decision Tree Validation Curve\n",
    "\n",
    "In the following we plotted a **validation curve**, which is showing the performance of a decision tree on the training- and on the test datas et.\n",
    "While the training score keeps improving, the test score decreases after a while. This is due to **overfitting**. A highly complex tree (deep tree) is not as able anymore to **generalize** on unknown Test data."
   ]
  },
  {
   "cell_type": "code",
   "execution_count": 35,
   "metadata": {
    "_uuid": "f9f31f23ab892f046d17e70238b6d9f30887baeb",
    "execution": {
     "iopub.execute_input": "2022-07-19T15:06:29.230624Z",
     "iopub.status.busy": "2022-07-19T15:06:29.230188Z",
     "iopub.status.idle": "2022-07-19T15:07:01.965231Z",
     "shell.execute_reply": "2022-07-19T15:07:01.963630Z",
     "shell.execute_reply.started": "2022-07-19T15:06:29.230557Z"
    },
    "scrolled": true
   },
   "outputs": [
    {
     "name": "stdout",
     "output_type": "stream",
     "text": [
      "Optimal regularization parameter : 1\n",
      "Model: DecisionTreeRegressor ; RMSE: 3.84 ; Improvement of: 0.89%\n"
     ]
    },
    {
     "data": {
      "image/png": "[encoded data removed]",
      "text/plain": [
       "<Figure size 960x640 with 1 Axes>"
      ]
     },
     "metadata": {},
     "output_type": "display_data"
    }
   ],
   "source": [
    "# Evaluation Training- and Test Error\n",
    "# Create CV training and test scores for various training set sizes\n",
    "depth_range = np.linspace(1, 10, 10) # Range of depth for Decison Tree's\n",
    "\n",
    "train_scores,test_scores = validation_curve(DecisionTreeRegressor(),X_train_filled, y_train,\n",
    "                                            param_name =\"max_depth\", param_range = depth_range, cv=3 ,\n",
    "                                            scoring=rmse_scorer, n_jobs=-1)\n",
    "\n",
    "# Create means and standard deviations of training set scores\n",
    "train_scores_mean = np.mean(train_scores, axis=1); test_scores_mean = np.mean(test_scores, axis=1)\n",
    "\n",
    "# Calculating optimal regularization parameter\n",
    "i_depth_range_optim = np.argmax(test_scores_mean)\n",
    "depth_range_optim = int(depth_range[i_depth_range_optim])\n",
    "print(\"Optimal regularization parameter : %s\" % depth_range_optim )\n",
    "tree2=DecisionTreeRegressor(max_depth=depth_range_optim); evaluation(tree2,X_train=X_train_filled,X_test=X_test_filled)\n",
    "\n",
    "# Plotting the Validation Curve\n",
    "figure(num=None, figsize=(12, 8), dpi=80, facecolor='w', edgecolor='k')\n",
    "plt.title(\"Validation Curve with DecisionTreeRegressor - Complexity\");plt.xlabel(\"Complexity/max_depth\");plt.ylabel(\"RMSE\")\n",
    "plt.plot(depth_range,train_scores_mean,  label=\"Training score\",linewidth=4,color='blue') ;\n",
    "plt.plot(depth_range,test_scores_mean, label=\"Cross-validation score\",linewidth=4,color='red')\n",
    "plt.vlines(depth_range_optim, plt.ylim()[0], np.max(test_scores_mean), color='k',linewidth=2,linestyles='--',label='Optimum on test')\n",
    "plt.legend(loc=\"best\"); plt.show()"
   ]
  },
  {
   "cell_type": "markdown",
   "metadata": {
    "_uuid": "bc9519c82361677b49396f9cf2762f6c5539d9dc"
   },
   "source": [
    "** Decision Tree Learning Curve**\n",
    "\n",
    "After the evaluation of the optimum depth for tree, we tried to find out how much data the tree actually needs to perform. As seen below, the performance of the DecisionTreeRegressor does not really improve with an increasing trainind data size. "
   ]
  },
  {
   "cell_type": "code",
   "execution_count": 36,
   "metadata": {
    "_uuid": "ba2c63dda64164d2430e5370566672130df97130",
    "execution": {
     "iopub.execute_input": "2022-07-19T15:07:01.968039Z",
     "iopub.status.busy": "2022-07-19T15:07:01.967616Z",
     "iopub.status.idle": "2022-07-19T15:07:15.967281Z",
     "shell.execute_reply": "2022-07-19T15:07:15.966310Z",
     "shell.execute_reply.started": "2022-07-19T15:07:01.967959Z"
    }
   },
   "outputs": [
    {
     "data": {
      "image/png": "[encoded data removed]",
      "text/plain": [
       "<Figure size 960x640 with 1 Axes>"
      ]
     },
     "metadata": {},
     "output_type": "display_data"
    }
   ],
   "source": [
    "# Evaluation Training Size\n",
    "# Create CV training and test scores for various training set sizes\n",
    "train_sizes, train_scores, test_scores = learning_curve(DecisionTreeRegressor(max_depth=3), \n",
    "                                                        X_train_filled, y_train,cv=3,scoring=rmse_scorer, n_jobs=-1, \n",
    "                                                        # 20 different sizes of the training set\n",
    "                                                        train_sizes=np.linspace(0.01, 1.0, 20))\n",
    "\n",
    "# Create means and standard deviations of training set scores\n",
    "train_mean = np.mean(train_scores, axis=1)\n",
    "train_std = np.std(train_scores, axis=1)\n",
    "# Create means and standard deviations of test set scores\n",
    "test_mean = np.mean(test_scores, axis=1)\n",
    "test_std = np.std(test_scores, axis=1)\n",
    "\n",
    "# Draw lines\n",
    "figure(num=None, figsize=(12, 8), dpi=80, facecolor='w', edgecolor='k')\n",
    "plt.plot(train_sizes, train_mean, '--', color='blue',  label=\"Training score\")\n",
    "plt.plot(train_sizes, test_mean, color= 'red', label=\"Cross-validation score\")\n",
    "# Draw bands\n",
    "plt.fill_between(train_sizes, train_mean - train_std, train_mean + train_std, color=\"#DDDDDD\")\n",
    "plt.fill_between(train_sizes, test_mean - test_std, test_mean + test_std, color=\"#DDDDDD\")\n",
    "# Create plot -> change y-label\n",
    "plt.title(\"Learning Curve with DecisionTreeRegressor - Training Size\")\n",
    "#y_labels = ax.get_yticks()\n",
    "#ax.yaxis.set_major_formatter(ticker.)\n",
    "plt.xlabel(\"Training Set Size\"), plt.ylabel(\"RMSE\"), plt.legend(loc=\"best\")\n",
    "plt.tight_layout()\n",
    "plt.show()"
   ]
  },
  {
   "cell_type": "markdown",
   "metadata": {
    "_uuid": "b00bc4fa4fce8b5ca1f0e1acaf956ed42f81ead2"
   },
   "source": [
    "### Radom Forrest\n",
    "After modelling single tree's, the next logical step is the **RandomForrestRegressor**. This one builds an **esemble** of decision trees, which are training with the **bagging** method. The idea of bagging is, that a combination of many so called **\"weak learners\"** increases the final result.  \n",
    "Furthermore a Random Forest adds  randomness to the model, while growing the trees. Instead of searching for the most important feature while splitting a node, it searches for the best feature among a **random subset of features**. This results in a wide diversity that generally results in a better model.\n",
    "\n",
    "Source: https://towardsdatascience.com/the-random-forest-algorithm-d457d499ffcd"
   ]
  },
  {
   "cell_type": "code",
   "execution_count": 37,
   "metadata": {
    "_uuid": "89d18fefa39989adaad2cfc75c09fcaceabb8e28",
    "execution": {
     "iopub.execute_input": "2022-07-19T15:07:15.968986Z",
     "iopub.status.busy": "2022-07-19T15:07:15.968728Z",
     "iopub.status.idle": "2022-07-19T15:07:39.450313Z",
     "shell.execute_reply": "2022-07-19T15:07:39.449281Z",
     "shell.execute_reply.started": "2022-07-19T15:07:15.968943Z"
    },
    "scrolled": true
   },
   "outputs": [
    {
     "name": "stdout",
     "output_type": "stream",
     "text": [
      "Model: RandomForestRegressor ; RMSE: 3.79 ; Improvement of: 2.23%\n"
     ]
    }
   ],
   "source": [
    "# Create first random forrest \n",
    "from sklearn.ensemble import RandomForestRegressor\n",
    "\n",
    "ranFor1 = RandomForestRegressor(max_depth=3, random_state=0,\n",
    "                            n_estimators=20)\n",
    "evaluation(ranFor1,X_train=X_train_filled,X_test=X_test_filled)"
   ]
  },
  {
   "cell_type": "markdown",
   "metadata": {
    "_uuid": "48fd47f34c4b0d109e3a5d4ad214fabf05922720"
   },
   "source": [
    "**RandomForrest Validation Curve**\n",
    "\n",
    "Same like we evaluated the depth for single tree, we analyzed the number of trees for the RandomForrest."
   ]
  },
  {
   "cell_type": "code",
   "execution_count": 38,
   "metadata": {
    "_uuid": "3cbc1bd2dfc55f73e3c045f0e367b68bcc6c8194",
    "execution": {
     "iopub.execute_input": "2022-07-19T15:07:39.452046Z",
     "iopub.status.busy": "2022-07-19T15:07:39.451793Z",
     "iopub.status.idle": "2022-07-19T15:14:48.376357Z",
     "shell.execute_reply": "2022-07-19T15:14:48.375345Z",
     "shell.execute_reply.started": "2022-07-19T15:07:39.452002Z"
    }
   },
   "outputs": [
    {
     "name": "stdout",
     "output_type": "stream",
     "text": [
      "Optimal regularization parameter : 38\n",
      "Model: RandomForestRegressor ; RMSE: 3.79 ; Improvement of: 2.24%\n"
     ]
    },
    {
     "data": {
      "image/png": "[encoded data removed]",
      "text/plain": [
       "<Figure size 640x480 with 1 Axes>"
      ]
     },
     "metadata": {},
     "output_type": "display_data"
    }
   ],
   "source": [
    "# Evaluation of n_estimators = n_trees\n",
    "# Create CV training and test scores for various training set sizes\n",
    "estimator_range = np.arange(2, 40, 2)\n",
    "train_scores,test_scores = validation_curve(RandomForestRegressor(max_depth=3),X_train_filled, y_train,\n",
    "                                                          param_name=\"n_estimators\", param_range=estimator_range,\n",
    "                                                          cv=3,scoring=rmse_scorer, n_jobs=-1)\n",
    "\n",
    "# Create means and standard deviations of training set scores\n",
    "train_scores_mean = np.mean(train_scores, axis=1)\n",
    "train_scores_std = np.std(train_scores, axis=1)\n",
    "test_scores_mean = np.mean(test_scores, axis=1)\n",
    "test_scores_std = np.std(test_scores, axis=1)\n",
    "\n",
    "i_estimator_range_optim = np.argmax(test_scores_mean)\n",
    "estimator_range_optim = estimator_range[i_estimator_range_optim]\n",
    "print(\"Optimal regularization parameter :\",estimator_range_optim )\n",
    "ranFor2=RandomForestRegressor(n_estimators=estimator_range_optim)\n",
    "evaluation(ranFor2,X_train=X_train_filled,X_test=X_test_filled)\n",
    "\n",
    "figure(num=None, figsize=(8, 6), dpi=80, facecolor='w', edgecolor='k')\n",
    "plt.title(\"Validation Curve with RandomForestRegressor\");plt.xlabel(\"Number of Trees\");plt.ylabel(\"RMSE\")\n",
    "plt.plot(estimator_range,train_scores_mean,  label=\"Training score\",linewidth=4,color='blue') ;\n",
    "plt.plot(estimator_range,test_scores_mean, label=\"Cross-validation score\",linewidth=4,color='red')\n",
    "plt.vlines(depth_range_optim, plt.ylim()[0], np.max(test_scores_mean), color='k',linewidth=2,linestyles='--',label='Optimum on test')\n",
    "plt.legend(loc=\"best\"); plt.show()"
   ]
  },
  {
   "cell_type": "markdown",
   "metadata": {
    "_uuid": "74e1d5c4df0785378e82052827dc17de08d9182d"
   },
   "source": [
    "<a id=\"3.2.1\"></a> <br>\n",
    "### 3.2.1 GridSearch"
   ]
  },
  {
   "cell_type": "markdown",
   "metadata": {
    "_uuid": "72d1637ec1d54e4e864700df35ac3359f0f61cce"
   },
   "source": [
    "### HyperParameter Tuning\n",
    "\n",
    "In the following we optimized the **hyperparamter** of the RandomForrest with **GridSearch**. The best way to think about hyperparameters is like the settings of an algorithm that can be adjusted to optimize performance. While model parameters are learned during training , such as the slope and intercept in a linear regression ,  hyperparameters must be **set before training**. In the case of a random forest the following ones are critical:\n",
    "\n",
    "- **n_estimators** = number of trees in the foreset\n",
    "- **max_features** = max number of features considered for splitting a node\n",
    "- **max_depth** = max number of levels in each decision tree\n",
    "- **min_samples_split** = min number of data points placed in a node before the node is split\n",
    "- **min_samples_leaf** = min number of data points allowed in a leaf node\n",
    "- **bootstrap** = method for sampling data points (with or without replacement)\n",
    "\n",
    "We used GridSearch to find the optimum parameters for RandomForrest."
   ]
  },
  {
   "cell_type": "code",
   "execution_count": 39,
   "metadata": {
    "_uuid": "3801020eea119de93253684111546f4299bc3261",
    "execution": {
     "iopub.execute_input": "2022-07-19T15:14:48.378443Z",
     "iopub.status.busy": "2022-07-19T15:14:48.378153Z",
     "iopub.status.idle": "2022-07-19T15:16:13.727758Z",
     "shell.execute_reply": "2022-07-19T15:16:13.726870Z",
     "shell.execute_reply.started": "2022-07-19T15:14:48.378393Z"
    }
   },
   "outputs": [
    {
     "name": "stdout",
     "output_type": "stream",
     "text": [
      "Fitting 3 folds for each of 32 candidates, totalling 96 fits\n",
      "{'bootstrap': True, 'max_depth': 8, 'max_features': 10, 'min_samples_leaf': 20, 'min_samples_split': 20, 'n_estimators': 20}\n",
      "Model: RandomForestRegressor ; RMSE: 3.73 ; Improvement of: 3.86%\n"
     ]
    }
   ],
   "source": [
    "from sklearn.model_selection import GridSearchCV\n",
    "ranFor3=RandomForestRegressor()\n",
    "\n",
    "# Create the parameter grid based on the results of random search \n",
    "param_grid_ranFor = {\n",
    "    'bootstrap': [True], 'max_depth': [2,8], 'max_features': [2,10],\n",
    "    'min_samples_leaf': [2,20], 'min_samples_split': [4,20], 'n_estimators': [10,20]\n",
    "}\n",
    "# Instantiate the grid search model\n",
    "grid_search_ranFor = GridSearchCV(estimator = ranFor3, param_grid = param_grid_ranFor, \n",
    "                                  cv = 3, n_jobs = -1, verbose = 2, return_train_score=True)\n",
    "\n",
    "# Fit the grid search to the data\n",
    "grid_search_ranFor.fit(X_train_filled,y_train);\n",
    "\n",
    "# Best Parameters of GridSearch\n",
    "best_param_ranFor=grid_search_ranFor.best_params_ ; print(best_param_ranFor)\n",
    "\n",
    "# Evaluation of RandomForrest with GirdSearch Parameters\n",
    "ranFor3 = RandomForestRegressor(**best_param_ranFor) ; evaluation(ranFor3,X_train=X_train_filled,X_test=X_test_filled)"
   ]
  },
  {
   "cell_type": "markdown",
   "metadata": {
    "_uuid": "cd3c7cd6cd87cfb67bdfad67a84e7ed7811aaa4b"
   },
   "source": [
    "Unfortunately the even an simple GridSearch took several, even for only a small part of the data set and for a small number of parameters. \n",
    "For that reason we decided to do the GridSearch ones for demonstration (with only a small grid of parameters)  and then focus on the LightGBM Models which turned out to be way for efficient."
   ]
  },
  {
   "cell_type": "markdown",
   "metadata": {
    "_uuid": "2db0c6d27454a117784709a1fd3a79e0b1912ff2"
   },
   "source": [
    "<a id=\"3.3\"></a> <br>\n",
    "## 3.3 LightGBM"
   ]
  },
  {
   "cell_type": "markdown",
   "metadata": {
    "_uuid": "5d2fe547f87d8b5eb18407fdb10fde0f5b3942c4"
   },
   "source": [
    "What is Light GBM?\n",
    "- According to LightGBM'S documentation: \"LightGBM is a **gradient boosting framework** that uses tree based learning algorithms. It is designed to be distributed and efficient with the following advantages:\n",
    "- Faster training speed and higher efficiency.\n",
    "- Lower memory usage.\n",
    "- Better accuracy.\n",
    "- Support of parallel and GPU learning.\n",
    "- Capable of handling large-scale data.\"\n",
    "\n",
    "How it differs from other tree based algorithm?\n",
    "- Light GBM **grows tree vertically/ leaf-wise** while other algorithm grows trees **horizontally/ leaf-wise** . It will choose the leaf with max delta loss to grow. When growing the same leaf, Leaf-wise algorithm can reduce more loss than a level-wise algorithm. \n",
    "\n",
    "\n",
    "![](https://i.imgur.com/kLlL7YF.png)\n",
    "\n",
    "( Source: http://mlexplained.com/2018/01/05/lightgbm-and-xgboost-explained/)\n",
    "\n",
    "Level-wise training can be seen as a form of regularized training since leaf-wise training can construct any tree that level-wise training can. Therefore, leaf-wise training is more **prone to overfitting but is more flexible**. This makes it a better choice for large and wide datasets.\n",
    "\n",
    "https://medium.com/@pushkarmandot/https-medium-com-pushkarmandot-what-is-lightgbm-how-to-implement-it-how-to-fine-tune-the-parameters-60347819b7fc"
   ]
  },
  {
   "cell_type": "markdown",
   "metadata": {
    "_uuid": "b5cd60c92e6847481a41278bac367cb6e71e8ed9"
   },
   "source": [
    "### Parameters LightGBM\n",
    "LightGBM's documentation differs between learning control and core paremters:\n",
    "\n",
    "**Learning Control Parameters**\n",
    "- **max_depth**: Describes the maximum depth of tree. Used to handle model overfitting. \n",
    "- **min_data_in_leaf**: Minimum number of the records a leaf may have. The default value is 20, optimum value. It is also used to deal overfitting.\n",
    "- **feature_fraction**: % of parameters selected randomly in each iteration for building trees.\n",
    "- **bagging_fraction**: Specifies the fraction of data to be used for each iteration and is generally used to speed up the training and avoid overfitting.\n",
    "- **early_stopping_round**: Stops training if one metric of one validation data doesn’t improve in last - early_stopping_round rounds. \n",
    "- **lambda**: Specifies regularization. Typical value ranges from 0 to 1.\n",
    "- **min_gain_to_split**: Describe the minimum gain to make a split. It can used to control number of useful splits in tree."
   ]
  },
  {
   "cell_type": "markdown",
   "metadata": {
    "_uuid": "67778c3b916112887b21f35eff8f5cade89ed3da"
   },
   "source": [
    "**Core Parameters**\n",
    "- **task**: Specifies the task you want to perform on data. It may be either train or predict.\n",
    "- **application**: Specifies the application of your model, whether it is a regression problem or classification problem. \n",
    "- **boosting**: Defines the type of algorithm you want to run, default=gdbt\n",
    "  - gbdt: traditional Gradient Boosting Decision Tree\n",
    "  - rf: random forest\n",
    " - **num_boost_round**: Number of boosting iterations, typically 100+\n",
    "- **learning_rate**: Determines the impact of each tree on the final outcome. GBM works by starting with an initial estimate which is updated using the output of each tree. The learning parameter controls the magnitude of this change in the estimates. Typical values: 0.1, 0.001, 0.003…\n",
    "- **num_leaves**: number of leaves in full tree, default: 31\n",
    "- **device**: default: cpu, can also pass gpu"
   ]
  },
  {
   "cell_type": "code",
   "execution_count": 40,
   "metadata": {
    "_uuid": "61c7faed44aaa10681e0c8890c0f602e913cd095",
    "execution": {
     "iopub.execute_input": "2022-07-19T15:16:13.733131Z",
     "iopub.status.busy": "2022-07-19T15:16:13.732848Z",
     "iopub.status.idle": "2022-07-19T15:16:13.740369Z",
     "shell.execute_reply": "2022-07-19T15:16:13.739434Z",
     "shell.execute_reply.started": "2022-07-19T15:16:13.733071Z"
    }
   },
   "outputs": [],
   "source": [
    "# Default parameters for LightGBM\n",
    "param1 = {'application': \"regression\", \"boosting\": \"gbdt\", \"metric\": 'rmse', 'max_depth': 3,  \n",
    "          'learning_rate': 0.1, 'num_leaves':31, 'min_data_in_leaf': 20, \"random_state\": 2019,\n",
    "          'min_gain_to_split':0.5,      # default =0\n",
    "          'feature_fraction': 0.5,      # default =1 \n",
    "          'bagging_fraction': 0.5,      # default =1 \n",
    "         }"
   ]
  },
  {
   "cell_type": "code",
   "execution_count": 41,
   "metadata": {
    "_uuid": "7bce38bf775632006216c9592c0a7b9ebbb7407e",
    "execution": {
     "iopub.execute_input": "2022-07-19T15:16:13.742198Z",
     "iopub.status.busy": "2022-07-19T15:16:13.741907Z",
     "iopub.status.idle": "2022-07-19T15:16:13.754235Z",
     "shell.execute_reply": "2022-07-19T15:16:13.753331Z",
     "shell.execute_reply.started": "2022-07-19T15:16:13.742141Z"
    }
   },
   "outputs": [],
   "source": [
    "# define function in order to calculate RMSE and Improvement of Model\n",
    "def lgb_evaluation(model,X_train=X_train,y_train=y_train,X_test=X_test,y_test=y_test):\n",
    "    pred_lgb_model=model.predict(X_test)\n",
    "    rmse_new=rmse(y_test,pred_lgb_model)\n",
    "    print(\"Model: LGB;\",'RMSE: {:0.2f}'.format(rmse_new),\";\",'Improvement of: {:0.2f}%'.format(100 * (rmse_dummy- rmse_new) / rmse_new))"
   ]
  },
  {
   "cell_type": "code",
   "execution_count": 42,
   "metadata": {
    "_uuid": "6834173faf0323847c29e8e67a6739cbcf983018",
    "execution": {
     "iopub.execute_input": "2022-07-19T15:16:13.756469Z",
     "iopub.status.busy": "2022-07-19T15:16:13.756126Z",
     "iopub.status.idle": "2022-07-19T15:16:15.462156Z",
     "shell.execute_reply": "2022-07-19T15:16:15.461355Z",
     "shell.execute_reply.started": "2022-07-19T15:16:13.756415Z"
    },
    "scrolled": true
   },
   "outputs": [
    {
     "name": "stdout",
     "output_type": "stream",
     "text": [
      "[LightGBM] [Warning] Auto-choosing row-wise multi-threading, the overhead of testing was 0.008189 seconds.\n",
      "You can set `force_row_wise=true` to remove the overhead.\n",
      "And if memory is not enough, you can set `force_col_wise=true`.\n",
      "[LightGBM] [Info] Total Bins 11633\n",
      "[LightGBM] [Info] Number of data points in the train set: 135284, number of used features: 74\n",
      "[LightGBM] [Info] Start training from score -0.394022\n",
      "CPU times: user 2.2 s, sys: 165 ms, total: 2.37 s\n",
      "Wall time: 691 ms\n",
      "Model: LGB; RMSE: 3.79 ; Improvement of: 2.25%\n"
     ]
    }
   ],
   "source": [
    "#Setting up the first LGBM Model\n",
    "rounds = 10\n",
    "training_data = lgb.Dataset(data = X_train, label = y_train, params = param1, \n",
    "                          categorical_feature = categorical_feats, free_raw_data = False)\n",
    "#Training the Model\n",
    "%time lgb1 = lgb.train(train_set = training_data, params = param1, num_boost_round = rounds)\n",
    "\n",
    "#Making Predictions\n",
    "pred_lgb1=lgb1.predict(X_test)\n",
    "\n",
    "#Evaluation of first LGB\n",
    "lgb_evaluation(model=lgb1)"
   ]
  },
  {
   "cell_type": "markdown",
   "metadata": {
    "_uuid": "875d657690de40210d87dd9d5cb329cdb84a3ec7"
   },
   "source": [
    "The result of the first LGBM tree shows, that without specific parameters and intense training, there is not much difference to a usual decision tree. Let's see if we can find the optimum parameters more elegant than in Sklearn and finally get a good result."
   ]
  },
  {
   "cell_type": "markdown",
   "metadata": {
    "_uuid": "070eb5dd277b92446cb6a050c8b8b81995367c7e"
   },
   "source": [
    "<a id=\"3.3.1\"></a> <br>\n",
    "### 3.3.1 Bayesian Optimization"
   ]
  },
  {
   "cell_type": "markdown",
   "metadata": {
    "_uuid": "f9722c585b107057189567f041d64b18771d715b"
   },
   "source": [
    "\n",
    "According to TowardsDataScience, the challenge with hyperparameter optimization is that **evaluating the objective function is extremely expensive**. For each different set of parameters, we need to train the model, make predictions and calculate the validation set. For complex models and large numbers of parameters that can take up to days.\n",
    "Methods like GridSearch or RandomSearch are relatively inefficient, because they do not choose the next hyperparameters to evaluate based on previous results. They are **uninformed by past evaluations**, and as a result, often spend a significant amount of time evaluating “bad” hyperparameters.\n",
    "\n",
    "Bayesian optimization finds the value that **minimizes an objective function** by building a surrogate function (probability model) **based on past evaluation** results of the objective. \n",
    "The surrogate is cheaper to optimize than the objective, so the next input values to evaluate are selected by applying a criterion to the surrogate (often Expected Improvement). \n",
    "\n",
    "The concept is: limit expensive evaluations of the objective function by choosing the next input values based on those that have done well in the past. Basically there are four parts of optimization problem:\n",
    "- **Objective Function**: what we want to minimize, in this case the validation error of a machine learning model with respect to the hyperparameters\n",
    "- **Domain Space**: hyperparameter values to search over\n",
    "- **Optimization algorithm**: method for constructing the surrogate model and choosing the next hyperparameter values to evaluate\n",
    "- **Result history**: stored outcomes from evaluations of the objective function consisting of the hyperparameters and validation loss\n",
    "\n",
    "(Source: https://towardsdatascience.com/a-conceptual-explanation-of-bayesian-model-based-hyperparameter-optimization-for-machine-learning-b8172278050f)"
   ]
  },
  {
   "cell_type": "markdown",
   "metadata": {
    "_uuid": "379f8cec541af9c4c7902e852a26198f8f0d1691"
   },
   "source": [
    "Bayesian Optimization to find optimum Parameters:"
   ]
  },
  {
   "cell_type": "code",
   "execution_count": 43,
   "metadata": {
    "_uuid": "ee191f892245893c5ac88e2eaaa99a01f3a0db23",
    "execution": {
     "iopub.execute_input": "2022-07-19T15:16:15.463905Z",
     "iopub.status.busy": "2022-07-19T15:16:15.463477Z",
     "iopub.status.idle": "2022-07-19T15:16:15.479657Z",
     "shell.execute_reply": "2022-07-19T15:16:15.478736Z",
     "shell.execute_reply.started": "2022-07-19T15:16:15.463861Z"
    }
   },
   "outputs": [],
   "source": [
    "from bayes_opt import BayesianOptimization\n",
    "\n",
    "# Define Bayes Optimization function for LGBM\n",
    "def bayes_parameter_opt_lgb(training, testing, init_round=5, opt_round=10, n_folds=4, random_seed=2019, \n",
    "                            n_estimators=100, learning_rate=0.05, output_process=False):\n",
    "    \n",
    "    # Training data\n",
    "    training_data = lgb.Dataset(data= train, label= target, categorical_feature = categorical_feats, free_raw_data=False)\n",
    "    \n",
    "    # Parameters to optimize\n",
    "    def lgb_evaluation(learning_rate, num_leaves, feature_fraction, bagging_fraction, max_depth, lambda_l1,min_data_in_leaf,min_split_gain):\n",
    " \n",
    "        params = {'application':'regression','num_iterations': n_estimators,  \n",
    "                  'early_stopping_round':100, 'metric':'rmse'}\n",
    "        # Bayes opt's outputs are always float\n",
    "        params['learning_rate'] = max(min(feature_fraction, 1), 0)\n",
    "        params[\"num_leaves\"] = int(round(num_leaves)) # Rounding of parameters did not work\n",
    "        params['bagging_fraction'] = max(min(bagging_fraction, 1), 0)\n",
    "        params['max_depth'] = int(round(max_depth))\n",
    "        params['min_data_in_leaf'] = int(round(min_data_in_leaf))\n",
    "        params['lambda_l1'] = max(lambda_l1, 0)\n",
    "        params['min_split_gain'] = min_split_gain\n",
    "        cv_result = lgb.cv(params, training_data, nfold=n_folds, seed=random_seed, stratified=False, \n",
    "                           verbose_eval =200, metrics=['rmse'])\n",
    "        return max(cv_result['rmse-mean'])\n",
    "    # Parameter Range\n",
    "    lgbBO = BayesianOptimization(lgb_evaluation, {'learning_rate': (0.0001, 0.1),\n",
    "                                            'num_leaves': (150, 300),\n",
    "                                            'feature_fraction': (0.01, 0.2),\n",
    "                                            'bagging_fraction': (0.2, 1),\n",
    "                                            'max_depth': (1, 3),\n",
    "                                            'lambda_l1': (0, 2),\n",
    "                                            'min_data_in_leaf': (200,400),\n",
    "                                            'min_split_gain': (0.001, 0.2)})\n",
    "    # Optimize\n",
    "    lgbBO.maximize(init_points=init_round, n_iter=opt_round)\n",
    "    \n",
    "    # Output optimization process to CSV\n",
    "    if output_process==True: lgbBO.points_to_csv(\"bayes_opt_result1.csv\")\n",
    "    \n",
    "    # return best parameters\n",
    "    return lgbBO.max"
   ]
  },
  {
   "cell_type": "code",
   "execution_count": 56,
   "metadata": {},
   "outputs": [
    {
     "data": {
      "text/plain": [
       "{'target': 3.848593104504225,\n",
       " 'params': {'bagging_fraction': 0.5004941593344682,\n",
       "  'feature_fraction': 0.01152446918355208,\n",
       "  'lambda_l1': 0.42615162097888404,\n",
       "  'learning_rate': 0.08943407522251312,\n",
       "  'max_depth': 2.5559934833039546,\n",
       "  'min_data_in_leaf': 227.161481598891,\n",
       "  'min_split_gain': 0.11920028122790058,\n",
       "  'num_leaves': 239.44354171809712}}"
      ]
     },
     "execution_count": 56,
     "metadata": {},
     "output_type": "execute_result"
    }
   ],
   "source": [
    "opt_params_lgb"
   ]
  },
  {
   "cell_type": "code",
   "execution_count": 54,
   "metadata": {
    "_uuid": "9506f93a7708d90a9e24088f3f2ff9fd8103bad7",
    "execution": {
     "iopub.execute_input": "2022-07-19T15:16:15.481321Z",
     "iopub.status.busy": "2022-07-19T15:16:15.481002Z",
     "iopub.status.idle": "2022-07-19T15:19:47.916545Z",
     "shell.execute_reply": "2022-07-19T15:19:47.915452Z",
     "shell.execute_reply.started": "2022-07-19T15:16:15.481250Z"
    }
   },
   "outputs": [
    {
     "name": "stdout",
     "output_type": "stream",
     "text": [
      "CPU times: user 3 µs, sys: 1e+03 ns, total: 4 µs\n",
      "Wall time: 6.91 µs\n",
      "|   iter    |  target   | baggin... | featur... | lambda_l1 | learni... | max_depth | min_da... | min_sp... | num_le... |\n",
      "-------------------------------------------------------------------------------------------------------------------------\n",
      "[LightGBM] [Warning] Auto-choosing row-wise multi-threading, the overhead of testing was 0.020405 seconds.\n",
      "You can set `force_row_wise=true` to remove the overhead.\n",
      "And if memory is not enough, you can set `force_col_wise=true`.\n",
      "[LightGBM] [Info] Total Bins 11695\n",
      "[LightGBM] [Info] Number of data points in the train set: 151437, number of used features: 74\n",
      "[LightGBM] [Warning] Auto-choosing row-wise multi-threading, the overhead of testing was 0.019504 seconds.\n",
      "You can set `force_row_wise=true` to remove the overhead.\n",
      "And if memory is not enough, you can set `force_col_wise=true`.\n",
      "[LightGBM] [Info] Total Bins 11695\n",
      "[LightGBM] [Info] Number of data points in the train set: 151437, number of used features: 74\n",
      "[LightGBM] [Warning] Auto-choosing row-wise multi-threading, the overhead of testing was 0.017324 seconds.\n",
      "You can set `force_row_wise=true` to remove the overhead.\n",
      "And if memory is not enough, you can set `force_col_wise=true`.\n",
      "[LightGBM] [Info] Total Bins 11695\n",
      "[LightGBM] [Info] Number of data points in the train set: 151437, number of used features: 74\n",
      "[LightGBM] [Warning] Auto-choosing row-wise multi-threading, the overhead of testing was 0.020033 seconds.\n",
      "You can set `force_row_wise=true` to remove the overhead.\n",
      "And if memory is not enough, you can set `force_col_wise=true`.\n",
      "[LightGBM] [Info] Total Bins 11695\n",
      "[LightGBM] [Info] Number of data points in the train set: 151437, number of used features: 74\n",
      "[LightGBM] [Info] Start training from score -0.387506\n",
      "[LightGBM] [Info] Start training from score -0.394289\n",
      "[LightGBM] [Info] Start training from score -0.396410\n",
      "[LightGBM] [Info] Start training from score -0.396344\n",
      "| \u001b[0m 1       \u001b[0m | \u001b[0m 3.846   \u001b[0m | \u001b[0m 0.739   \u001b[0m | \u001b[0m 0.06785 \u001b[0m | \u001b[0m 1.886   \u001b[0m | \u001b[0m 0.07245 \u001b[0m | \u001b[0m 1.114   \u001b[0m | \u001b[0m 228.7   \u001b[0m | \u001b[0m 0.116   \u001b[0m | \u001b[0m 169.8   \u001b[0m |\n",
      "[LightGBM] [Warning] Auto-choosing row-wise multi-threading, the overhead of testing was 0.011058 seconds.\n",
      "You can set `force_row_wise=true` to remove the overhead.\n",
      "And if memory is not enough, you can set `force_col_wise=true`.\n",
      "[LightGBM] [Info] Total Bins 11695\n",
      "[LightGBM] [Info] Number of data points in the train set: 151437, number of used features: 74\n",
      "[LightGBM] [Warning] Auto-choosing col-wise multi-threading, the overhead of testing was 0.071770 seconds.\n",
      "You can set `force_col_wise=true` to remove the overhead.\n",
      "[LightGBM] [Info] Total Bins 11695\n",
      "[LightGBM] [Info] Number of data points in the train set: 151437, number of used features: 74\n",
      "[LightGBM] [Warning] Auto-choosing row-wise multi-threading, the overhead of testing was 0.018787 seconds.\n",
      "You can set `force_row_wise=true` to remove the overhead.\n",
      "And if memory is not enough, you can set `force_col_wise=true`.\n",
      "[LightGBM] [Info] Total Bins 11695\n",
      "[LightGBM] [Info] Number of data points in the train set: 151437, number of used features: 74\n",
      "[LightGBM] [Warning] Auto-choosing row-wise multi-threading, the overhead of testing was 0.016555 seconds.\n",
      "You can set `force_row_wise=true` to remove the overhead.\n",
      "And if memory is not enough, you can set `force_col_wise=true`.\n",
      "[LightGBM] [Info] Total Bins 11695\n",
      "[LightGBM] [Info] Number of data points in the train set: 151437, number of used features: 74\n",
      "[LightGBM] [Info] Start training from score -0.387506\n",
      "[LightGBM] [Info] Start training from score -0.394289\n",
      "[LightGBM] [Info] Start training from score -0.396410\n",
      "[LightGBM] [Info] Start training from score -0.396344\n",
      "[LightGBM] [Warning] No further splits with positive gain, best gain: -inf\n",
      "[LightGBM] [Warning] No further splits with positive gain, best gain: -inf\n",
      "[LightGBM] [Warning] No further splits with positive gain, best gain: -inf\n",
      "[LightGBM] [Warning] No further splits with positive gain, best gain: -inf\n",
      "[LightGBM] [Warning] No further splits with positive gain, best gain: -inf\n",
      "[LightGBM] [Warning] No further splits with positive gain, best gain: -inf\n",
      "[LightGBM] [Warning] No further splits with positive gain, best gain: -inf\n",
      "[LightGBM] [Warning] No further splits with positive gain, best gain: -inf\n",
      "[LightGBM] [Warning] No further splits with positive gain, best gain: -inf\n",
      "[LightGBM] [Warning] No further splits with positive gain, best gain: -inf\n",
      "[LightGBM] [Warning] No further splits with positive gain, best gain: -inf\n",
      "[LightGBM] [Warning] No further splits with positive gain, best gain: -inf\n",
      "[LightGBM] [Warning] No further splits with positive gain, best gain: -inf\n",
      "[LightGBM] [Warning] No further splits with positive gain, best gain: -inf\n",
      "[LightGBM] [Warning] No further splits with positive gain, best gain: -inf\n",
      "[LightGBM] [Warning] No further splits with positive gain, best gain: -inf\n",
      "[LightGBM] [Warning] No further splits with positive gain, best gain: -inf\n",
      "[LightGBM] [Warning] No further splits with positive gain, best gain: -inf\n",
      "[LightGBM] [Warning] No further splits with positive gain, best gain: -inf\n",
      "[LightGBM] [Warning] No further splits with positive gain, best gain: -inf\n",
      "[LightGBM] [Warning] No further splits with positive gain, best gain: -inf\n",
      "[LightGBM] [Warning] No further splits with positive gain, best gain: -inf\n",
      "[LightGBM] [Warning] No further splits with positive gain, best gain: -inf\n",
      "[LightGBM] [Warning] No further splits with positive gain, best gain: -inf\n",
      "[LightGBM] [Warning] No further splits with positive gain, best gain: -inf\n",
      "[LightGBM] [Warning] No further splits with positive gain, best gain: -inf\n",
      "[LightGBM] [Warning] No further splits with positive gain, best gain: -inf\n",
      "[LightGBM] [Warning] No further splits with positive gain, best gain: -inf\n",
      "[LightGBM] [Warning] No further splits with positive gain, best gain: -inf\n",
      "[LightGBM] [Warning] No further splits with positive gain, best gain: -inf\n",
      "[LightGBM] [Warning] No further splits with positive gain, best gain: -inf\n",
      "[LightGBM] [Warning] No further splits with positive gain, best gain: -inf\n",
      "[LightGBM] [Warning] No further splits with positive gain, best gain: -inf\n",
      "[LightGBM] [Warning] No further splits with positive gain, best gain: -inf\n",
      "[LightGBM] [Warning] No further splits with positive gain, best gain: -inf\n",
      "[LightGBM] [Warning] No further splits with positive gain, best gain: -inf\n",
      "[LightGBM] [Warning] No further splits with positive gain, best gain: -inf\n",
      "[LightGBM] [Warning] No further splits with positive gain, best gain: -inf\n",
      "[LightGBM] [Warning] No further splits with positive gain, best gain: -inf\n",
      "[LightGBM] [Warning] No further splits with positive gain, best gain: -inf\n",
      "[LightGBM] [Warning] No further splits with positive gain, best gain: -inf\n",
      "[LightGBM] [Warning] No further splits with positive gain, best gain: -inf\n",
      "[LightGBM] [Warning] No further splits with positive gain, best gain: -inf\n",
      "[LightGBM] [Warning] No further splits with positive gain, best gain: -inf\n",
      "[LightGBM] [Warning] No further splits with positive gain, best gain: -inf\n",
      "[LightGBM] [Warning] No further splits with positive gain, best gain: -inf\n",
      "[LightGBM] [Warning] No further splits with positive gain, best gain: -inf\n",
      "[LightGBM] [Warning] No further splits with positive gain, best gain: -inf\n",
      "[LightGBM] [Warning] No further splits with positive gain, best gain: -inf\n",
      "[LightGBM] [Warning] No further splits with positive gain, best gain: -inf\n",
      "[LightGBM] [Warning] No further splits with positive gain, best gain: -inf\n",
      "[LightGBM] [Warning] No further splits with positive gain, best gain: -inf\n",
      "[LightGBM] [Warning] No further splits with positive gain, best gain: -inf\n",
      "[LightGBM] [Warning] No further splits with positive gain, best gain: -inf\n",
      "[LightGBM] [Warning] No further splits with positive gain, best gain: -inf\n",
      "[LightGBM] [Warning] No further splits with positive gain, best gain: -inf\n",
      "[LightGBM] [Warning] No further splits with positive gain, best gain: -inf\n",
      "[LightGBM] [Warning] No further splits with positive gain, best gain: -inf\n",
      "[LightGBM] [Warning] No further splits with positive gain, best gain: -inf\n",
      "[LightGBM] [Warning] No further splits with positive gain, best gain: -inf\n",
      "[LightGBM] [Warning] No further splits with positive gain, best gain: -inf\n",
      "[LightGBM] [Warning] No further splits with positive gain, best gain: -inf\n",
      "[LightGBM] [Warning] No further splits with positive gain, best gain: -inf\n",
      "[LightGBM] [Warning] No further splits with positive gain, best gain: -inf\n",
      "[LightGBM] [Warning] No further splits with positive gain, best gain: -inf\n",
      "[LightGBM] [Warning] No further splits with positive gain, best gain: -inf\n",
      "[LightGBM] [Warning] No further splits with positive gain, best gain: -inf\n",
      "[LightGBM] [Warning] No further splits with positive gain, best gain: -inf\n",
      "[LightGBM] [Warning] No further splits with positive gain, best gain: -inf\n",
      "[LightGBM] [Warning] No further splits with positive gain, best gain: -inf\n",
      "[LightGBM] [Warning] No further splits with positive gain, best gain: -inf\n",
      "[LightGBM] [Warning] No further splits with positive gain, best gain: -inf\n",
      "[LightGBM] [Warning] No further splits with positive gain, best gain: -inf\n",
      "[LightGBM] [Warning] No further splits with positive gain, best gain: -inf\n"
     ]
    },
    {
     "name": "stdout",
     "output_type": "stream",
     "text": [
      "[LightGBM] [Warning] No further splits with positive gain, best gain: -inf\n",
      "[LightGBM] [Warning] No further splits with positive gain, best gain: -inf\n",
      "[LightGBM] [Warning] No further splits with positive gain, best gain: -inf\n",
      "[LightGBM] [Warning] No further splits with positive gain, best gain: -inf\n",
      "[LightGBM] [Warning] No further splits with positive gain, best gain: -inf\n",
      "[LightGBM] [Warning] No further splits with positive gain, best gain: -inf\n",
      "[LightGBM] [Warning] No further splits with positive gain, best gain: -inf\n",
      "[LightGBM] [Warning] No further splits with positive gain, best gain: -inf\n",
      "[LightGBM] [Warning] No further splits with positive gain, best gain: -inf\n",
      "[LightGBM] [Warning] No further splits with positive gain, best gain: -inf\n",
      "[LightGBM] [Warning] No further splits with positive gain, best gain: -inf\n",
      "[LightGBM] [Warning] No further splits with positive gain, best gain: -inf\n",
      "[LightGBM] [Warning] No further splits with positive gain, best gain: -inf\n",
      "[LightGBM] [Warning] No further splits with positive gain, best gain: -inf\n",
      "[LightGBM] [Warning] No further splits with positive gain, best gain: -inf\n",
      "[LightGBM] [Warning] No further splits with positive gain, best gain: -inf\n",
      "[LightGBM] [Warning] No further splits with positive gain, best gain: -inf\n",
      "[LightGBM] [Warning] No further splits with positive gain, best gain: -inf\n",
      "[LightGBM] [Warning] No further splits with positive gain, best gain: -inf\n",
      "[LightGBM] [Warning] No further splits with positive gain, best gain: -inf\n",
      "[LightGBM] [Warning] No further splits with positive gain, best gain: -inf\n",
      "[LightGBM] [Warning] No further splits with positive gain, best gain: -inf\n",
      "[LightGBM] [Warning] No further splits with positive gain, best gain: -inf\n",
      "[LightGBM] [Warning] No further splits with positive gain, best gain: -inf\n",
      "[LightGBM] [Warning] No further splits with positive gain, best gain: -inf\n",
      "[LightGBM] [Warning] No further splits with positive gain, best gain: -inf\n",
      "[LightGBM] [Warning] No further splits with positive gain, best gain: -inf\n",
      "[LightGBM] [Warning] No further splits with positive gain, best gain: -inf\n",
      "[LightGBM] [Warning] No further splits with positive gain, best gain: -inf\n",
      "[LightGBM] [Warning] No further splits with positive gain, best gain: -inf\n",
      "[LightGBM] [Warning] No further splits with positive gain, best gain: -inf\n",
      "[LightGBM] [Warning] No further splits with positive gain, best gain: -inf\n",
      "[LightGBM] [Warning] No further splits with positive gain, best gain: -inf\n",
      "[LightGBM] [Warning] No further splits with positive gain, best gain: -inf\n",
      "[LightGBM] [Warning] No further splits with positive gain, best gain: -inf\n",
      "[LightGBM] [Warning] No further splits with positive gain, best gain: -inf\n",
      "[LightGBM] [Warning] No further splits with positive gain, best gain: -inf\n",
      "[LightGBM] [Warning] No further splits with positive gain, best gain: -inf\n",
      "[LightGBM] [Warning] No further splits with positive gain, best gain: -inf\n",
      "[LightGBM] [Warning] No further splits with positive gain, best gain: -inf\n",
      "[LightGBM] [Warning] No further splits with positive gain, best gain: -inf\n",
      "[LightGBM] [Warning] No further splits with positive gain, best gain: -inf\n",
      "[LightGBM] [Warning] No further splits with positive gain, best gain: -inf\n",
      "| \u001b[0m 2       \u001b[0m | \u001b[0m 3.825   \u001b[0m | \u001b[0m 0.7791  \u001b[0m | \u001b[0m 0.1849  \u001b[0m | \u001b[0m 0.3912  \u001b[0m | \u001b[0m 0.08696 \u001b[0m | \u001b[0m 2.604   \u001b[0m | \u001b[0m 288.5   \u001b[0m | \u001b[0m 0.1747  \u001b[0m | \u001b[0m 252.5   \u001b[0m |\n",
      "[LightGBM] [Warning] Auto-choosing col-wise multi-threading, the overhead of testing was 0.044442 seconds.\n",
      "You can set `force_col_wise=true` to remove the overhead.\n",
      "[LightGBM] [Info] Total Bins 11695\n",
      "[LightGBM] [Info] Number of data points in the train set: 151437, number of used features: 74\n",
      "[LightGBM] [Warning] Auto-choosing row-wise multi-threading, the overhead of testing was 0.016855 seconds.\n",
      "You can set `force_row_wise=true` to remove the overhead.\n",
      "And if memory is not enough, you can set `force_col_wise=true`.\n",
      "[LightGBM] [Info] Total Bins 11695\n",
      "[LightGBM] [Info] Number of data points in the train set: 151437, number of used features: 74\n",
      "[LightGBM] [Warning] Auto-choosing row-wise multi-threading, the overhead of testing was 0.024576 seconds.\n",
      "You can set `force_row_wise=true` to remove the overhead.\n",
      "And if memory is not enough, you can set `force_col_wise=true`.\n",
      "[LightGBM] [Info] Total Bins 11695\n",
      "[LightGBM] [Info] Number of data points in the train set: 151437, number of used features: 74\n",
      "[LightGBM] [Warning] Auto-choosing row-wise multi-threading, the overhead of testing was 0.018663 seconds.\n",
      "You can set `force_row_wise=true` to remove the overhead.\n",
      "And if memory is not enough, you can set `force_col_wise=true`.\n",
      "[LightGBM] [Info] Total Bins 11695\n",
      "[LightGBM] [Info] Number of data points in the train set: 151437, number of used features: 74\n",
      "[LightGBM] [Info] Start training from score -0.387506\n",
      "[LightGBM] [Info] Start training from score -0.394289\n",
      "[LightGBM] [Info] Start training from score -0.396410\n",
      "[LightGBM] [Info] Start training from score -0.396344\n",
      "| \u001b[0m 3       \u001b[0m | \u001b[0m 3.843   \u001b[0m | \u001b[0m 0.5548  \u001b[0m | \u001b[0m 0.1235  \u001b[0m | \u001b[0m 1.462   \u001b[0m | \u001b[0m 0.08712 \u001b[0m | \u001b[0m 1.31    \u001b[0m | \u001b[0m 309.5   \u001b[0m | \u001b[0m 0.1298  \u001b[0m | \u001b[0m 254.9   \u001b[0m |\n",
      "[LightGBM] [Warning] Auto-choosing row-wise multi-threading, the overhead of testing was 0.014063 seconds.\n",
      "You can set `force_row_wise=true` to remove the overhead.\n",
      "And if memory is not enough, you can set `force_col_wise=true`.\n",
      "[LightGBM] [Info] Total Bins 11695\n",
      "[LightGBM] [Info] Number of data points in the train set: 151437, number of used features: 74\n",
      "[LightGBM] [Warning] Auto-choosing row-wise multi-threading, the overhead of testing was 0.014746 seconds.\n",
      "You can set `force_row_wise=true` to remove the overhead.\n",
      "And if memory is not enough, you can set `force_col_wise=true`.\n",
      "[LightGBM] [Info] Total Bins 11695\n",
      "[LightGBM] [Info] Number of data points in the train set: 151437, number of used features: 74\n",
      "[LightGBM] [Warning] Auto-choosing row-wise multi-threading, the overhead of testing was 0.014203 seconds.\n",
      "You can set `force_row_wise=true` to remove the overhead.\n",
      "And if memory is not enough, you can set `force_col_wise=true`.\n",
      "[LightGBM] [Info] Total Bins 11695\n",
      "[LightGBM] [Info] Number of data points in the train set: 151437, number of used features: 74\n",
      "[LightGBM] [Warning] Auto-choosing row-wise multi-threading, the overhead of testing was 0.019757 seconds.\n",
      "You can set `force_row_wise=true` to remove the overhead.\n",
      "And if memory is not enough, you can set `force_col_wise=true`.\n",
      "[LightGBM] [Info] Total Bins 11695\n",
      "[LightGBM] [Info] Number of data points in the train set: 151437, number of used features: 74\n",
      "[LightGBM] [Info] Start training from score -0.387506\n",
      "[LightGBM] [Info] Start training from score -0.394289\n",
      "[LightGBM] [Info] Start training from score -0.396410\n",
      "[LightGBM] [Info] Start training from score -0.396344\n",
      "[LightGBM] [Warning] No further splits with positive gain, best gain: -inf\n",
      "[LightGBM] [Warning] No further splits with positive gain, best gain: -inf\n",
      "[LightGBM] [Warning] No further splits with positive gain, best gain: -inf\n",
      "[LightGBM] [Warning] No further splits with positive gain, best gain: -inf\n",
      "[LightGBM] [Warning] No further splits with positive gain, best gain: -inf\n",
      "[LightGBM] [Warning] No further splits with positive gain, best gain: -inf\n",
      "[LightGBM] [Warning] No further splits with positive gain, best gain: -inf\n",
      "[LightGBM] [Warning] No further splits with positive gain, best gain: -inf\n",
      "[LightGBM] [Warning] No further splits with positive gain, best gain: -inf\n",
      "[LightGBM] [Warning] No further splits with positive gain, best gain: -inf\n",
      "[LightGBM] [Warning] No further splits with positive gain, best gain: -inf\n",
      "[LightGBM] [Warning] No further splits with positive gain, best gain: -inf\n",
      "[LightGBM] [Warning] No further splits with positive gain, best gain: -inf\n",
      "[LightGBM] [Warning] No further splits with positive gain, best gain: -inf\n",
      "[LightGBM] [Warning] No further splits with positive gain, best gain: -inf\n",
      "[LightGBM] [Warning] No further splits with positive gain, best gain: -inf\n",
      "[LightGBM] [Warning] No further splits with positive gain, best gain: -inf\n",
      "[LightGBM] [Warning] No further splits with positive gain, best gain: -inf\n",
      "[LightGBM] [Warning] No further splits with positive gain, best gain: -inf\n",
      "[LightGBM] [Warning] No further splits with positive gain, best gain: -inf\n"
     ]
    },
    {
     "name": "stdout",
     "output_type": "stream",
     "text": [
      "[LightGBM] [Warning] No further splits with positive gain, best gain: -inf\n",
      "[LightGBM] [Warning] No further splits with positive gain, best gain: -inf\n",
      "[LightGBM] [Warning] No further splits with positive gain, best gain: -inf\n",
      "[LightGBM] [Warning] No further splits with positive gain, best gain: -inf\n",
      "[LightGBM] [Warning] No further splits with positive gain, best gain: -inf\n",
      "[LightGBM] [Warning] No further splits with positive gain, best gain: -inf\n",
      "[LightGBM] [Warning] No further splits with positive gain, best gain: -inf\n",
      "[LightGBM] [Warning] No further splits with positive gain, best gain: -inf\n",
      "[LightGBM] [Warning] No further splits with positive gain, best gain: -inf\n",
      "[LightGBM] [Warning] No further splits with positive gain, best gain: -inf\n",
      "[LightGBM] [Warning] No further splits with positive gain, best gain: -inf\n",
      "[LightGBM] [Warning] No further splits with positive gain, best gain: -inf\n",
      "[LightGBM] [Warning] No further splits with positive gain, best gain: -inf\n",
      "[LightGBM] [Warning] No further splits with positive gain, best gain: -inf\n",
      "[LightGBM] [Warning] No further splits with positive gain, best gain: -inf\n",
      "[LightGBM] [Warning] No further splits with positive gain, best gain: -inf\n",
      "[LightGBM] [Warning] No further splits with positive gain, best gain: -inf\n",
      "[LightGBM] [Warning] No further splits with positive gain, best gain: -inf\n",
      "[LightGBM] [Warning] No further splits with positive gain, best gain: -inf\n",
      "[LightGBM] [Warning] No further splits with positive gain, best gain: -inf\n",
      "[LightGBM] [Warning] No further splits with positive gain, best gain: -inf\n",
      "[LightGBM] [Warning] No further splits with positive gain, best gain: -inf\n",
      "[LightGBM] [Warning] No further splits with positive gain, best gain: -inf\n",
      "[LightGBM] [Warning] No further splits with positive gain, best gain: -inf\n",
      "[LightGBM] [Warning] No further splits with positive gain, best gain: -inf\n",
      "[LightGBM] [Warning] No further splits with positive gain, best gain: -inf\n",
      "[LightGBM] [Warning] No further splits with positive gain, best gain: -inf\n",
      "[LightGBM] [Warning] No further splits with positive gain, best gain: -inf\n",
      "[LightGBM] [Warning] No further splits with positive gain, best gain: -inf\n",
      "[LightGBM] [Warning] No further splits with positive gain, best gain: -inf\n",
      "[LightGBM] [Warning] No further splits with positive gain, best gain: -inf\n",
      "[LightGBM] [Warning] No further splits with positive gain, best gain: -inf\n",
      "[LightGBM] [Warning] No further splits with positive gain, best gain: -inf\n",
      "[LightGBM] [Warning] No further splits with positive gain, best gain: -inf\n",
      "[LightGBM] [Warning] No further splits with positive gain, best gain: -inf\n",
      "[LightGBM] [Warning] No further splits with positive gain, best gain: -inf\n",
      "[LightGBM] [Warning] No further splits with positive gain, best gain: -inf\n",
      "[LightGBM] [Warning] No further splits with positive gain, best gain: -inf\n",
      "[LightGBM] [Warning] No further splits with positive gain, best gain: -inf\n",
      "[LightGBM] [Warning] No further splits with positive gain, best gain: -inf\n",
      "[LightGBM] [Warning] No further splits with positive gain, best gain: -inf\n",
      "[LightGBM] [Warning] No further splits with positive gain, best gain: -inf\n",
      "[LightGBM] [Warning] No further splits with positive gain, best gain: -inf\n",
      "[LightGBM] [Warning] No further splits with positive gain, best gain: -inf\n",
      "[LightGBM] [Warning] No further splits with positive gain, best gain: -inf\n",
      "[LightGBM] [Warning] No further splits with positive gain, best gain: -inf\n",
      "[LightGBM] [Warning] No further splits with positive gain, best gain: -inf\n",
      "[LightGBM] [Warning] No further splits with positive gain, best gain: -inf\n",
      "[LightGBM] [Warning] No further splits with positive gain, best gain: -inf\n",
      "[LightGBM] [Warning] No further splits with positive gain, best gain: -inf\n",
      "[LightGBM] [Warning] No further splits with positive gain, best gain: -inf\n",
      "[LightGBM] [Warning] No further splits with positive gain, best gain: -inf\n",
      "[LightGBM] [Warning] No further splits with positive gain, best gain: -inf\n",
      "[LightGBM] [Warning] No further splits with positive gain, best gain: -inf\n",
      "[LightGBM] [Warning] No further splits with positive gain, best gain: -inf\n",
      "[LightGBM] [Warning] No further splits with positive gain, best gain: -inf\n",
      "[LightGBM] [Warning] No further splits with positive gain, best gain: -inf\n",
      "[LightGBM] [Warning] No further splits with positive gain, best gain: -inf\n",
      "[LightGBM] [Warning] No further splits with positive gain, best gain: -inf\n",
      "[LightGBM] [Warning] No further splits with positive gain, best gain: -inf\n",
      "[LightGBM] [Warning] No further splits with positive gain, best gain: -inf\n",
      "[LightGBM] [Warning] No further splits with positive gain, best gain: -inf\n",
      "[LightGBM] [Warning] No further splits with positive gain, best gain: -inf\n",
      "[LightGBM] [Warning] No further splits with positive gain, best gain: -inf\n",
      "[LightGBM] [Warning] No further splits with positive gain, best gain: -inf\n",
      "[LightGBM] [Warning] No further splits with positive gain, best gain: -inf\n",
      "[LightGBM] [Warning] No further splits with positive gain, best gain: -inf\n",
      "[LightGBM] [Warning] No further splits with positive gain, best gain: -inf\n",
      "[LightGBM] [Warning] No further splits with positive gain, best gain: -inf\n",
      "[LightGBM] [Warning] No further splits with positive gain, best gain: -inf\n",
      "[LightGBM] [Warning] No further splits with positive gain, best gain: -inf\n",
      "[LightGBM] [Warning] No further splits with positive gain, best gain: -inf\n",
      "[LightGBM] [Warning] No further splits with positive gain, best gain: -inf\n",
      "[LightGBM] [Warning] No further splits with positive gain, best gain: -inf\n",
      "[LightGBM] [Warning] No further splits with positive gain, best gain: -inf\n",
      "[LightGBM] [Warning] No further splits with positive gain, best gain: -inf\n",
      "[LightGBM] [Warning] No further splits with positive gain, best gain: -inf\n",
      "[LightGBM] [Warning] No further splits with positive gain, best gain: -inf\n",
      "[LightGBM] [Warning] No further splits with positive gain, best gain: -inf\n",
      "[LightGBM] [Warning] No further splits with positive gain, best gain: -inf\n",
      "[LightGBM] [Warning] No further splits with positive gain, best gain: -inf\n",
      "[LightGBM] [Warning] No further splits with positive gain, best gain: -inf\n",
      "[LightGBM] [Warning] No further splits with positive gain, best gain: -inf\n",
      "| \u001b[0m 4       \u001b[0m | \u001b[0m 3.828   \u001b[0m | \u001b[0m 0.3017  \u001b[0m | \u001b[0m 0.1552  \u001b[0m | \u001b[0m 0.1802  \u001b[0m | \u001b[0m 0.08957 \u001b[0m | \u001b[0m 2.976   \u001b[0m | \u001b[0m 281.6   \u001b[0m | \u001b[0m 0.08599 \u001b[0m | \u001b[0m 200.0   \u001b[0m |\n"
     ]
    },
    {
     "name": "stderr",
     "output_type": "stream",
     "text": [
      "[LightGBM] [Fatal] Reducing `min_data_in_leaf` with `feature_pre_filter=true` may cause unexpected behaviour for features that were pre-filtered by the larger `min_data_in_leaf`.\n",
      "You need to set `feature_pre_filter=false` to dynamically change the `min_data_in_leaf`.\n"
     ]
    },
    {
     "name": "stdout",
     "output_type": "stream",
     "text": [
      "[LightGBM] [Warning] Auto-choosing row-wise multi-threading, the overhead of testing was 0.011417 seconds.\n",
      "You can set `force_row_wise=true` to remove the overhead.\n",
      "And if memory is not enough, you can set `force_col_wise=true`.\n",
      "[LightGBM] [Info] Total Bins 11695\n",
      "[LightGBM] [Info] Number of data points in the train set: 151437, number of used features: 74\n",
      "[LightGBM] [Warning] Auto-choosing row-wise multi-threading, the overhead of testing was 0.018883 seconds.\n",
      "You can set `force_row_wise=true` to remove the overhead.\n",
      "And if memory is not enough, you can set `force_col_wise=true`.\n",
      "[LightGBM] [Info] Total Bins 11695\n",
      "[LightGBM] [Info] Number of data points in the train set: 151437, number of used features: 74\n",
      "[LightGBM] [Warning] Auto-choosing col-wise multi-threading, the overhead of testing was 0.052446 seconds.\n",
      "You can set `force_col_wise=true` to remove the overhead.\n",
      "[LightGBM] [Info] Total Bins 11695\n",
      "[LightGBM] [Info] Number of data points in the train set: 151437, number of used features: 74\n",
      "[LightGBM] [Warning] Auto-choosing row-wise multi-threading, the overhead of testing was 0.017783 seconds.\n",
      "You can set `force_row_wise=true` to remove the overhead.\n",
      "And if memory is not enough, you can set `force_col_wise=true`.\n",
      "[LightGBM] [Info] Total Bins 11695\n",
      "[LightGBM] [Info] Number of data points in the train set: 151437, number of used features: 74\n",
      "[LightGBM] [Info] Start training from score -0.387506\n",
      "[LightGBM] [Info] Start training from score -0.394289\n",
      "[LightGBM] [Info] Start training from score -0.396410\n",
      "[LightGBM] [Info] Start training from score -0.396344\n",
      "[LightGBM] [Warning] No further splits with positive gain, best gain: -inf\n",
      "[LightGBM] [Warning] No further splits with positive gain, best gain: -inf\n",
      "| \u001b[95m 5       \u001b[0m | \u001b[95m 3.849   \u001b[0m | \u001b[95m 0.5005  \u001b[0m | \u001b[95m 0.01152 \u001b[0m | \u001b[95m 0.4262  \u001b[0m | \u001b[95m 0.08943 \u001b[0m | \u001b[95m 2.556   \u001b[0m | \u001b[95m 227.2   \u001b[0m | \u001b[95m 0.1192  \u001b[0m | \u001b[95m 239.4   \u001b[0m |\n",
      "[LightGBM] [Warning] Auto-choosing row-wise multi-threading, the overhead of testing was 0.009736 seconds.\n",
      "You can set `force_row_wise=true` to remove the overhead.\n",
      "And if memory is not enough, you can set `force_col_wise=true`.\n",
      "[LightGBM] [Info] Total Bins 11695\n",
      "[LightGBM] [Info] Number of data points in the train set: 151437, number of used features: 74\n",
      "[LightGBM] [Warning] Auto-choosing row-wise multi-threading, the overhead of testing was 0.021403 seconds.\n",
      "You can set `force_row_wise=true` to remove the overhead.\n",
      "And if memory is not enough, you can set `force_col_wise=true`.\n",
      "[LightGBM] [Info] Total Bins 11695\n",
      "[LightGBM] [Info] Number of data points in the train set: 151437, number of used features: 74\n",
      "[LightGBM] [Warning] Auto-choosing row-wise multi-threading, the overhead of testing was 0.014158 seconds.\n",
      "You can set `force_row_wise=true` to remove the overhead.\n",
      "And if memory is not enough, you can set `force_col_wise=true`.\n",
      "[LightGBM] [Info] Total Bins 11695\n",
      "[LightGBM] [Info] Number of data points in the train set: 151437, number of used features: 74\n",
      "[LightGBM] [Warning] Auto-choosing row-wise multi-threading, the overhead of testing was 0.015579 seconds.\n",
      "You can set `force_row_wise=true` to remove the overhead.\n",
      "And if memory is not enough, you can set `force_col_wise=true`.\n",
      "[LightGBM] [Info] Total Bins 11695\n",
      "[LightGBM] [Info] Number of data points in the train set: 151437, number of used features: 74\n",
      "[LightGBM] [Info] Start training from score -0.387506\n",
      "[LightGBM] [Info] Start training from score -0.394289\n",
      "[LightGBM] [Info] Start training from score -0.396410\n",
      "[LightGBM] [Info] Start training from score -0.396344\n",
      "[LightGBM] [Warning] No further splits with positive gain, best gain: -inf\n",
      "[LightGBM] [Warning] No further splits with positive gain, best gain: -inf\n",
      "[LightGBM] [Warning] No further splits with positive gain, best gain: -inf\n",
      "[LightGBM] [Warning] No further splits with positive gain, best gain: -inf\n",
      "[LightGBM] [Warning] No further splits with positive gain, best gain: -inf\n",
      "[LightGBM] [Warning] No further splits with positive gain, best gain: -inf\n",
      "[LightGBM] [Warning] No further splits with positive gain, best gain: -inf\n",
      "[LightGBM] [Warning] No further splits with positive gain, best gain: -inf\n",
      "[LightGBM] [Warning] No further splits with positive gain, best gain: -inf\n",
      "[LightGBM] [Warning] No further splits with positive gain, best gain: -inf\n",
      "[LightGBM] [Warning] No further splits with positive gain, best gain: -inf\n",
      "[LightGBM] [Warning] No further splits with positive gain, best gain: -inf\n",
      "[LightGBM] [Warning] No further splits with positive gain, best gain: -inf\n",
      "[LightGBM] [Warning] No further splits with positive gain, best gain: -inf\n",
      "[LightGBM] [Warning] No further splits with positive gain, best gain: -inf\n",
      "[LightGBM] [Warning] No further splits with positive gain, best gain: -inf\n",
      "[LightGBM] [Warning] No further splits with positive gain, best gain: -inf\n",
      "[LightGBM] [Warning] No further splits with positive gain, best gain: -inf\n",
      "[LightGBM] [Warning] No further splits with positive gain, best gain: -inf\n",
      "[LightGBM] [Warning] No further splits with positive gain, best gain: -inf\n",
      "[LightGBM] [Warning] No further splits with positive gain, best gain: -inf\n",
      "[LightGBM] [Warning] No further splits with positive gain, best gain: -inf\n",
      "[LightGBM] [Warning] No further splits with positive gain, best gain: -inf\n",
      "[LightGBM] [Warning] No further splits with positive gain, best gain: -inf\n",
      "[LightGBM] [Warning] No further splits with positive gain, best gain: -inf\n",
      "[LightGBM] [Warning] No further splits with positive gain, best gain: -inf\n",
      "[LightGBM] [Warning] No further splits with positive gain, best gain: -inf\n",
      "[LightGBM] [Warning] No further splits with positive gain, best gain: -inf\n",
      "[LightGBM] [Warning] No further splits with positive gain, best gain: -inf\n",
      "[LightGBM] [Warning] No further splits with positive gain, best gain: -inf\n",
      "[LightGBM] [Warning] No further splits with positive gain, best gain: -inf\n",
      "[LightGBM] [Warning] No further splits with positive gain, best gain: -inf\n",
      "[LightGBM] [Warning] No further splits with positive gain, best gain: -inf\n",
      "[LightGBM] [Warning] No further splits with positive gain, best gain: -inf\n",
      "[LightGBM] [Warning] No further splits with positive gain, best gain: -inf\n",
      "[LightGBM] [Warning] No further splits with positive gain, best gain: -inf\n",
      "[LightGBM] [Warning] No further splits with positive gain, best gain: -inf\n",
      "[LightGBM] [Warning] No further splits with positive gain, best gain: -inf\n",
      "[LightGBM] [Warning] No further splits with positive gain, best gain: -inf\n",
      "[LightGBM] [Warning] No further splits with positive gain, best gain: -inf\n",
      "[LightGBM] [Warning] No further splits with positive gain, best gain: -inf\n",
      "[LightGBM] [Warning] No further splits with positive gain, best gain: -inf\n",
      "[LightGBM] [Warning] No further splits with positive gain, best gain: -inf\n",
      "[LightGBM] [Warning] No further splits with positive gain, best gain: -inf\n",
      "[LightGBM] [Warning] No further splits with positive gain, best gain: -inf\n",
      "[LightGBM] [Warning] No further splits with positive gain, best gain: -inf\n",
      "[LightGBM] [Warning] No further splits with positive gain, best gain: -inf\n",
      "[LightGBM] [Warning] No further splits with positive gain, best gain: -inf\n",
      "[LightGBM] [Warning] No further splits with positive gain, best gain: -inf\n",
      "[LightGBM] [Warning] No further splits with positive gain, best gain: -inf\n",
      "[LightGBM] [Warning] No further splits with positive gain, best gain: -inf\n",
      "[LightGBM] [Warning] No further splits with positive gain, best gain: -inf\n",
      "[LightGBM] [Warning] No further splits with positive gain, best gain: -inf\n",
      "[LightGBM] [Warning] No further splits with positive gain, best gain: -inf\n",
      "[LightGBM] [Warning] No further splits with positive gain, best gain: -inf\n",
      "[LightGBM] [Warning] No further splits with positive gain, best gain: -inf\n",
      "[LightGBM] [Warning] No further splits with positive gain, best gain: -inf\n",
      "[LightGBM] [Warning] No further splits with positive gain, best gain: -inf\n",
      "[LightGBM] [Warning] No further splits with positive gain, best gain: -inf\n",
      "[LightGBM] [Warning] No further splits with positive gain, best gain: -inf\n",
      "[LightGBM] [Warning] No further splits with positive gain, best gain: -inf\n",
      "[LightGBM] [Warning] No further splits with positive gain, best gain: -inf\n",
      "[LightGBM] [Warning] No further splits with positive gain, best gain: -inf\n",
      "[LightGBM] [Warning] No further splits with positive gain, best gain: -inf\n",
      "[LightGBM] [Warning] No further splits with positive gain, best gain: -inf\n",
      "[LightGBM] [Warning] No further splits with positive gain, best gain: -inf\n",
      "[LightGBM] [Warning] No further splits with positive gain, best gain: -inf\n",
      "[LightGBM] [Warning] No further splits with positive gain, best gain: -inf\n",
      "[LightGBM] [Warning] No further splits with positive gain, best gain: -inf\n",
      "[LightGBM] [Warning] No further splits with positive gain, best gain: -inf\n",
      "[LightGBM] [Warning] No further splits with positive gain, best gain: -inf\n",
      "[LightGBM] [Warning] No further splits with positive gain, best gain: -inf\n",
      "[LightGBM] [Warning] No further splits with positive gain, best gain: -inf\n",
      "[LightGBM] [Warning] No further splits with positive gain, best gain: -inf\n",
      "[LightGBM] [Warning] No further splits with positive gain, best gain: -inf\n",
      "[LightGBM] [Warning] No further splits with positive gain, best gain: -inf\n",
      "[LightGBM] [Warning] No further splits with positive gain, best gain: -inf\n"
     ]
    },
    {
     "name": "stdout",
     "output_type": "stream",
     "text": [
      "| \u001b[0m 6       \u001b[0m | \u001b[0m 3.833   \u001b[0m | \u001b[0m 0.5966  \u001b[0m | \u001b[0m 0.1244  \u001b[0m | \u001b[0m 1.018   \u001b[0m | \u001b[0m 0.000295\u001b[0m | \u001b[0m 2.765   \u001b[0m | \u001b[0m 228.3   \u001b[0m | \u001b[0m 0.1518  \u001b[0m | \u001b[0m 239.1   \u001b[0m |\n",
      "[LightGBM] [Warning] Auto-choosing row-wise multi-threading, the overhead of testing was 0.025082 seconds.\n",
      "You can set `force_row_wise=true` to remove the overhead.\n",
      "And if memory is not enough, you can set `force_col_wise=true`.\n",
      "[LightGBM] [Info] Total Bins 11695\n",
      "[LightGBM] [Info] Number of data points in the train set: 151437, number of used features: 74\n",
      "[LightGBM] [Warning] Auto-choosing row-wise multi-threading, the overhead of testing was 0.021721 seconds.\n",
      "You can set `force_row_wise=true` to remove the overhead.\n",
      "And if memory is not enough, you can set `force_col_wise=true`.\n",
      "[LightGBM] [Info] Total Bins 11695\n",
      "[LightGBM] [Info] Number of data points in the train set: 151437, number of used features: 74\n",
      "[LightGBM] [Warning] Auto-choosing row-wise multi-threading, the overhead of testing was 0.022527 seconds.\n",
      "You can set `force_row_wise=true` to remove the overhead.\n",
      "And if memory is not enough, you can set `force_col_wise=true`.\n",
      "[LightGBM] [Info] Total Bins 11695\n",
      "[LightGBM] [Info] Number of data points in the train set: 151437, number of used features: 74\n",
      "[LightGBM] [Warning] Auto-choosing row-wise multi-threading, the overhead of testing was 0.013893 seconds.\n",
      "You can set `force_row_wise=true` to remove the overhead.\n",
      "And if memory is not enough, you can set `force_col_wise=true`.\n",
      "[LightGBM] [Info] Total Bins 11695\n",
      "[LightGBM] [Info] Number of data points in the train set: 151437, number of used features: 74\n",
      "[LightGBM] [Info] Start training from score -0.387506\n",
      "[LightGBM] [Info] Start training from score -0.394289\n",
      "[LightGBM] [Info] Start training from score -0.396410\n",
      "[LightGBM] [Info] Start training from score -0.396344\n",
      "[LightGBM] [Warning] No further splits with positive gain, best gain: -inf\n",
      "| \u001b[0m 7       \u001b[0m | \u001b[0m 3.837   \u001b[0m | \u001b[0m 0.2045  \u001b[0m | \u001b[0m 0.1232  \u001b[0m | \u001b[0m 1.893   \u001b[0m | \u001b[0m 0.0471  \u001b[0m | \u001b[0m 1.927   \u001b[0m | \u001b[0m 269.2   \u001b[0m | \u001b[0m 0.1305  \u001b[0m | \u001b[0m 168.7   \u001b[0m |\n",
      "[LightGBM] [Warning] Auto-choosing row-wise multi-threading, the overhead of testing was 0.015283 seconds.\n",
      "You can set `force_row_wise=true` to remove the overhead.\n",
      "And if memory is not enough, you can set `force_col_wise=true`.\n",
      "[LightGBM] [Info] Total Bins 11695\n",
      "[LightGBM] [Info] Number of data points in the train set: 151437, number of used features: 74\n",
      "[LightGBM] [Warning] Auto-choosing row-wise multi-threading, the overhead of testing was 0.018385 seconds.\n",
      "You can set `force_row_wise=true` to remove the overhead.\n",
      "And if memory is not enough, you can set `force_col_wise=true`.\n",
      "[LightGBM] [Info] Total Bins 11695\n",
      "[LightGBM] [Info] Number of data points in the train set: 151437, number of used features: 74\n",
      "[LightGBM] [Warning] Auto-choosing row-wise multi-threading, the overhead of testing was 0.016301 seconds.\n",
      "You can set `force_row_wise=true` to remove the overhead.\n",
      "And if memory is not enough, you can set `force_col_wise=true`.\n",
      "[LightGBM] [Info] Total Bins 11695\n",
      "[LightGBM] [Info] Number of data points in the train set: 151437, number of used features: 74\n",
      "[LightGBM] [Warning] Auto-choosing row-wise multi-threading, the overhead of testing was 0.017196 seconds.\n",
      "You can set `force_row_wise=true` to remove the overhead.\n",
      "And if memory is not enough, you can set `force_col_wise=true`.\n",
      "[LightGBM] [Info] Total Bins 11695\n",
      "[LightGBM] [Info] Number of data points in the train set: 151437, number of used features: 74\n",
      "[LightGBM] [Info] Start training from score -0.387506\n",
      "[LightGBM] [Info] Start training from score -0.394289\n",
      "[LightGBM] [Info] Start training from score -0.396410\n",
      "[LightGBM] [Info] Start training from score -0.396344\n",
      "| \u001b[0m 8       \u001b[0m | \u001b[0m 3.846   \u001b[0m | \u001b[0m 0.4095  \u001b[0m | \u001b[0m 0.07458 \u001b[0m | \u001b[0m 1.623   \u001b[0m | \u001b[0m 0.02108 \u001b[0m | \u001b[0m 1.016   \u001b[0m | \u001b[0m 308.6   \u001b[0m | \u001b[0m 0.1776  \u001b[0m | \u001b[0m 264.6   \u001b[0m |\n",
      "[LightGBM] [Warning] Auto-choosing row-wise multi-threading, the overhead of testing was 0.018338 seconds.\n",
      "You can set `force_row_wise=true` to remove the overhead.\n",
      "And if memory is not enough, you can set `force_col_wise=true`.\n",
      "[LightGBM] [Info] Total Bins 11695\n",
      "[LightGBM] [Info] Number of data points in the train set: 151437, number of used features: 74\n",
      "[LightGBM] [Warning] Auto-choosing col-wise multi-threading, the overhead of testing was 0.043005 seconds.\n",
      "You can set `force_col_wise=true` to remove the overhead.\n",
      "[LightGBM] [Info] Total Bins 11695\n",
      "[LightGBM] [Info] Number of data points in the train set: 151437, number of used features: 74\n",
      "[LightGBM] [Warning] Auto-choosing row-wise multi-threading, the overhead of testing was 0.027765 seconds.\n",
      "You can set `force_row_wise=true` to remove the overhead.\n",
      "And if memory is not enough, you can set `force_col_wise=true`.\n",
      "[LightGBM] [Info] Total Bins 11695\n",
      "[LightGBM] [Info] Number of data points in the train set: 151437, number of used features: 74\n",
      "[LightGBM] [Warning] Auto-choosing row-wise multi-threading, the overhead of testing was 0.024480 seconds.\n",
      "You can set `force_row_wise=true` to remove the overhead.\n",
      "And if memory is not enough, you can set `force_col_wise=true`.\n",
      "[LightGBM] [Info] Total Bins 11695\n",
      "[LightGBM] [Info] Number of data points in the train set: 151437, number of used features: 74\n",
      "[LightGBM] [Info] Start training from score -0.387506\n",
      "[LightGBM] [Info] Start training from score -0.394289\n",
      "[LightGBM] [Info] Start training from score -0.396410\n",
      "[LightGBM] [Info] Start training from score -0.396344\n",
      "[LightGBM] [Warning] No further splits with positive gain, best gain: -inf\n",
      "| \u001b[0m 9       \u001b[0m | \u001b[0m 3.841   \u001b[0m | \u001b[0m 0.2959  \u001b[0m | \u001b[0m 0.08022 \u001b[0m | \u001b[0m 0.7933  \u001b[0m | \u001b[0m 0.02828 \u001b[0m | \u001b[0m 2.403   \u001b[0m | \u001b[0m 287.5   \u001b[0m | \u001b[0m 0.1418  \u001b[0m | \u001b[0m 191.0   \u001b[0m |\n",
      "[LightGBM] [Warning] Auto-choosing row-wise multi-threading, the overhead of testing was 0.009867 seconds.\n",
      "You can set `force_row_wise=true` to remove the overhead.\n",
      "And if memory is not enough, you can set `force_col_wise=true`.\n",
      "[LightGBM] [Info] Total Bins 11695\n",
      "[LightGBM] [Info] Number of data points in the train set: 151437, number of used features: 74\n",
      "[LightGBM] [Warning] Auto-choosing row-wise multi-threading, the overhead of testing was 0.022177 seconds.\n",
      "You can set `force_row_wise=true` to remove the overhead.\n",
      "And if memory is not enough, you can set `force_col_wise=true`.\n",
      "[LightGBM] [Info] Total Bins 11695\n",
      "[LightGBM] [Info] Number of data points in the train set: 151437, number of used features: 74\n",
      "[LightGBM] [Warning] Auto-choosing row-wise multi-threading, the overhead of testing was 0.012044 seconds.\n",
      "You can set `force_row_wise=true` to remove the overhead.\n",
      "And if memory is not enough, you can set `force_col_wise=true`.\n",
      "[LightGBM] [Info] Total Bins 11695\n",
      "[LightGBM] [Info] Number of data points in the train set: 151437, number of used features: 74\n",
      "[LightGBM] [Warning] Auto-choosing row-wise multi-threading, the overhead of testing was 0.014435 seconds.\n",
      "You can set `force_row_wise=true` to remove the overhead.\n",
      "And if memory is not enough, you can set `force_col_wise=true`.\n",
      "[LightGBM] [Info] Total Bins 11695\n",
      "[LightGBM] [Info] Number of data points in the train set: 151437, number of used features: 74\n",
      "[LightGBM] [Info] Start training from score -0.387506\n",
      "[LightGBM] [Info] Start training from score -0.394289\n",
      "[LightGBM] [Info] Start training from score -0.396410\n",
      "[LightGBM] [Info] Start training from score -0.396344\n",
      "[LightGBM] [Warning] No further splits with positive gain, best gain: -inf\n",
      "[LightGBM] [Warning] No further splits with positive gain, best gain: -inf\n",
      "[LightGBM] [Warning] No further splits with positive gain, best gain: -inf\n",
      "[LightGBM] [Warning] No further splits with positive gain, best gain: -inf\n",
      "[LightGBM] [Warning] No further splits with positive gain, best gain: -inf\n",
      "[LightGBM] [Warning] No further splits with positive gain, best gain: -inf\n",
      "| \u001b[0m 10      \u001b[0m | \u001b[0m 3.834   \u001b[0m | \u001b[0m 0.3727  \u001b[0m | \u001b[0m 0.1495  \u001b[0m | \u001b[0m 0.2723  \u001b[0m | \u001b[0m 0.08904 \u001b[0m | \u001b[0m 1.929   \u001b[0m | \u001b[0m 343.1   \u001b[0m | \u001b[0m 0.08682 \u001b[0m | \u001b[0m 248.4   \u001b[0m |\n",
      "[LightGBM] [Warning] Auto-choosing row-wise multi-threading, the overhead of testing was 0.019275 seconds.\n",
      "You can set `force_row_wise=true` to remove the overhead.\n",
      "And if memory is not enough, you can set `force_col_wise=true`.\n",
      "[LightGBM] [Info] Total Bins 11695\n",
      "[LightGBM] [Info] Number of data points in the train set: 151437, number of used features: 74\n"
     ]
    },
    {
     "name": "stdout",
     "output_type": "stream",
     "text": [
      "[LightGBM] [Warning] Auto-choosing row-wise multi-threading, the overhead of testing was 0.017972 seconds.\n",
      "You can set `force_row_wise=true` to remove the overhead.\n",
      "And if memory is not enough, you can set `force_col_wise=true`.\n",
      "[LightGBM] [Info] Total Bins 11695\n",
      "[LightGBM] [Info] Number of data points in the train set: 151437, number of used features: 74\n",
      "[LightGBM] [Warning] Auto-choosing row-wise multi-threading, the overhead of testing was 0.030998 seconds.\n",
      "You can set `force_row_wise=true` to remove the overhead.\n",
      "And if memory is not enough, you can set `force_col_wise=true`.\n",
      "[LightGBM] [Info] Total Bins 11695\n",
      "[LightGBM] [Info] Number of data points in the train set: 151437, number of used features: 74\n",
      "[LightGBM] [Warning] Auto-choosing row-wise multi-threading, the overhead of testing was 0.023994 seconds.\n",
      "You can set `force_row_wise=true` to remove the overhead.\n",
      "And if memory is not enough, you can set `force_col_wise=true`.\n",
      "[LightGBM] [Info] Total Bins 11695\n",
      "[LightGBM] [Info] Number of data points in the train set: 151437, number of used features: 74\n",
      "[LightGBM] [Info] Start training from score -0.387506\n",
      "[LightGBM] [Info] Start training from score -0.394289\n",
      "[LightGBM] [Info] Start training from score -0.396410\n",
      "[LightGBM] [Info] Start training from score -0.396344\n",
      "[LightGBM] [Warning] No further splits with positive gain, best gain: -inf\n",
      "[LightGBM] [Warning] No further splits with positive gain, best gain: -inf\n",
      "[LightGBM] [Warning] No further splits with positive gain, best gain: -inf\n",
      "[LightGBM] [Warning] No further splits with positive gain, best gain: -inf\n",
      "| \u001b[0m 11      \u001b[0m | \u001b[0m 3.833   \u001b[0m | \u001b[0m 0.6595  \u001b[0m | \u001b[0m 0.1614  \u001b[0m | \u001b[0m 0.7835  \u001b[0m | \u001b[0m 0.0495  \u001b[0m | \u001b[0m 2.027   \u001b[0m | \u001b[0m 273.0   \u001b[0m | \u001b[0m 0.1251  \u001b[0m | \u001b[0m 257.2   \u001b[0m |\n"
     ]
    },
    {
     "name": "stderr",
     "output_type": "stream",
     "text": [
      "[LightGBM] [Fatal] Reducing `min_data_in_leaf` with `feature_pre_filter=true` may cause unexpected behaviour for features that were pre-filtered by the larger `min_data_in_leaf`.\n",
      "You need to set `feature_pre_filter=false` to dynamically change the `min_data_in_leaf`.\n"
     ]
    },
    {
     "name": "stdout",
     "output_type": "stream",
     "text": [
      "[LightGBM] [Warning] Auto-choosing row-wise multi-threading, the overhead of testing was 0.018599 seconds.\n",
      "You can set `force_row_wise=true` to remove the overhead.\n",
      "And if memory is not enough, you can set `force_col_wise=true`.\n",
      "[LightGBM] [Info] Total Bins 11695\n",
      "[LightGBM] [Info] Number of data points in the train set: 151437, number of used features: 74\n",
      "[LightGBM] [Warning] Auto-choosing row-wise multi-threading, the overhead of testing was 0.019379 seconds.\n",
      "You can set `force_row_wise=true` to remove the overhead.\n",
      "And if memory is not enough, you can set `force_col_wise=true`.\n",
      "[LightGBM] [Info] Total Bins 11695\n",
      "[LightGBM] [Info] Number of data points in the train set: 151437, number of used features: 74\n",
      "[LightGBM] [Warning] Auto-choosing row-wise multi-threading, the overhead of testing was 0.019048 seconds.\n",
      "You can set `force_row_wise=true` to remove the overhead.\n",
      "And if memory is not enough, you can set `force_col_wise=true`.\n",
      "[LightGBM] [Info] Total Bins 11695\n",
      "[LightGBM] [Info] Number of data points in the train set: 151437, number of used features: 74\n",
      "[LightGBM] [Warning] Auto-choosing row-wise multi-threading, the overhead of testing was 0.018024 seconds.\n",
      "You can set `force_row_wise=true` to remove the overhead.\n",
      "And if memory is not enough, you can set `force_col_wise=true`.\n",
      "[LightGBM] [Info] Total Bins 11695\n",
      "[LightGBM] [Info] Number of data points in the train set: 151437, number of used features: 74\n",
      "[LightGBM] [Info] Start training from score -0.387506\n",
      "[LightGBM] [Info] Start training from score -0.394289\n",
      "[LightGBM] [Info] Start training from score -0.396410\n",
      "[LightGBM] [Info] Start training from score -0.396344\n",
      "| \u001b[0m 12      \u001b[0m | \u001b[0m 3.842   \u001b[0m | \u001b[0m 0.219   \u001b[0m | \u001b[0m 0.07734 \u001b[0m | \u001b[0m 1.2     \u001b[0m | \u001b[0m 0.03571 \u001b[0m | \u001b[0m 1.933   \u001b[0m | \u001b[0m 221.6   \u001b[0m | \u001b[0m 0.1207  \u001b[0m | \u001b[0m 163.6   \u001b[0m |\n",
      "[LightGBM] [Warning] Auto-choosing row-wise multi-threading, the overhead of testing was 0.015527 seconds.\n",
      "You can set `force_row_wise=true` to remove the overhead.\n",
      "And if memory is not enough, you can set `force_col_wise=true`.\n",
      "[LightGBM] [Info] Total Bins 11695\n",
      "[LightGBM] [Info] Number of data points in the train set: 151437, number of used features: 74\n",
      "[LightGBM] [Warning] Auto-choosing row-wise multi-threading, the overhead of testing was 0.022250 seconds.\n",
      "You can set `force_row_wise=true` to remove the overhead.\n",
      "And if memory is not enough, you can set `force_col_wise=true`.\n",
      "[LightGBM] [Info] Total Bins 11695\n",
      "[LightGBM] [Info] Number of data points in the train set: 151437, number of used features: 74\n",
      "[LightGBM] [Warning] Auto-choosing row-wise multi-threading, the overhead of testing was 0.025226 seconds.\n",
      "You can set `force_row_wise=true` to remove the overhead.\n",
      "And if memory is not enough, you can set `force_col_wise=true`.\n",
      "[LightGBM] [Info] Total Bins 11695\n",
      "[LightGBM] [Info] Number of data points in the train set: 151437, number of used features: 74\n",
      "[LightGBM] [Warning] Auto-choosing row-wise multi-threading, the overhead of testing was 0.014957 seconds.\n",
      "You can set `force_row_wise=true` to remove the overhead.\n",
      "And if memory is not enough, you can set `force_col_wise=true`.\n",
      "[LightGBM] [Info] Total Bins 11695\n",
      "[LightGBM] [Info] Number of data points in the train set: 151437, number of used features: 74\n",
      "[LightGBM] [Info] Start training from score -0.387506\n",
      "[LightGBM] [Info] Start training from score -0.394289\n",
      "[LightGBM] [Info] Start training from score -0.396410\n",
      "[LightGBM] [Info] Start training from score -0.396344\n",
      "| \u001b[0m 13      \u001b[0m | \u001b[0m 3.843   \u001b[0m | \u001b[0m 0.2596  \u001b[0m | \u001b[0m 0.1113  \u001b[0m | \u001b[0m 1.298   \u001b[0m | \u001b[0m 0.02284 \u001b[0m | \u001b[0m 1.467   \u001b[0m | \u001b[0m 272.4   \u001b[0m | \u001b[0m 0.07264 \u001b[0m | \u001b[0m 256.6   \u001b[0m |\n",
      "[LightGBM] [Warning] Auto-choosing row-wise multi-threading, the overhead of testing was 0.018562 seconds.\n",
      "You can set `force_row_wise=true` to remove the overhead.\n",
      "And if memory is not enough, you can set `force_col_wise=true`.\n",
      "[LightGBM] [Info] Total Bins 11695\n",
      "[LightGBM] [Info] Number of data points in the train set: 151437, number of used features: 74\n",
      "[LightGBM] [Warning] Auto-choosing row-wise multi-threading, the overhead of testing was 0.015978 seconds.\n",
      "You can set `force_row_wise=true` to remove the overhead.\n",
      "And if memory is not enough, you can set `force_col_wise=true`.\n",
      "[LightGBM] [Info] Total Bins 11695\n",
      "[LightGBM] [Info] Number of data points in the train set: 151437, number of used features: 74\n",
      "[LightGBM] [Warning] Auto-choosing row-wise multi-threading, the overhead of testing was 0.017389 seconds.\n",
      "You can set `force_row_wise=true` to remove the overhead.\n",
      "And if memory is not enough, you can set `force_col_wise=true`.\n",
      "[LightGBM] [Info] Total Bins 11695\n",
      "[LightGBM] [Info] Number of data points in the train set: 151437, number of used features: 74\n",
      "[LightGBM] [Warning] Auto-choosing row-wise multi-threading, the overhead of testing was 0.018026 seconds.\n",
      "You can set `force_row_wise=true` to remove the overhead.\n",
      "And if memory is not enough, you can set `force_col_wise=true`.\n",
      "[LightGBM] [Info] Total Bins 11695\n",
      "[LightGBM] [Info] Number of data points in the train set: 151437, number of used features: 74\n",
      "[LightGBM] [Info] Start training from score -0.387506\n",
      "[LightGBM] [Info] Start training from score -0.394289\n",
      "[LightGBM] [Info] Start training from score -0.396410\n",
      "[LightGBM] [Info] Start training from score -0.396344\n",
      "[LightGBM] [Warning] No further splits with positive gain, best gain: -inf\n",
      "[LightGBM] [Warning] No further splits with positive gain, best gain: -inf\n",
      "[LightGBM] [Warning] No further splits with positive gain, best gain: -inf\n",
      "[LightGBM] [Warning] No further splits with positive gain, best gain: -inf\n",
      "[LightGBM] [Warning] No further splits with positive gain, best gain: -inf\n",
      "[LightGBM] [Warning] No further splits with positive gain, best gain: -inf\n",
      "[LightGBM] [Warning] No further splits with positive gain, best gain: -inf\n",
      "[LightGBM] [Warning] No further splits with positive gain, best gain: -inf\n",
      "| \u001b[0m 14      \u001b[0m | \u001b[0m 3.83    \u001b[0m | \u001b[0m 0.506   \u001b[0m | \u001b[0m 0.1961  \u001b[0m | \u001b[0m 0.6094  \u001b[0m | \u001b[0m 0.0345  \u001b[0m | \u001b[0m 1.622   \u001b[0m | \u001b[0m 329.4   \u001b[0m | \u001b[0m 0.1101  \u001b[0m | \u001b[0m 169.0   \u001b[0m |\n",
      "[LightGBM] [Warning] Auto-choosing row-wise multi-threading, the overhead of testing was 0.017970 seconds.\n",
      "You can set `force_row_wise=true` to remove the overhead.\n",
      "And if memory is not enough, you can set `force_col_wise=true`.\n",
      "[LightGBM] [Info] Total Bins 11695\n",
      "[LightGBM] [Info] Number of data points in the train set: 151437, number of used features: 74\n",
      "[LightGBM] [Warning] Auto-choosing row-wise multi-threading, the overhead of testing was 0.015209 seconds.\n",
      "You can set `force_row_wise=true` to remove the overhead.\n",
      "And if memory is not enough, you can set `force_col_wise=true`.\n",
      "[LightGBM] [Info] Total Bins 11695\n",
      "[LightGBM] [Info] Number of data points in the train set: 151437, number of used features: 74\n",
      "[LightGBM] [Warning] Auto-choosing row-wise multi-threading, the overhead of testing was 0.016136 seconds.\n",
      "You can set `force_row_wise=true` to remove the overhead.\n",
      "And if memory is not enough, you can set `force_col_wise=true`.\n",
      "[LightGBM] [Info] Total Bins 11695\n",
      "[LightGBM] [Info] Number of data points in the train set: 151437, number of used features: 74\n",
      "[LightGBM] [Warning] Auto-choosing row-wise multi-threading, the overhead of testing was 0.014590 seconds.\n",
      "You can set `force_row_wise=true` to remove the overhead.\n",
      "And if memory is not enough, you can set `force_col_wise=true`.\n",
      "[LightGBM] [Info] Total Bins 11695\n",
      "[LightGBM] [Info] Number of data points in the train set: 151437, number of used features: 74\n",
      "[LightGBM] [Info] Start training from score -0.387506\n",
      "[LightGBM] [Info] Start training from score -0.394289\n",
      "[LightGBM] [Info] Start training from score -0.396410\n",
      "[LightGBM] [Info] Start training from score -0.396344\n",
      "[LightGBM] [Warning] No further splits with positive gain, best gain: -inf\n",
      "[LightGBM] [Warning] No further splits with positive gain, best gain: -inf\n",
      "[LightGBM] [Warning] No further splits with positive gain, best gain: -inf\n",
      "[LightGBM] [Warning] No further splits with positive gain, best gain: -inf\n",
      "[LightGBM] [Warning] No further splits with positive gain, best gain: -inf\n",
      "[LightGBM] [Warning] No further splits with positive gain, best gain: -inf\n",
      "[LightGBM] [Warning] No further splits with positive gain, best gain: -inf\n",
      "[LightGBM] [Warning] No further splits with positive gain, best gain: -inf\n",
      "[LightGBM] [Warning] No further splits with positive gain, best gain: -inf\n"
     ]
    },
    {
     "name": "stdout",
     "output_type": "stream",
     "text": [
      "[LightGBM] [Warning] No further splits with positive gain, best gain: -inf\n",
      "[LightGBM] [Warning] No further splits with positive gain, best gain: -inf\n",
      "[LightGBM] [Warning] No further splits with positive gain, best gain: -inf\n",
      "[LightGBM] [Warning] No further splits with positive gain, best gain: -inf\n",
      "[LightGBM] [Warning] No further splits with positive gain, best gain: -inf\n",
      "[LightGBM] [Warning] No further splits with positive gain, best gain: -inf\n",
      "[LightGBM] [Warning] No further splits with positive gain, best gain: -inf\n",
      "[LightGBM] [Warning] No further splits with positive gain, best gain: -inf\n",
      "[LightGBM] [Warning] No further splits with positive gain, best gain: -inf\n",
      "[LightGBM] [Warning] No further splits with positive gain, best gain: -inf\n",
      "[LightGBM] [Warning] No further splits with positive gain, best gain: -inf\n",
      "[LightGBM] [Warning] No further splits with positive gain, best gain: -inf\n",
      "| \u001b[0m 15      \u001b[0m | \u001b[0m 3.844   \u001b[0m | \u001b[0m 0.3905  \u001b[0m | \u001b[0m 0.04139 \u001b[0m | \u001b[0m 0.8252  \u001b[0m | \u001b[0m 0.09915 \u001b[0m | \u001b[0m 2.796   \u001b[0m | \u001b[0m 386.5   \u001b[0m | \u001b[0m 0.04753 \u001b[0m | \u001b[0m 271.2   \u001b[0m |\n",
      "=========================================================================================================================\n"
     ]
    },
    {
     "data": {
      "text/plain": [
       "{'bagging_fraction': 0.5004941593344682,\n",
       " 'feature_fraction': 0.01152446918355208,\n",
       " 'lambda_l1': 0.42615162097888404,\n",
       " 'learning_rate': 0.08943407522251312,\n",
       " 'max_depth': 2.5559934833039546,\n",
       " 'min_data_in_leaf': 227.161481598891,\n",
       " 'min_split_gain': 0.11920028122790058,\n",
       " 'num_leaves': 239.44354171809712}"
      ]
     },
     "execution_count": 54,
     "metadata": {},
     "output_type": "execute_result"
    }
   ],
   "source": [
    "# Using optimization function on training data\n",
    "%time \n",
    "opt_params_lgb = bayes_parameter_opt_lgb(train, target)\n",
    "param1=opt_params_lgb['params']\n",
    "param1"
   ]
  },
  {
   "cell_type": "code",
   "execution_count": 58,
   "metadata": {
    "_uuid": "659c1daf848f12a1881f3c29d3c624832041335c",
    "execution": {
     "iopub.execute_input": "2022-07-19T15:19:47.918870Z",
     "iopub.status.busy": "2022-07-19T15:19:47.918274Z",
     "iopub.status.idle": "2022-07-19T15:19:47.932831Z",
     "shell.execute_reply": "2022-07-19T15:19:47.931422Z",
     "shell.execute_reply.started": "2022-07-19T15:19:47.918805Z"
    }
   },
   "outputs": [],
   "source": [
    "# Results of different rounds of Bayesian Optimization\n",
    "param1 = {\"boosting\": \"gbdt\", 'objective':'regression',\"metric\": 'rmse', \"random_state\": 2019, \"verbosity\": -1,\n",
    "          'bagging_fractions':0.7768, 'feature_fraction':0.3249, 'lambda_l1':0.0460, 'learning_rate':0.067,\n",
    "          'max_depth':3, 'min_data_in_leaf':176, 'min_split_gain':0.0297, 'num_leaves':77}\n",
    "param2 = {'num_leaves': 111, 'min_data_in_leaf': 149,'objective':'regression','max_depth': 9,\n",
    "         'learning_rate': 0.005, \"boosting\": \"gbdt\", \"feature_fraction\": 0.7522, \"bagging_freq\": 1,\n",
    "         \"bagging_fraction\": 0.7083 , \"bagging_seed\": 11, \"metric\": 'rmse', \"lambda_l1\": 0.2634,\n",
    "         \"random_state\": 133, \"verbosity\": -1}\n",
    "param3 = {\"boosting\": \"gbdt\", 'objective':'regression',\"metric\": 'rmse', \"random_state\": 2019, \"verbosity\": -1,\n",
    "          'bagging_fractions':1, 'feature_fraction':0.1, 'lambda_l1':1.0, 'learning_rate':0.001,\n",
    "          'max_depth':2, 'min_data_in_leaf':250, 'min_split_gain':0.001, 'num_leaves':160}\n",
    "param4 = {\"boosting\": \"gbdt\", 'objective':'regression',\"metric\": 'rmse', \"random_state\": 2019, \"verbosity\": -1,\n",
    "          'bagging_fractions':0.7, 'feature_fraction':0.02, 'lambda_l1':1.75, 'learning_rate':0.05,\n",
    "          'max_depth':3, 'min_data_in_leaf':305, 'min_split_gain':0.01, 'num_leaves':300}\n",
    "param5 = {\"boosting\": \"gbdt\", 'objective':'regression',\"metric\": 'rmse', \"random_state\": 2019, \"verbosity\": -1,\n",
    "          'bagging_fractions':0.5, 'feature_fraction':0.01, 'lambda_l1':0.42, 'learning_rate':0.08,\n",
    "          'max_depth':3, 'min_data_in_leaf':227, 'min_split_gain':0.1, 'num_leaves':240}"
   ]
  },
  {
   "cell_type": "markdown",
   "metadata": {
    "_uuid": "fdfbda674b0f162361970b3e39ac397a6ee8cc5b"
   },
   "source": [
    "After finding (optimal) hyperparameters in an incedible **short amount of time** (in comparison to GridSearch) we defined a function to run the LGBM.\n",
    "\n",
    "The function uses KFold to create indizes for **cross-validation**. Each fold is used once for validation and k - 1 times for training. After that the LGBM is trained on each fold for a given number of rounds, whereas every round can be seen as one tree. The training stops after the validation did not improve for a given number of 'early_stopping_rounds."
   ]
  },
  {
   "cell_type": "code",
   "execution_count": 59,
   "metadata": {
    "_uuid": "ba0f3c405103b070318df81105fb92f366f4aa16",
    "execution": {
     "iopub.execute_input": "2022-07-19T15:19:47.935105Z",
     "iopub.status.busy": "2022-07-19T15:19:47.934716Z",
     "iopub.status.idle": "2022-07-19T15:20:32.650309Z",
     "shell.execute_reply": "2022-07-19T15:20:32.649396Z",
     "shell.execute_reply.started": "2022-07-19T15:19:47.935028Z"
    },
    "scrolled": true
   },
   "outputs": [
    {
     "name": "stdout",
     "output_type": "stream",
     "text": [
      "fold n°0\n",
      "[LightGBM] [Warning] Unknown parameter: bagging_fractions\n",
      "Training until validation scores don't improve for 100 rounds\n",
      "[10]\ttraining's rmse: 3.77357\tvalid_1's rmse: 3.81927\n",
      "[20]\ttraining's rmse: 3.74807\tvalid_1's rmse: 3.7937\n",
      "[30]\ttraining's rmse: 3.72849\tvalid_1's rmse: 3.77421\n",
      "[40]\ttraining's rmse: 3.71635\tvalid_1's rmse: 3.76139\n",
      "[50]\ttraining's rmse: 3.70847\tvalid_1's rmse: 3.75365\n",
      "[60]\ttraining's rmse: 3.70187\tvalid_1's rmse: 3.74815\n",
      "[70]\ttraining's rmse: 3.69729\tvalid_1's rmse: 3.74415\n",
      "[80]\ttraining's rmse: 3.69266\tvalid_1's rmse: 3.74017\n",
      "[90]\ttraining's rmse: 3.68823\tvalid_1's rmse: 3.73628\n",
      "[100]\ttraining's rmse: 3.68546\tvalid_1's rmse: 3.7341\n",
      "[110]\ttraining's rmse: 3.68188\tvalid_1's rmse: 3.73167\n",
      "[120]\ttraining's rmse: 3.67886\tvalid_1's rmse: 3.72958\n",
      "[130]\ttraining's rmse: 3.67642\tvalid_1's rmse: 3.72767\n",
      "[140]\ttraining's rmse: 3.6738\tvalid_1's rmse: 3.72603\n",
      "[150]\ttraining's rmse: 3.67157\tvalid_1's rmse: 3.72468\n",
      "[160]\ttraining's rmse: 3.66936\tvalid_1's rmse: 3.72333\n",
      "[170]\ttraining's rmse: 3.66786\tvalid_1's rmse: 3.72283\n",
      "[180]\ttraining's rmse: 3.66591\tvalid_1's rmse: 3.72155\n",
      "[190]\ttraining's rmse: 3.66437\tvalid_1's rmse: 3.72092\n",
      "[200]\ttraining's rmse: 3.66299\tvalid_1's rmse: 3.72027\n",
      "[210]\ttraining's rmse: 3.66141\tvalid_1's rmse: 3.7193\n",
      "[220]\ttraining's rmse: 3.65965\tvalid_1's rmse: 3.71821\n",
      "[230]\ttraining's rmse: 3.65841\tvalid_1's rmse: 3.71784\n",
      "[240]\ttraining's rmse: 3.65688\tvalid_1's rmse: 3.71711\n",
      "[250]\ttraining's rmse: 3.65529\tvalid_1's rmse: 3.71651\n",
      "[260]\ttraining's rmse: 3.65405\tvalid_1's rmse: 3.716\n",
      "[270]\ttraining's rmse: 3.65273\tvalid_1's rmse: 3.71578\n",
      "[280]\ttraining's rmse: 3.6516\tvalid_1's rmse: 3.71504\n",
      "[290]\ttraining's rmse: 3.64994\tvalid_1's rmse: 3.7143\n",
      "[300]\ttraining's rmse: 3.64871\tvalid_1's rmse: 3.7141\n",
      "[310]\ttraining's rmse: 3.64748\tvalid_1's rmse: 3.71387\n",
      "[320]\ttraining's rmse: 3.64639\tvalid_1's rmse: 3.71352\n",
      "[330]\ttraining's rmse: 3.64475\tvalid_1's rmse: 3.71286\n",
      "[340]\ttraining's rmse: 3.64354\tvalid_1's rmse: 3.71231\n",
      "[350]\ttraining's rmse: 3.64229\tvalid_1's rmse: 3.71187\n",
      "[360]\ttraining's rmse: 3.64094\tvalid_1's rmse: 3.71131\n",
      "[370]\ttraining's rmse: 3.64007\tvalid_1's rmse: 3.71121\n",
      "[380]\ttraining's rmse: 3.63905\tvalid_1's rmse: 3.71103\n",
      "[390]\ttraining's rmse: 3.63804\tvalid_1's rmse: 3.71083\n",
      "[400]\ttraining's rmse: 3.63704\tvalid_1's rmse: 3.71048\n",
      "[410]\ttraining's rmse: 3.63622\tvalid_1's rmse: 3.7103\n",
      "[420]\ttraining's rmse: 3.63545\tvalid_1's rmse: 3.71034\n",
      "[430]\ttraining's rmse: 3.63457\tvalid_1's rmse: 3.71011\n",
      "[440]\ttraining's rmse: 3.63331\tvalid_1's rmse: 3.70973\n",
      "[450]\ttraining's rmse: 3.63233\tvalid_1's rmse: 3.70978\n",
      "[460]\ttraining's rmse: 3.63133\tvalid_1's rmse: 3.70942\n",
      "[470]\ttraining's rmse: 3.63024\tvalid_1's rmse: 3.70888\n",
      "[480]\ttraining's rmse: 3.62918\tvalid_1's rmse: 3.70856\n",
      "[490]\ttraining's rmse: 3.62826\tvalid_1's rmse: 3.70837\n",
      "[500]\ttraining's rmse: 3.62706\tvalid_1's rmse: 3.70826\n",
      "[510]\ttraining's rmse: 3.62637\tvalid_1's rmse: 3.70832\n",
      "[520]\ttraining's rmse: 3.62556\tvalid_1's rmse: 3.70839\n",
      "[530]\ttraining's rmse: 3.62485\tvalid_1's rmse: 3.7082\n",
      "[540]\ttraining's rmse: 3.62372\tvalid_1's rmse: 3.7076\n",
      "[550]\ttraining's rmse: 3.62292\tvalid_1's rmse: 3.70761\n",
      "[560]\ttraining's rmse: 3.62206\tvalid_1's rmse: 3.70747\n",
      "[570]\ttraining's rmse: 3.62105\tvalid_1's rmse: 3.70716\n",
      "[580]\ttraining's rmse: 3.61999\tvalid_1's rmse: 3.70693\n",
      "[590]\ttraining's rmse: 3.61906\tvalid_1's rmse: 3.70684\n",
      "[600]\ttraining's rmse: 3.61834\tvalid_1's rmse: 3.70686\n",
      "[610]\ttraining's rmse: 3.61759\tvalid_1's rmse: 3.70665\n",
      "[620]\ttraining's rmse: 3.61681\tvalid_1's rmse: 3.70675\n",
      "[630]\ttraining's rmse: 3.61594\tvalid_1's rmse: 3.70665\n",
      "[640]\ttraining's rmse: 3.61521\tvalid_1's rmse: 3.70664\n",
      "[650]\ttraining's rmse: 3.61381\tvalid_1's rmse: 3.70638\n",
      "[660]\ttraining's rmse: 3.61313\tvalid_1's rmse: 3.70635\n",
      "[670]\ttraining's rmse: 3.61237\tvalid_1's rmse: 3.70632\n",
      "[680]\ttraining's rmse: 3.61145\tvalid_1's rmse: 3.70624\n",
      "[690]\ttraining's rmse: 3.61022\tvalid_1's rmse: 3.70614\n",
      "[700]\ttraining's rmse: 3.60932\tvalid_1's rmse: 3.70608\n",
      "[710]\ttraining's rmse: 3.60863\tvalid_1's rmse: 3.70614\n",
      "[720]\ttraining's rmse: 3.60785\tvalid_1's rmse: 3.70611\n",
      "[730]\ttraining's rmse: 3.60687\tvalid_1's rmse: 3.70573\n",
      "[740]\ttraining's rmse: 3.60588\tvalid_1's rmse: 3.70598\n",
      "[750]\ttraining's rmse: 3.60501\tvalid_1's rmse: 3.70613\n",
      "[760]\ttraining's rmse: 3.60403\tvalid_1's rmse: 3.70594\n",
      "[770]\ttraining's rmse: 3.60324\tvalid_1's rmse: 3.70618\n",
      "[780]\ttraining's rmse: 3.60262\tvalid_1's rmse: 3.70639\n",
      "[790]\ttraining's rmse: 3.60192\tvalid_1's rmse: 3.70629\n",
      "[800]\ttraining's rmse: 3.60131\tvalid_1's rmse: 3.70619\n",
      "[810]\ttraining's rmse: 3.60054\tvalid_1's rmse: 3.70596\n",
      "[820]\ttraining's rmse: 3.59974\tvalid_1's rmse: 3.70563\n",
      "[830]\ttraining's rmse: 3.59904\tvalid_1's rmse: 3.70544\n",
      "[840]\ttraining's rmse: 3.59839\tvalid_1's rmse: 3.7055\n",
      "[850]\ttraining's rmse: 3.59758\tvalid_1's rmse: 3.70545\n",
      "[860]\ttraining's rmse: 3.59676\tvalid_1's rmse: 3.70506\n",
      "[870]\ttraining's rmse: 3.59607\tvalid_1's rmse: 3.70491\n",
      "[880]\ttraining's rmse: 3.59544\tvalid_1's rmse: 3.70476\n",
      "[890]\ttraining's rmse: 3.59475\tvalid_1's rmse: 3.70461\n",
      "[900]\ttraining's rmse: 3.59378\tvalid_1's rmse: 3.70465\n",
      "[910]\ttraining's rmse: 3.59302\tvalid_1's rmse: 3.70468\n",
      "[920]\ttraining's rmse: 3.59234\tvalid_1's rmse: 3.70463\n",
      "[930]\ttraining's rmse: 3.5912\tvalid_1's rmse: 3.70436\n",
      "[940]\ttraining's rmse: 3.59018\tvalid_1's rmse: 3.70402\n",
      "[950]\ttraining's rmse: 3.58967\tvalid_1's rmse: 3.70411\n",
      "[960]\ttraining's rmse: 3.58903\tvalid_1's rmse: 3.7041\n",
      "[970]\ttraining's rmse: 3.5881\tvalid_1's rmse: 3.70399\n",
      "[980]\ttraining's rmse: 3.5875\tvalid_1's rmse: 3.7038\n",
      "[990]\ttraining's rmse: 3.58691\tvalid_1's rmse: 3.70379\n",
      "[1000]\ttraining's rmse: 3.58625\tvalid_1's rmse: 3.70371\n",
      "[1010]\ttraining's rmse: 3.58554\tvalid_1's rmse: 3.70373\n",
      "[1020]\ttraining's rmse: 3.58481\tvalid_1's rmse: 3.70359\n",
      "[1030]\ttraining's rmse: 3.58395\tvalid_1's rmse: 3.70367\n",
      "[1040]\ttraining's rmse: 3.58313\tvalid_1's rmse: 3.70367\n",
      "[1050]\ttraining's rmse: 3.58241\tvalid_1's rmse: 3.7036\n",
      "[1060]\ttraining's rmse: 3.58136\tvalid_1's rmse: 3.70343\n",
      "[1070]\ttraining's rmse: 3.58062\tvalid_1's rmse: 3.70327\n",
      "[1080]\ttraining's rmse: 3.57986\tvalid_1's rmse: 3.70315\n",
      "[1090]\ttraining's rmse: 3.57919\tvalid_1's rmse: 3.70299\n",
      "[1100]\ttraining's rmse: 3.57856\tvalid_1's rmse: 3.70288\n",
      "[1110]\ttraining's rmse: 3.57779\tvalid_1's rmse: 3.70286\n",
      "[1120]\ttraining's rmse: 3.57713\tvalid_1's rmse: 3.70315\n",
      "[1130]\ttraining's rmse: 3.5766\tvalid_1's rmse: 3.70308\n",
      "[1140]\ttraining's rmse: 3.57572\tvalid_1's rmse: 3.70266\n",
      "[1150]\ttraining's rmse: 3.57499\tvalid_1's rmse: 3.70246\n",
      "[1160]\ttraining's rmse: 3.5742\tvalid_1's rmse: 3.70255\n",
      "[1170]\ttraining's rmse: 3.57349\tvalid_1's rmse: 3.70254\n",
      "[1180]\ttraining's rmse: 3.5729\tvalid_1's rmse: 3.70273\n",
      "[1190]\ttraining's rmse: 3.57231\tvalid_1's rmse: 3.70291\n",
      "[1200]\ttraining's rmse: 3.57184\tvalid_1's rmse: 3.70309\n",
      "[1210]\ttraining's rmse: 3.57134\tvalid_1's rmse: 3.70299\n",
      "[1220]\ttraining's rmse: 3.57085\tvalid_1's rmse: 3.70295\n",
      "[1230]\ttraining's rmse: 3.57023\tvalid_1's rmse: 3.70283\n",
      "[1240]\ttraining's rmse: 3.5696\tvalid_1's rmse: 3.70277\n",
      "[1250]\ttraining's rmse: 3.56909\tvalid_1's rmse: 3.70283\n",
      "Early stopping, best iteration is:\n",
      "[1158]\ttraining's rmse: 3.57441\tvalid_1's rmse: 3.7024\n",
      "fold n°1\n",
      "[LightGBM] [Warning] Unknown parameter: bagging_fractions\n",
      "Training until validation scores don't improve for 100 rounds\n",
      "[10]\ttraining's rmse: 3.82034\tvalid_1's rmse: 3.67462\n",
      "[20]\ttraining's rmse: 3.79271\tvalid_1's rmse: 3.65203\n",
      "[30]\ttraining's rmse: 3.77098\tvalid_1's rmse: 3.63474\n",
      "[40]\ttraining's rmse: 3.75741\tvalid_1's rmse: 3.6252\n",
      "[50]\ttraining's rmse: 3.74862\tvalid_1's rmse: 3.61863\n",
      "[60]\ttraining's rmse: 3.74235\tvalid_1's rmse: 3.61423\n",
      "[70]\ttraining's rmse: 3.73686\tvalid_1's rmse: 3.61029\n",
      "[80]\ttraining's rmse: 3.73218\tvalid_1's rmse: 3.60729\n",
      "[90]\ttraining's rmse: 3.72818\tvalid_1's rmse: 3.60422\n",
      "[100]\ttraining's rmse: 3.72496\tvalid_1's rmse: 3.60242\n",
      "[110]\ttraining's rmse: 3.72126\tvalid_1's rmse: 3.59975\n",
      "[120]\ttraining's rmse: 3.71828\tvalid_1's rmse: 3.59755\n",
      "[130]\ttraining's rmse: 3.71593\tvalid_1's rmse: 3.59619\n",
      "[140]\ttraining's rmse: 3.71256\tvalid_1's rmse: 3.59424\n",
      "[150]\ttraining's rmse: 3.71095\tvalid_1's rmse: 3.59322\n",
      "[160]\ttraining's rmse: 3.70872\tvalid_1's rmse: 3.5922\n",
      "[170]\ttraining's rmse: 3.70666\tvalid_1's rmse: 3.59093\n",
      "[180]\ttraining's rmse: 3.70533\tvalid_1's rmse: 3.59007\n"
     ]
    },
    {
     "name": "stdout",
     "output_type": "stream",
     "text": [
      "[190]\ttraining's rmse: 3.70348\tvalid_1's rmse: 3.58923\n",
      "[200]\ttraining's rmse: 3.70193\tvalid_1's rmse: 3.58843\n",
      "[210]\ttraining's rmse: 3.70049\tvalid_1's rmse: 3.58809\n",
      "[220]\ttraining's rmse: 3.69926\tvalid_1's rmse: 3.5877\n",
      "[230]\ttraining's rmse: 3.69798\tvalid_1's rmse: 3.58731\n",
      "[240]\ttraining's rmse: 3.69602\tvalid_1's rmse: 3.58596\n",
      "[250]\ttraining's rmse: 3.69489\tvalid_1's rmse: 3.58545\n",
      "[260]\ttraining's rmse: 3.69378\tvalid_1's rmse: 3.58517\n",
      "[270]\ttraining's rmse: 3.6926\tvalid_1's rmse: 3.58447\n",
      "[280]\ttraining's rmse: 3.69143\tvalid_1's rmse: 3.58399\n",
      "[290]\ttraining's rmse: 3.69026\tvalid_1's rmse: 3.58364\n",
      "[300]\ttraining's rmse: 3.68905\tvalid_1's rmse: 3.5836\n",
      "[310]\ttraining's rmse: 3.6877\tvalid_1's rmse: 3.58312\n",
      "[320]\ttraining's rmse: 3.68641\tvalid_1's rmse: 3.58293\n",
      "[330]\ttraining's rmse: 3.68556\tvalid_1's rmse: 3.58275\n",
      "[340]\ttraining's rmse: 3.68451\tvalid_1's rmse: 3.58245\n",
      "[350]\ttraining's rmse: 3.68333\tvalid_1's rmse: 3.58194\n",
      "[360]\ttraining's rmse: 3.6822\tvalid_1's rmse: 3.58169\n",
      "[370]\ttraining's rmse: 3.68154\tvalid_1's rmse: 3.58146\n",
      "[380]\ttraining's rmse: 3.68047\tvalid_1's rmse: 3.58121\n",
      "[390]\ttraining's rmse: 3.67982\tvalid_1's rmse: 3.581\n",
      "[400]\ttraining's rmse: 3.67866\tvalid_1's rmse: 3.58056\n",
      "[410]\ttraining's rmse: 3.67791\tvalid_1's rmse: 3.58026\n",
      "[420]\ttraining's rmse: 3.67682\tvalid_1's rmse: 3.58007\n",
      "[430]\ttraining's rmse: 3.67602\tvalid_1's rmse: 3.57981\n",
      "[440]\ttraining's rmse: 3.67483\tvalid_1's rmse: 3.57936\n",
      "[450]\ttraining's rmse: 3.67383\tvalid_1's rmse: 3.57905\n",
      "[460]\ttraining's rmse: 3.67298\tvalid_1's rmse: 3.57889\n",
      "[470]\ttraining's rmse: 3.67217\tvalid_1's rmse: 3.57901\n",
      "[480]\ttraining's rmse: 3.67131\tvalid_1's rmse: 3.57865\n",
      "[490]\ttraining's rmse: 3.67038\tvalid_1's rmse: 3.57818\n",
      "[500]\ttraining's rmse: 3.66962\tvalid_1's rmse: 3.57815\n",
      "[510]\ttraining's rmse: 3.66874\tvalid_1's rmse: 3.57798\n",
      "[520]\ttraining's rmse: 3.66752\tvalid_1's rmse: 3.57811\n",
      "[530]\ttraining's rmse: 3.66691\tvalid_1's rmse: 3.57805\n",
      "[540]\ttraining's rmse: 3.66596\tvalid_1's rmse: 3.57788\n",
      "[550]\ttraining's rmse: 3.66512\tvalid_1's rmse: 3.57778\n",
      "[560]\ttraining's rmse: 3.66428\tvalid_1's rmse: 3.57775\n",
      "[570]\ttraining's rmse: 3.66338\tvalid_1's rmse: 3.57756\n",
      "[580]\ttraining's rmse: 3.66256\tvalid_1's rmse: 3.57732\n",
      "[590]\ttraining's rmse: 3.66155\tvalid_1's rmse: 3.57712\n",
      "[600]\ttraining's rmse: 3.66063\tvalid_1's rmse: 3.57723\n",
      "[610]\ttraining's rmse: 3.65957\tvalid_1's rmse: 3.57722\n",
      "[620]\ttraining's rmse: 3.65894\tvalid_1's rmse: 3.57706\n",
      "[630]\ttraining's rmse: 3.65823\tvalid_1's rmse: 3.57698\n",
      "[640]\ttraining's rmse: 3.65736\tvalid_1's rmse: 3.57692\n",
      "[650]\ttraining's rmse: 3.6565\tvalid_1's rmse: 3.57669\n",
      "[660]\ttraining's rmse: 3.65582\tvalid_1's rmse: 3.57678\n",
      "[670]\ttraining's rmse: 3.65495\tvalid_1's rmse: 3.5768\n",
      "[680]\ttraining's rmse: 3.65392\tvalid_1's rmse: 3.57664\n",
      "[690]\ttraining's rmse: 3.65305\tvalid_1's rmse: 3.57642\n",
      "[700]\ttraining's rmse: 3.65219\tvalid_1's rmse: 3.57617\n",
      "[710]\ttraining's rmse: 3.6514\tvalid_1's rmse: 3.57611\n",
      "[720]\ttraining's rmse: 3.65035\tvalid_1's rmse: 3.576\n",
      "[730]\ttraining's rmse: 3.64938\tvalid_1's rmse: 3.57594\n",
      "[740]\ttraining's rmse: 3.64836\tvalid_1's rmse: 3.57563\n",
      "[750]\ttraining's rmse: 3.64743\tvalid_1's rmse: 3.5754\n",
      "[760]\ttraining's rmse: 3.64663\tvalid_1's rmse: 3.57534\n",
      "[770]\ttraining's rmse: 3.64591\tvalid_1's rmse: 3.57512\n",
      "[780]\ttraining's rmse: 3.64505\tvalid_1's rmse: 3.57504\n",
      "[790]\ttraining's rmse: 3.64408\tvalid_1's rmse: 3.57504\n",
      "[800]\ttraining's rmse: 3.64349\tvalid_1's rmse: 3.57498\n",
      "[810]\ttraining's rmse: 3.64288\tvalid_1's rmse: 3.57493\n",
      "[820]\ttraining's rmse: 3.64195\tvalid_1's rmse: 3.57505\n",
      "[830]\ttraining's rmse: 3.64104\tvalid_1's rmse: 3.57482\n",
      "[840]\ttraining's rmse: 3.64009\tvalid_1's rmse: 3.57439\n",
      "[850]\ttraining's rmse: 3.63924\tvalid_1's rmse: 3.57411\n",
      "[860]\ttraining's rmse: 3.63822\tvalid_1's rmse: 3.57407\n",
      "[870]\ttraining's rmse: 3.63766\tvalid_1's rmse: 3.57399\n",
      "[880]\ttraining's rmse: 3.63728\tvalid_1's rmse: 3.57389\n",
      "[890]\ttraining's rmse: 3.63622\tvalid_1's rmse: 3.57398\n",
      "[900]\ttraining's rmse: 3.63571\tvalid_1's rmse: 3.57397\n",
      "[910]\ttraining's rmse: 3.63509\tvalid_1's rmse: 3.57384\n",
      "[920]\ttraining's rmse: 3.6347\tvalid_1's rmse: 3.57381\n",
      "[930]\ttraining's rmse: 3.63381\tvalid_1's rmse: 3.57373\n",
      "[940]\ttraining's rmse: 3.63327\tvalid_1's rmse: 3.57388\n",
      "[950]\ttraining's rmse: 3.63245\tvalid_1's rmse: 3.57396\n",
      "[960]\ttraining's rmse: 3.63201\tvalid_1's rmse: 3.57393\n",
      "[970]\ttraining's rmse: 3.63142\tvalid_1's rmse: 3.57398\n",
      "[980]\ttraining's rmse: 3.63089\tvalid_1's rmse: 3.57404\n",
      "[990]\ttraining's rmse: 3.63041\tvalid_1's rmse: 3.57419\n",
      "[1000]\ttraining's rmse: 3.62978\tvalid_1's rmse: 3.57411\n",
      "[1010]\ttraining's rmse: 3.62933\tvalid_1's rmse: 3.57408\n",
      "[1020]\ttraining's rmse: 3.62879\tvalid_1's rmse: 3.57412\n",
      "Early stopping, best iteration is:\n",
      "[921]\ttraining's rmse: 3.63453\tvalid_1's rmse: 3.57371\n",
      "fold n°2\n",
      "[LightGBM] [Warning] Unknown parameter: bagging_fractions\n",
      "Training until validation scores don't improve for 100 rounds\n",
      "[10]\ttraining's rmse: 3.75526\tvalid_1's rmse: 3.87431\n",
      "[20]\ttraining's rmse: 3.72832\tvalid_1's rmse: 3.84797\n",
      "[30]\ttraining's rmse: 3.70971\tvalid_1's rmse: 3.83022\n",
      "[40]\ttraining's rmse: 3.69882\tvalid_1's rmse: 3.81982\n",
      "[50]\ttraining's rmse: 3.69092\tvalid_1's rmse: 3.81313\n",
      "[60]\ttraining's rmse: 3.68403\tvalid_1's rmse: 3.80747\n",
      "[70]\ttraining's rmse: 3.67931\tvalid_1's rmse: 3.80387\n",
      "[80]\ttraining's rmse: 3.67455\tvalid_1's rmse: 3.79982\n",
      "[90]\ttraining's rmse: 3.6697\tvalid_1's rmse: 3.79584\n",
      "[100]\ttraining's rmse: 3.66665\tvalid_1's rmse: 3.79356\n",
      "[110]\ttraining's rmse: 3.66356\tvalid_1's rmse: 3.79108\n",
      "[120]\ttraining's rmse: 3.66068\tvalid_1's rmse: 3.78925\n",
      "[130]\ttraining's rmse: 3.65841\tvalid_1's rmse: 3.7881\n",
      "[140]\ttraining's rmse: 3.65543\tvalid_1's rmse: 3.7861\n",
      "[150]\ttraining's rmse: 3.65312\tvalid_1's rmse: 3.78512\n",
      "[160]\ttraining's rmse: 3.6514\tvalid_1's rmse: 3.78443\n",
      "[170]\ttraining's rmse: 3.64955\tvalid_1's rmse: 3.78372\n",
      "[180]\ttraining's rmse: 3.64741\tvalid_1's rmse: 3.78277\n",
      "[190]\ttraining's rmse: 3.64557\tvalid_1's rmse: 3.78172\n",
      "[200]\ttraining's rmse: 3.64381\tvalid_1's rmse: 3.78109\n",
      "[210]\ttraining's rmse: 3.64245\tvalid_1's rmse: 3.78059\n",
      "[220]\ttraining's rmse: 3.64088\tvalid_1's rmse: 3.78006\n",
      "[230]\ttraining's rmse: 3.63961\tvalid_1's rmse: 3.7796\n",
      "[240]\ttraining's rmse: 3.63792\tvalid_1's rmse: 3.77851\n",
      "[250]\ttraining's rmse: 3.63659\tvalid_1's rmse: 3.77783\n",
      "[260]\ttraining's rmse: 3.63543\tvalid_1's rmse: 3.77759\n",
      "[270]\ttraining's rmse: 3.63433\tvalid_1's rmse: 3.77736\n",
      "[280]\ttraining's rmse: 3.6329\tvalid_1's rmse: 3.77668\n",
      "[290]\ttraining's rmse: 3.63166\tvalid_1's rmse: 3.77635\n",
      "[300]\ttraining's rmse: 3.62991\tvalid_1's rmse: 3.77574\n",
      "[310]\ttraining's rmse: 3.62859\tvalid_1's rmse: 3.77552\n",
      "[320]\ttraining's rmse: 3.62757\tvalid_1's rmse: 3.7753\n",
      "[330]\ttraining's rmse: 3.62643\tvalid_1's rmse: 3.77483\n",
      "[340]\ttraining's rmse: 3.62543\tvalid_1's rmse: 3.77469\n",
      "[350]\ttraining's rmse: 3.62415\tvalid_1's rmse: 3.77415\n",
      "[360]\ttraining's rmse: 3.62313\tvalid_1's rmse: 3.77385\n",
      "[370]\ttraining's rmse: 3.62187\tvalid_1's rmse: 3.77341\n",
      "[380]\ttraining's rmse: 3.62036\tvalid_1's rmse: 3.77259\n",
      "[390]\ttraining's rmse: 3.61907\tvalid_1's rmse: 3.77205\n",
      "[400]\ttraining's rmse: 3.61797\tvalid_1's rmse: 3.77143\n",
      "[410]\ttraining's rmse: 3.61709\tvalid_1's rmse: 3.77112\n",
      "[420]\ttraining's rmse: 3.61588\tvalid_1's rmse: 3.77095\n",
      "[430]\ttraining's rmse: 3.61478\tvalid_1's rmse: 3.77081\n",
      "[440]\ttraining's rmse: 3.61372\tvalid_1's rmse: 3.7706\n",
      "[450]\ttraining's rmse: 3.6126\tvalid_1's rmse: 3.7701\n",
      "[460]\ttraining's rmse: 3.61155\tvalid_1's rmse: 3.76987\n",
      "[470]\ttraining's rmse: 3.61068\tvalid_1's rmse: 3.76976\n",
      "[480]\ttraining's rmse: 3.60994\tvalid_1's rmse: 3.76987\n",
      "[490]\ttraining's rmse: 3.6087\tvalid_1's rmse: 3.7694\n",
      "[500]\ttraining's rmse: 3.60781\tvalid_1's rmse: 3.76934\n",
      "[510]\ttraining's rmse: 3.60702\tvalid_1's rmse: 3.76908\n",
      "[520]\ttraining's rmse: 3.60575\tvalid_1's rmse: 3.76867\n",
      "[530]\ttraining's rmse: 3.60482\tvalid_1's rmse: 3.76824\n",
      "[540]\ttraining's rmse: 3.60387\tvalid_1's rmse: 3.7683\n",
      "[550]\ttraining's rmse: 3.60313\tvalid_1's rmse: 3.76816\n",
      "[560]\ttraining's rmse: 3.60233\tvalid_1's rmse: 3.76802\n",
      "[570]\ttraining's rmse: 3.60128\tvalid_1's rmse: 3.76777\n",
      "[580]\ttraining's rmse: 3.60038\tvalid_1's rmse: 3.76756\n",
      "[590]\ttraining's rmse: 3.59974\tvalid_1's rmse: 3.76745\n",
      "[600]\ttraining's rmse: 3.59896\tvalid_1's rmse: 3.76729\n",
      "[610]\ttraining's rmse: 3.59792\tvalid_1's rmse: 3.76692\n",
      "[620]\ttraining's rmse: 3.59719\tvalid_1's rmse: 3.76675\n",
      "[630]\ttraining's rmse: 3.5963\tvalid_1's rmse: 3.76669\n"
     ]
    },
    {
     "name": "stdout",
     "output_type": "stream",
     "text": [
      "[640]\ttraining's rmse: 3.59547\tvalid_1's rmse: 3.76636\n",
      "[650]\ttraining's rmse: 3.59434\tvalid_1's rmse: 3.76638\n",
      "[660]\ttraining's rmse: 3.59367\tvalid_1's rmse: 3.76629\n",
      "[670]\ttraining's rmse: 3.59269\tvalid_1's rmse: 3.76611\n",
      "[680]\ttraining's rmse: 3.59175\tvalid_1's rmse: 3.76615\n",
      "[690]\ttraining's rmse: 3.59077\tvalid_1's rmse: 3.76591\n",
      "[700]\ttraining's rmse: 3.58991\tvalid_1's rmse: 3.76576\n",
      "[710]\ttraining's rmse: 3.58899\tvalid_1's rmse: 3.76541\n",
      "[720]\ttraining's rmse: 3.58762\tvalid_1's rmse: 3.76517\n",
      "[730]\ttraining's rmse: 3.58699\tvalid_1's rmse: 3.76536\n",
      "[740]\ttraining's rmse: 3.58622\tvalid_1's rmse: 3.76537\n",
      "[750]\ttraining's rmse: 3.58538\tvalid_1's rmse: 3.76533\n",
      "[760]\ttraining's rmse: 3.58465\tvalid_1's rmse: 3.76522\n",
      "[770]\ttraining's rmse: 3.58403\tvalid_1's rmse: 3.76513\n",
      "[780]\ttraining's rmse: 3.58336\tvalid_1's rmse: 3.76493\n",
      "[790]\ttraining's rmse: 3.58226\tvalid_1's rmse: 3.76498\n",
      "[800]\ttraining's rmse: 3.58116\tvalid_1's rmse: 3.76458\n",
      "[810]\ttraining's rmse: 3.58042\tvalid_1's rmse: 3.76454\n",
      "[820]\ttraining's rmse: 3.5797\tvalid_1's rmse: 3.76452\n",
      "[830]\ttraining's rmse: 3.5792\tvalid_1's rmse: 3.76453\n",
      "[840]\ttraining's rmse: 3.57851\tvalid_1's rmse: 3.76453\n",
      "[850]\ttraining's rmse: 3.57801\tvalid_1's rmse: 3.76455\n",
      "[860]\ttraining's rmse: 3.57752\tvalid_1's rmse: 3.76438\n",
      "[870]\ttraining's rmse: 3.57656\tvalid_1's rmse: 3.76434\n",
      "[880]\ttraining's rmse: 3.57546\tvalid_1's rmse: 3.7641\n",
      "[890]\ttraining's rmse: 3.57473\tvalid_1's rmse: 3.76428\n",
      "[900]\ttraining's rmse: 3.57419\tvalid_1's rmse: 3.76436\n",
      "[910]\ttraining's rmse: 3.57363\tvalid_1's rmse: 3.76448\n",
      "[920]\ttraining's rmse: 3.57285\tvalid_1's rmse: 3.76441\n",
      "[930]\ttraining's rmse: 3.57205\tvalid_1's rmse: 3.76404\n",
      "[940]\ttraining's rmse: 3.57118\tvalid_1's rmse: 3.76385\n",
      "[950]\ttraining's rmse: 3.57056\tvalid_1's rmse: 3.76391\n",
      "[960]\ttraining's rmse: 3.56968\tvalid_1's rmse: 3.76397\n",
      "[970]\ttraining's rmse: 3.56896\tvalid_1's rmse: 3.76389\n",
      "[980]\ttraining's rmse: 3.56835\tvalid_1's rmse: 3.76365\n",
      "[990]\ttraining's rmse: 3.56745\tvalid_1's rmse: 3.76365\n",
      "[1000]\ttraining's rmse: 3.56665\tvalid_1's rmse: 3.76357\n",
      "[1010]\ttraining's rmse: 3.566\tvalid_1's rmse: 3.76351\n",
      "[1020]\ttraining's rmse: 3.56506\tvalid_1's rmse: 3.76343\n",
      "[1030]\ttraining's rmse: 3.56428\tvalid_1's rmse: 3.76351\n",
      "[1040]\ttraining's rmse: 3.56327\tvalid_1's rmse: 3.76336\n",
      "[1050]\ttraining's rmse: 3.56261\tvalid_1's rmse: 3.76329\n",
      "[1060]\ttraining's rmse: 3.56203\tvalid_1's rmse: 3.76329\n",
      "[1070]\ttraining's rmse: 3.56122\tvalid_1's rmse: 3.76324\n",
      "[1080]\ttraining's rmse: 3.56052\tvalid_1's rmse: 3.76326\n",
      "[1090]\ttraining's rmse: 3.55976\tvalid_1's rmse: 3.76327\n",
      "[1100]\ttraining's rmse: 3.55918\tvalid_1's rmse: 3.76335\n",
      "[1110]\ttraining's rmse: 3.55858\tvalid_1's rmse: 3.76343\n",
      "[1120]\ttraining's rmse: 3.55768\tvalid_1's rmse: 3.76335\n",
      "[1130]\ttraining's rmse: 3.55691\tvalid_1's rmse: 3.76339\n",
      "[1140]\ttraining's rmse: 3.55617\tvalid_1's rmse: 3.76342\n",
      "[1150]\ttraining's rmse: 3.55526\tvalid_1's rmse: 3.76345\n",
      "[1160]\ttraining's rmse: 3.55436\tvalid_1's rmse: 3.76346\n",
      "[1170]\ttraining's rmse: 3.55364\tvalid_1's rmse: 3.76348\n",
      "Early stopping, best iteration is:\n",
      "[1078]\ttraining's rmse: 3.56066\tvalid_1's rmse: 3.76318\n",
      "fold n°3\n",
      "[LightGBM] [Warning] Unknown parameter: bagging_fractions\n",
      "Training until validation scores don't improve for 100 rounds\n",
      "[10]\ttraining's rmse: 3.78795\tvalid_1's rmse: 3.7756\n",
      "[20]\ttraining's rmse: 3.76079\tvalid_1's rmse: 3.75221\n",
      "[30]\ttraining's rmse: 3.7402\tvalid_1's rmse: 3.73363\n",
      "[40]\ttraining's rmse: 3.72667\tvalid_1's rmse: 3.72185\n",
      "[50]\ttraining's rmse: 3.71986\tvalid_1's rmse: 3.71672\n",
      "[60]\ttraining's rmse: 3.71337\tvalid_1's rmse: 3.71185\n",
      "[70]\ttraining's rmse: 3.70794\tvalid_1's rmse: 3.70758\n",
      "[80]\ttraining's rmse: 3.70321\tvalid_1's rmse: 3.70377\n",
      "[90]\ttraining's rmse: 3.6992\tvalid_1's rmse: 3.70061\n",
      "[100]\ttraining's rmse: 3.69578\tvalid_1's rmse: 3.69834\n",
      "[110]\ttraining's rmse: 3.69224\tvalid_1's rmse: 3.69596\n",
      "[120]\ttraining's rmse: 3.68987\tvalid_1's rmse: 3.69474\n",
      "[130]\ttraining's rmse: 3.68686\tvalid_1's rmse: 3.69309\n",
      "[140]\ttraining's rmse: 3.68402\tvalid_1's rmse: 3.69114\n",
      "[150]\ttraining's rmse: 3.68174\tvalid_1's rmse: 3.68994\n",
      "[160]\ttraining's rmse: 3.67962\tvalid_1's rmse: 3.68855\n",
      "[170]\ttraining's rmse: 3.6781\tvalid_1's rmse: 3.68779\n",
      "[180]\ttraining's rmse: 3.67657\tvalid_1's rmse: 3.68715\n",
      "[190]\ttraining's rmse: 3.6749\tvalid_1's rmse: 3.68663\n",
      "[200]\ttraining's rmse: 3.67346\tvalid_1's rmse: 3.68596\n",
      "[210]\ttraining's rmse: 3.67181\tvalid_1's rmse: 3.68545\n",
      "[220]\ttraining's rmse: 3.67016\tvalid_1's rmse: 3.68469\n",
      "[230]\ttraining's rmse: 3.66898\tvalid_1's rmse: 3.68442\n",
      "[240]\ttraining's rmse: 3.66774\tvalid_1's rmse: 3.68373\n",
      "[250]\ttraining's rmse: 3.66616\tvalid_1's rmse: 3.68271\n",
      "[260]\ttraining's rmse: 3.66478\tvalid_1's rmse: 3.68228\n",
      "[270]\ttraining's rmse: 3.66334\tvalid_1's rmse: 3.68177\n",
      "[280]\ttraining's rmse: 3.66226\tvalid_1's rmse: 3.68151\n",
      "[290]\ttraining's rmse: 3.66035\tvalid_1's rmse: 3.68045\n",
      "[300]\ttraining's rmse: 3.65921\tvalid_1's rmse: 3.68003\n",
      "[310]\ttraining's rmse: 3.65814\tvalid_1's rmse: 3.67983\n",
      "[320]\ttraining's rmse: 3.65723\tvalid_1's rmse: 3.67989\n",
      "[330]\ttraining's rmse: 3.65575\tvalid_1's rmse: 3.67977\n",
      "[340]\ttraining's rmse: 3.65429\tvalid_1's rmse: 3.67956\n",
      "[350]\ttraining's rmse: 3.6531\tvalid_1's rmse: 3.67917\n",
      "[360]\ttraining's rmse: 3.65203\tvalid_1's rmse: 3.67881\n",
      "[370]\ttraining's rmse: 3.65112\tvalid_1's rmse: 3.67875\n",
      "[380]\ttraining's rmse: 3.6501\tvalid_1's rmse: 3.67862\n",
      "[390]\ttraining's rmse: 3.64919\tvalid_1's rmse: 3.67847\n",
      "[400]\ttraining's rmse: 3.64795\tvalid_1's rmse: 3.67818\n",
      "[410]\ttraining's rmse: 3.64718\tvalid_1's rmse: 3.67806\n",
      "[420]\ttraining's rmse: 3.64653\tvalid_1's rmse: 3.67801\n",
      "[430]\ttraining's rmse: 3.64559\tvalid_1's rmse: 3.67772\n",
      "[440]\ttraining's rmse: 3.6447\tvalid_1's rmse: 3.67771\n",
      "[450]\ttraining's rmse: 3.64307\tvalid_1's rmse: 3.67702\n",
      "[460]\ttraining's rmse: 3.6416\tvalid_1's rmse: 3.67649\n",
      "[470]\ttraining's rmse: 3.64031\tvalid_1's rmse: 3.67615\n",
      "[480]\ttraining's rmse: 3.63925\tvalid_1's rmse: 3.67601\n",
      "[490]\ttraining's rmse: 3.63826\tvalid_1's rmse: 3.67608\n",
      "[500]\ttraining's rmse: 3.6375\tvalid_1's rmse: 3.67604\n",
      "[510]\ttraining's rmse: 3.63685\tvalid_1's rmse: 3.67607\n",
      "[520]\ttraining's rmse: 3.63612\tvalid_1's rmse: 3.67609\n",
      "[530]\ttraining's rmse: 3.63536\tvalid_1's rmse: 3.67609\n",
      "[540]\ttraining's rmse: 3.63453\tvalid_1's rmse: 3.67586\n",
      "[550]\ttraining's rmse: 3.63331\tvalid_1's rmse: 3.67586\n",
      "[560]\ttraining's rmse: 3.63216\tvalid_1's rmse: 3.67575\n",
      "[570]\ttraining's rmse: 3.63128\tvalid_1's rmse: 3.67566\n",
      "[580]\ttraining's rmse: 3.63026\tvalid_1's rmse: 3.67516\n",
      "[590]\ttraining's rmse: 3.62934\tvalid_1's rmse: 3.67504\n",
      "[600]\ttraining's rmse: 3.62818\tvalid_1's rmse: 3.67487\n",
      "[610]\ttraining's rmse: 3.6273\tvalid_1's rmse: 3.67493\n",
      "[620]\ttraining's rmse: 3.62668\tvalid_1's rmse: 3.67471\n",
      "[630]\ttraining's rmse: 3.62545\tvalid_1's rmse: 3.67443\n",
      "[640]\ttraining's rmse: 3.62441\tvalid_1's rmse: 3.67399\n",
      "[650]\ttraining's rmse: 3.62335\tvalid_1's rmse: 3.67396\n",
      "[660]\ttraining's rmse: 3.62232\tvalid_1's rmse: 3.67399\n",
      "[670]\ttraining's rmse: 3.62147\tvalid_1's rmse: 3.67409\n",
      "[680]\ttraining's rmse: 3.62062\tvalid_1's rmse: 3.67394\n",
      "[690]\ttraining's rmse: 3.61976\tvalid_1's rmse: 3.67395\n",
      "[700]\ttraining's rmse: 3.61899\tvalid_1's rmse: 3.67394\n",
      "[710]\ttraining's rmse: 3.61815\tvalid_1's rmse: 3.67395\n",
      "[720]\ttraining's rmse: 3.61718\tvalid_1's rmse: 3.67402\n",
      "[730]\ttraining's rmse: 3.61618\tvalid_1's rmse: 3.67376\n",
      "[740]\ttraining's rmse: 3.61546\tvalid_1's rmse: 3.67382\n",
      "[750]\ttraining's rmse: 3.61492\tvalid_1's rmse: 3.67378\n",
      "[760]\ttraining's rmse: 3.61424\tvalid_1's rmse: 3.67374\n",
      "[770]\ttraining's rmse: 3.61378\tvalid_1's rmse: 3.67373\n",
      "[780]\ttraining's rmse: 3.61311\tvalid_1's rmse: 3.67355\n",
      "[790]\ttraining's rmse: 3.61217\tvalid_1's rmse: 3.6733\n",
      "[800]\ttraining's rmse: 3.61143\tvalid_1's rmse: 3.67331\n",
      "[810]\ttraining's rmse: 3.61087\tvalid_1's rmse: 3.67336\n",
      "[820]\ttraining's rmse: 3.60992\tvalid_1's rmse: 3.67316\n",
      "[830]\ttraining's rmse: 3.60928\tvalid_1's rmse: 3.67316\n",
      "[840]\ttraining's rmse: 3.6084\tvalid_1's rmse: 3.6731\n",
      "[850]\ttraining's rmse: 3.60748\tvalid_1's rmse: 3.67297\n",
      "[860]\ttraining's rmse: 3.60654\tvalid_1's rmse: 3.67282\n",
      "[870]\ttraining's rmse: 3.60584\tvalid_1's rmse: 3.67282\n",
      "[880]\ttraining's rmse: 3.60502\tvalid_1's rmse: 3.67291\n",
      "[890]\ttraining's rmse: 3.60411\tvalid_1's rmse: 3.67298\n",
      "[900]\ttraining's rmse: 3.60342\tvalid_1's rmse: 3.67303\n",
      "[910]\ttraining's rmse: 3.60254\tvalid_1's rmse: 3.67277\n",
      "[920]\ttraining's rmse: 3.60153\tvalid_1's rmse: 3.67269\n",
      "[930]\ttraining's rmse: 3.60081\tvalid_1's rmse: 3.67258\n"
     ]
    },
    {
     "name": "stdout",
     "output_type": "stream",
     "text": [
      "[940]\ttraining's rmse: 3.60002\tvalid_1's rmse: 3.67267\n",
      "[950]\ttraining's rmse: 3.59928\tvalid_1's rmse: 3.67262\n",
      "[960]\ttraining's rmse: 3.59842\tvalid_1's rmse: 3.67261\n",
      "[970]\ttraining's rmse: 3.59779\tvalid_1's rmse: 3.6729\n",
      "[980]\ttraining's rmse: 3.59679\tvalid_1's rmse: 3.67292\n",
      "[990]\ttraining's rmse: 3.59598\tvalid_1's rmse: 3.67317\n",
      "[1000]\ttraining's rmse: 3.59536\tvalid_1's rmse: 3.67313\n",
      "[1010]\ttraining's rmse: 3.59467\tvalid_1's rmse: 3.67313\n",
      "[1020]\ttraining's rmse: 3.59396\tvalid_1's rmse: 3.67298\n",
      "[1030]\ttraining's rmse: 3.59299\tvalid_1's rmse: 3.67296\n",
      "[1040]\ttraining's rmse: 3.59234\tvalid_1's rmse: 3.67275\n",
      "[1050]\ttraining's rmse: 3.59184\tvalid_1's rmse: 3.67278\n",
      "Early stopping, best iteration is:\n",
      "[959]\ttraining's rmse: 3.59849\tvalid_1's rmse: 3.67256\n",
      "Model: LGB; RMSE: 3.63 ; Improvement of: 6.70%\n"
     ]
    }
   ],
   "source": [
    "#train/test indices to split data in train/test sets -> each fold is then used once as a validation while the k - 1 remaining folds form the training set\n",
    "folds             = KFold(n_splits=4,shuffle=True,random_state=15)\n",
    "X                 = train\n",
    "y                 = target\n",
    "param             = param3\n",
    "num_boost_rounds  = 10000\n",
    "early_stopping    = 100\n",
    "out_of_folds      = np.zeros(len(X))\n",
    "predictions       = np.zeros(len(y))\n",
    "feature_importance= pd.DataFrame()\n",
    "evals_result      = {}\n",
    "\n",
    "# for-loop to split data in n training and validation sets and perfom LGBM on every fold\n",
    "for fold, (train_ind,val_ind) in enumerate(folds.split(X,y)):\n",
    "    print(\"fold n°{}\".format(fold))\n",
    "    \n",
    "    #training&validation sets\n",
    "    training=lgb.Dataset(X.iloc[train_ind],label=y.iloc[train_ind])\n",
    "    validation=lgb.Dataset(X.iloc[val_ind],label=y.iloc[val_ind])\n",
    "    \n",
    "    #training for each fold:\n",
    "    lgb2=lgb.train(param1,training,valid_sets = [training,validation], verbose_eval=10,num_boost_round=num_boost_rounds,\n",
    "                   early_stopping_rounds = early_stopping  , evals_result = evals_result)\n",
    "    \n",
    "    #predictions on validation fold -> OOF:\"Out-of-fold\" -> using k-fold validation in which the predictions from each set of folds are grouped together into one group of 1000 predictions\n",
    "    out_of_folds[val_ind] = lgb2.predict(X.iloc[val_ind], num_iteration=lgb2.best_iteration)\n",
    "    \n",
    "    #storing in feature importance\n",
    "    fold_importance= pd.DataFrame()\n",
    "    fold_importance[\"feature\"] = features\n",
    "    fold_importance[\"importance\"] = lgb2.feature_importance()\n",
    "    fold_importance[\"fold\"] = fold + 1\n",
    "    feature_importance = pd.concat([feature_importance, fold_importance], axis=0)\n",
    "    \n",
    "lgb_evaluation(lgb2)"
   ]
  },
  {
   "cell_type": "code",
   "execution_count": 60,
   "metadata": {
    "_uuid": "a72d35fcc6e0b01c41b15987190a216badf81af6",
    "execution": {
     "iopub.execute_input": "2022-07-19T15:20:32.659551Z",
     "iopub.status.busy": "2022-07-19T15:20:32.654931Z",
     "iopub.status.idle": "2022-07-19T15:20:32.667176Z",
     "shell.execute_reply": "2022-07-19T15:20:32.666083Z",
     "shell.execute_reply.started": "2022-07-19T15:20:32.659459Z"
    },
    "scrolled": true
   },
   "outputs": [
    {
     "data": {
      "text/plain": [
       "defaultdict(collections.OrderedDict,\n",
       "            {'training': OrderedDict([('rmse', 3.5984876019861685)]),\n",
       "             'valid_1': OrderedDict([('rmse', 3.672561965678951)])})"
      ]
     },
     "execution_count": 60,
     "metadata": {},
     "output_type": "execute_result"
    }
   ],
   "source": [
    "lgb2.best_score"
   ]
  },
  {
   "cell_type": "markdown",
   "metadata": {
    "_uuid": "143e4d17a3caad2e95fb748de4c1f4828b73a2b6"
   },
   "source": [
    "We can nicely see how the training score keeps improving while overfitting the train and the validation score stagnates."
   ]
  },
  {
   "cell_type": "code",
   "execution_count": 68,
   "metadata": {
    "_uuid": "57cd9bda6ee72745c31441ecb5a9b7b9abc0ed1f",
    "execution": {
     "iopub.execute_input": "2022-07-19T15:20:32.669561Z",
     "iopub.status.busy": "2022-07-19T15:20:32.669144Z",
     "iopub.status.idle": "2022-07-19T15:20:32.882479Z",
     "shell.execute_reply": "2022-07-19T15:20:32.881712Z",
     "shell.execute_reply.started": "2022-07-19T15:20:32.669499Z"
    },
    "scrolled": true
   },
   "outputs": [
    {
     "data": {
      "image/png": "[encoded data removed]",
      "text/plain": [
       "<Figure size 432x288 with 1 Axes>"
      ]
     },
     "metadata": {
      "needs_background": "light"
     },
     "output_type": "display_data"
    }
   ],
   "source": [
    "_ = lgb.plot_metric(evals_result, metric='rmse')"
   ]
  },
  {
   "cell_type": "markdown",
   "metadata": {
    "_uuid": "e913fac11e6e10f3dac914aa49996b024dbefa0c"
   },
   "source": [
    "<a id=\"3.3.2\"></a> <br>\n",
    "### 3.3.2 Feature Importance"
   ]
  },
  {
   "cell_type": "markdown",
   "metadata": {
    "_uuid": "4391990511349084491441d39418fe31de2e3a09"
   },
   "source": [
    "LGBM provides us the importance of the features, like every other tree, without extra effort. We can clearly see that the LGBM **gained to most** when he used features which have been created by the **purchase amount** of an customer."
   ]
  },
  {
   "cell_type": "code",
   "execution_count": 69,
   "metadata": {
    "_uuid": "e5c48756d62fbc2b6074992ee0d9f730484e2f1d",
    "execution": {
     "iopub.execute_input": "2022-07-19T15:20:32.884734Z",
     "iopub.status.busy": "2022-07-19T15:20:32.883971Z",
     "iopub.status.idle": "2022-07-19T15:20:32.917700Z",
     "shell.execute_reply": "2022-07-19T15:20:32.916022Z",
     "shell.execute_reply.started": "2022-07-19T15:20:32.884645Z"
    }
   },
   "outputs": [
    {
     "data": {
      "text/html": [
       "<div>\n",
       "<style scoped>\n",
       "    .dataframe tbody tr th:only-of-type {\n",
       "        vertical-align: middle;\n",
       "    }\n",
       "\n",
       "    .dataframe tbody tr th {\n",
       "        vertical-align: top;\n",
       "    }\n",
       "\n",
       "    .dataframe thead th {\n",
       "        text-align: right;\n",
       "    }\n",
       "</style>\n",
       "<table border=\"1\" class=\"dataframe\">\n",
       "  <thead>\n",
       "    <tr style=\"text-align: right;\">\n",
       "      <th></th>\n",
       "      <th>feature</th>\n",
       "      <th>importance</th>\n",
       "      <th>fold</th>\n",
       "    </tr>\n",
       "  </thead>\n",
       "  <tbody>\n",
       "    <tr>\n",
       "      <th>71</th>\n",
       "      <td>hist_purchase_date_max_y</td>\n",
       "      <td>355</td>\n",
       "      <td>1</td>\n",
       "    </tr>\n",
       "    <tr>\n",
       "      <th>36</th>\n",
       "      <td>hist_purchase_date_max_x</td>\n",
       "      <td>331</td>\n",
       "      <td>1</td>\n",
       "    </tr>\n",
       "    <tr>\n",
       "      <th>65</th>\n",
       "      <td>hist_purchase_month_mean_y</td>\n",
       "      <td>329</td>\n",
       "      <td>1</td>\n",
       "    </tr>\n",
       "    <tr>\n",
       "      <th>71</th>\n",
       "      <td>hist_purchase_date_max_y</td>\n",
       "      <td>309</td>\n",
       "      <td>3</td>\n",
       "    </tr>\n",
       "    <tr>\n",
       "      <th>36</th>\n",
       "      <td>hist_purchase_date_max_x</td>\n",
       "      <td>309</td>\n",
       "      <td>3</td>\n",
       "    </tr>\n",
       "    <tr>\n",
       "      <th>71</th>\n",
       "      <td>hist_purchase_date_max_y</td>\n",
       "      <td>306</td>\n",
       "      <td>4</td>\n",
       "    </tr>\n",
       "    <tr>\n",
       "      <th>65</th>\n",
       "      <td>hist_purchase_month_mean_y</td>\n",
       "      <td>306</td>\n",
       "      <td>3</td>\n",
       "    </tr>\n",
       "    <tr>\n",
       "      <th>36</th>\n",
       "      <td>hist_purchase_date_max_x</td>\n",
       "      <td>287</td>\n",
       "      <td>4</td>\n",
       "    </tr>\n",
       "    <tr>\n",
       "      <th>36</th>\n",
       "      <td>hist_purchase_date_max_x</td>\n",
       "      <td>286</td>\n",
       "      <td>2</td>\n",
       "    </tr>\n",
       "    <tr>\n",
       "      <th>5</th>\n",
       "      <td>hist_category_1_sum_x</td>\n",
       "      <td>264</td>\n",
       "      <td>1</td>\n",
       "    </tr>\n",
       "  </tbody>\n",
       "</table>\n",
       "</div>"
      ],
      "text/plain": [
       "                       feature  importance  fold\n",
       "71    hist_purchase_date_max_y         355     1\n",
       "36    hist_purchase_date_max_x         331     1\n",
       "65  hist_purchase_month_mean_y         329     1\n",
       "71    hist_purchase_date_max_y         309     3\n",
       "36    hist_purchase_date_max_x         309     3\n",
       "71    hist_purchase_date_max_y         306     4\n",
       "65  hist_purchase_month_mean_y         306     3\n",
       "36    hist_purchase_date_max_x         287     4\n",
       "36    hist_purchase_date_max_x         286     2\n",
       "5        hist_category_1_sum_x         264     1"
      ]
     },
     "execution_count": 69,
     "metadata": {},
     "output_type": "execute_result"
    }
   ],
   "source": [
    "feature_importance.sort_values(by=['importance'],ascending=False).head(10)"
   ]
  },
  {
   "cell_type": "code",
   "execution_count": 78,
   "metadata": {
    "_uuid": "4cfaf37877347eb968a6775829f076ffb5692e6e",
    "execution": {
     "iopub.execute_input": "2022-07-19T15:20:32.920891Z",
     "iopub.status.busy": "2022-07-19T15:20:32.919978Z",
     "iopub.status.idle": "2022-07-19T15:20:36.724920Z",
     "shell.execute_reply": "2022-07-19T15:20:36.724023Z",
     "shell.execute_reply.started": "2022-07-19T15:20:32.920808Z"
    },
    "scrolled": true
   },
   "outputs": [
    {
     "data": {
      "image/png": "[encoded data removed]",
      "text/plain": [
       "<Figure size 864x1440 with 1 Axes>"
      ]
     },
     "metadata": {
      "needs_background": "light"
     },
     "output_type": "display_data"
    }
   ],
   "source": [
    "# Group by feature\n",
    "agg_features = (feature_importance[[\"feature\",\"importance\"]].groupby(\"feature\").mean().sort_values(by=\"importance\",ascending=False)[:1000].index)\n",
    "best_features = feature_importance.loc[feature_importance.feature.isin(agg_features)]\n",
    "\n",
    "# Plot feature importance\n",
    "plt.figure(figsize=(12,20))\n",
    "sns.barplot(x=\"importance\", y=\"feature\", data=best_features.sort_values(by=\"importance\", ascending=False))\n",
    "plt.title('LightGBM Features (avg over folds)');plt.tight_layout()"
   ]
  },
  {
   "cell_type": "code",
   "execution_count": 95,
   "metadata": {
    "_uuid": "ced50e2fce0d4943b731078ffd2ccbcdd575227b",
    "execution": {
     "iopub.execute_input": "2022-07-19T15:20:36.726737Z",
     "iopub.status.busy": "2022-07-19T15:20:36.726443Z",
     "iopub.status.idle": "2022-07-19T15:20:40.230113Z",
     "shell.execute_reply": "2022-07-19T15:20:40.228979Z",
     "shell.execute_reply.started": "2022-07-19T15:20:36.726684Z"
    }
   },
   "outputs": [],
   "source": [
    "predictions = lgb2.predict(test)\n",
    "elo_sub_XX = pd.DataFrame({\"card_id\":org_test[\"card_id\"].values})\n",
    "elo_sub_XX[\"target\"] = predictions\n",
    "elo_sub_XX.to_csv(\"submission.csv\", index=False)"
   ]
  },
  {
   "cell_type": "markdown",
   "metadata": {
    "_uuid": "227b95c1e1bb8105b87b7cef4474c59aea77f2db"
   },
   "source": [
    "<a id=\"3.4\"></a> <br>\n",
    "### 3.4 Models without Outliers"
   ]
  },
  {
   "cell_type": "code",
   "execution_count": 101,
   "metadata": {},
   "outputs": [
    {
     "data": {
      "text/html": [
       "<div>\n",
       "<style scoped>\n",
       "    .dataframe tbody tr th:only-of-type {\n",
       "        vertical-align: middle;\n",
       "    }\n",
       "\n",
       "    .dataframe tbody tr th {\n",
       "        vertical-align: top;\n",
       "    }\n",
       "\n",
       "    .dataframe thead th {\n",
       "        text-align: right;\n",
       "    }\n",
       "</style>\n",
       "<table border=\"1\" class=\"dataframe\">\n",
       "  <thead>\n",
       "    <tr style=\"text-align: right;\">\n",
       "      <th></th>\n",
       "      <th>feature_1</th>\n",
       "      <th>feature_2</th>\n",
       "      <th>feature_3</th>\n",
       "    </tr>\n",
       "  </thead>\n",
       "  <tbody>\n",
       "    <tr>\n",
       "      <th>0</th>\n",
       "      <td>5</td>\n",
       "      <td>2</td>\n",
       "      <td>1</td>\n",
       "    </tr>\n",
       "    <tr>\n",
       "      <th>1</th>\n",
       "      <td>4</td>\n",
       "      <td>1</td>\n",
       "      <td>0</td>\n",
       "    </tr>\n",
       "    <tr>\n",
       "      <th>2</th>\n",
       "      <td>2</td>\n",
       "      <td>2</td>\n",
       "      <td>0</td>\n",
       "    </tr>\n",
       "    <tr>\n",
       "      <th>3</th>\n",
       "      <td>4</td>\n",
       "      <td>3</td>\n",
       "      <td>0</td>\n",
       "    </tr>\n",
       "    <tr>\n",
       "      <th>4</th>\n",
       "      <td>1</td>\n",
       "      <td>3</td>\n",
       "      <td>0</td>\n",
       "    </tr>\n",
       "    <tr>\n",
       "      <th>...</th>\n",
       "      <td>...</td>\n",
       "      <td>...</td>\n",
       "      <td>...</td>\n",
       "    </tr>\n",
       "    <tr>\n",
       "      <th>201912</th>\n",
       "      <td>3</td>\n",
       "      <td>2</td>\n",
       "      <td>1</td>\n",
       "    </tr>\n",
       "    <tr>\n",
       "      <th>201913</th>\n",
       "      <td>3</td>\n",
       "      <td>1</td>\n",
       "      <td>1</td>\n",
       "    </tr>\n",
       "    <tr>\n",
       "      <th>201914</th>\n",
       "      <td>4</td>\n",
       "      <td>3</td>\n",
       "      <td>0</td>\n",
       "    </tr>\n",
       "    <tr>\n",
       "      <th>201915</th>\n",
       "      <td>3</td>\n",
       "      <td>2</td>\n",
       "      <td>1</td>\n",
       "    </tr>\n",
       "    <tr>\n",
       "      <th>201916</th>\n",
       "      <td>3</td>\n",
       "      <td>1</td>\n",
       "      <td>1</td>\n",
       "    </tr>\n",
       "  </tbody>\n",
       "</table>\n",
       "<p>199710 rows × 3 columns</p>\n",
       "</div>"
      ],
      "text/plain": [
       "        feature_1  feature_2  feature_3\n",
       "0               5          2          1\n",
       "1               4          1          0\n",
       "2               2          2          0\n",
       "3               4          3          0\n",
       "4               1          3          0\n",
       "...           ...        ...        ...\n",
       "201912          3          2          1\n",
       "201913          3          1          1\n",
       "201914          4          3          0\n",
       "201915          3          2          1\n",
       "201916          3          1          1\n",
       "\n",
       "[199710 rows x 3 columns]"
      ]
     },
     "execution_count": 101,
     "metadata": {},
     "output_type": "execute_result"
    }
   ],
   "source": [
    "# org_test.shape\n",
    "\n",
    "# X_train_clean = X_train_clean.drop(['target','outliers'],axis=1)\n",
    "# X_test_clean = X_test_clean.drop(['target','outliers'],axis=1)\n",
    "# test_data = org_test.drop(['first_active_month','card_id'],axis=1)\n",
    "# test_data\n",
    "\n",
    "X_train_cl = clean_train.drop(['target','outliers'],axis=1)\n",
    "X_train_cl"
   ]
  },
  {
   "cell_type": "code",
   "execution_count": 113,
   "metadata": {},
   "outputs": [
    {
     "data": {
      "text/html": [
       "<div>\n",
       "<style scoped>\n",
       "    .dataframe tbody tr th:only-of-type {\n",
       "        vertical-align: middle;\n",
       "    }\n",
       "\n",
       "    .dataframe tbody tr th {\n",
       "        vertical-align: top;\n",
       "    }\n",
       "\n",
       "    .dataframe thead th {\n",
       "        text-align: right;\n",
       "    }\n",
       "</style>\n",
       "<table border=\"1\" class=\"dataframe\">\n",
       "  <thead>\n",
       "    <tr style=\"text-align: right;\">\n",
       "      <th></th>\n",
       "      <th>feature_1</th>\n",
       "      <th>feature_2</th>\n",
       "      <th>feature_3</th>\n",
       "    </tr>\n",
       "  </thead>\n",
       "  <tbody>\n",
       "    <tr>\n",
       "      <th>0</th>\n",
       "      <td>5</td>\n",
       "      <td>2</td>\n",
       "      <td>1</td>\n",
       "    </tr>\n",
       "    <tr>\n",
       "      <th>1</th>\n",
       "      <td>4</td>\n",
       "      <td>1</td>\n",
       "      <td>0</td>\n",
       "    </tr>\n",
       "    <tr>\n",
       "      <th>2</th>\n",
       "      <td>2</td>\n",
       "      <td>2</td>\n",
       "      <td>0</td>\n",
       "    </tr>\n",
       "    <tr>\n",
       "      <th>3</th>\n",
       "      <td>4</td>\n",
       "      <td>3</td>\n",
       "      <td>0</td>\n",
       "    </tr>\n",
       "    <tr>\n",
       "      <th>4</th>\n",
       "      <td>1</td>\n",
       "      <td>3</td>\n",
       "      <td>0</td>\n",
       "    </tr>\n",
       "    <tr>\n",
       "      <th>...</th>\n",
       "      <td>...</td>\n",
       "      <td>...</td>\n",
       "      <td>...</td>\n",
       "    </tr>\n",
       "    <tr>\n",
       "      <th>201912</th>\n",
       "      <td>3</td>\n",
       "      <td>2</td>\n",
       "      <td>1</td>\n",
       "    </tr>\n",
       "    <tr>\n",
       "      <th>201913</th>\n",
       "      <td>3</td>\n",
       "      <td>1</td>\n",
       "      <td>1</td>\n",
       "    </tr>\n",
       "    <tr>\n",
       "      <th>201914</th>\n",
       "      <td>4</td>\n",
       "      <td>3</td>\n",
       "      <td>0</td>\n",
       "    </tr>\n",
       "    <tr>\n",
       "      <th>201915</th>\n",
       "      <td>3</td>\n",
       "      <td>2</td>\n",
       "      <td>1</td>\n",
       "    </tr>\n",
       "    <tr>\n",
       "      <th>201916</th>\n",
       "      <td>3</td>\n",
       "      <td>1</td>\n",
       "      <td>1</td>\n",
       "    </tr>\n",
       "  </tbody>\n",
       "</table>\n",
       "<p>199710 rows × 3 columns</p>\n",
       "</div>"
      ],
      "text/plain": [
       "        feature_1  feature_2  feature_3\n",
       "0               5          2          1\n",
       "1               4          1          0\n",
       "2               2          2          0\n",
       "3               4          3          0\n",
       "4               1          3          0\n",
       "...           ...        ...        ...\n",
       "201912          3          2          1\n",
       "201913          3          1          1\n",
       "201914          4          3          0\n",
       "201915          3          2          1\n",
       "201916          3          1          1\n",
       "\n",
       "[199710 rows x 3 columns]"
      ]
     },
     "execution_count": 113,
     "metadata": {},
     "output_type": "execute_result"
    }
   ],
   "source": [
    "clean_train"
   ]
  },
  {
   "cell_type": "markdown",
   "metadata": {
    "_uuid": "8f851897480cfa816db38183d9cbd76fccaa1927"
   },
   "source": [
    "Finally we train our models on the data without outliers. The results have been quite imressive, apperently the only reason why our models did not perform have been the outliers."
   ]
  },
  {
   "cell_type": "code",
   "execution_count": 114,
   "metadata": {
    "_uuid": "5aec727c7aa4a81895d7987d031e6d4ac851ecce",
    "execution": {
     "iopub.execute_input": "2022-07-19T15:20:40.231961Z",
     "iopub.status.busy": "2022-07-19T15:20:40.231551Z",
     "iopub.status.idle": "2022-07-19T15:20:42.811339Z",
     "shell.execute_reply": "2022-07-19T15:20:42.810054Z",
     "shell.execute_reply.started": "2022-07-19T15:20:40.231917Z"
    },
    "scrolled": true
   },
   "outputs": [
    {
     "name": "stdout",
     "output_type": "stream",
     "text": [
      "fold n°0\n",
      "[LightGBM] [Warning] Unknown parameter: bagging_fractions\n",
      "Training until validation scores don't improve for 10 rounds\n",
      "[10]\ttraining's rmse: 1.71695\tvalid_1's rmse: 1.72075\n",
      "Early stopping, best iteration is:\n",
      "[1]\ttraining's rmse: 1.71705\tvalid_1's rmse: 1.72073\n",
      "fold n°1\n",
      "[LightGBM] [Warning] Unknown parameter: bagging_fractions\n",
      "Training until validation scores don't improve for 10 rounds\n",
      "[10]\ttraining's rmse: 1.71696\tvalid_1's rmse: 1.72077\n",
      "[20]\ttraining's rmse: 1.71689\tvalid_1's rmse: 1.7207\n",
      "[30]\ttraining's rmse: 1.71686\tvalid_1's rmse: 1.72069\n",
      "[40]\ttraining's rmse: 1.71684\tvalid_1's rmse: 1.72067\n",
      "[50]\ttraining's rmse: 1.71684\tvalid_1's rmse: 1.72067\n",
      "[60]\ttraining's rmse: 1.71683\tvalid_1's rmse: 1.72067\n",
      "[70]\ttraining's rmse: 1.71682\tvalid_1's rmse: 1.72067\n",
      "[80]\ttraining's rmse: 1.71682\tvalid_1's rmse: 1.72066\n",
      "Early stopping, best iteration is:\n",
      "[73]\ttraining's rmse: 1.71682\tvalid_1's rmse: 1.72066\n",
      "fold n°2\n",
      "[LightGBM] [Warning] Unknown parameter: bagging_fractions\n",
      "Training until validation scores don't improve for 10 rounds\n",
      "[10]\ttraining's rmse: 1.72187\tvalid_1's rmse: 1.70106\n",
      "[20]\ttraining's rmse: 1.72181\tvalid_1's rmse: 1.70095\n",
      "[30]\ttraining's rmse: 1.7218\tvalid_1's rmse: 1.70092\n",
      "[40]\ttraining's rmse: 1.72178\tvalid_1's rmse: 1.70088\n",
      "[50]\ttraining's rmse: 1.72177\tvalid_1's rmse: 1.70086\n",
      "[60]\ttraining's rmse: 1.72177\tvalid_1's rmse: 1.70084\n",
      "[70]\ttraining's rmse: 1.72177\tvalid_1's rmse: 1.70084\n",
      "[80]\ttraining's rmse: 1.72176\tvalid_1's rmse: 1.70083\n",
      "[90]\ttraining's rmse: 1.72176\tvalid_1's rmse: 1.70082\n",
      "[100]\ttraining's rmse: 1.72176\tvalid_1's rmse: 1.70081\n",
      "Did not meet early stopping. Best iteration is:\n",
      "[100]\ttraining's rmse: 1.72176\tvalid_1's rmse: 1.70081\n",
      "fold n°3\n",
      "[LightGBM] [Warning] Unknown parameter: bagging_fractions\n",
      "Training until validation scores don't improve for 10 rounds\n",
      "[10]\ttraining's rmse: 1.71694\tvalid_1's rmse: 1.72084\n",
      "[20]\ttraining's rmse: 1.71687\tvalid_1's rmse: 1.72079\n",
      "[30]\ttraining's rmse: 1.71684\tvalid_1's rmse: 1.72079\n",
      "[40]\ttraining's rmse: 1.71683\tvalid_1's rmse: 1.72077\n",
      "[50]\ttraining's rmse: 1.71682\tvalid_1's rmse: 1.72077\n",
      "[60]\ttraining's rmse: 1.71681\tvalid_1's rmse: 1.72076\n",
      "[70]\ttraining's rmse: 1.71681\tvalid_1's rmse: 1.72076\n",
      "Early stopping, best iteration is:\n",
      "[62]\ttraining's rmse: 1.71681\tvalid_1's rmse: 1.72076\n",
      "fold n°4\n",
      "[LightGBM] [Warning] Unknown parameter: bagging_fractions\n",
      "Training until validation scores don't improve for 10 rounds\n",
      "[10]\ttraining's rmse: 1.71586\tvalid_1's rmse: 1.72523\n",
      "[20]\ttraining's rmse: 1.7158\tvalid_1's rmse: 1.72513\n",
      "[30]\ttraining's rmse: 1.71579\tvalid_1's rmse: 1.7251\n",
      "[40]\ttraining's rmse: 1.71577\tvalid_1's rmse: 1.72507\n",
      "[50]\ttraining's rmse: 1.71576\tvalid_1's rmse: 1.72505\n",
      "[60]\ttraining's rmse: 1.71576\tvalid_1's rmse: 1.72504\n",
      "[70]\ttraining's rmse: 1.71576\tvalid_1's rmse: 1.72504\n",
      "Early stopping, best iteration is:\n",
      "[60]\ttraining's rmse: 1.71576\tvalid_1's rmse: 1.72504\n",
      "Model: LGB; RMSE: 1.71 ; Improvement of: 126.81%\n"
     ]
    }
   ],
   "source": [
    "#train/test indices to split data in train/test sets -> each fold is then used once as a validation while the k - 1 remaining folds form the training set\n",
    "folds             = KFold(n_splits=5,shuffle=True,random_state=15)\n",
    "X                 = clean_train\n",
    "y                 = clean_target\n",
    "param             = param3\n",
    "num_boost_rounds  = 100\n",
    "early_stopping    = 10\n",
    "out_of_folds      = np.zeros(len(X))\n",
    "predictions       = np.zeros(len(y))\n",
    "feature_importance= pd.DataFrame()\n",
    "evals_result      = {}\n",
    "\n",
    "# for-loop to split data in n training and validation sets and perfom LGBM on every fold\n",
    "for fold, (train_ind,val_ind) in enumerate(folds.split(X,y)):\n",
    "    print(\"fold n°{}\".format(fold))\n",
    "    \n",
    "    #training&validation sets\n",
    "    training=lgb.Dataset(X.iloc[train_ind],label=y.iloc[train_ind])\n",
    "    validation=lgb.Dataset(X.iloc[val_ind],label=y.iloc[val_ind])\n",
    "    \n",
    "    #training for each fold:\n",
    "    lgb_clean=lgb.train(param1,training,valid_sets = [training,validation], verbose_eval=10,num_boost_round=num_boost_rounds,\n",
    "                   early_stopping_rounds = early_stopping  , evals_result = evals_result)\n",
    "    \n",
    "    #predictions on validation fold -> OOF:\"Out-of-fold\" -> using k-fold validation in which the predictions from each set of folds are grouped together into one group of 1000 predictions\n",
    "    out_of_folds[val_ind] = lgb_clean.predict(X.iloc[val_ind], num_iteration=lgb_clean.best_iteration)\n",
    "\n",
    "    \n",
    "lgb_evaluation(lgb_clean ,X_train = X_train_clean, y_train = y_train_clean,\n",
    "           X_test = X_test_clean, y_test = y_test_clean );"
   ]
  },
  {
   "cell_type": "code",
   "execution_count": 115,
   "metadata": {
    "_uuid": "85956f67f0df6e18e604bcb05e9f251dba89681e",
    "execution": {
     "iopub.execute_input": "2022-07-19T15:20:42.820245Z",
     "iopub.status.busy": "2022-07-19T15:20:42.818563Z",
     "iopub.status.idle": "2022-07-19T15:20:42.825866Z",
     "shell.execute_reply": "2022-07-19T15:20:42.825149Z",
     "shell.execute_reply.started": "2022-07-19T15:20:42.820159Z"
    }
   },
   "outputs": [
    {
     "data": {
      "text/plain": [
       "defaultdict(collections.OrderedDict,\n",
       "            {'training': OrderedDict([('rmse', 1.7157570739685584)]),\n",
       "             'valid_1': OrderedDict([('rmse', 1.725040496382501)])})"
      ]
     },
     "execution_count": 115,
     "metadata": {},
     "output_type": "execute_result"
    }
   ],
   "source": [
    "lgb_clean.best_score"
   ]
  },
  {
   "cell_type": "markdown",
   "metadata": {
    "_uuid": "713920aa8b0e05a3ba018e8d22af68f2da50d026"
   },
   "source": [
    "Even the Linear Models are providing really good results now. "
   ]
  },
  {
   "cell_type": "code",
   "execution_count": 116,
   "metadata": {
    "_uuid": "67b19dce09e7f8519ee280368e906de161b35da3",
    "execution": {
     "iopub.execute_input": "2022-07-19T15:20:42.827620Z",
     "iopub.status.busy": "2022-07-19T15:20:42.827135Z",
     "iopub.status.idle": "2022-07-19T15:20:42.941706Z",
     "shell.execute_reply": "2022-07-19T15:20:42.934929Z",
     "shell.execute_reply.started": "2022-07-19T15:20:42.827576Z"
    }
   },
   "outputs": [
    {
     "name": "stdout",
     "output_type": "stream",
     "text": [
      "Model: LinearRegression ; RMSE: 1.71 ; Improvement of: 126.80%\n",
      "Model: Lasso ; RMSE: 1.71 ; Improvement of: 126.78%\n",
      "Model: Ridge ; RMSE: 1.71 ; Improvement of: 126.80%\n",
      "Model: ElasticNet ; RMSE: 1.71 ; Improvement of: 126.78%\n"
     ]
    }
   ],
   "source": [
    "linReg=LinearRegression()\n",
    "logReg=LogisticRegression()\n",
    "lasso=Lasso(alpha=0.9)\n",
    "ridge=Ridge(alpha=0.9) # higher the alpha value, more restriction on the coefficients; \n",
    "                       # low alpha > more generalization, coefficients are barely\n",
    "elasNet=ElasticNet(0.5)\n",
    "\n",
    "for reg in (linReg,lasso,ridge,elasNet):\n",
    "    evaluation(reg ,X_train = X_train_clean, y_train = y_train_clean,\n",
    "               X_test = X_test_clean, y_test = y_test_clean );"
   ]
  },
  {
   "cell_type": "code",
   "execution_count": 121,
   "metadata": {},
   "outputs": [],
   "source": [
    "test_clean = test[['feature_1', 'feature_2', 'feature_3']]"
   ]
  },
  {
   "cell_type": "code",
   "execution_count": 122,
   "metadata": {
    "_uuid": "90b4db11ef1f181108776af2bff2016ca59a3c54",
    "execution": {
     "iopub.execute_input": "2022-07-19T15:20:42.946210Z",
     "iopub.status.busy": "2022-07-19T15:20:42.945688Z",
     "iopub.status.idle": "2022-07-19T15:20:43.863607Z",
     "shell.execute_reply": "2022-07-19T15:20:43.862568Z",
     "shell.execute_reply.started": "2022-07-19T15:20:42.946131Z"
    }
   },
   "outputs": [],
   "source": [
    "predictions = lgb_clean.predict(test_clean)\n",
    "elo_sub_clean = pd.DataFrame({\"card_id\":org_test[\"card_id\"].values})\n",
    "elo_sub_clean[\"target\"] = predictions\n",
    "elo_sub_clean.to_csv(\"elo_sub_clean.csv\", index=False)"
   ]
  },
  {
   "cell_type": "markdown",
   "metadata": {
    "_uuid": "76cea630265ea9dbd14a6f3ecb52f765774674dc"
   },
   "source": [
    "<a id=\"4\"></a> <br>\n",
    "# 4. Conclusion\n",
    "\n",
    "\n",
    "### Findings:\n",
    "\n",
    "- The real challenge of the competetion is to **predict the outliers**. Whoever will manage it to include an outlier prediction into his model, will probably win the competition\n",
    "- Althoug it is only around 1 %, the  **extreme outliers** (around 10 standard deviations -> -31 value) **blow out the RMSE's** of all competitors so far\n",
    "- Looking at the Leaderboard ( best RMSE around 3.6) no one has accomplished that so far\n",
    "- Training an data set **without outliers** gives us **RMSE's down to 0.37**, but of course only test data without outliers as well\n",
    "- Looking at **the feature importance**, the amount one customer spent turned out to be the most important indicator for loyalty\n",
    "- The features which stand out the most are the ones that represent **how much a customer paid and when they committed those transactions**\n",
    "\n",
    "### Lessons learned:\n",
    " \n",
    " -  Handle the **memory usage** of your data. Chaning the format of the data as well as using samples of the data turned out to be really helpful to move the data through the pipeline\n",
    " - **Aggregate** rows from the historical data set by using min, mean, max etc. \n",
    " - Save lots of time and use **Bayesian Optimization** to find the right parameters, instead of GridSearch\n",
    " -  Drop the columns that do not have a similar distribution of values between the train and test files. This will cause your predictions on test to be well prepared by the train data set.\n",
    " - Evaluate the **data input** for your model. It turned out over and over again, that the **data quality** is way more important for a model to learn than the algorithm itself.\n",
    " - Let the model know, which features are **categorical**\n",
    " - While working on one data project for a long time, it can be really helpful to **define functions and pipelines** to automate certain repeating steps\n",
    " \n"
   ]
  }
 ],
 "metadata": {
  "kernelspec": {
   "display_name": "elo",
   "language": "python",
   "name": "elo"
  },
  "language_info": {
   "codemirror_mode": {
    "name": "ipython",
    "version": 3
   },
   "file_extension": ".py",
   "mimetype": "text/x-python",
   "name": "python",
   "nbconvert_exporter": "python",
   "pygments_lexer": "ipython3",
   "version": "3.10.4"
  }
 },
 "nbformat": 4,
 "nbformat_minor": 4
}
