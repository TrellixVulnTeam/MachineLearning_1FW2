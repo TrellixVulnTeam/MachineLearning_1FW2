{
 "cells": [
  {
   "cell_type": "markdown",
   "metadata": {
    "_uuid": "a7174d68d8df9d53837177dcf62e54b49bbce47f"
   },
   "source": [
    "## 1.1 Data Load\n",
    "\n",
    "Loading different libraries and packeges into the notebook. Some modules are imported in the relevant cells to make it more understandable and readable. "
   ]
  },
  {
   "cell_type": "code",
   "execution_count": 1,
   "metadata": {
    "_cell_guid": "b1076dfc-b9ad-4769-8c92-a6c4dae69d19",
    "_kg_hide-input": false,
    "_uuid": "8f2839f25d086af736a60e9eeb907d3b93b6e0e5",
    "execution": {
     "iopub.execute_input": "2022-07-19T14:57:30.796559Z",
     "iopub.status.busy": "2022-07-19T14:57:30.796138Z",
     "iopub.status.idle": "2022-07-19T14:57:30.810322Z",
     "shell.execute_reply": "2022-07-19T14:57:30.809149Z",
     "shell.execute_reply.started": "2022-07-19T14:57:30.796496Z"
    }
   },
   "outputs": [
    {
     "data": {
      "text/html": [
       "        <script type=\"text/javascript\">\n",
       "        window.PlotlyConfig = {MathJaxConfig: 'local'};\n",
       "        if (window.MathJax && window.MathJax.Hub && window.MathJax.Hub.Config) {window.MathJax.Hub.Config({SVG: {font: \"STIX-Web\"}});}\n",
       "        if (typeof require !== 'undefined') {\n",
       "        require.undef(\"plotly\");\n",
       "        requirejs.config({\n",
       "            paths: {\n",
       "                'plotly': ['https://cdn.plot.ly/plotly-2.12.1.min']\n",
       "            }\n",
       "        });\n",
       "        require(['plotly'], function(Plotly) {\n",
       "            window._Plotly = Plotly;\n",
       "        });\n",
       "        }\n",
       "        </script>\n",
       "        "
      ]
     },
     "metadata": {},
     "output_type": "display_data"
    }
   ],
   "source": [
    "# Importing libraries and packages\n",
    "import numpy as np\n",
    "import pandas as pd \n",
    "import matplotlib.pyplot as plt\n",
    "import seaborn as sns\n",
    "import graphviz\n",
    "from matplotlib.pyplot import figure\n",
    "import matplotlib.ticker as ticker\n",
    "\n",
    "import warnings\n",
    "import time \n",
    "import sys \n",
    "import datetime\n",
    "import gc\n",
    "warnings.simplefilter(action='ignore')\n",
    "\n",
    "import plotly.offline as poff\n",
    "poff.init_notebook_mode(connected=True)\n",
    "import plotly.graph_objs as go \n",
    "import plotly.tools as tls\n",
    "\n",
    "from sklearn.metrics import mean_squared_error\n",
    "from sklearn.linear_model import BayesianRidge\n",
    "from sklearn import model_selection, preprocessing, metrics\n",
    "from sklearn.model_selection import train_test_split, KFold, StratifiedKFold, learning_curve, validation_curve\n",
    "from sklearn import tree\n",
    "from sklearn.tree import DecisionTreeRegressor\n",
    "import lightgbm as lgb "
   ]
  },
  {
   "cell_type": "markdown",
   "metadata": {
    "_uuid": "fb8a48aa8bab4d973e4e927d1c5767f449549f66"
   },
   "source": [
    "Let's reduce memory consumption to train faster our model. How it works? Our column usually has the type int64 and float64 but we don't need so many memory for a small number, for example 744 or 6999 therefore we need reduce memory for these values. In this way we can reduce the time for training our model."
   ]
  },
  {
   "cell_type": "code",
   "execution_count": 2,
   "metadata": {
    "_cell_guid": "79c7e3d0-c299-4dcb-8224-4455121ee9b0",
    "_kg_hide-input": false,
    "_uuid": "d629ff2d2480ee46fbb7e2d37f6b5fab8052498a",
    "execution": {
     "iopub.execute_input": "2022-07-19T14:57:30.812233Z",
     "iopub.status.busy": "2022-07-19T14:57:30.811898Z",
     "iopub.status.idle": "2022-07-19T14:57:30.825691Z",
     "shell.execute_reply": "2022-07-19T14:57:30.824588Z",
     "shell.execute_reply.started": "2022-07-19T14:57:30.812180Z"
    }
   },
   "outputs": [],
   "source": [
    "def reduce_mem_usage(df, verbose=True):\n",
    "    # all types of numerical values\n",
    "    numerics = ['int16', 'int32', 'int64', 'float16', 'float32', 'float64']\n",
    "    start_mem = df.memory_usage().sum() / 1024**2    \n",
    "    for col in df.columns:\n",
    "        # determine a type of column\n",
    "        col_type = df[col].dtypes\n",
    "        if col_type in numerics:\n",
    "            # find max and min of every column\n",
    "            c_min = df[col].min()\n",
    "            c_max = df[col].max()\n",
    "            if str(col_type)[:3] == 'int':\n",
    "                # if type == 'int' then convert the column to 'int->8,16,32'\n",
    "                if c_min > np.iinfo(np.int8).min and c_max < np.iinfo(np.int8).max:\n",
    "                    df[col] = df[col].astype(np.int8)\n",
    "                elif c_min > np.iinfo(np.int16).min and c_max < np.iinfo(np.int16).max:\n",
    "                    df[col] = df[col].astype(np.int16)\n",
    "                elif c_min > np.iinfo(np.int32).min and c_max < np.iinfo(np.int32).max:\n",
    "                    df[col] = df[col].astype(np.int32)\n",
    "                elif c_min > np.iinfo(np.int64).min and c_max < np.iinfo(np.int64).max:\n",
    "                    df[col] = df[col].astype(np.int64)  \n",
    "            else:\n",
    "                # the same for float\n",
    "                if c_min > np.finfo(np.float16).min and c_max < np.finfo(np.float16).max:\n",
    "                    df[col] = df[col].astype(np.float16)\n",
    "                elif c_min > np.finfo(np.float32).min and c_max < np.finfo(np.float32).max:\n",
    "                    df[col] = df[col].astype(np.float32)\n",
    "                else:\n",
    "                    df[col] = df[col].astype(np.float64)    \n",
    "    end_mem = df.memory_usage().sum() / 1024**2\n",
    "    if verbose: print('Mem. usage decreased to {:5.2f} Mb ({:.1f}% reduction)'.format(end_mem, 100 * (start_mem - end_mem) / start_mem))\n",
    "    return df"
   ]
  },
  {
   "cell_type": "markdown",
   "metadata": {
    "_uuid": "1ae7626c90602b0ff9b410239bd4d270c35978b0"
   },
   "source": [
    "Loading the data into the Kernel:"
   ]
  },
  {
   "cell_type": "code",
   "execution_count": 3,
   "metadata": {
    "_uuid": "fd32ef726bcac7a0020599518e51311fcd83a7bf",
    "execution": {
     "iopub.execute_input": "2022-07-19T14:57:30.828501Z",
     "iopub.status.busy": "2022-07-19T14:57:30.827757Z",
     "iopub.status.idle": "2022-07-19T14:59:47.512507Z",
     "shell.execute_reply": "2022-07-19T14:59:47.511200Z",
     "shell.execute_reply.started": "2022-07-19T14:57:30.828368Z"
    },
    "scrolled": true
   },
   "outputs": [
    {
     "name": "stdout",
     "output_type": "stream",
     "text": [
      "CPU times: user 50.6 s, sys: 15.4 s, total: 1min 5s\n",
      "Wall time: 1min 11s\n"
     ]
    }
   ],
   "source": [
    "%%time\n",
    "# import data\n",
    "new_transactions = pd.read_csv('data/new_merchant_transactions.csv', parse_dates=['purchase_date'])\n",
    "historical_transactions = pd.read_csv('data/historical_transactions.csv', parse_dates=['purchase_date'])\n",
    "\n",
    "org_train = pd.read_csv('data/train.csv')\n",
    "org_test = pd.read_csv('data/test.csv')"
   ]
  },
  {
   "cell_type": "markdown",
   "metadata": {
    "_uuid": "61b9e5a07eac41b66b684cca0782d6e758a402eb"
   },
   "source": [
    "Reducing the memory usage with the predefined funtion."
   ]
  },
  {
   "cell_type": "code",
   "execution_count": 4,
   "metadata": {
    "_uuid": "52e1a72288098af842eef6b75757613ca4ae2c27",
    "execution": {
     "iopub.execute_input": "2022-07-19T14:59:47.514281Z",
     "iopub.status.busy": "2022-07-19T14:59:47.514012Z",
     "iopub.status.idle": "2022-07-19T14:59:54.884178Z",
     "shell.execute_reply": "2022-07-19T14:59:54.883050Z",
     "shell.execute_reply.started": "2022-07-19T14:59:47.514236Z"
    }
   },
   "outputs": [
    {
     "name": "stdout",
     "output_type": "stream",
     "text": [
      "Mem. usage decreased to 1749.11 Mb (43.7% reduction)\n",
      "Mem. usage decreased to 114.20 Mb (45.5% reduction)\n"
     ]
    }
   ],
   "source": [
    "# Reduce memory usage\n",
    "historical_transactions = reduce_mem_usage(historical_transactions)\n",
    "new_transactions = reduce_mem_usage(new_transactions)"
   ]
  },
  {
   "cell_type": "markdown",
   "metadata": {
    "_uuid": "db1e4d269e612f7019b9c714be8fe47aaeb0348c"
   },
   "source": [
    "### 1.2 Visualization"
   ]
  },
  {
   "cell_type": "code",
   "execution_count": 5,
   "metadata": {
    "_uuid": "0f59820fe1cd36bc4cfc66681218dfe5a02c9c43",
    "execution": {
     "iopub.execute_input": "2022-07-19T14:59:54.885712Z",
     "iopub.status.busy": "2022-07-19T14:59:54.885448Z",
     "iopub.status.idle": "2022-07-19T14:59:56.663729Z",
     "shell.execute_reply": "2022-07-19T14:59:56.662391Z",
     "shell.execute_reply.started": "2022-07-19T14:59:54.885667Z"
    }
   },
   "outputs": [
    {
     "name": "stdout",
     "output_type": "stream",
     "text": [
      "historical_transactions contains 29112361 transactions for 325540 card_ids\n",
      "new_marchants_transactions contains 1963031 transactions for 290001 card_ids\n"
     ]
    }
   ],
   "source": [
    "print('historical_transactions contains ' + str(len(historical_transactions)) + ' transactions ' + 'for ' + str(len(historical_transactions.card_id.unique())) + ' card_ids')\n",
    "print('new_marchants_transactions contains ' + str(len(new_transactions)) + ' transactions ' + 'for ' + str(len(new_transactions.card_id.unique())) + ' card_ids')"
   ]
  },
  {
   "cell_type": "markdown",
   "metadata": {
    "_uuid": "4f7c376821caa6e73d26ec3f3311931f981a6f01"
   },
   "source": [
    "Just looking at org_train does not shape an understanding of data, so the next visualizations bring important aspects of that data into focus for further analysis.\n",
    "\n",
    "Firstly, let's take a look on the distribution of feature_1, feature_2 and feature_3. We can make the conclussion that feature_3 has to be binarized and the best approach in dealing with feature_1 and feature_2 is an implementation of dummies."
   ]
  },
  {
   "cell_type": "code",
   "execution_count": 6,
   "metadata": {
    "_kg_hide-input": true,
    "_uuid": "309b4737f586995e6c421c77de4fb27243723ceb",
    "execution": {
     "iopub.execute_input": "2022-07-19T14:59:56.665618Z",
     "iopub.status.busy": "2022-07-19T14:59:56.665254Z",
     "iopub.status.idle": "2022-07-19T14:59:57.055504Z",
     "shell.execute_reply": "2022-07-19T14:59:57.054427Z",
     "shell.execute_reply.started": "2022-07-19T14:59:56.665554Z"
    },
    "scrolled": true
   },
   "outputs": [
    {
     "data": {
      "image/png": "[encoded data removed]",
      "text/plain": [
       "<Figure size 1008x288 with 3 Axes>"
      ]
     },
     "metadata": {
      "needs_background": "light"
     },
     "output_type": "display_data"
    }
   ],
   "source": [
    "fig, ax = plt.subplots(1, 3, figsize = (14, 4));\n",
    "org_train['feature_1'].value_counts().sort_index().plot(kind='bar', ax=ax[0], color='darkorange', title='feature_1', fontsize = 5)\n",
    "org_train['feature_2'].value_counts().sort_index().plot(kind='bar', ax=ax[1], color='y', title='feature_2', fontsize = 5)\n",
    "org_train['feature_3'].value_counts().sort_index().plot(kind='pie', ax=ax[2], colors = ['chocolate', 'burlywood'], title='feature_3', explode=[0,0.1], autopct='%1.1f%%',shadow=False);"
   ]
  },
  {
   "cell_type": "markdown",
   "metadata": {
    "_kg_hide-input": true,
    "_uuid": "0c5407a8d3083e257c75c8c1be15de1d15797de2"
   },
   "source": [
    "What we can also do is to directly plot a correlation matrix. The correlation between different variables in a dataframe is very low, meaning that we are lacking the data in the org_train for accurate predictions."
   ]
  },
  {
   "cell_type": "code",
   "execution_count": 7,
   "metadata": {
    "_uuid": "219e236591a70b2d2758607a11843ce3380c6eac",
    "execution": {
     "iopub.execute_input": "2022-07-19T14:59:57.057683Z",
     "iopub.status.busy": "2022-07-19T14:59:57.057088Z",
     "iopub.status.idle": "2022-07-19T14:59:57.444587Z",
     "shell.execute_reply": "2022-07-19T14:59:57.443343Z",
     "shell.execute_reply.started": "2022-07-19T14:59:57.057623Z"
    },
    "scrolled": true
   },
   "outputs": [
    {
     "data": {
      "image/png": "[encoded data removed]",
      "text/plain": [
       "<Figure size 720x360 with 1 Axes>"
      ]
     },
     "metadata": {
      "needs_background": "light"
     },
     "output_type": "display_data"
    }
   ],
   "source": [
    "train_corr_matrix = org_train.corr()\n",
    "# Generate mask for the upper triangle\n",
    "mask = np.zeros_like(train_corr_matrix, dtype=np.bool)\n",
    "mask[np.triu_indices_from(mask)] = True\n",
    "\n",
    "f, ax = plt.subplots(figsize=(10, 5))\n",
    "cmap = sns.diverging_palette(50, 225)\n",
    "sns.heatmap(train_corr_matrix, mask=mask, cmap=cmap, vmax=.4, center=0,\n",
    "            annot=True, square=True, linewidths=.5, cbar=False);"
   ]
  },
  {
   "cell_type": "markdown",
   "metadata": {
    "_uuid": "537cace8e5e065f8fd8a70d94de4058998e6a5a0"
   },
   "source": [
    "Now, lets have a look at both org_train and org_test. The column first_active_month shows the month of the first purchase for a card_id. Basically, it makes sense to compare the number of first purchases in a month for train and test data.\n",
    "\n",
    "From the following graph the next information is discovered:\n",
    "\n",
    "- Test dataset is highly correlated with the train date having the same distribution\n",
    "- Test dataset has approximately twice less of observations"
   ]
  },
  {
   "cell_type": "code",
   "execution_count": 8,
   "metadata": {
    "_uuid": "3e41c651d627052494e9a05ca8bdde8b263f1e68",
    "execution": {
     "iopub.execute_input": "2022-07-19T14:59:57.447136Z",
     "iopub.status.busy": "2022-07-19T14:59:57.446413Z",
     "iopub.status.idle": "2022-07-19T14:59:57.762758Z",
     "shell.execute_reply": "2022-07-19T14:59:57.761494Z",
     "shell.execute_reply.started": "2022-07-19T14:59:57.447064Z"
    }
   },
   "outputs": [
    {
     "data": {
      "application/vnd.plotly.v1+json": {
       "config": {
        "linkText": "Export to plot.ly",
        "plotlyServerURL": "https://plot.ly",
        "showLink": false
       },
       "data": [
        {
         "marker": {
          "color": "orange"
         },
         "mode": "lines+markers",
         "name": "train",
         "type": "scatter",
         "x": [
          "2011-11",
          "2011-12",
          "2012-02",
          "2012-03",
          "2012-04",
          "2012-05",
          "2012-06",
          "2012-07",
          "2012-08",
          "2012-09",
          "2012-10",
          "2012-11",
          "2012-12",
          "2013-01",
          "2013-02",
          "2013-03",
          "2013-04",
          "2013-05",
          "2013-06",
          "2013-07",
          "2013-08",
          "2013-09",
          "2013-10",
          "2013-11",
          "2013-12",
          "2014-01",
          "2014-02",
          "2014-03",
          "2014-04",
          "2014-05",
          "2014-06",
          "2014-07",
          "2014-08",
          "2014-09",
          "2014-10",
          "2014-11",
          "2014-12",
          "2015-01",
          "2015-02",
          "2015-03",
          "2015-04",
          "2015-05",
          "2015-06",
          "2015-07",
          "2015-08",
          "2015-09",
          "2015-10",
          "2015-11",
          "2015-12",
          "2016-01",
          "2016-02",
          "2016-03",
          "2016-04",
          "2016-05",
          "2016-06",
          "2016-07",
          "2016-08",
          "2016-09",
          "2016-10",
          "2016-11",
          "2016-12",
          "2017-01",
          "2017-02",
          "2017-03",
          "2017-04",
          "2017-05",
          "2017-06",
          "2017-07",
          "2017-08",
          "2017-09",
          "2017-10",
          "2017-11",
          "2017-12",
          "2018-01",
          "2018-02"
         ],
         "y": [
          8,
          2,
          7,
          10,
          18,
          28,
          19,
          29,
          36,
          38,
          31,
          48,
          18,
          23,
          37,
          58,
          58,
          94,
          79,
          110,
          126,
          121,
          126,
          132,
          165,
          144,
          198,
          242,
          352,
          431,
          345,
          407,
          399,
          431,
          476,
          481,
          617,
          533,
          526,
          608,
          733,
          918,
          1104,
          1393,
          1376,
          1494,
          1532,
          1582,
          2343,
          1711,
          1636,
          2005,
          2938,
          3314,
          4102,
          4188,
          4977,
          4410,
          5371,
          7222,
          9403,
          9605,
          8110,
          8271,
          8761,
          9168,
          9930,
          12363,
          13638,
          13878,
          13695,
          12930,
          10170,
          34,
          1
         ]
        },
        {
         "marker": {
          "color": "lightseagreen"
         },
         "mode": "lines+markers",
         "name": "test",
         "type": "scatter",
         "x": [
          "2011-11",
          "2011-12",
          "2012-01",
          "2012-02",
          "2012-03",
          "2012-04",
          "2012-05",
          "2012-06",
          "2012-07",
          "2012-08",
          "2012-09",
          "2012-10",
          "2012-11",
          "2012-12",
          "2013-01",
          "2013-02",
          "2013-03",
          "2013-04",
          "2013-05",
          "2013-06",
          "2013-07",
          "2013-08",
          "2013-09",
          "2013-10",
          "2013-11",
          "2013-12",
          "2014-01",
          "2014-02",
          "2014-03",
          "2014-04",
          "2014-05",
          "2014-06",
          "2014-07",
          "2014-08",
          "2014-09",
          "2014-10",
          "2014-11",
          "2014-12",
          "2015-01",
          "2015-02",
          "2015-03",
          "2015-04",
          "2015-05",
          "2015-06",
          "2015-07",
          "2015-08",
          "2015-09",
          "2015-10",
          "2015-11",
          "2015-12",
          "2016-01",
          "2016-02",
          "2016-03",
          "2016-04",
          "2016-05",
          "2016-06",
          "2016-07",
          "2016-08",
          "2016-09",
          "2016-10",
          "2016-11",
          "2016-12",
          "2017-01",
          "2017-02",
          "2017-03",
          "2017-04",
          "2017-05",
          "2017-06",
          "2017-07",
          "2017-08",
          "2017-09",
          "2017-10",
          "2017-11",
          "2017-12",
          "2018-01"
         ],
         "y": [
          3,
          2,
          1,
          4,
          10,
          11,
          12,
          14,
          15,
          21,
          18,
          13,
          18,
          16,
          14,
          28,
          34,
          40,
          44,
          56,
          72,
          73,
          75,
          80,
          80,
          95,
          90,
          97,
          141,
          209,
          263,
          220,
          236,
          265,
          257,
          291,
          296,
          390,
          279,
          335,
          397,
          433,
          604,
          711,
          862,
          882,
          818,
          936,
          955,
          1393,
          996,
          987,
          1258,
          1740,
          2096,
          2407,
          2610,
          3108,
          2663,
          3335,
          4444,
          5751,
          5974,
          4903,
          5058,
          5371,
          5598,
          6147,
          7344,
          8299,
          8805,
          8451,
          7807,
          6233,
          28
         ]
        }
       ],
       "layout": {
        "legend": {
         "orientation": "v"
        },
        "template": {
         "data": {
          "bar": [
           {
            "error_x": {
             "color": "#2a3f5f"
            },
            "error_y": {
             "color": "#2a3f5f"
            },
            "marker": {
             "line": {
              "color": "#E5ECF6",
              "width": 0.5
             },
             "pattern": {
              "fillmode": "overlay",
              "size": 10,
              "solidity": 0.2
             }
            },
            "type": "bar"
           }
          ],
          "barpolar": [
           {
            "marker": {
             "line": {
              "color": "#E5ECF6",
              "width": 0.5
             },
             "pattern": {
              "fillmode": "overlay",
              "size": 10,
              "solidity": 0.2
             }
            },
            "type": "barpolar"
           }
          ],
          "carpet": [
           {
            "aaxis": {
             "endlinecolor": "#2a3f5f",
             "gridcolor": "white",
             "linecolor": "white",
             "minorgridcolor": "white",
             "startlinecolor": "#2a3f5f"
            },
            "baxis": {
             "endlinecolor": "#2a3f5f",
             "gridcolor": "white",
             "linecolor": "white",
             "minorgridcolor": "white",
             "startlinecolor": "#2a3f5f"
            },
            "type": "carpet"
           }
          ],
          "choropleth": [
           {
            "colorbar": {
             "outlinewidth": 0,
             "ticks": ""
            },
            "type": "choropleth"
           }
          ],
          "contour": [
           {
            "colorbar": {
             "outlinewidth": 0,
             "ticks": ""
            },
            "colorscale": [
             [
              0,
              "#0d0887"
             ],
             [
              0.1111111111111111,
              "#46039f"
             ],
             [
              0.2222222222222222,
              "#7201a8"
             ],
             [
              0.3333333333333333,
              "#9c179e"
             ],
             [
              0.4444444444444444,
              "#bd3786"
             ],
             [
              0.5555555555555556,
              "#d8576b"
             ],
             [
              0.6666666666666666,
              "#ed7953"
             ],
             [
              0.7777777777777778,
              "#fb9f3a"
             ],
             [
              0.8888888888888888,
              "#fdca26"
             ],
             [
              1,
              "#f0f921"
             ]
            ],
            "type": "contour"
           }
          ],
          "contourcarpet": [
           {
            "colorbar": {
             "outlinewidth": 0,
             "ticks": ""
            },
            "type": "contourcarpet"
           }
          ],
          "heatmap": [
           {
            "colorbar": {
             "outlinewidth": 0,
             "ticks": ""
            },
            "colorscale": [
             [
              0,
              "#0d0887"
             ],
             [
              0.1111111111111111,
              "#46039f"
             ],
             [
              0.2222222222222222,
              "#7201a8"
             ],
             [
              0.3333333333333333,
              "#9c179e"
             ],
             [
              0.4444444444444444,
              "#bd3786"
             ],
             [
              0.5555555555555556,
              "#d8576b"
             ],
             [
              0.6666666666666666,
              "#ed7953"
             ],
             [
              0.7777777777777778,
              "#fb9f3a"
             ],
             [
              0.8888888888888888,
              "#fdca26"
             ],
             [
              1,
              "#f0f921"
             ]
            ],
            "type": "heatmap"
           }
          ],
          "heatmapgl": [
           {
            "colorbar": {
             "outlinewidth": 0,
             "ticks": ""
            },
            "colorscale": [
             [
              0,
              "#0d0887"
             ],
             [
              0.1111111111111111,
              "#46039f"
             ],
             [
              0.2222222222222222,
              "#7201a8"
             ],
             [
              0.3333333333333333,
              "#9c179e"
             ],
             [
              0.4444444444444444,
              "#bd3786"
             ],
             [
              0.5555555555555556,
              "#d8576b"
             ],
             [
              0.6666666666666666,
              "#ed7953"
             ],
             [
              0.7777777777777778,
              "#fb9f3a"
             ],
             [
              0.8888888888888888,
              "#fdca26"
             ],
             [
              1,
              "#f0f921"
             ]
            ],
            "type": "heatmapgl"
           }
          ],
          "histogram": [
           {
            "marker": {
             "pattern": {
              "fillmode": "overlay",
              "size": 10,
              "solidity": 0.2
             }
            },
            "type": "histogram"
           }
          ],
          "histogram2d": [
           {
            "colorbar": {
             "outlinewidth": 0,
             "ticks": ""
            },
            "colorscale": [
             [
              0,
              "#0d0887"
             ],
             [
              0.1111111111111111,
              "#46039f"
             ],
             [
              0.2222222222222222,
              "#7201a8"
             ],
             [
              0.3333333333333333,
              "#9c179e"
             ],
             [
              0.4444444444444444,
              "#bd3786"
             ],
             [
              0.5555555555555556,
              "#d8576b"
             ],
             [
              0.6666666666666666,
              "#ed7953"
             ],
             [
              0.7777777777777778,
              "#fb9f3a"
             ],
             [
              0.8888888888888888,
              "#fdca26"
             ],
             [
              1,
              "#f0f921"
             ]
            ],
            "type": "histogram2d"
           }
          ],
          "histogram2dcontour": [
           {
            "colorbar": {
             "outlinewidth": 0,
             "ticks": ""
            },
            "colorscale": [
             [
              0,
              "#0d0887"
             ],
             [
              0.1111111111111111,
              "#46039f"
             ],
             [
              0.2222222222222222,
              "#7201a8"
             ],
             [
              0.3333333333333333,
              "#9c179e"
             ],
             [
              0.4444444444444444,
              "#bd3786"
             ],
             [
              0.5555555555555556,
              "#d8576b"
             ],
             [
              0.6666666666666666,
              "#ed7953"
             ],
             [
              0.7777777777777778,
              "#fb9f3a"
             ],
             [
              0.8888888888888888,
              "#fdca26"
             ],
             [
              1,
              "#f0f921"
             ]
            ],
            "type": "histogram2dcontour"
           }
          ],
          "mesh3d": [
           {
            "colorbar": {
             "outlinewidth": 0,
             "ticks": ""
            },
            "type": "mesh3d"
           }
          ],
          "parcoords": [
           {
            "line": {
             "colorbar": {
              "outlinewidth": 0,
              "ticks": ""
             }
            },
            "type": "parcoords"
           }
          ],
          "pie": [
           {
            "automargin": true,
            "type": "pie"
           }
          ],
          "scatter": [
           {
            "fillpattern": {
             "fillmode": "overlay",
             "size": 10,
             "solidity": 0.2
            },
            "type": "scatter"
           }
          ],
          "scatter3d": [
           {
            "line": {
             "colorbar": {
              "outlinewidth": 0,
              "ticks": ""
             }
            },
            "marker": {
             "colorbar": {
              "outlinewidth": 0,
              "ticks": ""
             }
            },
            "type": "scatter3d"
           }
          ],
          "scattercarpet": [
           {
            "marker": {
             "colorbar": {
              "outlinewidth": 0,
              "ticks": ""
             }
            },
            "type": "scattercarpet"
           }
          ],
          "scattergeo": [
           {
            "marker": {
             "colorbar": {
              "outlinewidth": 0,
              "ticks": ""
             }
            },
            "type": "scattergeo"
           }
          ],
          "scattergl": [
           {
            "marker": {
             "colorbar": {
              "outlinewidth": 0,
              "ticks": ""
             }
            },
            "type": "scattergl"
           }
          ],
          "scattermapbox": [
           {
            "marker": {
             "colorbar": {
              "outlinewidth": 0,
              "ticks": ""
             }
            },
            "type": "scattermapbox"
           }
          ],
          "scatterpolar": [
           {
            "marker": {
             "colorbar": {
              "outlinewidth": 0,
              "ticks": ""
             }
            },
            "type": "scatterpolar"
           }
          ],
          "scatterpolargl": [
           {
            "marker": {
             "colorbar": {
              "outlinewidth": 0,
              "ticks": ""
             }
            },
            "type": "scatterpolargl"
           }
          ],
          "scatterternary": [
           {
            "marker": {
             "colorbar": {
              "outlinewidth": 0,
              "ticks": ""
             }
            },
            "type": "scatterternary"
           }
          ],
          "surface": [
           {
            "colorbar": {
             "outlinewidth": 0,
             "ticks": ""
            },
            "colorscale": [
             [
              0,
              "#0d0887"
             ],
             [
              0.1111111111111111,
              "#46039f"
             ],
             [
              0.2222222222222222,
              "#7201a8"
             ],
             [
              0.3333333333333333,
              "#9c179e"
             ],
             [
              0.4444444444444444,
              "#bd3786"
             ],
             [
              0.5555555555555556,
              "#d8576b"
             ],
             [
              0.6666666666666666,
              "#ed7953"
             ],
             [
              0.7777777777777778,
              "#fb9f3a"
             ],
             [
              0.8888888888888888,
              "#fdca26"
             ],
             [
              1,
              "#f0f921"
             ]
            ],
            "type": "surface"
           }
          ],
          "table": [
           {
            "cells": {
             "fill": {
              "color": "#EBF0F8"
             },
             "line": {
              "color": "white"
             }
            },
            "header": {
             "fill": {
              "color": "#C8D4E3"
             },
             "line": {
              "color": "white"
             }
            },
            "type": "table"
           }
          ]
         },
         "layout": {
          "annotationdefaults": {
           "arrowcolor": "#2a3f5f",
           "arrowhead": 0,
           "arrowwidth": 1
          },
          "autotypenumbers": "strict",
          "coloraxis": {
           "colorbar": {
            "outlinewidth": 0,
            "ticks": ""
           }
          },
          "colorscale": {
           "diverging": [
            [
             0,
             "#8e0152"
            ],
            [
             0.1,
             "#c51b7d"
            ],
            [
             0.2,
             "#de77ae"
            ],
            [
             0.3,
             "#f1b6da"
            ],
            [
             0.4,
             "#fde0ef"
            ],
            [
             0.5,
             "#f7f7f7"
            ],
            [
             0.6,
             "#e6f5d0"
            ],
            [
             0.7,
             "#b8e186"
            ],
            [
             0.8,
             "#7fbc41"
            ],
            [
             0.9,
             "#4d9221"
            ],
            [
             1,
             "#276419"
            ]
           ],
           "sequential": [
            [
             0,
             "#0d0887"
            ],
            [
             0.1111111111111111,
             "#46039f"
            ],
            [
             0.2222222222222222,
             "#7201a8"
            ],
            [
             0.3333333333333333,
             "#9c179e"
            ],
            [
             0.4444444444444444,
             "#bd3786"
            ],
            [
             0.5555555555555556,
             "#d8576b"
            ],
            [
             0.6666666666666666,
             "#ed7953"
            ],
            [
             0.7777777777777778,
             "#fb9f3a"
            ],
            [
             0.8888888888888888,
             "#fdca26"
            ],
            [
             1,
             "#f0f921"
            ]
           ],
           "sequentialminus": [
            [
             0,
             "#0d0887"
            ],
            [
             0.1111111111111111,
             "#46039f"
            ],
            [
             0.2222222222222222,
             "#7201a8"
            ],
            [
             0.3333333333333333,
             "#9c179e"
            ],
            [
             0.4444444444444444,
             "#bd3786"
            ],
            [
             0.5555555555555556,
             "#d8576b"
            ],
            [
             0.6666666666666666,
             "#ed7953"
            ],
            [
             0.7777777777777778,
             "#fb9f3a"
            ],
            [
             0.8888888888888888,
             "#fdca26"
            ],
            [
             1,
             "#f0f921"
            ]
           ]
          },
          "colorway": [
           "#636efa",
           "#EF553B",
           "#00cc96",
           "#ab63fa",
           "#FFA15A",
           "#19d3f3",
           "#FF6692",
           "#B6E880",
           "#FF97FF",
           "#FECB52"
          ],
          "font": {
           "color": "#2a3f5f"
          },
          "geo": {
           "bgcolor": "white",
           "lakecolor": "white",
           "landcolor": "#E5ECF6",
           "showlakes": true,
           "showland": true,
           "subunitcolor": "white"
          },
          "hoverlabel": {
           "align": "left"
          },
          "hovermode": "closest",
          "mapbox": {
           "style": "light"
          },
          "paper_bgcolor": "white",
          "plot_bgcolor": "#E5ECF6",
          "polar": {
           "angularaxis": {
            "gridcolor": "white",
            "linecolor": "white",
            "ticks": ""
           },
           "bgcolor": "#E5ECF6",
           "radialaxis": {
            "gridcolor": "white",
            "linecolor": "white",
            "ticks": ""
           }
          },
          "scene": {
           "xaxis": {
            "backgroundcolor": "#E5ECF6",
            "gridcolor": "white",
            "gridwidth": 2,
            "linecolor": "white",
            "showbackground": true,
            "ticks": "",
            "zerolinecolor": "white"
           },
           "yaxis": {
            "backgroundcolor": "#E5ECF6",
            "gridcolor": "white",
            "gridwidth": 2,
            "linecolor": "white",
            "showbackground": true,
            "ticks": "",
            "zerolinecolor": "white"
           },
           "zaxis": {
            "backgroundcolor": "#E5ECF6",
            "gridcolor": "white",
            "gridwidth": 2,
            "linecolor": "white",
            "showbackground": true,
            "ticks": "",
            "zerolinecolor": "white"
           }
          },
          "shapedefaults": {
           "line": {
            "color": "#2a3f5f"
           }
          },
          "ternary": {
           "aaxis": {
            "gridcolor": "white",
            "linecolor": "white",
            "ticks": ""
           },
           "baxis": {
            "gridcolor": "white",
            "linecolor": "white",
            "ticks": ""
           },
           "bgcolor": "#E5ECF6",
           "caxis": {
            "gridcolor": "white",
            "linecolor": "white",
            "ticks": ""
           }
          },
          "title": {
           "x": 0.05
          },
          "xaxis": {
           "automargin": true,
           "gridcolor": "white",
           "linecolor": "white",
           "ticks": "",
           "title": {
            "standoff": 15
           },
           "zerolinecolor": "white",
           "zerolinewidth": 2
          },
          "yaxis": {
           "automargin": true,
           "gridcolor": "white",
           "linecolor": "white",
           "ticks": "",
           "title": {
            "standoff": 15
           },
           "zerolinecolor": "white",
           "zerolinewidth": 2
          }
         }
        },
        "title": {
         "text": "Counts of first active"
        },
        "xaxis": {
         "title": {
          "text": "Month"
         }
        },
        "yaxis": {
         "title": {
          "text": "Count"
         }
        }
       }
      },
      "text/html": [
       "<div>                            <div id=\"924f234f-5b75-4500-90c8-de0675cb8d6e\" class=\"plotly-graph-div\" style=\"height:525px; width:100%;\"></div>            <script type=\"text/javascript\">                require([\"plotly\"], function(Plotly) {                    window.PLOTLYENV=window.PLOTLYENV || {};                                    if (document.getElementById(\"924f234f-5b75-4500-90c8-de0675cb8d6e\")) {                    Plotly.newPlot(                        \"924f234f-5b75-4500-90c8-de0675cb8d6e\",                        [{\"marker\":{\"color\":\"orange\"},\"mode\":\"lines+markers\",\"name\":\"train\",\"x\":[\"2011-11\",\"2011-12\",\"2012-02\",\"2012-03\",\"2012-04\",\"2012-05\",\"2012-06\",\"2012-07\",\"2012-08\",\"2012-09\",\"2012-10\",\"2012-11\",\"2012-12\",\"2013-01\",\"2013-02\",\"2013-03\",\"2013-04\",\"2013-05\",\"2013-06\",\"2013-07\",\"2013-08\",\"2013-09\",\"2013-10\",\"2013-11\",\"2013-12\",\"2014-01\",\"2014-02\",\"2014-03\",\"2014-04\",\"2014-05\",\"2014-06\",\"2014-07\",\"2014-08\",\"2014-09\",\"2014-10\",\"2014-11\",\"2014-12\",\"2015-01\",\"2015-02\",\"2015-03\",\"2015-04\",\"2015-05\",\"2015-06\",\"2015-07\",\"2015-08\",\"2015-09\",\"2015-10\",\"2015-11\",\"2015-12\",\"2016-01\",\"2016-02\",\"2016-03\",\"2016-04\",\"2016-05\",\"2016-06\",\"2016-07\",\"2016-08\",\"2016-09\",\"2016-10\",\"2016-11\",\"2016-12\",\"2017-01\",\"2017-02\",\"2017-03\",\"2017-04\",\"2017-05\",\"2017-06\",\"2017-07\",\"2017-08\",\"2017-09\",\"2017-10\",\"2017-11\",\"2017-12\",\"2018-01\",\"2018-02\"],\"y\":[8,2,7,10,18,28,19,29,36,38,31,48,18,23,37,58,58,94,79,110,126,121,126,132,165,144,198,242,352,431,345,407,399,431,476,481,617,533,526,608,733,918,1104,1393,1376,1494,1532,1582,2343,1711,1636,2005,2938,3314,4102,4188,4977,4410,5371,7222,9403,9605,8110,8271,8761,9168,9930,12363,13638,13878,13695,12930,10170,34,1],\"type\":\"scatter\"},{\"marker\":{\"color\":\"lightseagreen\"},\"mode\":\"lines+markers\",\"name\":\"test\",\"x\":[\"2011-11\",\"2011-12\",\"2012-01\",\"2012-02\",\"2012-03\",\"2012-04\",\"2012-05\",\"2012-06\",\"2012-07\",\"2012-08\",\"2012-09\",\"2012-10\",\"2012-11\",\"2012-12\",\"2013-01\",\"2013-02\",\"2013-03\",\"2013-04\",\"2013-05\",\"2013-06\",\"2013-07\",\"2013-08\",\"2013-09\",\"2013-10\",\"2013-11\",\"2013-12\",\"2014-01\",\"2014-02\",\"2014-03\",\"2014-04\",\"2014-05\",\"2014-06\",\"2014-07\",\"2014-08\",\"2014-09\",\"2014-10\",\"2014-11\",\"2014-12\",\"2015-01\",\"2015-02\",\"2015-03\",\"2015-04\",\"2015-05\",\"2015-06\",\"2015-07\",\"2015-08\",\"2015-09\",\"2015-10\",\"2015-11\",\"2015-12\",\"2016-01\",\"2016-02\",\"2016-03\",\"2016-04\",\"2016-05\",\"2016-06\",\"2016-07\",\"2016-08\",\"2016-09\",\"2016-10\",\"2016-11\",\"2016-12\",\"2017-01\",\"2017-02\",\"2017-03\",\"2017-04\",\"2017-05\",\"2017-06\",\"2017-07\",\"2017-08\",\"2017-09\",\"2017-10\",\"2017-11\",\"2017-12\",\"2018-01\"],\"y\":[3,2,1,4,10,11,12,14,15,21,18,13,18,16,14,28,34,40,44,56,72,73,75,80,80,95,90,97,141,209,263,220,236,265,257,291,296,390,279,335,397,433,604,711,862,882,818,936,955,1393,996,987,1258,1740,2096,2407,2610,3108,2663,3335,4444,5751,5974,4903,5058,5371,5598,6147,7344,8299,8805,8451,7807,6233,28],\"type\":\"scatter\"}],                        {\"legend\":{\"orientation\":\"v\"},\"template\":{\"data\":{\"barpolar\":[{\"marker\":{\"line\":{\"color\":\"#E5ECF6\",\"width\":0.5},\"pattern\":{\"fillmode\":\"overlay\",\"size\":10,\"solidity\":0.2}},\"type\":\"barpolar\"}],\"bar\":[{\"error_x\":{\"color\":\"#2a3f5f\"},\"error_y\":{\"color\":\"#2a3f5f\"},\"marker\":{\"line\":{\"color\":\"#E5ECF6\",\"width\":0.5},\"pattern\":{\"fillmode\":\"overlay\",\"size\":10,\"solidity\":0.2}},\"type\":\"bar\"}],\"carpet\":[{\"aaxis\":{\"endlinecolor\":\"#2a3f5f\",\"gridcolor\":\"white\",\"linecolor\":\"white\",\"minorgridcolor\":\"white\",\"startlinecolor\":\"#2a3f5f\"},\"baxis\":{\"endlinecolor\":\"#2a3f5f\",\"gridcolor\":\"white\",\"linecolor\":\"white\",\"minorgridcolor\":\"white\",\"startlinecolor\":\"#2a3f5f\"},\"type\":\"carpet\"}],\"choropleth\":[{\"colorbar\":{\"outlinewidth\":0,\"ticks\":\"\"},\"type\":\"choropleth\"}],\"contourcarpet\":[{\"colorbar\":{\"outlinewidth\":0,\"ticks\":\"\"},\"type\":\"contourcarpet\"}],\"contour\":[{\"colorbar\":{\"outlinewidth\":0,\"ticks\":\"\"},\"colorscale\":[[0.0,\"#0d0887\"],[0.1111111111111111,\"#46039f\"],[0.2222222222222222,\"#7201a8\"],[0.3333333333333333,\"#9c179e\"],[0.4444444444444444,\"#bd3786\"],[0.5555555555555556,\"#d8576b\"],[0.6666666666666666,\"#ed7953\"],[0.7777777777777778,\"#fb9f3a\"],[0.8888888888888888,\"#fdca26\"],[1.0,\"#f0f921\"]],\"type\":\"contour\"}],\"heatmapgl\":[{\"colorbar\":{\"outlinewidth\":0,\"ticks\":\"\"},\"colorscale\":[[0.0,\"#0d0887\"],[0.1111111111111111,\"#46039f\"],[0.2222222222222222,\"#7201a8\"],[0.3333333333333333,\"#9c179e\"],[0.4444444444444444,\"#bd3786\"],[0.5555555555555556,\"#d8576b\"],[0.6666666666666666,\"#ed7953\"],[0.7777777777777778,\"#fb9f3a\"],[0.8888888888888888,\"#fdca26\"],[1.0,\"#f0f921\"]],\"type\":\"heatmapgl\"}],\"heatmap\":[{\"colorbar\":{\"outlinewidth\":0,\"ticks\":\"\"},\"colorscale\":[[0.0,\"#0d0887\"],[0.1111111111111111,\"#46039f\"],[0.2222222222222222,\"#7201a8\"],[0.3333333333333333,\"#9c179e\"],[0.4444444444444444,\"#bd3786\"],[0.5555555555555556,\"#d8576b\"],[0.6666666666666666,\"#ed7953\"],[0.7777777777777778,\"#fb9f3a\"],[0.8888888888888888,\"#fdca26\"],[1.0,\"#f0f921\"]],\"type\":\"heatmap\"}],\"histogram2dcontour\":[{\"colorbar\":{\"outlinewidth\":0,\"ticks\":\"\"},\"colorscale\":[[0.0,\"#0d0887\"],[0.1111111111111111,\"#46039f\"],[0.2222222222222222,\"#7201a8\"],[0.3333333333333333,\"#9c179e\"],[0.4444444444444444,\"#bd3786\"],[0.5555555555555556,\"#d8576b\"],[0.6666666666666666,\"#ed7953\"],[0.7777777777777778,\"#fb9f3a\"],[0.8888888888888888,\"#fdca26\"],[1.0,\"#f0f921\"]],\"type\":\"histogram2dcontour\"}],\"histogram2d\":[{\"colorbar\":{\"outlinewidth\":0,\"ticks\":\"\"},\"colorscale\":[[0.0,\"#0d0887\"],[0.1111111111111111,\"#46039f\"],[0.2222222222222222,\"#7201a8\"],[0.3333333333333333,\"#9c179e\"],[0.4444444444444444,\"#bd3786\"],[0.5555555555555556,\"#d8576b\"],[0.6666666666666666,\"#ed7953\"],[0.7777777777777778,\"#fb9f3a\"],[0.8888888888888888,\"#fdca26\"],[1.0,\"#f0f921\"]],\"type\":\"histogram2d\"}],\"histogram\":[{\"marker\":{\"pattern\":{\"fillmode\":\"overlay\",\"size\":10,\"solidity\":0.2}},\"type\":\"histogram\"}],\"mesh3d\":[{\"colorbar\":{\"outlinewidth\":0,\"ticks\":\"\"},\"type\":\"mesh3d\"}],\"parcoords\":[{\"line\":{\"colorbar\":{\"outlinewidth\":0,\"ticks\":\"\"}},\"type\":\"parcoords\"}],\"pie\":[{\"automargin\":true,\"type\":\"pie\"}],\"scatter3d\":[{\"line\":{\"colorbar\":{\"outlinewidth\":0,\"ticks\":\"\"}},\"marker\":{\"colorbar\":{\"outlinewidth\":0,\"ticks\":\"\"}},\"type\":\"scatter3d\"}],\"scattercarpet\":[{\"marker\":{\"colorbar\":{\"outlinewidth\":0,\"ticks\":\"\"}},\"type\":\"scattercarpet\"}],\"scattergeo\":[{\"marker\":{\"colorbar\":{\"outlinewidth\":0,\"ticks\":\"\"}},\"type\":\"scattergeo\"}],\"scattergl\":[{\"marker\":{\"colorbar\":{\"outlinewidth\":0,\"ticks\":\"\"}},\"type\":\"scattergl\"}],\"scattermapbox\":[{\"marker\":{\"colorbar\":{\"outlinewidth\":0,\"ticks\":\"\"}},\"type\":\"scattermapbox\"}],\"scatterpolargl\":[{\"marker\":{\"colorbar\":{\"outlinewidth\":0,\"ticks\":\"\"}},\"type\":\"scatterpolargl\"}],\"scatterpolar\":[{\"marker\":{\"colorbar\":{\"outlinewidth\":0,\"ticks\":\"\"}},\"type\":\"scatterpolar\"}],\"scatter\":[{\"fillpattern\":{\"fillmode\":\"overlay\",\"size\":10,\"solidity\":0.2},\"type\":\"scatter\"}],\"scatterternary\":[{\"marker\":{\"colorbar\":{\"outlinewidth\":0,\"ticks\":\"\"}},\"type\":\"scatterternary\"}],\"surface\":[{\"colorbar\":{\"outlinewidth\":0,\"ticks\":\"\"},\"colorscale\":[[0.0,\"#0d0887\"],[0.1111111111111111,\"#46039f\"],[0.2222222222222222,\"#7201a8\"],[0.3333333333333333,\"#9c179e\"],[0.4444444444444444,\"#bd3786\"],[0.5555555555555556,\"#d8576b\"],[0.6666666666666666,\"#ed7953\"],[0.7777777777777778,\"#fb9f3a\"],[0.8888888888888888,\"#fdca26\"],[1.0,\"#f0f921\"]],\"type\":\"surface\"}],\"table\":[{\"cells\":{\"fill\":{\"color\":\"#EBF0F8\"},\"line\":{\"color\":\"white\"}},\"header\":{\"fill\":{\"color\":\"#C8D4E3\"},\"line\":{\"color\":\"white\"}},\"type\":\"table\"}]},\"layout\":{\"annotationdefaults\":{\"arrowcolor\":\"#2a3f5f\",\"arrowhead\":0,\"arrowwidth\":1},\"autotypenumbers\":\"strict\",\"coloraxis\":{\"colorbar\":{\"outlinewidth\":0,\"ticks\":\"\"}},\"colorscale\":{\"diverging\":[[0,\"#8e0152\"],[0.1,\"#c51b7d\"],[0.2,\"#de77ae\"],[0.3,\"#f1b6da\"],[0.4,\"#fde0ef\"],[0.5,\"#f7f7f7\"],[0.6,\"#e6f5d0\"],[0.7,\"#b8e186\"],[0.8,\"#7fbc41\"],[0.9,\"#4d9221\"],[1,\"#276419\"]],\"sequential\":[[0.0,\"#0d0887\"],[0.1111111111111111,\"#46039f\"],[0.2222222222222222,\"#7201a8\"],[0.3333333333333333,\"#9c179e\"],[0.4444444444444444,\"#bd3786\"],[0.5555555555555556,\"#d8576b\"],[0.6666666666666666,\"#ed7953\"],[0.7777777777777778,\"#fb9f3a\"],[0.8888888888888888,\"#fdca26\"],[1.0,\"#f0f921\"]],\"sequentialminus\":[[0.0,\"#0d0887\"],[0.1111111111111111,\"#46039f\"],[0.2222222222222222,\"#7201a8\"],[0.3333333333333333,\"#9c179e\"],[0.4444444444444444,\"#bd3786\"],[0.5555555555555556,\"#d8576b\"],[0.6666666666666666,\"#ed7953\"],[0.7777777777777778,\"#fb9f3a\"],[0.8888888888888888,\"#fdca26\"],[1.0,\"#f0f921\"]]},\"colorway\":[\"#636efa\",\"#EF553B\",\"#00cc96\",\"#ab63fa\",\"#FFA15A\",\"#19d3f3\",\"#FF6692\",\"#B6E880\",\"#FF97FF\",\"#FECB52\"],\"font\":{\"color\":\"#2a3f5f\"},\"geo\":{\"bgcolor\":\"white\",\"lakecolor\":\"white\",\"landcolor\":\"#E5ECF6\",\"showlakes\":true,\"showland\":true,\"subunitcolor\":\"white\"},\"hoverlabel\":{\"align\":\"left\"},\"hovermode\":\"closest\",\"mapbox\":{\"style\":\"light\"},\"paper_bgcolor\":\"white\",\"plot_bgcolor\":\"#E5ECF6\",\"polar\":{\"angularaxis\":{\"gridcolor\":\"white\",\"linecolor\":\"white\",\"ticks\":\"\"},\"bgcolor\":\"#E5ECF6\",\"radialaxis\":{\"gridcolor\":\"white\",\"linecolor\":\"white\",\"ticks\":\"\"}},\"scene\":{\"xaxis\":{\"backgroundcolor\":\"#E5ECF6\",\"gridcolor\":\"white\",\"gridwidth\":2,\"linecolor\":\"white\",\"showbackground\":true,\"ticks\":\"\",\"zerolinecolor\":\"white\"},\"yaxis\":{\"backgroundcolor\":\"#E5ECF6\",\"gridcolor\":\"white\",\"gridwidth\":2,\"linecolor\":\"white\",\"showbackground\":true,\"ticks\":\"\",\"zerolinecolor\":\"white\"},\"zaxis\":{\"backgroundcolor\":\"#E5ECF6\",\"gridcolor\":\"white\",\"gridwidth\":2,\"linecolor\":\"white\",\"showbackground\":true,\"ticks\":\"\",\"zerolinecolor\":\"white\"}},\"shapedefaults\":{\"line\":{\"color\":\"#2a3f5f\"}},\"ternary\":{\"aaxis\":{\"gridcolor\":\"white\",\"linecolor\":\"white\",\"ticks\":\"\"},\"baxis\":{\"gridcolor\":\"white\",\"linecolor\":\"white\",\"ticks\":\"\"},\"bgcolor\":\"#E5ECF6\",\"caxis\":{\"gridcolor\":\"white\",\"linecolor\":\"white\",\"ticks\":\"\"}},\"title\":{\"x\":0.05},\"xaxis\":{\"automargin\":true,\"gridcolor\":\"white\",\"linecolor\":\"white\",\"ticks\":\"\",\"title\":{\"standoff\":15},\"zerolinecolor\":\"white\",\"zerolinewidth\":2},\"yaxis\":{\"automargin\":true,\"gridcolor\":\"white\",\"linecolor\":\"white\",\"ticks\":\"\",\"title\":{\"standoff\":15},\"zerolinecolor\":\"white\",\"zerolinewidth\":2}}},\"title\":{\"text\":\"Counts of first active\"},\"xaxis\":{\"title\":{\"text\":\"Month\"}},\"yaxis\":{\"title\":{\"text\":\"Count\"}}},                        {\"responsive\": true}                    ).then(function(){\n",
       "                            \n",
       "var gd = document.getElementById('924f234f-5b75-4500-90c8-de0675cb8d6e');\n",
       "var x = new MutationObserver(function (mutations, observer) {{\n",
       "        var display = window.getComputedStyle(gd).display;\n",
       "        if (!display || display === 'none') {{\n",
       "            console.log([gd, 'removed!']);\n",
       "            Plotly.purge(gd);\n",
       "            observer.disconnect();\n",
       "        }}\n",
       "}});\n",
       "\n",
       "// Listen for the removal of the full notebook cells\n",
       "var notebookContainer = gd.closest('#notebook-container');\n",
       "if (notebookContainer) {{\n",
       "    x.observe(notebookContainer, {childList: true});\n",
       "}}\n",
       "\n",
       "// Listen for the clearing of the current output cell\n",
       "var outputEl = gd.closest('.output');\n",
       "if (outputEl) {{\n",
       "    x.observe(outputEl, {childList: true});\n",
       "}}\n",
       "\n",
       "                        })                };                });            </script>        </div>"
      ]
     },
     "metadata": {},
     "output_type": "display_data"
    }
   ],
   "source": [
    "d1 = org_train['first_active_month'].value_counts().sort_index()\n",
    "d2 = org_test['first_active_month'].value_counts().sort_index()\n",
    "data = [go.Scatter(x=d1.index, y=d1.values, name='train', mode='lines+markers', marker={'color': 'orange'}), go.Scatter(x=d2.index, y=d2.values, name='test', mode = 'lines+markers', marker={'color': 'lightseagreen'})]\n",
    "layout = go.Layout(dict(title = \"Counts of first active\",\n",
    "                  xaxis = dict(title = 'Month'),\n",
    "                  yaxis = dict(title = 'Count'),\n",
    "                  ),legend=dict(\n",
    "                orientation=\"v\"))\n",
    "poff.iplot(dict(data=data, layout=layout))"
   ]
  },
  {
   "cell_type": "markdown",
   "metadata": {
    "_uuid": "c53fbbce63075cc5ef50dc546a038b12a574cdf8"
   },
   "source": [
    "Loyalty numerical score is calculated two months after historical and evaluation period. \n",
    "Let's plot a histogram of loyalty score to understand what are we dealing with. From the histogram and descriptive statistics summary we observe that the most of the output variables are fluctuating around 0, however the minimum loyalty score observed in the train dataset is -33.21 and the maximum reached 17.96. In comparison to 2nd quantile (-0.02) that is more robust to outliers, the mean is -0.39."
   ]
  },
  {
   "cell_type": "code",
   "execution_count": 9,
   "metadata": {
    "_uuid": "026186098e5e667aae335fb60252afc7c5c54d89",
    "execution": {
     "iopub.execute_input": "2022-07-19T14:59:57.765195Z",
     "iopub.status.busy": "2022-07-19T14:59:57.764795Z",
     "iopub.status.idle": "2022-07-19T14:59:58.263815Z",
     "shell.execute_reply": "2022-07-19T14:59:58.262543Z",
     "shell.execute_reply.started": "2022-07-19T14:59:57.765124Z"
    }
   },
   "outputs": [
    {
     "name": "stdout",
     "output_type": "stream",
     "text": [
      "count    201917.000000\n",
      "mean         -0.393636\n",
      "std           3.850500\n",
      "min         -33.219281\n",
      "25%          -0.883110\n",
      "50%          -0.023437\n",
      "75%           0.765453\n",
      "max          17.965068\n",
      "Name: target, dtype: float64\n"
     ]
    },
    {
     "data": {
      "image/png": "[encoded data removed]",
      "text/plain": [
       "<Figure size 864x576 with 1 Axes>"
      ]
     },
     "metadata": {
      "needs_background": "light"
     },
     "output_type": "display_data"
    }
   ],
   "source": [
    "# Descriptive statistics summary\n",
    "print(org_train['target'].describe())\n",
    "# Histogram\n",
    "plt.figure(figsize=(12,8))\n",
    "sns.distplot(org_train.target.values, bins=50, color=\"firebrick\", kde=True, kde_kws={\"color\": \"maroon\"})\n",
    "plt.title(\"Histogram of Loyalty score\", fontsize = 18)\n",
    "plt.ylabel('Loyalty score', fontsize=12)\n",
    "plt.show()"
   ]
  },
  {
   "cell_type": "markdown",
   "metadata": {
    "_uuid": "e5c670e92574a028478d07a42462733f3fd566ff"
   },
   "source": [
    "### 1.3 Feature Engineering"
   ]
  },
  {
   "cell_type": "markdown",
   "metadata": {
    "_uuid": "a528a860e4dd50fbb0a2cd55be0339cd9a63ac7d"
   },
   "source": [
    "The first step of dealing with columns containing dates is to change the date format. There is a method(pandas.to_datetime) in pandas library that converts argument to datetime.\n",
    "<br>Taking the first look into data, there are some categorical columns and hence, they have to be binarized. The function below is the first step of dealing with such columns.\n"
   ]
  },
  {
   "cell_type": "code",
   "execution_count": 10,
   "metadata": {
    "_uuid": "6613c7036006e6efd5837e71ad1a8c3b458e53d2",
    "execution": {
     "iopub.execute_input": "2022-07-19T14:59:58.265704Z",
     "iopub.status.busy": "2022-07-19T14:59:58.265363Z",
     "iopub.status.idle": "2022-07-19T14:59:58.271626Z",
     "shell.execute_reply": "2022-07-19T14:59:58.270481Z",
     "shell.execute_reply.started": "2022-07-19T14:59:58.265645Z"
    }
   },
   "outputs": [],
   "source": [
    "# Read files, change date format and calculate 'elapsed_time'\n",
    "def read_data(input_file):\n",
    "    df = pd.read_csv(input_file)\n",
    "    df['first_active_month'] = pd.to_datetime(df['first_active_month'])\n",
    "    df['elapsed_time'] = (datetime.date(2018, 2, 1) - df['first_active_month'].dt.date).dt.days\n",
    "    return df\n",
    "\n",
    "# Binarize categorical values\n",
    "def binarize(df):\n",
    "    for col in ['authorized_flag', 'category_1']:\n",
    "        df[col] = df[col].map({'Y':1, 'N':0})\n",
    "    return df"
   ]
  },
  {
   "cell_type": "code",
   "execution_count": 11,
   "metadata": {
    "_uuid": "98bb7aac81ca432add23404286f4f308ed33236e",
    "execution": {
     "iopub.execute_input": "2022-07-19T14:59:58.273564Z",
     "iopub.status.busy": "2022-07-19T14:59:58.273176Z",
     "iopub.status.idle": "2022-07-19T15:00:10.714604Z",
     "shell.execute_reply": "2022-07-19T15:00:10.713467Z",
     "shell.execute_reply.started": "2022-07-19T14:59:58.273469Z"
    }
   },
   "outputs": [],
   "source": [
    "org_train = read_data('data/train.csv')\n",
    "org_test = read_data('data/test.csv')\n",
    "\n",
    "historical_transactions = binarize(historical_transactions)\n",
    "new_transactions = binarize(new_transactions)"
   ]
  },
  {
   "cell_type": "code",
   "execution_count": 12,
   "metadata": {
    "_uuid": "4e02915c4479457e626eca181aba674c40044d1d",
    "execution": {
     "iopub.execute_input": "2022-07-19T15:00:10.716323Z",
     "iopub.status.busy": "2022-07-19T15:00:10.716009Z",
     "iopub.status.idle": "2022-07-19T15:00:21.380910Z",
     "shell.execute_reply": "2022-07-19T15:00:21.379704Z",
     "shell.execute_reply.started": "2022-07-19T15:00:10.716256Z"
    }
   },
   "outputs": [],
   "source": [
    "# Dummy encoding for catogories\n",
    "historical_transactions = pd.get_dummies(historical_transactions, columns=['category_2', 'category_3'])\n",
    "new_transactions = pd.get_dummies(new_transactions, columns=['category_2', 'category_3'])"
   ]
  },
  {
   "cell_type": "code",
   "execution_count": 13,
   "metadata": {
    "_uuid": "5e6a01e6ed3067788b1c23d986873fb090beb4a7",
    "execution": {
     "iopub.execute_input": "2022-07-19T15:00:21.382625Z",
     "iopub.status.busy": "2022-07-19T15:00:21.382334Z",
     "iopub.status.idle": "2022-07-19T15:00:22.914651Z",
     "shell.execute_reply": "2022-07-19T15:00:22.913512Z",
     "shell.execute_reply.started": "2022-07-19T15:00:21.382571Z"
    }
   },
   "outputs": [],
   "source": [
    "# Purchase_month format to month\n",
    "historical_transactions['purchase_month'] = historical_transactions['purchase_date'].dt.month\n",
    "new_transactions['purchase_month'] = new_transactions['purchase_date'].dt.month"
   ]
  },
  {
   "cell_type": "markdown",
   "metadata": {
    "_uuid": "316970db8921bb81069d4eeefd31ef21b75ebcee"
   },
   "source": [
    "The aggregation of the different transcations for every 'card_id' turned out to be crucial to the success of the project. As seen in the procedure in the beginning of our project, we changed the aggregation of the different rows many times after we evaluated the model. "
   ]
  },
  {
   "cell_type": "code",
   "execution_count": 14,
   "metadata": {
    "_uuid": "7140ade520ddfc8e14e73611f025005b9fe7a49d",
    "execution": {
     "iopub.execute_input": "2022-07-19T15:00:22.916707Z",
     "iopub.status.busy": "2022-07-19T15:00:22.916402Z",
     "iopub.status.idle": "2022-07-19T15:00:22.930209Z",
     "shell.execute_reply": "2022-07-19T15:00:22.929247Z",
     "shell.execute_reply.started": "2022-07-19T15:00:22.916652Z"
    }
   },
   "outputs": [],
   "source": [
    "# 'nunique' -> Returns number of unique elements in the group\n",
    "def aggregate_data(transactions):\n",
    "    transactions.loc[:, 'purchase_date'] = pd.DatetimeIndex(transactions['purchase_date']).\\\n",
    "                                      astype(np.int64) * 1e-9\n",
    "    \n",
    "    # Aggregate columns by:\n",
    "    aggregations = {\n",
    "        'category_1': ['sum', 'mean'],'category_2_1.0': ['mean'],'category_2_2.0': ['mean'],'category_2_3.0': ['mean'],\n",
    "        'category_2_4.0': ['mean'],'category_2_5.0': ['mean'],'category_3_A': ['mean'],'category_3_B': ['mean'],'category_3_C': ['mean'],\n",
    "        'merchant_id': ['nunique'],'merchant_category_id': ['nunique'],'state_id': ['nunique'],'city_id': ['nunique'],'subsector_id': ['nunique'],\n",
    "        'purchase_amount': ['sum', 'mean', 'max', 'min', 'std'], 'installments': ['sum', 'mean', 'max', 'min', 'std'],\n",
    "        'purchase_month': ['mean', 'max', 'min', 'std'], 'purchase_date': [np.ptp, 'min', 'max'],\n",
    "        'month_lag': ['min', 'max']\n",
    "        }\n",
    "    \n",
    "    # Group rows by 'card_id'\n",
    "    agg_transactions = transactions.groupby(['card_id']).agg(aggregations)\n",
    "    agg_transactions.columns = ['_'.join(col).strip() for col in agg_transactions.columns.values]\n",
    "    agg_transactions.reset_index(inplace=True)\n",
    "    \n",
    "    #\n",
    "    data = (transactions.groupby('card_id').size().reset_index(name='transactions_count'))\n",
    "    agg_transactions = pd.merge(data, agg_transactions, on='card_id', how='left')\n",
    "    return agg_transactions"
   ]
  },
  {
   "cell_type": "code",
   "execution_count": 15,
   "metadata": {
    "_uuid": "53a268dafea97f4d9d3c1781fae87266ee496f86",
    "execution": {
     "iopub.execute_input": "2022-07-19T15:00:22.932630Z",
     "iopub.status.busy": "2022-07-19T15:00:22.932083Z",
     "iopub.status.idle": "2022-07-19T15:03:58.576790Z",
     "shell.execute_reply": "2022-07-19T15:03:58.575101Z",
     "shell.execute_reply.started": "2022-07-19T15:00:22.932560Z"
    }
   },
   "outputs": [],
   "source": [
    "# Aggregate historical_transactions\n",
    "hist_agg = aggregate_data(historical_transactions)\n",
    "hist_agg.columns = ['hist_' + c if c != 'card_id' else c for c in hist_agg.columns]"
   ]
  },
  {
   "cell_type": "code",
   "execution_count": 16,
   "metadata": {
    "_uuid": "57c9fbdb3f34eebe91aa040313fd90bc807208df",
    "execution": {
     "iopub.execute_input": "2022-07-19T15:03:58.579336Z",
     "iopub.status.busy": "2022-07-19T15:03:58.578979Z",
     "iopub.status.idle": "2022-07-19T15:04:54.143622Z",
     "shell.execute_reply": "2022-07-19T15:04:54.142422Z",
     "shell.execute_reply.started": "2022-07-19T15:03:58.579258Z"
    }
   },
   "outputs": [],
   "source": [
    "# Aggregate new_transactions\n",
    "new_agg = aggregate_data(new_transactions)\n",
    "new_agg.columns = ['hist_' + c if c != 'card_id' else c for c in new_agg.columns]"
   ]
  },
  {
   "cell_type": "markdown",
   "metadata": {
    "_uuid": "834a97bbf99fae20ba7c794cabea4331365e2a1e"
   },
   "source": [
    "Finally I choosed a 'left-join' to merge every unique 'card_id' with its aggregated historical and new transactions. As we can see, that reduced the number of rows in our final_train set down to 0.01%."
   ]
  },
  {
   "cell_type": "code",
   "execution_count": 17,
   "metadata": {
    "_uuid": "dc22345d42d6bf3d4731ea851c1e07c213ce9b25",
    "execution": {
     "iopub.execute_input": "2022-07-19T15:04:54.146364Z",
     "iopub.status.busy": "2022-07-19T15:04:54.145838Z",
     "iopub.status.idle": "2022-07-19T15:04:56.037830Z",
     "shell.execute_reply": "2022-07-19T15:04:56.036543Z",
     "shell.execute_reply.started": "2022-07-19T15:04:54.146221Z"
    }
   },
   "outputs": [
    {
     "name": "stdout",
     "output_type": "stream",
     "text": [
      "Train original: (201917, 7)\n",
      "Test original: (123623, 6)\n",
      "Historical Transactions: (29112361, 21)\n",
      "New Transactions: (1963031, 21)\n",
      "Test merged: (201917, 77)\n",
      "Train merged: (123623, 76)\n",
      "Number of Rows through Aggregation  0.01%\n"
     ]
    }
   ],
   "source": [
    "# Join with train- and test-dataset\n",
    "final_train = pd.merge(org_train, hist_agg, on='card_id', how='left')\n",
    "final_test = pd.merge(org_test, hist_agg, on='card_id', how='left')\n",
    "\n",
    "final_train = pd.merge(final_train, new_agg, on='card_id', how='left')\n",
    "final_test = pd.merge(final_test, new_agg, on='card_id', how='left')\n",
    "\n",
    "print(\"Train original:\", org_train.shape); print(\"Test original:\", org_test.shape)\n",
    "print(\"Historical Transactions:\", historical_transactions.shape); print(\"New Transactions:\", new_transactions.shape); \n",
    "print(\"Test merged:\", final_train.shape); print(\"Train merged:\", final_test.shape)\n",
    "print(\"Number of Rows through Aggregation  {:0.2f}%\".format(final_train.shape[0]/(historical_transactions.shape[0] + new_transactions.shape[0])))"
   ]
  },
  {
   "cell_type": "markdown",
   "metadata": {
    "_uuid": "47de9a6267f10bf9a0ca35acd210cc33eba24619"
   },
   "source": [
    "That leads us to our final data sets to work with. We created one complete data set ( 'Full load' ) and a sample data set ( 'Data to work with') to reduce computation times and make working more convinient."
   ]
  },
  {
   "cell_type": "code",
   "execution_count": 18,
   "metadata": {
    "_uuid": "86c2a29b3f81c8d0c068f1caf5469674ecaff3f5",
    "execution": {
     "iopub.execute_input": "2022-07-19T15:04:56.039928Z",
     "iopub.status.busy": "2022-07-19T15:04:56.039544Z",
     "iopub.status.idle": "2022-07-19T15:04:56.392558Z",
     "shell.execute_reply": "2022-07-19T15:04:56.391280Z",
     "shell.execute_reply.started": "2022-07-19T15:04:56.039858Z"
    }
   },
   "outputs": [
    {
     "name": "stdout",
     "output_type": "stream",
     "text": [
      "X_train: (135284, 74) y_train: (135284,) X_test: (66633, 74) y_test: (66633,)\n"
     ]
    }
   ],
   "source": [
    "# Get features\n",
    "features = [c for c in final_train.columns if c not in ['card_id', 'first_active_month', 'target']]\n",
    "categorical_feats = [c for c in features if 'feature_' in c]\n",
    "\n",
    "# Full load\n",
    "target = final_train.target\n",
    "train = final_train[features]\n",
    "test = final_test[features]\n",
    "\n",
    "# Data to work with\n",
    "work_target=final_train.target\n",
    "work_data=final_train.sample(n=10000)\n",
    "work_train=final_train[features]\n",
    "\n",
    "# Training and test-dataset\n",
    "X_train,X_test,y_train,y_test=train_test_split(work_train, work_target, test_size=0.33,random_state=42)\n",
    "print(\"X_train:\",X_train.shape, \"y_train:\", y_train.shape, \"X_test:\", X_test.shape, \"y_test:\", y_test.shape)"
   ]
  },
  {
   "cell_type": "markdown",
   "metadata": {
    "_uuid": "4fac2ffd7ed4bd78ab16630517b02c1fc07453fd"
   },
   "source": [
    "Time to have a look an the correlation of those new features:"
   ]
  },
  {
   "cell_type": "code",
   "execution_count": 19,
   "metadata": {
    "_uuid": "b70d254a3b635973fec72122be30e63edd99336e",
    "execution": {
     "iopub.execute_input": "2022-07-19T15:04:56.394342Z",
     "iopub.status.busy": "2022-07-19T15:04:56.394068Z",
     "iopub.status.idle": "2022-07-19T15:05:01.639043Z",
     "shell.execute_reply": "2022-07-19T15:05:01.638011Z",
     "shell.execute_reply.started": "2022-07-19T15:04:56.394272Z"
    },
    "scrolled": true
   },
   "outputs": [
    {
     "data": {
      "image/png": "[encoded data removed]",
      "text/plain": [
       "<Figure size 792x792 with 2 Axes>"
      ]
     },
     "metadata": {
      "needs_background": "light"
     },
     "output_type": "display_data"
    }
   ],
   "source": [
    "import plotly.express as px\n",
    "\n",
    "# Compute correlation matrix\n",
    "train_corr = final_train.corr()\n",
    "\n",
    "# Generate mask for the upper triangle\n",
    "mask = np.zeros_like(train_corr, dtype=np.bool)\n",
    "mask[np.triu_indices_from(mask)] = True\n",
    "\n",
    "f, ax = plt.subplots(figsize=(11, 11))\n",
    "cmap = sns.diverging_palette(20, 150, as_cmap=True)\n",
    "sns.heatmap(train_corr, mask=mask, cmap=cmap, center=0,\n",
    "            square=True, linewidths=.5, cbar_kws={\"shrink\": .6});"
   ]
  },
  {
   "cell_type": "markdown",
   "metadata": {
    "_uuid": "7cfa8b774742ce7b1d90ad0d820760b9d7b78fd1"
   },
   "source": [
    "To make it a little more clear, we choosed the top 10 featueres with the highest correlation to the target. Unfortunately the observed correlations are super low. "
   ]
  },
  {
   "cell_type": "code",
   "execution_count": 20,
   "metadata": {
    "_uuid": "516474996f501298807c2d3204c590f1da8cf741",
    "execution": {
     "iopub.execute_input": "2022-07-19T15:05:01.640883Z",
     "iopub.status.busy": "2022-07-19T15:05:01.640580Z",
     "iopub.status.idle": "2022-07-19T15:05:05.244672Z",
     "shell.execute_reply": "2022-07-19T15:05:05.243647Z",
     "shell.execute_reply.started": "2022-07-19T15:05:01.640826Z"
    }
   },
   "outputs": [
    {
     "data": {
      "text/plain": [
       "target                        1.000000\n",
       "hist_purchase_date_min_y      0.109212\n",
       "hist_purchase_date_max_y      0.104947\n",
       "hist_purchase_month_max_y     0.092059\n",
       "hist_purchase_date_max_x      0.088260\n",
       "hist_purchase_month_mean_y    0.083291\n",
       "hist_purchase_month_std_x     0.072152\n",
       "hist_purchase_amount_max_y    0.065224\n",
       "hist_purchase_amount_std_y    0.065051\n",
       "hist_purchase_month_min_y     0.063648\n",
       "Name: target, dtype: float64"
      ]
     },
     "execution_count": 20,
     "metadata": {},
     "output_type": "execute_result"
    }
   ],
   "source": [
    "# Get correlation of features to target\n",
    "corr_matr=final_train.corr().abs().sort_values(by=['target'],ascending=False)['target'];\n",
    "corr_matr.head(10)"
   ]
  },
  {
   "cell_type": "markdown",
   "metadata": {
    "_uuid": "3ba798815ee61a8867d9da59e4b194f7e6d1edcb"
   },
   "source": [
    "## 2.4 Missing Values"
   ]
  },
  {
   "cell_type": "code",
   "execution_count": 21,
   "metadata": {
    "_uuid": "964a5940923e38360f5d436d611ade82ce5a78c4",
    "execution": {
     "iopub.execute_input": "2022-07-19T15:05:05.247405Z",
     "iopub.status.busy": "2022-07-19T15:05:05.246590Z",
     "iopub.status.idle": "2022-07-19T15:05:05.445250Z",
     "shell.execute_reply": "2022-07-19T15:05:05.444402Z",
     "shell.execute_reply.started": "2022-07-19T15:05:05.247352Z"
    }
   },
   "outputs": [
    {
     "data": {
      "text/plain": [
       "567167"
      ]
     },
     "execution_count": 21,
     "metadata": {},
     "output_type": "execute_result"
    }
   ],
   "source": [
    "# checkin data set for NaN's\n",
    "X_train.isna().sum().sum()"
   ]
  },
  {
   "cell_type": "code",
   "execution_count": 22,
   "metadata": {
    "_uuid": "ec7cb2033eb4fb1c40ecccda03ed80dfefa08845",
    "execution": {
     "iopub.execute_input": "2022-07-19T15:05:05.447020Z",
     "iopub.status.busy": "2022-07-19T15:05:05.446725Z",
     "iopub.status.idle": "2022-07-19T15:05:08.721899Z",
     "shell.execute_reply": "2022-07-19T15:05:08.719503Z",
     "shell.execute_reply.started": "2022-07-19T15:05:05.446967Z"
    }
   },
   "outputs": [
    {
     "data": {
      "text/plain": [
       "0"
      ]
     },
     "execution_count": 22,
     "metadata": {},
     "output_type": "execute_result"
    }
   ],
   "source": [
    "# Fill NaN's with median value\n",
    "from sklearn.impute import SimpleImputer\n",
    "imputer=SimpleImputer(strategy='median')\n",
    "imputer.fit(X_train)\n",
    "\n",
    "# For training data\n",
    "X_train_numpy=imputer.transform(X_train)\n",
    "X_train_filled=pd.DataFrame(X_train_numpy)\n",
    "\n",
    "# For test data\n",
    "X_test_numpy=imputer.transform(X_test)\n",
    "X_test_filled=pd.DataFrame(X_test_numpy)\n",
    "\n",
    "# Checkin data set for NaN's\n",
    "X_train_filled.isna().sum().sum()"
   ]
  },
  {
   "cell_type": "markdown",
   "metadata": {
    "_uuid": "6ce11a6fe0cfa5d02e24c4d96f9272334498c8ba"
   },
   "source": [
    "## 3.1 Model Training"
   ]
  },
  {
   "cell_type": "markdown",
   "metadata": {
    "_uuid": "db9f8e91a1bf0e43fb2f5d4c7c627fb1783fe576"
   },
   "source": [
    "#### Evaluation of Models\n",
    "\n",
    "In order to measure the quality of fit and to evaluate the models in the following chapter, I defined the root-mean-square-error. \n",
    "\n",
    "To compare our results I created a dummy-model, which is predicting the average of the giving targets by the training set. \n",
    "\n",
    "#### Model Selection\n",
    "\n",
    "I don't see the point of using linear models (Lasso, Ridge, Elastic Net) because there is no significant correlation between the target and the features. Therefore I will immediately use Decision Trees."
   ]
  },
  {
   "cell_type": "code",
   "execution_count": 23,
   "metadata": {
    "_uuid": "20ff7d181778b4b0c1623a2ee4fb37e5f2276de6",
    "execution": {
     "iopub.execute_input": "2022-07-19T15:05:10.623933Z",
     "iopub.status.busy": "2022-07-19T15:05:10.623421Z",
     "iopub.status.idle": "2022-07-19T15:05:10.634634Z",
     "shell.execute_reply": "2022-07-19T15:05:10.631851Z",
     "shell.execute_reply.started": "2022-07-19T15:05:10.623829Z"
    }
   },
   "outputs": [],
   "source": [
    "# define function to calculate RMSE\n",
    "def rmse(y_test,prediction):\n",
    "    rmse=np.sqrt(mean_squared_error(y_test,prediction))\n",
    "    return rmse;"
   ]
  },
  {
   "cell_type": "code",
   "execution_count": 24,
   "metadata": {
    "_uuid": "26a674821a7448666251933e1b79140a61eded07",
    "execution": {
     "iopub.execute_input": "2022-07-19T15:05:10.638550Z",
     "iopub.status.busy": "2022-07-19T15:05:10.637472Z",
     "iopub.status.idle": "2022-07-19T15:05:10.657678Z",
     "shell.execute_reply": "2022-07-19T15:05:10.655229Z",
     "shell.execute_reply.started": "2022-07-19T15:05:10.638264Z"
    }
   },
   "outputs": [
    {
     "name": "stdout",
     "output_type": "stream",
     "text": [
      "Dummy-Model RMSE: 3.87\n"
     ]
    }
   ],
   "source": [
    "# create a dummy prediciton with the average, in order to compare the model to the most simplest one\n",
    "y_dummy=pd.Series(data=np.full((y_test.shape),np.average(target)))\n",
    "rmse_dummy=rmse(y_test,y_dummy)\n",
    "print('Dummy-Model RMSE: {:0.2f}'.format(rmse_dummy))"
   ]
  },
  {
   "cell_type": "code",
   "execution_count": 25,
   "metadata": {
    "_uuid": "ca159351a5855754c359fdf6a639fe326c363238",
    "execution": {
     "iopub.execute_input": "2022-07-19T15:05:10.661170Z",
     "iopub.status.busy": "2022-07-19T15:05:10.660751Z",
     "iopub.status.idle": "2022-07-19T15:05:10.674198Z",
     "shell.execute_reply": "2022-07-19T15:05:10.672388Z",
     "shell.execute_reply.started": "2022-07-19T15:05:10.661094Z"
    }
   },
   "outputs": [],
   "source": [
    "# define function in order to calculate RMSE and Improvement of Model\n",
    "def evaluation(model, X_train=X_train, y_train=y_train, X_test=X_test, y_test=y_test):\n",
    "    \"\"\"\n",
    "   This function evaluates the model, calculates the RMSE and measures its imporvement in comparison to the dummy-prediction.\n",
    "   If no specific Training and Test-set is given, it defaults to X_train, y_train, X_test and y_test.\n",
    "   \"\"\"\n",
    "    model.fit(X_train,y_train)\n",
    "    model_pred=model.predict(X_test)\n",
    "    rmse_new=rmse(y_test,model_pred)\n",
    "    #print(\"Number of features used:\",model.coef_!=0 )\n",
    "    print(\"Model:\",model.__class__.__name__,\";\",'RMSE: {:0.2f}'.format(rmse_new),\";\",'Improvement of: {:0.2f}%'.format(100 * (rmse_dummy- rmse_new) / rmse_new))"
   ]
  },
  {
   "cell_type": "code",
   "execution_count": 26,
   "metadata": {
    "_uuid": "33d19590965821a1c6c2aea07b0cae4bc98306be",
    "execution": {
     "iopub.execute_input": "2022-07-19T15:05:10.677239Z",
     "iopub.status.busy": "2022-07-19T15:05:10.676858Z",
     "iopub.status.idle": "2022-07-19T15:05:10.693802Z",
     "shell.execute_reply": "2022-07-19T15:05:10.691670Z",
     "shell.execute_reply.started": "2022-07-19T15:05:10.677180Z"
    }
   },
   "outputs": [],
   "source": [
    "# define RMSE for sklearn-models\n",
    "from sklearn.metrics import make_scorer\n",
    "rmse_scorer = make_scorer(rmse, greater_is_better=False)"
   ]
  },
  {
   "cell_type": "markdown",
   "metadata": {
    "_uuid": "0d05bc707cc8982d27b07ec84a32b9b0b2eea14f"
   },
   "source": [
    "## 3.2 Decision Trees"
   ]
  },
  {
   "cell_type": "markdown",
   "metadata": {
    "_uuid": "32ad15f8a3c98fca6234bb3d9594e0f595a08f96"
   },
   "source": [
    "#### Decision Tree"
   ]
  },
  {
   "cell_type": "code",
   "execution_count": 27,
   "metadata": {
    "_uuid": "fb091e4f34f6fb39aeb0b2afbeaa152e78dcb9ba",
    "execution": {
     "iopub.execute_input": "2022-07-19T15:06:26.898516Z",
     "iopub.status.busy": "2022-07-19T15:06:26.892314Z",
     "iopub.status.idle": "2022-07-19T15:06:29.227715Z",
     "shell.execute_reply": "2022-07-19T15:06:29.226474Z",
     "shell.execute_reply.started": "2022-07-19T15:06:26.898394Z"
    },
    "scrolled": true
   },
   "outputs": [
    {
     "name": "stdout",
     "output_type": "stream",
     "text": [
      "Model: DecisionTreeRegressor ; RMSE: 3.80 ; Improvement of: 1.99%\n"
     ]
    }
   ],
   "source": [
    "# Training Decision Tree and first Evaluation of Performance\n",
    "tree1 = DecisionTreeRegressor(max_depth=3)\n",
    "evaluation(tree1, X_train=X_train_filled, X_test=X_test_filled)"
   ]
  },
  {
   "cell_type": "markdown",
   "metadata": {
    "_uuid": "6a360e3cb4fa1da2999965cc7b558c717434d6a2"
   },
   "source": [
    "#### Decision Tree Validation Curve\n",
    "\n",
    "In the following I plotted a validation curve, which is showing the performance of a decision tree on the training- and on the test dataset."
   ]
  },
  {
   "cell_type": "code",
   "execution_count": 28,
   "metadata": {
    "_uuid": "f9f31f23ab892f046d17e70238b6d9f30887baeb",
    "execution": {
     "iopub.execute_input": "2022-07-19T15:06:29.230624Z",
     "iopub.status.busy": "2022-07-19T15:06:29.230188Z",
     "iopub.status.idle": "2022-07-19T15:07:01.965231Z",
     "shell.execute_reply": "2022-07-19T15:07:01.963630Z",
     "shell.execute_reply.started": "2022-07-19T15:06:29.230557Z"
    },
    "scrolled": true
   },
   "outputs": [
    {
     "name": "stdout",
     "output_type": "stream",
     "text": [
      "Optimal regularization parameter : 4\n",
      "Model: DecisionTreeRegressor ; RMSE: 3.78 ; Improvement of: 2.59%\n"
     ]
    },
    {
     "data": {
      "image/png": "[encoded data removed]",
      "text/plain": [
       "<Figure size 960x640 with 1 Axes>"
      ]
     },
     "metadata": {},
     "output_type": "display_data"
    }
   ],
   "source": [
    "# Evaluation Training- and Test Error\n",
    "# Create CV training and test scores for various training set sizes\n",
    "depth_range = np.linspace(1, 10, 10) # Range of depth for Decison Tree's\n",
    "\n",
    "train_scores, test_scores = validation_curve(DecisionTreeRegressor(),X_train_filled, y_train,\n",
    "                                             param_name =\"max_depth\", param_range = depth_range.astype('int'), \n",
    "                                             cv=3, scoring=rmse_scorer, n_jobs=-1)\n",
    "\n",
    "# Create means and standard deviations of training set scores\n",
    "train_scores_mean = np.mean(train_scores, axis=1); test_scores_mean = np.mean(test_scores, axis=1)\n",
    "\n",
    "# Calculating optimal regularization parameter\n",
    "i_depth_range_optim = np.argmax(test_scores_mean)\n",
    "depth_range_optim = int(depth_range[i_depth_range_optim])\n",
    "print(\"Optimal regularization parameter : %s\" % depth_range_optim )\n",
    "tree2=DecisionTreeRegressor(max_depth=depth_range_optim); evaluation(tree2,X_train=X_train_filled,X_test=X_test_filled)\n",
    "\n",
    "# Plotting the Validation Curve\n",
    "figure(num=None, figsize=(12, 8), dpi=80, facecolor='w', edgecolor='k')\n",
    "plt.title(\"Validation Curve with DecisionTreeRegressor - Complexity\");plt.xlabel(\"Complexity/max_depth\");plt.ylabel(\"RMSE\")\n",
    "plt.plot(depth_range,train_scores_mean, label=\"Training score\",linewidth=4,color='blue') ;\n",
    "plt.plot(depth_range,test_scores_mean, label=\"Cross-validation score\",linewidth=4,color='red')\n",
    "plt.vlines(depth_range_optim, plt.ylim()[0], np.max(test_scores_mean), color='k',linewidth=2,linestyles='--',label='Optimum on test')\n",
    "plt.legend(loc=\"best\"); plt.show()"
   ]
  },
  {
   "cell_type": "markdown",
   "metadata": {
    "_uuid": "bc9519c82361677b49396f9cf2762f6c5539d9dc"
   },
   "source": [
    "After the evaluation of the optimum depth for tree, I tried to find out how much data the tree actually needs to perform. As seen below, the performance of the DecisionTreeRegressor does not really improve with an increasing trainind data size. "
   ]
  },
  {
   "cell_type": "code",
   "execution_count": 29,
   "metadata": {},
   "outputs": [
    {
     "data": {
      "image/png": "[encoded data removed]",
      "text/plain": [
       "<Figure size 960x640 with 1 Axes>"
      ]
     },
     "metadata": {},
     "output_type": "display_data"
    }
   ],
   "source": [
    "# Evaluation Training Size\n",
    "# Create CV training and test scores for various training set sizes\n",
    "train_sizes, train_scores, test_scores = learning_curve(DecisionTreeRegressor(max_depth=4), \n",
    "                                                        X_train_filled, y_train,cv=3,scoring=rmse_scorer, n_jobs=-1, \n",
    "                                                        # 20 different sizes of the training set\n",
    "                                                        train_sizes=np.linspace(0.01, 1.0, 20))\n",
    "\n",
    "# Create means and standard deviations of training set scores\n",
    "train_mean = np.mean(train_scores, axis=1)\n",
    "train_std = np.std(train_scores, axis=1)\n",
    "# Create means and standard deviations of test set scores\n",
    "test_mean = np.mean(test_scores, axis=1)\n",
    "test_std = np.std(test_scores, axis=1)\n",
    "\n",
    "# Draw lines\n",
    "figure(num=None, figsize=(12, 8), dpi=80, facecolor='w', edgecolor='k')\n",
    "plt.plot(train_sizes, train_mean, '--', color='blue',  label=\"Training score\")\n",
    "plt.plot(train_sizes, test_mean, color='red', label=\"Cross-validation score\")\n",
    "\n",
    "# Draw bands\n",
    "plt.fill_between(train_sizes, train_mean - train_std, train_mean + train_std, color=\"#DDDDDD\")\n",
    "plt.fill_between(train_sizes, test_mean - test_std, test_mean + test_std, color=\"#DDDDDD\")\n",
    "\n",
    "# Create plot -> change y-label\n",
    "plt.title(\"Learning Curve with DecisionTreeRegressor - Training Size\")\n",
    "plt.xlabel(\"Training Set Size\"), plt.ylabel(\"RMSE\"), plt.legend(loc=\"best\")\n",
    "plt.tight_layout()\n",
    "plt.show()"
   ]
  },
  {
   "cell_type": "markdown",
   "metadata": {
    "_uuid": "b00bc4fa4fce8b5ca1f0e1acaf956ed42f81ead2"
   },
   "source": [
    "## 3.3 Random Forest"
   ]
  },
  {
   "cell_type": "code",
   "execution_count": 30,
   "metadata": {
    "_uuid": "89d18fefa39989adaad2cfc75c09fcaceabb8e28",
    "execution": {
     "iopub.execute_input": "2022-07-19T15:07:15.968986Z",
     "iopub.status.busy": "2022-07-19T15:07:15.968728Z",
     "iopub.status.idle": "2022-07-19T15:07:39.450313Z",
     "shell.execute_reply": "2022-07-19T15:07:39.449281Z",
     "shell.execute_reply.started": "2022-07-19T15:07:15.968943Z"
    },
    "scrolled": true
   },
   "outputs": [
    {
     "name": "stdout",
     "output_type": "stream",
     "text": [
      "Model: RandomForestRegressor ; RMSE: 3.76 ; Improvement of: 2.97%\n"
     ]
    }
   ],
   "source": [
    "# Create first random forrest \n",
    "from sklearn.ensemble import RandomForestRegressor\n",
    "\n",
    "ranFor1 = RandomForestRegressor(max_depth=4, random_state=0,\n",
    "                            n_estimators=20)\n",
    "evaluation(ranFor1,X_train=X_train_filled,X_test=X_test_filled)"
   ]
  },
  {
   "cell_type": "markdown",
   "metadata": {
    "_uuid": "48fd47f34c4b0d109e3a5d4ad214fabf05922720"
   },
   "source": [
    "**RandomForrest Validation Curve**\n",
    "\n",
    "Same like we evaluated the depth for single tree, we analyzed the number of trees for the RandomForrest."
   ]
  },
  {
   "cell_type": "code",
   "execution_count": 31,
   "metadata": {
    "_uuid": "3cbc1bd2dfc55f73e3c045f0e367b68bcc6c8194",
    "execution": {
     "iopub.execute_input": "2022-07-19T15:07:39.452046Z",
     "iopub.status.busy": "2022-07-19T15:07:39.451793Z",
     "iopub.status.idle": "2022-07-19T15:14:48.376357Z",
     "shell.execute_reply": "2022-07-19T15:14:48.375345Z",
     "shell.execute_reply.started": "2022-07-19T15:07:39.452002Z"
    }
   },
   "outputs": [
    {
     "name": "stdout",
     "output_type": "stream",
     "text": [
      "Optimal regularization parameter : 8\n",
      "Model: RandomForestRegressor ; RMSE: 4.03 ; Improvement of: -3.91%\n"
     ]
    },
    {
     "data": {
      "image/png": "[encoded data removed]",
      "text/plain": [
       "<Figure size 640x480 with 1 Axes>"
      ]
     },
     "metadata": {},
     "output_type": "display_data"
    }
   ],
   "source": [
    "# Finding the best hyperparameters\n",
    "estimator_range = np.arange(2, 40, 2)\n",
    "train_scores, test_scores = validation_curve(RandomForestRegressor(max_depth=3),X_train_filled, y_train,\n",
    "                                                          param_name=\"n_estimators\", param_range=estimator_range,\n",
    "                                                          cv=3,scoring=rmse_scorer, n_jobs=-1)\n",
    "\n",
    "# Calculate means and standard deviations of training set scores\n",
    "train_scores_mean = np.mean(train_scores, axis=1)\n",
    "train_scores_std = np.std(train_scores, axis=1)\n",
    "test_scores_mean = np.mean(test_scores, axis=1)\n",
    "test_scores_std = np.std(test_scores, axis=1)\n",
    "\n",
    "i_estimator_range_optim = np.argmax(test_scores_mean)\n",
    "estimator_range_optim = estimator_range[i_estimator_range_optim]\n",
    "print(\"Optimal regularization parameter :\",estimator_range_optim)\n",
    "\n",
    "# Evalueate model\n",
    "ranFor2=RandomForestRegressor(n_estimators=estimator_range_optim)\n",
    "evaluation(ranFor2,X_train=X_train_filled,X_test=X_test_filled)\n",
    "\n",
    "# Plot\n",
    "figure(num=None, figsize=(8, 6), dpi=80, facecolor='w', edgecolor='k')\n",
    "plt.title(\"Validation Curve with RandomForestRegressor\");plt.xlabel(\"Number of Trees\")\n",
    "plt.ylabel(\"RMSE\")\n",
    "\n",
    "plt.plot(estimator_range,train_scores_mean,  label=\"Training score\",linewidth=4,color='blue')\n",
    "plt.plot(estimator_range,test_scores_mean, label=\"Cross-validation score\",linewidth=4,color='red')\n",
    "\n",
    "plt.vlines(depth_range_optim, plt.ylim()[0], np.max(test_scores_mean), color='k',linewidth=2,linestyles='--',label='Optimum on test')\n",
    "plt.legend(loc=\"best\")\n",
    "plt.show()"
   ]
  },
  {
   "cell_type": "markdown",
   "metadata": {},
   "source": [
    "Using GridSearch is impractical. The data is too big for this approach. In conclusion I can say that in our case we can't use anything something else besides Gradient Boosting Approach."
   ]
  },
  {
   "cell_type": "markdown",
   "metadata": {
    "_uuid": "2db0c6d27454a117784709a1fd3a79e0b1912ff2"
   },
   "source": [
    "## 4.1 LightGBM"
   ]
  },
  {
   "cell_type": "markdown",
   "metadata": {
    "_uuid": "5d2fe547f87d8b5eb18407fdb10fde0f5b3942c4"
   },
   "source": [
    "Light GBM grows tree vertically/ leaf-wise while other algorithm grows trees horizontally/ leaf-wise . It will choose the leaf with max delta loss to grow. When growing the same leaf, Leaf-wise algorithm can reduce more loss than a level-wise algorithm.\n",
    "\n",
    "Level-wise training can be seen as a form of regularized training since leaf-wise training can construct any tree that level-wise training can. Therefore, leaf-wise training is more prone to overfitting but is more flexible. This makes it a better choice for large and wide datasets.\n"
   ]
  },
  {
   "cell_type": "code",
   "execution_count": 32,
   "metadata": {
    "_uuid": "61c7faed44aaa10681e0c8890c0f602e913cd095",
    "execution": {
     "iopub.execute_input": "2022-07-19T15:16:13.733131Z",
     "iopub.status.busy": "2022-07-19T15:16:13.732848Z",
     "iopub.status.idle": "2022-07-19T15:16:13.740369Z",
     "shell.execute_reply": "2022-07-19T15:16:13.739434Z",
     "shell.execute_reply.started": "2022-07-19T15:16:13.733071Z"
    }
   },
   "outputs": [],
   "source": [
    "# Default parameters for LightGBM\n",
    "def_params = {'application': \"regression\", \"boosting\": \"gbdt\", \"metric\": 'rmse', 'max_depth': 4,  \n",
    "              'learning_rate': 0.1, 'num_leaves':31, 'min_data_in_leaf': 20, \"random_state\": 2019,\n",
    "              'min_gain_to_split': 0, 'feature_fraction': 1, 'bagging_fraction': 1,   \n",
    "              }"
   ]
  },
  {
   "cell_type": "code",
   "execution_count": 33,
   "metadata": {
    "_uuid": "7bce38bf775632006216c9592c0a7b9ebbb7407e",
    "execution": {
     "iopub.execute_input": "2022-07-19T15:16:13.742198Z",
     "iopub.status.busy": "2022-07-19T15:16:13.741907Z",
     "iopub.status.idle": "2022-07-19T15:16:13.754235Z",
     "shell.execute_reply": "2022-07-19T15:16:13.753331Z",
     "shell.execute_reply.started": "2022-07-19T15:16:13.742141Z"
    }
   },
   "outputs": [],
   "source": [
    "# Define function in order to calculate RMSE and Improvement of Model\n",
    "def lgb_evaluation(model,X_train=X_train,y_train=y_train,X_test=X_test,y_test=y_test):\n",
    "    pred_lgb_model=model.predict(X_test)\n",
    "    rmse_new=rmse(y_test,pred_lgb_model)\n",
    "    print(\"Model: LGB;\",'RMSE: {:0.2f}'.format(rmse_new),\";\",'Improvement of: {:0.2f}%'.format(100 * (rmse_dummy- rmse_new) / rmse_new))"
   ]
  },
  {
   "cell_type": "code",
   "execution_count": 34,
   "metadata": {
    "_uuid": "6834173faf0323847c29e8e67a6739cbcf983018",
    "execution": {
     "iopub.execute_input": "2022-07-19T15:16:13.756469Z",
     "iopub.status.busy": "2022-07-19T15:16:13.756126Z",
     "iopub.status.idle": "2022-07-19T15:16:15.462156Z",
     "shell.execute_reply": "2022-07-19T15:16:15.461355Z",
     "shell.execute_reply.started": "2022-07-19T15:16:13.756415Z"
    },
    "scrolled": true
   },
   "outputs": [
    {
     "name": "stdout",
     "output_type": "stream",
     "text": [
      "[LightGBM] [Warning] Auto-choosing row-wise multi-threading, the overhead of testing was 0.014031 seconds.\n",
      "You can set `force_row_wise=true` to remove the overhead.\n",
      "And if memory is not enough, you can set `force_col_wise=true`.\n",
      "[LightGBM] [Info] Total Bins 11633\n",
      "[LightGBM] [Info] Number of data points in the train set: 135284, number of used features: 74\n",
      "[LightGBM] [Info] Start training from score -0.394022\n",
      "CPU times: user 2.16 s, sys: 153 ms, total: 2.32 s\n",
      "Wall time: 683 ms\n",
      "Model: LGB; RMSE: 3.77 ; Improvement of: 2.81%\n"
     ]
    }
   ],
   "source": [
    "# Setting up the first LGBM Model\n",
    "rounds = 10\n",
    "training_data = lgb.Dataset(data=X_train, label=y_train, params=def_params, \n",
    "                          categorical_feature=categorical_feats, free_raw_data=False)\n",
    "# Training the Model\n",
    "%time lgb1 = lgb.train(train_set=training_data, params=def_params, num_boost_round=rounds)\n",
    "\n",
    "# Making Predictions\n",
    "pred_lgb1=lgb1.predict(X_test)\n",
    "\n",
    "# Evaluation of first LGB\n",
    "lgb_evaluation(model=lgb1)"
   ]
  },
  {
   "cell_type": "markdown",
   "metadata": {
    "_uuid": "875d657690de40210d87dd9d5cb329cdb84a3ec7"
   },
   "source": [
    "The result of the first LGBM tree shows, that without specific parameters and intense training, there is not much difference to a usual decision tree. Let's see if we can find the optimum parameters more elegant than in Sklearn and finally get a good result."
   ]
  },
  {
   "cell_type": "markdown",
   "metadata": {
    "_uuid": "070eb5dd277b92446cb6a050c8b8b81995367c7e"
   },
   "source": [
    "## 4.2 Bayesian Optimization"
   ]
  },
  {
   "cell_type": "markdown",
   "metadata": {
    "_uuid": "f9722c585b107057189567f041d64b18771d715b"
   },
   "source": [
    "Bayesian optimization finds the value that minimizes an objective function by building a surrogate function (probability model) based on past evaluation results of the objective. \n",
    "The surrogate is cheaper to optimize than the objective, so the next input values to evaluate are selected by applying a criterion to the surrogate (often Expected Improvement). "
   ]
  },
  {
   "cell_type": "markdown",
   "metadata": {
    "_uuid": "379f8cec541af9c4c7902e852a26198f8f0d1691"
   },
   "source": [
    "Bayesian Optimization to find optimum Parameters:"
   ]
  },
  {
   "cell_type": "code",
   "execution_count": 35,
   "metadata": {
    "_uuid": "ee191f892245893c5ac88e2eaaa99a01f3a0db23",
    "execution": {
     "iopub.execute_input": "2022-07-19T15:16:15.463905Z",
     "iopub.status.busy": "2022-07-19T15:16:15.463477Z",
     "iopub.status.idle": "2022-07-19T15:16:15.479657Z",
     "shell.execute_reply": "2022-07-19T15:16:15.478736Z",
     "shell.execute_reply.started": "2022-07-19T15:16:15.463861Z"
    }
   },
   "outputs": [],
   "source": [
    "from bayes_opt import BayesianOptimization\n",
    "\n",
    "# Define Bayes Optimization function for LGBM\n",
    "def bayes_parameter_opt_lgb(training, testing, init_round=5, opt_round=10, n_folds=4, random_seed=2019, \n",
    "                            n_estimators=100, learning_rate=0.05, output_process=False):\n",
    "    \n",
    "    # Training data\n",
    "    training_data = lgb.Dataset(data= train, label= target, categorical_feature = categorical_feats, free_raw_data=False)\n",
    "    \n",
    "    # Parameters to optimize\n",
    "    def lgb_evaluation(learning_rate, num_leaves, feature_fraction, bagging_fraction, max_depth, lambda_l1,min_data_in_leaf,min_split_gain):\n",
    " \n",
    "        params = {'application':'regression','num_iterations': n_estimators,  \n",
    "                  'early_stopping_round':100, 'metric':'rmse'}\n",
    "        # Bayes opt's outputs are always float\n",
    "        params['learning_rate'] = max(min(feature_fraction, 1), 0)\n",
    "        params[\"num_leaves\"] = int(round(num_leaves)) # Rounding of parameters did not work\n",
    "        params['bagging_fraction'] = max(min(bagging_fraction, 1), 0)\n",
    "        params['max_depth'] = int(round(max_depth))\n",
    "        params['min_data_in_leaf'] = int(round(min_data_in_leaf))\n",
    "        params['lambda_l1'] = max(lambda_l1, 0)\n",
    "        params['min_split_gain'] = min_split_gain\n",
    "        cv_result = lgb.cv(params, training_data, nfold=n_folds, seed=random_seed, stratified=False, \n",
    "                           verbose_eval=200, metrics=['rmse'])\n",
    "        return max(cv_result['rmse-mean'])\n",
    "    # Parameter Range\n",
    "    lgbBO = BayesianOptimization(lgb_evaluation, \n",
    "                                 {'learning_rate': (0.0001, 0.1),\n",
    "                                  'num_leaves': (150, 300),\n",
    "                                  'feature_fraction': (0.01, 0.2),\n",
    "                                  'bagging_fraction': (0.2, 1),\n",
    "                                  'max_depth': (1, 3),\n",
    "                                  'lambda_l1': (0, 2),\n",
    "                                  'min_data_in_leaf': (200,400),\n",
    "                                  'min_split_gain': (0.001, 0.2)\n",
    "                                  },\n",
    "                                  verbose=1)\n",
    "    # Optimize\n",
    "    lgbBO.maximize(init_points=init_round, n_iter=opt_round)\n",
    "\n",
    "    # return best parameters\n",
    "    return lgbBO.max"
   ]
  },
  {
   "cell_type": "code",
   "execution_count": 36,
   "metadata": {
    "_uuid": "9506f93a7708d90a9e24088f3f2ff9fd8103bad7",
    "execution": {
     "iopub.execute_input": "2022-07-19T15:16:15.481321Z",
     "iopub.status.busy": "2022-07-19T15:16:15.481002Z",
     "iopub.status.idle": "2022-07-19T15:19:47.916545Z",
     "shell.execute_reply": "2022-07-19T15:19:47.915452Z",
     "shell.execute_reply.started": "2022-07-19T15:16:15.481250Z"
    }
   },
   "outputs": [
    {
     "name": "stdout",
     "output_type": "stream",
     "text": [
      "CPU times: user 2 µs, sys: 1e+03 ns, total: 3 µs\n",
      "Wall time: 4.77 µs\n",
      "|   iter    |  target   | baggin... | featur... | lambda_l1 | learni... | max_depth | min_da... | min_sp... | num_le... |\n",
      "-------------------------------------------------------------------------------------------------------------------------\n",
      "[LightGBM] [Warning] Auto-choosing row-wise multi-threading, the overhead of testing was 0.024984 seconds.\n",
      "You can set `force_row_wise=true` to remove the overhead.\n",
      "And if memory is not enough, you can set `force_col_wise=true`.\n",
      "[LightGBM] [Info] Total Bins 11695\n",
      "[LightGBM] [Info] Number of data points in the train set: 151437, number of used features: 74\n",
      "[LightGBM] [Warning] Auto-choosing row-wise multi-threading, the overhead of testing was 0.026362 seconds.\n",
      "You can set `force_row_wise=true` to remove the overhead.\n",
      "And if memory is not enough, you can set `force_col_wise=true`.\n",
      "[LightGBM] [Info] Total Bins 11695\n",
      "[LightGBM] [Info] Number of data points in the train set: 151437, number of used features: 74\n",
      "[LightGBM] [Warning] Auto-choosing row-wise multi-threading, the overhead of testing was 0.024904 seconds.\n",
      "You can set `force_row_wise=true` to remove the overhead.\n",
      "And if memory is not enough, you can set `force_col_wise=true`.\n",
      "[LightGBM] [Info] Total Bins 11695\n",
      "[LightGBM] [Info] Number of data points in the train set: 151437, number of used features: 74\n",
      "[LightGBM] [Warning] Auto-choosing row-wise multi-threading, the overhead of testing was 0.020229 seconds.\n",
      "You can set `force_row_wise=true` to remove the overhead.\n",
      "And if memory is not enough, you can set `force_col_wise=true`.\n",
      "[LightGBM] [Info] Total Bins 11695\n",
      "[LightGBM] [Info] Number of data points in the train set: 151437, number of used features: 74\n",
      "[LightGBM] [Info] Start training from score -0.387506\n",
      "[LightGBM] [Info] Start training from score -0.394289\n",
      "[LightGBM] [Info] Start training from score -0.396410\n",
      "[LightGBM] [Info] Start training from score -0.396344\n"
     ]
    },
    {
     "name": "stderr",
     "output_type": "stream",
     "text": [
      "[LightGBM] [Fatal] Reducing `min_data_in_leaf` with `feature_pre_filter=true` may cause unexpected behaviour for features that were pre-filtered by the larger `min_data_in_leaf`.\n",
      "You need to set `feature_pre_filter=false` to dynamically change the `min_data_in_leaf`.\n"
     ]
    },
    {
     "name": "stdout",
     "output_type": "stream",
     "text": [
      "[LightGBM] [Warning] Auto-choosing row-wise multi-threading, the overhead of testing was 0.009830 seconds.\n",
      "You can set `force_row_wise=true` to remove the overhead.\n",
      "And if memory is not enough, you can set `force_col_wise=true`.\n",
      "[LightGBM] [Info] Total Bins 11695\n",
      "[LightGBM] [Info] Number of data points in the train set: 151437, number of used features: 74\n",
      "[LightGBM] [Warning] Auto-choosing row-wise multi-threading, the overhead of testing was 0.011337 seconds.\n",
      "You can set `force_row_wise=true` to remove the overhead.\n",
      "And if memory is not enough, you can set `force_col_wise=true`.\n",
      "[LightGBM] [Info] Total Bins 11695\n",
      "[LightGBM] [Info] Number of data points in the train set: 151437, number of used features: 74\n",
      "[LightGBM] [Warning] Auto-choosing row-wise multi-threading, the overhead of testing was 0.016450 seconds.\n",
      "You can set `force_row_wise=true` to remove the overhead.\n",
      "And if memory is not enough, you can set `force_col_wise=true`.\n",
      "[LightGBM] [Info] Total Bins 11695\n",
      "[LightGBM] [Info] Number of data points in the train set: 151437, number of used features: 74\n",
      "[LightGBM] [Warning] Auto-choosing row-wise multi-threading, the overhead of testing was 0.015420 seconds.\n",
      "You can set `force_row_wise=true` to remove the overhead.\n",
      "And if memory is not enough, you can set `force_col_wise=true`.\n",
      "[LightGBM] [Info] Total Bins 11695\n",
      "[LightGBM] [Info] Number of data points in the train set: 151437, number of used features: 74\n",
      "[LightGBM] [Info] Start training from score -0.387506\n",
      "[LightGBM] [Info] Start training from score -0.394289\n",
      "[LightGBM] [Info] Start training from score -0.396410\n",
      "[LightGBM] [Info] Start training from score -0.396344\n",
      "[LightGBM] [Warning] No further splits with positive gain, best gain: -inf\n"
     ]
    },
    {
     "name": "stderr",
     "output_type": "stream",
     "text": [
      "[LightGBM] [Fatal] Reducing `min_data_in_leaf` with `feature_pre_filter=true` may cause unexpected behaviour for features that were pre-filtered by the larger `min_data_in_leaf`.\n",
      "You need to set `feature_pre_filter=false` to dynamically change the `min_data_in_leaf`.\n"
     ]
    },
    {
     "name": "stdout",
     "output_type": "stream",
     "text": [
      "[LightGBM] [Warning] Auto-choosing row-wise multi-threading, the overhead of testing was 0.018495 seconds.\n",
      "You can set `force_row_wise=true` to remove the overhead.\n",
      "And if memory is not enough, you can set `force_col_wise=true`.\n",
      "[LightGBM] [Info] Total Bins 11695\n",
      "[LightGBM] [Info] Number of data points in the train set: 151437, number of used features: 74\n",
      "[LightGBM] [Warning] Auto-choosing row-wise multi-threading, the overhead of testing was 0.015274 seconds.\n",
      "You can set `force_row_wise=true` to remove the overhead.\n",
      "And if memory is not enough, you can set `force_col_wise=true`.\n",
      "[LightGBM] [Info] Total Bins 11695\n",
      "[LightGBM] [Info] Number of data points in the train set: 151437, number of used features: 74\n",
      "[LightGBM] [Warning] Auto-choosing row-wise multi-threading, the overhead of testing was 0.028194 seconds.\n",
      "You can set `force_row_wise=true` to remove the overhead.\n",
      "And if memory is not enough, you can set `force_col_wise=true`.\n",
      "[LightGBM] [Info] Total Bins 11695\n",
      "[LightGBM] [Info] Number of data points in the train set: 151437, number of used features: 74\n",
      "[LightGBM] [Warning] Auto-choosing row-wise multi-threading, the overhead of testing was 0.021680 seconds.\n",
      "You can set `force_row_wise=true` to remove the overhead.\n",
      "And if memory is not enough, you can set `force_col_wise=true`.\n",
      "[LightGBM] [Info] Total Bins 11695\n",
      "[LightGBM] [Info] Number of data points in the train set: 151437, number of used features: 74\n",
      "[LightGBM] [Info] Start training from score -0.387506\n",
      "[LightGBM] [Info] Start training from score -0.394289\n",
      "[LightGBM] [Info] Start training from score -0.396410\n",
      "[LightGBM] [Info] Start training from score -0.396344\n",
      "[LightGBM] [Warning] No further splits with positive gain, best gain: -inf\n",
      "[LightGBM] [Warning] No further splits with positive gain, best gain: -inf\n",
      "[LightGBM] [Warning] No further splits with positive gain, best gain: -inf\n",
      "[LightGBM] [Warning] No further splits with positive gain, best gain: -inf\n",
      "[LightGBM] [Warning] No further splits with positive gain, best gain: -inf\n",
      "| \u001b[95m 3       \u001b[0m | \u001b[95m 3.848   \u001b[0m | \u001b[95m 0.9301  \u001b[0m | \u001b[95m 0.01691 \u001b[0m | \u001b[95m 0.8792  \u001b[0m | \u001b[95m 0.09198 \u001b[0m | \u001b[95m 2.611   \u001b[0m | \u001b[95m 256.3   \u001b[0m | \u001b[95m 0.06173 \u001b[0m | \u001b[95m 231.5   \u001b[0m |\n",
      "[LightGBM] [Warning] Auto-choosing row-wise multi-threading, the overhead of testing was 0.009511 seconds.\n",
      "You can set `force_row_wise=true` to remove the overhead.\n",
      "And if memory is not enough, you can set `force_col_wise=true`.\n",
      "[LightGBM] [Info] Total Bins 11695\n",
      "[LightGBM] [Info] Number of data points in the train set: 151437, number of used features: 74\n",
      "[LightGBM] [Warning] Auto-choosing row-wise multi-threading, the overhead of testing was 0.030997 seconds.\n",
      "You can set `force_row_wise=true` to remove the overhead.\n",
      "And if memory is not enough, you can set `force_col_wise=true`.\n",
      "[LightGBM] [Info] Total Bins 11695\n",
      "[LightGBM] [Info] Number of data points in the train set: 151437, number of used features: 74\n",
      "[LightGBM] [Warning] Auto-choosing row-wise multi-threading, the overhead of testing was 0.025322 seconds.\n",
      "You can set `force_row_wise=true` to remove the overhead.\n",
      "And if memory is not enough, you can set `force_col_wise=true`.\n",
      "[LightGBM] [Info] Total Bins 11695\n",
      "[LightGBM] [Info] Number of data points in the train set: 151437, number of used features: 74\n",
      "[LightGBM] [Warning] Auto-choosing row-wise multi-threading, the overhead of testing was 0.009198 seconds.\n",
      "You can set `force_row_wise=true` to remove the overhead.\n",
      "And if memory is not enough, you can set `force_col_wise=true`.\n",
      "[LightGBM] [Info] Total Bins 11695\n",
      "[LightGBM] [Info] Number of data points in the train set: 151437, number of used features: 74\n",
      "[LightGBM] [Info] Start training from score -0.387506\n",
      "[LightGBM] [Info] Start training from score -0.394289\n",
      "[LightGBM] [Info] Start training from score -0.396410\n",
      "[LightGBM] [Info] Start training from score -0.396344\n",
      "[LightGBM] [Warning] No further splits with positive gain, best gain: -inf\n",
      "[LightGBM] [Warning] Auto-choosing row-wise multi-threading, the overhead of testing was 0.018476 seconds.\n",
      "You can set `force_row_wise=true` to remove the overhead.\n",
      "And if memory is not enough, you can set `force_col_wise=true`.\n",
      "[LightGBM] [Info] Total Bins 11695\n",
      "[LightGBM] [Info] Number of data points in the train set: 151437, number of used features: 74\n",
      "[LightGBM] [Warning] Auto-choosing row-wise multi-threading, the overhead of testing was 0.010192 seconds.\n",
      "You can set `force_row_wise=true` to remove the overhead.\n",
      "And if memory is not enough, you can set `force_col_wise=true`.\n",
      "[LightGBM] [Info] Total Bins 11695\n",
      "[LightGBM] [Info] Number of data points in the train set: 151437, number of used features: 74\n",
      "[LightGBM] [Warning] Auto-choosing row-wise multi-threading, the overhead of testing was 0.013444 seconds.\n",
      "You can set `force_row_wise=true` to remove the overhead.\n",
      "And if memory is not enough, you can set `force_col_wise=true`.\n",
      "[LightGBM] [Info] Total Bins 11695\n",
      "[LightGBM] [Info] Number of data points in the train set: 151437, number of used features: 74\n",
      "[LightGBM] [Warning] Auto-choosing row-wise multi-threading, the overhead of testing was 0.030204 seconds.\n",
      "You can set `force_row_wise=true` to remove the overhead.\n",
      "And if memory is not enough, you can set `force_col_wise=true`.\n",
      "[LightGBM] [Info] Total Bins 11695\n",
      "[LightGBM] [Info] Number of data points in the train set: 151437, number of used features: 74\n",
      "[LightGBM] [Info] Start training from score -0.387506\n",
      "[LightGBM] [Info] Start training from score -0.394289\n",
      "[LightGBM] [Info] Start training from score -0.396410\n",
      "[LightGBM] [Info] Start training from score -0.396344\n",
      "[LightGBM] [Warning] No further splits with positive gain, best gain: -inf\n",
      "[LightGBM] [Warning] No further splits with positive gain, best gain: -inf\n",
      "[LightGBM] [Warning] No further splits with positive gain, best gain: -inf\n",
      "[LightGBM] [Warning] No further splits with positive gain, best gain: -inf\n",
      "[LightGBM] [Warning] Auto-choosing row-wise multi-threading, the overhead of testing was 0.024252 seconds.\n",
      "You can set `force_row_wise=true` to remove the overhead.\n",
      "And if memory is not enough, you can set `force_col_wise=true`.\n",
      "[LightGBM] [Info] Total Bins 11695\n",
      "[LightGBM] [Info] Number of data points in the train set: 151437, number of used features: 74\n",
      "[LightGBM] [Warning] Auto-choosing row-wise multi-threading, the overhead of testing was 0.017983 seconds.\n",
      "You can set `force_row_wise=true` to remove the overhead.\n",
      "And if memory is not enough, you can set `force_col_wise=true`.\n",
      "[LightGBM] [Info] Total Bins 11695\n",
      "[LightGBM] [Info] Number of data points in the train set: 151437, number of used features: 74\n",
      "[LightGBM] [Warning] Auto-choosing row-wise multi-threading, the overhead of testing was 0.016170 seconds.\n",
      "You can set `force_row_wise=true` to remove the overhead.\n",
      "And if memory is not enough, you can set `force_col_wise=true`.\n",
      "[LightGBM] [Info] Total Bins 11695\n",
      "[LightGBM] [Info] Number of data points in the train set: 151437, number of used features: 74\n",
      "[LightGBM] [Warning] Auto-choosing row-wise multi-threading, the overhead of testing was 0.017417 seconds.\n",
      "You can set `force_row_wise=true` to remove the overhead.\n",
      "And if memory is not enough, you can set `force_col_wise=true`.\n",
      "[LightGBM] [Info] Total Bins 11695\n",
      "[LightGBM] [Info] Number of data points in the train set: 151437, number of used features: 74\n",
      "[LightGBM] [Info] Start training from score -0.387506\n",
      "[LightGBM] [Info] Start training from score -0.394289\n",
      "[LightGBM] [Info] Start training from score -0.396410\n",
      "[LightGBM] [Info] Start training from score -0.396344\n",
      "[LightGBM] [Warning] No further splits with positive gain, best gain: -inf\n",
      "[LightGBM] [Warning] No further splits with positive gain, best gain: -inf\n",
      "[LightGBM] [Warning] Auto-choosing row-wise multi-threading, the overhead of testing was 0.017946 seconds.\n",
      "You can set `force_row_wise=true` to remove the overhead.\n",
      "And if memory is not enough, you can set `force_col_wise=true`.\n",
      "[LightGBM] [Info] Total Bins 11695\n",
      "[LightGBM] [Info] Number of data points in the train set: 151437, number of used features: 74\n",
      "[LightGBM] [Warning] Auto-choosing row-wise multi-threading, the overhead of testing was 0.014761 seconds.\n",
      "You can set `force_row_wise=true` to remove the overhead.\n",
      "And if memory is not enough, you can set `force_col_wise=true`.\n",
      "[LightGBM] [Info] Total Bins 11695\n",
      "[LightGBM] [Info] Number of data points in the train set: 151437, number of used features: 74\n"
     ]
    },
    {
     "name": "stdout",
     "output_type": "stream",
     "text": [
      "[LightGBM] [Warning] Auto-choosing row-wise multi-threading, the overhead of testing was 0.015445 seconds.\n",
      "You can set `force_row_wise=true` to remove the overhead.\n",
      "And if memory is not enough, you can set `force_col_wise=true`.\n",
      "[LightGBM] [Info] Total Bins 11695\n",
      "[LightGBM] [Info] Number of data points in the train set: 151437, number of used features: 74\n",
      "[LightGBM] [Warning] Auto-choosing row-wise multi-threading, the overhead of testing was 0.019936 seconds.\n",
      "You can set `force_row_wise=true` to remove the overhead.\n",
      "And if memory is not enough, you can set `force_col_wise=true`.\n",
      "[LightGBM] [Info] Total Bins 11695\n",
      "[LightGBM] [Info] Number of data points in the train set: 151437, number of used features: 74\n",
      "[LightGBM] [Info] Start training from score -0.387506\n",
      "[LightGBM] [Info] Start training from score -0.394289\n",
      "[LightGBM] [Info] Start training from score -0.396410\n",
      "[LightGBM] [Info] Start training from score -0.396344\n",
      "| \u001b[95m 7       \u001b[0m | \u001b[95m 3.849   \u001b[0m | \u001b[95m 0.3817  \u001b[0m | \u001b[95m 0.01306 \u001b[0m | \u001b[95m 0.7596  \u001b[0m | \u001b[95m 0.000336\u001b[0m | \u001b[95m 2.112   \u001b[0m | \u001b[95m 287.8   \u001b[0m | \u001b[95m 0.1107  \u001b[0m | \u001b[95m 289.1   \u001b[0m |\n",
      "[LightGBM] [Warning] Auto-choosing row-wise multi-threading, the overhead of testing was 0.012408 seconds.\n",
      "You can set `force_row_wise=true` to remove the overhead.\n",
      "And if memory is not enough, you can set `force_col_wise=true`.\n",
      "[LightGBM] [Info] Total Bins 11695\n",
      "[LightGBM] [Info] Number of data points in the train set: 151437, number of used features: 74\n",
      "[LightGBM] [Warning] Auto-choosing row-wise multi-threading, the overhead of testing was 0.013135 seconds.\n",
      "You can set `force_row_wise=true` to remove the overhead.\n",
      "And if memory is not enough, you can set `force_col_wise=true`.\n",
      "[LightGBM] [Info] Total Bins 11695\n",
      "[LightGBM] [Info] Number of data points in the train set: 151437, number of used features: 74\n",
      "[LightGBM] [Warning] Auto-choosing row-wise multi-threading, the overhead of testing was 0.017248 seconds.\n",
      "You can set `force_row_wise=true` to remove the overhead.\n",
      "And if memory is not enough, you can set `force_col_wise=true`.\n",
      "[LightGBM] [Info] Total Bins 11695\n",
      "[LightGBM] [Info] Number of data points in the train set: 151437, number of used features: 74\n",
      "[LightGBM] [Warning] Auto-choosing row-wise multi-threading, the overhead of testing was 0.020057 seconds.\n",
      "You can set `force_row_wise=true` to remove the overhead.\n",
      "And if memory is not enough, you can set `force_col_wise=true`.\n",
      "[LightGBM] [Info] Total Bins 11695\n",
      "[LightGBM] [Info] Number of data points in the train set: 151437, number of used features: 74\n",
      "[LightGBM] [Info] Start training from score -0.387506\n",
      "[LightGBM] [Info] Start training from score -0.394289\n",
      "[LightGBM] [Info] Start training from score -0.396410\n",
      "[LightGBM] [Info] Start training from score -0.396344\n"
     ]
    },
    {
     "name": "stderr",
     "output_type": "stream",
     "text": [
      "[LightGBM] [Fatal] Reducing `min_data_in_leaf` with `feature_pre_filter=true` may cause unexpected behaviour for features that were pre-filtered by the larger `min_data_in_leaf`.\n",
      "You need to set `feature_pre_filter=false` to dynamically change the `min_data_in_leaf`.\n"
     ]
    },
    {
     "name": "stdout",
     "output_type": "stream",
     "text": [
      "[LightGBM] [Warning] Auto-choosing row-wise multi-threading, the overhead of testing was 0.021985 seconds.\n",
      "You can set `force_row_wise=true` to remove the overhead.\n",
      "And if memory is not enough, you can set `force_col_wise=true`.\n",
      "[LightGBM] [Info] Total Bins 11695\n",
      "[LightGBM] [Info] Number of data points in the train set: 151437, number of used features: 74\n",
      "[LightGBM] [Warning] Auto-choosing row-wise multi-threading, the overhead of testing was 0.010126 seconds.\n",
      "You can set `force_row_wise=true` to remove the overhead.\n",
      "And if memory is not enough, you can set `force_col_wise=true`.\n",
      "[LightGBM] [Info] Total Bins 11695\n",
      "[LightGBM] [Info] Number of data points in the train set: 151437, number of used features: 74\n",
      "[LightGBM] [Warning] Auto-choosing row-wise multi-threading, the overhead of testing was 0.010669 seconds.\n",
      "You can set `force_row_wise=true` to remove the overhead.\n",
      "And if memory is not enough, you can set `force_col_wise=true`.\n",
      "[LightGBM] [Info] Total Bins 11695\n",
      "[LightGBM] [Info] Number of data points in the train set: 151437, number of used features: 74\n",
      "[LightGBM] [Warning] Auto-choosing row-wise multi-threading, the overhead of testing was 0.014489 seconds.\n",
      "You can set `force_row_wise=true` to remove the overhead.\n",
      "And if memory is not enough, you can set `force_col_wise=true`.\n",
      "[LightGBM] [Info] Total Bins 11695\n",
      "[LightGBM] [Info] Number of data points in the train set: 151437, number of used features: 74\n",
      "[LightGBM] [Info] Start training from score -0.387506\n",
      "[LightGBM] [Info] Start training from score -0.394289\n",
      "[LightGBM] [Info] Start training from score -0.396410\n",
      "[LightGBM] [Info] Start training from score -0.396344\n",
      "[LightGBM] [Warning] Auto-choosing row-wise multi-threading, the overhead of testing was 0.013167 seconds.\n",
      "You can set `force_row_wise=true` to remove the overhead.\n",
      "And if memory is not enough, you can set `force_col_wise=true`.\n",
      "[LightGBM] [Info] Total Bins 11695\n",
      "[LightGBM] [Info] Number of data points in the train set: 151437, number of used features: 74\n",
      "[LightGBM] [Warning] Auto-choosing row-wise multi-threading, the overhead of testing was 0.015188 seconds.\n",
      "You can set `force_row_wise=true` to remove the overhead.\n",
      "And if memory is not enough, you can set `force_col_wise=true`.\n",
      "[LightGBM] [Info] Total Bins 11695\n",
      "[LightGBM] [Info] Number of data points in the train set: 151437, number of used features: 74\n",
      "[LightGBM] [Warning] Auto-choosing row-wise multi-threading, the overhead of testing was 0.017846 seconds.\n",
      "You can set `force_row_wise=true` to remove the overhead.\n",
      "And if memory is not enough, you can set `force_col_wise=true`.\n",
      "[LightGBM] [Info] Total Bins 11695\n",
      "[LightGBM] [Info] Number of data points in the train set: 151437, number of used features: 74\n",
      "[LightGBM] [Warning] Auto-choosing row-wise multi-threading, the overhead of testing was 0.015155 seconds.\n",
      "You can set `force_row_wise=true` to remove the overhead.\n",
      "And if memory is not enough, you can set `force_col_wise=true`.\n",
      "[LightGBM] [Info] Total Bins 11695\n",
      "[LightGBM] [Info] Number of data points in the train set: 151437, number of used features: 74\n",
      "[LightGBM] [Info] Start training from score -0.387506\n",
      "[LightGBM] [Info] Start training from score -0.394289\n",
      "[LightGBM] [Info] Start training from score -0.396410\n",
      "[LightGBM] [Info] Start training from score -0.396344\n",
      "[LightGBM] [Warning] Auto-choosing row-wise multi-threading, the overhead of testing was 0.011309 seconds.\n",
      "You can set `force_row_wise=true` to remove the overhead.\n",
      "And if memory is not enough, you can set `force_col_wise=true`.\n",
      "[LightGBM] [Info] Total Bins 11695\n",
      "[LightGBM] [Info] Number of data points in the train set: 151437, number of used features: 74\n",
      "[LightGBM] [Warning] Auto-choosing row-wise multi-threading, the overhead of testing was 0.016808 seconds.\n",
      "You can set `force_row_wise=true` to remove the overhead.\n",
      "And if memory is not enough, you can set `force_col_wise=true`.\n",
      "[LightGBM] [Info] Total Bins 11695\n",
      "[LightGBM] [Info] Number of data points in the train set: 151437, number of used features: 74\n",
      "[LightGBM] [Warning] Auto-choosing row-wise multi-threading, the overhead of testing was 0.017052 seconds.\n",
      "You can set `force_row_wise=true` to remove the overhead.\n",
      "And if memory is not enough, you can set `force_col_wise=true`.\n",
      "[LightGBM] [Info] Total Bins 11695\n",
      "[LightGBM] [Info] Number of data points in the train set: 151437, number of used features: 74\n",
      "[LightGBM] [Warning] Auto-choosing row-wise multi-threading, the overhead of testing was 0.014098 seconds.\n",
      "You can set `force_row_wise=true` to remove the overhead.\n",
      "And if memory is not enough, you can set `force_col_wise=true`.\n",
      "[LightGBM] [Info] Total Bins 11695\n",
      "[LightGBM] [Info] Number of data points in the train set: 151437, number of used features: 74\n",
      "[LightGBM] [Info] Start training from score -0.387506\n",
      "[LightGBM] [Info] Start training from score -0.394289\n",
      "[LightGBM] [Info] Start training from score -0.396410\n",
      "[LightGBM] [Info] Start training from score -0.396344\n",
      "[LightGBM] [Warning] Auto-choosing row-wise multi-threading, the overhead of testing was 0.013138 seconds.\n",
      "You can set `force_row_wise=true` to remove the overhead.\n",
      "And if memory is not enough, you can set `force_col_wise=true`.\n",
      "[LightGBM] [Info] Total Bins 11695\n",
      "[LightGBM] [Info] Number of data points in the train set: 151437, number of used features: 74\n",
      "[LightGBM] [Warning] Auto-choosing row-wise multi-threading, the overhead of testing was 0.021868 seconds.\n",
      "You can set `force_row_wise=true` to remove the overhead.\n",
      "And if memory is not enough, you can set `force_col_wise=true`.\n",
      "[LightGBM] [Info] Total Bins 11695\n",
      "[LightGBM] [Info] Number of data points in the train set: 151437, number of used features: 74\n",
      "[LightGBM] [Warning] Auto-choosing row-wise multi-threading, the overhead of testing was 0.020628 seconds.\n",
      "You can set `force_row_wise=true` to remove the overhead.\n",
      "And if memory is not enough, you can set `force_col_wise=true`.\n",
      "[LightGBM] [Info] Total Bins 11695\n",
      "[LightGBM] [Info] Number of data points in the train set: 151437, number of used features: 74\n",
      "[LightGBM] [Warning] Auto-choosing row-wise multi-threading, the overhead of testing was 0.020260 seconds.\n",
      "You can set `force_row_wise=true` to remove the overhead.\n",
      "And if memory is not enough, you can set `force_col_wise=true`.\n",
      "[LightGBM] [Info] Total Bins 11695\n",
      "[LightGBM] [Info] Number of data points in the train set: 151437, number of used features: 74\n",
      "[LightGBM] [Info] Start training from score -0.387506\n",
      "[LightGBM] [Info] Start training from score -0.394289\n",
      "[LightGBM] [Info] Start training from score -0.396410\n",
      "[LightGBM] [Info] Start training from score -0.396344\n",
      "[LightGBM] [Warning] No further splits with positive gain, best gain: -inf\n",
      "[LightGBM] [Warning] No further splits with positive gain, best gain: -inf\n",
      "[LightGBM] [Warning] No further splits with positive gain, best gain: -inf\n",
      "[LightGBM] [Warning] No further splits with positive gain, best gain: -inf\n",
      "[LightGBM] [Warning] No further splits with positive gain, best gain: -inf\n",
      "[LightGBM] [Warning] No further splits with positive gain, best gain: -inf\n",
      "[LightGBM] [Warning] No further splits with positive gain, best gain: -inf\n",
      "[LightGBM] [Warning] No further splits with positive gain, best gain: -inf\n",
      "[LightGBM] [Warning] No further splits with positive gain, best gain: -inf\n",
      "[LightGBM] [Warning] No further splits with positive gain, best gain: -inf\n",
      "[LightGBM] [Warning] No further splits with positive gain, best gain: -inf\n",
      "[LightGBM] [Warning] No further splits with positive gain, best gain: -inf\n",
      "[LightGBM] [Warning] No further splits with positive gain, best gain: -inf\n",
      "[LightGBM] [Warning] No further splits with positive gain, best gain: -inf\n",
      "[LightGBM] [Warning] No further splits with positive gain, best gain: -inf\n",
      "[LightGBM] [Warning] No further splits with positive gain, best gain: -inf\n",
      "[LightGBM] [Warning] No further splits with positive gain, best gain: -inf\n",
      "[LightGBM] [Warning] No further splits with positive gain, best gain: -inf\n",
      "[LightGBM] [Warning] No further splits with positive gain, best gain: -inf\n",
      "[LightGBM] [Warning] No further splits with positive gain, best gain: -inf\n",
      "[LightGBM] [Warning] No further splits with positive gain, best gain: -inf\n",
      "[LightGBM] [Warning] No further splits with positive gain, best gain: -inf\n",
      "[LightGBM] [Warning] No further splits with positive gain, best gain: -inf\n",
      "[LightGBM] [Warning] No further splits with positive gain, best gain: -inf\n",
      "[LightGBM] [Warning] No further splits with positive gain, best gain: -inf\n",
      "[LightGBM] [Warning] No further splits with positive gain, best gain: -inf\n",
      "[LightGBM] [Warning] No further splits with positive gain, best gain: -inf\n",
      "[LightGBM] [Warning] No further splits with positive gain, best gain: -inf\n",
      "[LightGBM] [Warning] No further splits with positive gain, best gain: -inf\n",
      "[LightGBM] [Warning] No further splits with positive gain, best gain: -inf\n",
      "[LightGBM] [Warning] No further splits with positive gain, best gain: -inf\n",
      "[LightGBM] [Warning] No further splits with positive gain, best gain: -inf\n",
      "[LightGBM] [Warning] No further splits with positive gain, best gain: -inf\n",
      "[LightGBM] [Warning] No further splits with positive gain, best gain: -inf\n",
      "[LightGBM] [Warning] No further splits with positive gain, best gain: -inf\n",
      "[LightGBM] [Warning] No further splits with positive gain, best gain: -inf\n",
      "[LightGBM] [Warning] No further splits with positive gain, best gain: -inf\n",
      "[LightGBM] [Warning] No further splits with positive gain, best gain: -inf\n",
      "[LightGBM] [Warning] No further splits with positive gain, best gain: -inf\n",
      "[LightGBM] [Warning] No further splits with positive gain, best gain: -inf\n",
      "[LightGBM] [Warning] No further splits with positive gain, best gain: -inf\n",
      "[LightGBM] [Warning] No further splits with positive gain, best gain: -inf\n",
      "[LightGBM] [Warning] No further splits with positive gain, best gain: -inf\n",
      "[LightGBM] [Warning] No further splits with positive gain, best gain: -inf\n",
      "[LightGBM] [Warning] No further splits with positive gain, best gain: -inf\n"
     ]
    },
    {
     "name": "stdout",
     "output_type": "stream",
     "text": [
      "[LightGBM] [Warning] No further splits with positive gain, best gain: -inf\n",
      "[LightGBM] [Warning] No further splits with positive gain, best gain: -inf\n",
      "[LightGBM] [Warning] No further splits with positive gain, best gain: -inf\n",
      "[LightGBM] [Warning] No further splits with positive gain, best gain: -inf\n",
      "[LightGBM] [Warning] No further splits with positive gain, best gain: -inf\n",
      "[LightGBM] [Warning] No further splits with positive gain, best gain: -inf\n",
      "[LightGBM] [Warning] No further splits with positive gain, best gain: -inf\n",
      "[LightGBM] [Warning] No further splits with positive gain, best gain: -inf\n",
      "[LightGBM] [Warning] No further splits with positive gain, best gain: -inf\n",
      "[LightGBM] [Warning] No further splits with positive gain, best gain: -inf\n",
      "[LightGBM] [Warning] No further splits with positive gain, best gain: -inf\n",
      "[LightGBM] [Warning] No further splits with positive gain, best gain: -inf\n",
      "[LightGBM] [Warning] No further splits with positive gain, best gain: -inf\n",
      "[LightGBM] [Warning] No further splits with positive gain, best gain: -inf\n",
      "[LightGBM] [Warning] No further splits with positive gain, best gain: -inf\n",
      "[LightGBM] [Warning] No further splits with positive gain, best gain: -inf\n",
      "[LightGBM] [Warning] No further splits with positive gain, best gain: -inf\n",
      "[LightGBM] [Warning] No further splits with positive gain, best gain: -inf\n",
      "[LightGBM] [Warning] No further splits with positive gain, best gain: -inf\n",
      "[LightGBM] [Warning] No further splits with positive gain, best gain: -inf\n",
      "[LightGBM] [Warning] No further splits with positive gain, best gain: -inf\n",
      "[LightGBM] [Warning] No further splits with positive gain, best gain: -inf\n",
      "[LightGBM] [Warning] No further splits with positive gain, best gain: -inf\n",
      "[LightGBM] [Warning] No further splits with positive gain, best gain: -inf\n",
      "[LightGBM] [Warning] No further splits with positive gain, best gain: -inf\n",
      "[LightGBM] [Warning] No further splits with positive gain, best gain: -inf\n",
      "[LightGBM] [Warning] No further splits with positive gain, best gain: -inf\n",
      "[LightGBM] [Warning] No further splits with positive gain, best gain: -inf\n",
      "[LightGBM] [Warning] No further splits with positive gain, best gain: -inf\n",
      "[LightGBM] [Warning] No further splits with positive gain, best gain: -inf\n",
      "[LightGBM] [Warning] No further splits with positive gain, best gain: -inf\n",
      "[LightGBM] [Warning] No further splits with positive gain, best gain: -inf\n",
      "[LightGBM] [Warning] No further splits with positive gain, best gain: -inf\n",
      "[LightGBM] [Warning] No further splits with positive gain, best gain: -inf\n",
      "[LightGBM] [Warning] No further splits with positive gain, best gain: -inf\n",
      "[LightGBM] [Warning] No further splits with positive gain, best gain: -inf\n",
      "[LightGBM] [Warning] No further splits with positive gain, best gain: -inf\n",
      "[LightGBM] [Warning] No further splits with positive gain, best gain: -inf\n",
      "[LightGBM] [Warning] Auto-choosing row-wise multi-threading, the overhead of testing was 0.012680 seconds.\n",
      "You can set `force_row_wise=true` to remove the overhead.\n",
      "And if memory is not enough, you can set `force_col_wise=true`.\n",
      "[LightGBM] [Info] Total Bins 11695\n",
      "[LightGBM] [Info] Number of data points in the train set: 151437, number of used features: 74\n",
      "[LightGBM] [Warning] Auto-choosing row-wise multi-threading, the overhead of testing was 0.016134 seconds.\n",
      "You can set `force_row_wise=true` to remove the overhead.\n",
      "And if memory is not enough, you can set `force_col_wise=true`.\n",
      "[LightGBM] [Info] Total Bins 11695\n",
      "[LightGBM] [Info] Number of data points in the train set: 151437, number of used features: 74\n",
      "[LightGBM] [Warning] Auto-choosing row-wise multi-threading, the overhead of testing was 0.019448 seconds.\n",
      "You can set `force_row_wise=true` to remove the overhead.\n",
      "And if memory is not enough, you can set `force_col_wise=true`.\n",
      "[LightGBM] [Info] Total Bins 11695\n",
      "[LightGBM] [Info] Number of data points in the train set: 151437, number of used features: 74\n",
      "[LightGBM] [Warning] Auto-choosing row-wise multi-threading, the overhead of testing was 0.013364 seconds.\n",
      "You can set `force_row_wise=true` to remove the overhead.\n",
      "And if memory is not enough, you can set `force_col_wise=true`.\n",
      "[LightGBM] [Info] Total Bins 11695\n",
      "[LightGBM] [Info] Number of data points in the train set: 151437, number of used features: 74\n",
      "[LightGBM] [Info] Start training from score -0.387506\n",
      "[LightGBM] [Info] Start training from score -0.394289\n",
      "[LightGBM] [Info] Start training from score -0.396410\n",
      "[LightGBM] [Info] Start training from score -0.396344\n",
      "[LightGBM] [Warning] Auto-choosing row-wise multi-threading, the overhead of testing was 0.015901 seconds.\n",
      "You can set `force_row_wise=true` to remove the overhead.\n",
      "And if memory is not enough, you can set `force_col_wise=true`.\n",
      "[LightGBM] [Info] Total Bins 11695\n",
      "[LightGBM] [Info] Number of data points in the train set: 151437, number of used features: 74\n",
      "[LightGBM] [Warning] Auto-choosing row-wise multi-threading, the overhead of testing was 0.016532 seconds.\n",
      "You can set `force_row_wise=true` to remove the overhead.\n",
      "And if memory is not enough, you can set `force_col_wise=true`.\n",
      "[LightGBM] [Info] Total Bins 11695\n",
      "[LightGBM] [Info] Number of data points in the train set: 151437, number of used features: 74\n",
      "[LightGBM] [Warning] Auto-choosing row-wise multi-threading, the overhead of testing was 0.018359 seconds.\n",
      "You can set `force_row_wise=true` to remove the overhead.\n",
      "And if memory is not enough, you can set `force_col_wise=true`.\n",
      "[LightGBM] [Info] Total Bins 11695\n",
      "[LightGBM] [Info] Number of data points in the train set: 151437, number of used features: 74\n",
      "[LightGBM] [Warning] Auto-choosing row-wise multi-threading, the overhead of testing was 0.013647 seconds.\n",
      "You can set `force_row_wise=true` to remove the overhead.\n",
      "And if memory is not enough, you can set `force_col_wise=true`.\n",
      "[LightGBM] [Info] Total Bins 11695\n",
      "[LightGBM] [Info] Number of data points in the train set: 151437, number of used features: 74\n",
      "[LightGBM] [Info] Start training from score -0.387506\n",
      "[LightGBM] [Info] Start training from score -0.394289\n",
      "[LightGBM] [Info] Start training from score -0.396410\n",
      "[LightGBM] [Info] Start training from score -0.396344\n",
      "[LightGBM] [Warning] No further splits with positive gain, best gain: -inf\n",
      "[LightGBM] [Warning] No further splits with positive gain, best gain: -inf\n",
      "[LightGBM] [Warning] No further splits with positive gain, best gain: -inf\n",
      "[LightGBM] [Warning] No further splits with positive gain, best gain: -inf\n",
      "[LightGBM] [Warning] No further splits with positive gain, best gain: -inf\n",
      "[LightGBM] [Warning] No further splits with positive gain, best gain: -inf\n",
      "[LightGBM] [Warning] No further splits with positive gain, best gain: -inf\n",
      "[LightGBM] [Warning] No further splits with positive gain, best gain: -inf\n",
      "[LightGBM] [Warning] No further splits with positive gain, best gain: -inf\n",
      "[LightGBM] [Warning] No further splits with positive gain, best gain: -inf\n",
      "[LightGBM] [Warning] No further splits with positive gain, best gain: -inf\n",
      "[LightGBM] [Warning] No further splits with positive gain, best gain: -inf\n",
      "[LightGBM] [Warning] No further splits with positive gain, best gain: -inf\n",
      "[LightGBM] [Warning] No further splits with positive gain, best gain: -inf\n",
      "[LightGBM] [Warning] No further splits with positive gain, best gain: -inf\n",
      "[LightGBM] [Warning] No further splits with positive gain, best gain: -inf\n",
      "[LightGBM] [Warning] No further splits with positive gain, best gain: -inf\n",
      "[LightGBM] [Warning] No further splits with positive gain, best gain: -inf\n",
      "[LightGBM] [Warning] No further splits with positive gain, best gain: -inf\n",
      "[LightGBM] [Warning] No further splits with positive gain, best gain: -inf\n",
      "[LightGBM] [Warning] No further splits with positive gain, best gain: -inf\n",
      "[LightGBM] [Warning] No further splits with positive gain, best gain: -inf\n",
      "[LightGBM] [Warning] No further splits with positive gain, best gain: -inf\n",
      "[LightGBM] [Warning] No further splits with positive gain, best gain: -inf\n",
      "[LightGBM] [Warning] No further splits with positive gain, best gain: -inf\n",
      "[LightGBM] [Warning] No further splits with positive gain, best gain: -inf\n",
      "[LightGBM] [Warning] No further splits with positive gain, best gain: -inf\n",
      "[LightGBM] [Warning] No further splits with positive gain, best gain: -inf\n",
      "[LightGBM] [Warning] No further splits with positive gain, best gain: -inf\n",
      "[LightGBM] [Warning] No further splits with positive gain, best gain: -inf\n",
      "[LightGBM] [Warning] No further splits with positive gain, best gain: -inf\n",
      "[LightGBM] [Warning] No further splits with positive gain, best gain: -inf\n",
      "[LightGBM] [Warning] No further splits with positive gain, best gain: -inf\n",
      "[LightGBM] [Warning] No further splits with positive gain, best gain: -inf\n",
      "[LightGBM] [Warning] No further splits with positive gain, best gain: -inf\n",
      "[LightGBM] [Warning] No further splits with positive gain, best gain: -inf\n",
      "[LightGBM] [Warning] No further splits with positive gain, best gain: -inf\n"
     ]
    },
    {
     "name": "stdout",
     "output_type": "stream",
     "text": [
      "[LightGBM] [Warning] No further splits with positive gain, best gain: -inf\n",
      "[LightGBM] [Warning] No further splits with positive gain, best gain: -inf\n",
      "[LightGBM] [Warning] No further splits with positive gain, best gain: -inf\n",
      "[LightGBM] [Warning] No further splits with positive gain, best gain: -inf\n",
      "[LightGBM] [Warning] No further splits with positive gain, best gain: -inf\n",
      "[LightGBM] [Warning] No further splits with positive gain, best gain: -inf\n",
      "[LightGBM] [Warning] No further splits with positive gain, best gain: -inf\n",
      "[LightGBM] [Warning] No further splits with positive gain, best gain: -inf\n",
      "[LightGBM] [Warning] No further splits with positive gain, best gain: -inf\n",
      "[LightGBM] [Warning] No further splits with positive gain, best gain: -inf\n",
      "[LightGBM] [Warning] No further splits with positive gain, best gain: -inf\n",
      "[LightGBM] [Warning] No further splits with positive gain, best gain: -inf\n",
      "[LightGBM] [Warning] No further splits with positive gain, best gain: -inf\n",
      "[LightGBM] [Warning] No further splits with positive gain, best gain: -inf\n",
      "[LightGBM] [Warning] No further splits with positive gain, best gain: -inf\n",
      "[LightGBM] [Warning] No further splits with positive gain, best gain: -inf\n",
      "[LightGBM] [Warning] No further splits with positive gain, best gain: -inf\n",
      "[LightGBM] [Warning] No further splits with positive gain, best gain: -inf\n",
      "[LightGBM] [Warning] No further splits with positive gain, best gain: -inf\n",
      "[LightGBM] [Warning] No further splits with positive gain, best gain: -inf\n",
      "[LightGBM] [Warning] No further splits with positive gain, best gain: -inf\n",
      "[LightGBM] [Warning] No further splits with positive gain, best gain: -inf\n",
      "[LightGBM] [Warning] No further splits with positive gain, best gain: -inf\n",
      "[LightGBM] [Warning] No further splits with positive gain, best gain: -inf\n",
      "[LightGBM] [Warning] No further splits with positive gain, best gain: -inf\n",
      "[LightGBM] [Warning] No further splits with positive gain, best gain: -inf\n",
      "[LightGBM] [Warning] No further splits with positive gain, best gain: -inf\n",
      "[LightGBM] [Warning] No further splits with positive gain, best gain: -inf\n",
      "[LightGBM] [Warning] No further splits with positive gain, best gain: -inf\n",
      "[LightGBM] [Warning] No further splits with positive gain, best gain: -inf\n",
      "[LightGBM] [Warning] No further splits with positive gain, best gain: -inf\n",
      "[LightGBM] [Warning] Auto-choosing row-wise multi-threading, the overhead of testing was 0.009807 seconds.\n",
      "You can set `force_row_wise=true` to remove the overhead.\n",
      "And if memory is not enough, you can set `force_col_wise=true`.\n",
      "[LightGBM] [Info] Total Bins 11695\n",
      "[LightGBM] [Info] Number of data points in the train set: 151437, number of used features: 74\n",
      "[LightGBM] [Warning] Auto-choosing row-wise multi-threading, the overhead of testing was 0.015657 seconds.\n",
      "You can set `force_row_wise=true` to remove the overhead.\n",
      "And if memory is not enough, you can set `force_col_wise=true`.\n",
      "[LightGBM] [Info] Total Bins 11695\n",
      "[LightGBM] [Info] Number of data points in the train set: 151437, number of used features: 74\n",
      "[LightGBM] [Warning] Auto-choosing row-wise multi-threading, the overhead of testing was 0.017774 seconds.\n",
      "You can set `force_row_wise=true` to remove the overhead.\n",
      "And if memory is not enough, you can set `force_col_wise=true`.\n",
      "[LightGBM] [Info] Total Bins 11695\n",
      "[LightGBM] [Info] Number of data points in the train set: 151437, number of used features: 74\n",
      "[LightGBM] [Warning] Auto-choosing row-wise multi-threading, the overhead of testing was 0.017846 seconds.\n",
      "You can set `force_row_wise=true` to remove the overhead.\n",
      "And if memory is not enough, you can set `force_col_wise=true`.\n",
      "[LightGBM] [Info] Total Bins 11695\n",
      "[LightGBM] [Info] Number of data points in the train set: 151437, number of used features: 74\n",
      "[LightGBM] [Info] Start training from score -0.387506\n",
      "[LightGBM] [Info] Start training from score -0.394289\n",
      "[LightGBM] [Info] Start training from score -0.396410\n",
      "[LightGBM] [Info] Start training from score -0.396344\n",
      "=========================================================================================================================\n"
     ]
    }
   ],
   "source": [
    "# Using optimization function on training data\n",
    "%time \n",
    "opt_params_lgb = bayes_parameter_opt_lgb(train, target)"
   ]
  },
  {
   "cell_type": "code",
   "execution_count": 37,
   "metadata": {},
   "outputs": [
    {
     "data": {
      "text/plain": [
       "{'target': 3.848848461257875,\n",
       " 'params': {'bagging_fraction': 0.3816782779005444,\n",
       "  'feature_fraction': 0.013055799771976032,\n",
       "  'lambda_l1': 0.7595955480514782,\n",
       "  'learning_rate': 0.00033598383548355456,\n",
       "  'max_depth': 2.111892650647688,\n",
       "  'min_data_in_leaf': 287.8007148477065,\n",
       "  'min_split_gain': 0.11070382269914093,\n",
       "  'num_leaves': 289.1418707578325}}"
      ]
     },
     "execution_count": 37,
     "metadata": {},
     "output_type": "execute_result"
    }
   ],
   "source": [
    "opt_params_lgb"
   ]
  },
  {
   "cell_type": "code",
   "execution_count": 38,
   "metadata": {
    "_uuid": "659c1daf848f12a1881f3c29d3c624832041335c",
    "execution": {
     "iopub.execute_input": "2022-07-19T15:19:47.918870Z",
     "iopub.status.busy": "2022-07-19T15:19:47.918274Z",
     "iopub.status.idle": "2022-07-19T15:19:47.932831Z",
     "shell.execute_reply": "2022-07-19T15:19:47.931422Z",
     "shell.execute_reply.started": "2022-07-19T15:19:47.918805Z"
    }
   },
   "outputs": [],
   "source": [
    "# Results of Bayesian Optimization\n",
    "params = {\"boosting\": \"gbdt\", 'objective':'regression',\"metric\": 'rmse', \"random_state\": 2019, \"verbosity\": -1,\n",
    "          'bagging_fractions':0.79, 'feature_fraction':0.01, 'lambda_l1':0.17, 'learning_rate':0.07,\n",
    "          'max_depth':3, 'min_data_in_leaf':246, 'min_split_gain':0.03, 'num_leaves':175}"
   ]
  },
  {
   "cell_type": "markdown",
   "metadata": {
    "_uuid": "fdfbda674b0f162361970b3e39ac397a6ee8cc5b"
   },
   "source": [
    "As I said, it's much faster than using of GridSearch. Now we can use these hyperparameters for our model."
   ]
  },
  {
   "cell_type": "code",
   "execution_count": 39,
   "metadata": {
    "_uuid": "ba0f3c405103b070318df81105fb92f366f4aa16",
    "execution": {
     "iopub.execute_input": "2022-07-19T15:19:47.935105Z",
     "iopub.status.busy": "2022-07-19T15:19:47.934716Z",
     "iopub.status.idle": "2022-07-19T15:20:32.650309Z",
     "shell.execute_reply": "2022-07-19T15:20:32.649396Z",
     "shell.execute_reply.started": "2022-07-19T15:19:47.935028Z"
    },
    "scrolled": true
   },
   "outputs": [
    {
     "name": "stdout",
     "output_type": "stream",
     "text": [
      "fold n°0\n",
      "[LightGBM] [Warning] Unknown parameter: bagging_fractions\n",
      "Training until validation scores don't improve for 100 rounds\n",
      "[10]\ttraining's rmse: 3.83137\tvalid_1's rmse: 3.87737\n",
      "[20]\ttraining's rmse: 3.82404\tvalid_1's rmse: 3.86981\n",
      "[30]\ttraining's rmse: 3.81585\tvalid_1's rmse: 3.86112\n",
      "[40]\ttraining's rmse: 3.81283\tvalid_1's rmse: 3.8583\n",
      "[50]\ttraining's rmse: 3.81005\tvalid_1's rmse: 3.85537\n",
      "[60]\ttraining's rmse: 3.80405\tvalid_1's rmse: 3.84948\n",
      "[70]\ttraining's rmse: 3.80085\tvalid_1's rmse: 3.84647\n",
      "[80]\ttraining's rmse: 3.79862\tvalid_1's rmse: 3.84426\n",
      "[90]\ttraining's rmse: 3.7926\tvalid_1's rmse: 3.83838\n",
      "[100]\ttraining's rmse: 3.7837\tvalid_1's rmse: 3.82849\n",
      "[110]\ttraining's rmse: 3.7814\tvalid_1's rmse: 3.82629\n",
      "[120]\ttraining's rmse: 3.77957\tvalid_1's rmse: 3.82477\n",
      "[130]\ttraining's rmse: 3.7766\tvalid_1's rmse: 3.82207\n",
      "[140]\ttraining's rmse: 3.77398\tvalid_1's rmse: 3.8195\n",
      "[150]\ttraining's rmse: 3.77093\tvalid_1's rmse: 3.81654\n",
      "[160]\ttraining's rmse: 3.7692\tvalid_1's rmse: 3.81504\n",
      "[170]\ttraining's rmse: 3.76649\tvalid_1's rmse: 3.81242\n",
      "[180]\ttraining's rmse: 3.76443\tvalid_1's rmse: 3.81041\n",
      "[190]\ttraining's rmse: 3.76231\tvalid_1's rmse: 3.80814\n",
      "[200]\ttraining's rmse: 3.76123\tvalid_1's rmse: 3.80725\n",
      "[210]\ttraining's rmse: 3.75907\tvalid_1's rmse: 3.80516\n",
      "[220]\ttraining's rmse: 3.75826\tvalid_1's rmse: 3.80448\n",
      "[230]\ttraining's rmse: 3.75721\tvalid_1's rmse: 3.80345\n",
      "[240]\ttraining's rmse: 3.75613\tvalid_1's rmse: 3.80258\n",
      "[250]\ttraining's rmse: 3.75473\tvalid_1's rmse: 3.8011\n",
      "[260]\ttraining's rmse: 3.75346\tvalid_1's rmse: 3.79995\n",
      "[270]\ttraining's rmse: 3.75306\tvalid_1's rmse: 3.79973\n",
      "[280]\ttraining's rmse: 3.75263\tvalid_1's rmse: 3.79948\n",
      "[290]\ttraining's rmse: 3.752\tvalid_1's rmse: 3.79894\n",
      "[300]\ttraining's rmse: 3.75141\tvalid_1's rmse: 3.79854\n",
      "[310]\ttraining's rmse: 3.75111\tvalid_1's rmse: 3.79833\n",
      "[320]\ttraining's rmse: 3.7495\tvalid_1's rmse: 3.7968\n",
      "[330]\ttraining's rmse: 3.74885\tvalid_1's rmse: 3.79616\n",
      "[340]\ttraining's rmse: 3.74799\tvalid_1's rmse: 3.79534\n",
      "[350]\ttraining's rmse: 3.74729\tvalid_1's rmse: 3.79494\n",
      "[360]\ttraining's rmse: 3.74632\tvalid_1's rmse: 3.79395\n",
      "[370]\ttraining's rmse: 3.74536\tvalid_1's rmse: 3.79305\n",
      "[380]\ttraining's rmse: 3.74463\tvalid_1's rmse: 3.7924\n",
      "[390]\ttraining's rmse: 3.74376\tvalid_1's rmse: 3.79167\n",
      "[400]\ttraining's rmse: 3.74295\tvalid_1's rmse: 3.79077\n",
      "[410]\ttraining's rmse: 3.74224\tvalid_1's rmse: 3.79028\n",
      "[420]\ttraining's rmse: 3.7419\tvalid_1's rmse: 3.79006\n",
      "[430]\ttraining's rmse: 3.74128\tvalid_1's rmse: 3.78959\n",
      "[440]\ttraining's rmse: 3.74078\tvalid_1's rmse: 3.78927\n",
      "[450]\ttraining's rmse: 3.73999\tvalid_1's rmse: 3.78848\n",
      "[460]\ttraining's rmse: 3.73949\tvalid_1's rmse: 3.78806\n",
      "[470]\ttraining's rmse: 3.73897\tvalid_1's rmse: 3.78789\n",
      "[480]\ttraining's rmse: 3.73838\tvalid_1's rmse: 3.78742\n",
      "[490]\ttraining's rmse: 3.7378\tvalid_1's rmse: 3.78688\n",
      "[500]\ttraining's rmse: 3.73722\tvalid_1's rmse: 3.78652\n",
      "[510]\ttraining's rmse: 3.73698\tvalid_1's rmse: 3.78638\n",
      "[520]\ttraining's rmse: 3.73622\tvalid_1's rmse: 3.78585\n",
      "[530]\ttraining's rmse: 3.73585\tvalid_1's rmse: 3.78564\n",
      "[540]\ttraining's rmse: 3.73513\tvalid_1's rmse: 3.78508\n",
      "[550]\ttraining's rmse: 3.73457\tvalid_1's rmse: 3.78462\n",
      "[560]\ttraining's rmse: 3.73422\tvalid_1's rmse: 3.78459\n",
      "[570]\ttraining's rmse: 3.73392\tvalid_1's rmse: 3.78439\n",
      "[580]\ttraining's rmse: 3.73337\tvalid_1's rmse: 3.78392\n",
      "[590]\ttraining's rmse: 3.73303\tvalid_1's rmse: 3.78366\n",
      "[600]\ttraining's rmse: 3.73268\tvalid_1's rmse: 3.78342\n",
      "[610]\ttraining's rmse: 3.73233\tvalid_1's rmse: 3.78313\n",
      "[620]\ttraining's rmse: 3.73203\tvalid_1's rmse: 3.78295\n",
      "[630]\ttraining's rmse: 3.73182\tvalid_1's rmse: 3.78281\n",
      "[640]\ttraining's rmse: 3.73161\tvalid_1's rmse: 3.7827\n",
      "[650]\ttraining's rmse: 3.73118\tvalid_1's rmse: 3.7823\n",
      "[660]\ttraining's rmse: 3.73091\tvalid_1's rmse: 3.78217\n",
      "[670]\ttraining's rmse: 3.73061\tvalid_1's rmse: 3.78201\n",
      "[680]\ttraining's rmse: 3.73029\tvalid_1's rmse: 3.78187\n",
      "[690]\ttraining's rmse: 3.73005\tvalid_1's rmse: 3.7819\n",
      "[700]\ttraining's rmse: 3.72963\tvalid_1's rmse: 3.78155\n",
      "[710]\ttraining's rmse: 3.72937\tvalid_1's rmse: 3.7814\n",
      "[720]\ttraining's rmse: 3.72897\tvalid_1's rmse: 3.78103\n",
      "[730]\ttraining's rmse: 3.72851\tvalid_1's rmse: 3.7808\n",
      "[740]\ttraining's rmse: 3.72814\tvalid_1's rmse: 3.78044\n",
      "[750]\ttraining's rmse: 3.72742\tvalid_1's rmse: 3.77987\n",
      "[760]\ttraining's rmse: 3.72711\tvalid_1's rmse: 3.7797\n",
      "[770]\ttraining's rmse: 3.7268\tvalid_1's rmse: 3.77952\n",
      "[780]\ttraining's rmse: 3.72647\tvalid_1's rmse: 3.7795\n",
      "[790]\ttraining's rmse: 3.72594\tvalid_1's rmse: 3.77917\n",
      "[800]\ttraining's rmse: 3.72559\tvalid_1's rmse: 3.77908\n",
      "[810]\ttraining's rmse: 3.72525\tvalid_1's rmse: 3.77897\n",
      "[820]\ttraining's rmse: 3.72495\tvalid_1's rmse: 3.77888\n",
      "[830]\ttraining's rmse: 3.72478\tvalid_1's rmse: 3.77885\n",
      "[840]\ttraining's rmse: 3.72432\tvalid_1's rmse: 3.77864\n",
      "[850]\ttraining's rmse: 3.72403\tvalid_1's rmse: 3.77845\n",
      "[860]\ttraining's rmse: 3.72387\tvalid_1's rmse: 3.77844\n",
      "[870]\ttraining's rmse: 3.72361\tvalid_1's rmse: 3.77836\n",
      "[880]\ttraining's rmse: 3.72329\tvalid_1's rmse: 3.77823\n",
      "[890]\ttraining's rmse: 3.72305\tvalid_1's rmse: 3.77812\n",
      "[900]\ttraining's rmse: 3.72282\tvalid_1's rmse: 3.77795\n",
      "[910]\ttraining's rmse: 3.7226\tvalid_1's rmse: 3.7779\n",
      "[920]\ttraining's rmse: 3.72234\tvalid_1's rmse: 3.77774\n",
      "[930]\ttraining's rmse: 3.72209\tvalid_1's rmse: 3.77771\n",
      "[940]\ttraining's rmse: 3.72187\tvalid_1's rmse: 3.77763\n",
      "[950]\ttraining's rmse: 3.72145\tvalid_1's rmse: 3.77732\n",
      "[960]\ttraining's rmse: 3.72127\tvalid_1's rmse: 3.77721\n",
      "[970]\ttraining's rmse: 3.72102\tvalid_1's rmse: 3.77709\n",
      "[980]\ttraining's rmse: 3.7209\tvalid_1's rmse: 3.77708\n",
      "[990]\ttraining's rmse: 3.72066\tvalid_1's rmse: 3.77705\n",
      "[1000]\ttraining's rmse: 3.72046\tvalid_1's rmse: 3.77698\n",
      "[1010]\ttraining's rmse: 3.72025\tvalid_1's rmse: 3.77693\n",
      "[1020]\ttraining's rmse: 3.72001\tvalid_1's rmse: 3.77687\n",
      "[1030]\ttraining's rmse: 3.71977\tvalid_1's rmse: 3.77672\n",
      "[1040]\ttraining's rmse: 3.71945\tvalid_1's rmse: 3.77658\n",
      "[1050]\ttraining's rmse: 3.71912\tvalid_1's rmse: 3.7764\n",
      "[1060]\ttraining's rmse: 3.71897\tvalid_1's rmse: 3.77635\n",
      "[1070]\ttraining's rmse: 3.7188\tvalid_1's rmse: 3.77631\n",
      "[1080]\ttraining's rmse: 3.71847\tvalid_1's rmse: 3.77605\n",
      "[1090]\ttraining's rmse: 3.71839\tvalid_1's rmse: 3.77602\n",
      "[1100]\ttraining's rmse: 3.71814\tvalid_1's rmse: 3.77592\n",
      "[1110]\ttraining's rmse: 3.71782\tvalid_1's rmse: 3.77573\n",
      "[1120]\ttraining's rmse: 3.71753\tvalid_1's rmse: 3.77559\n",
      "[1130]\ttraining's rmse: 3.71733\tvalid_1's rmse: 3.77555\n",
      "[1140]\ttraining's rmse: 3.71717\tvalid_1's rmse: 3.7755\n",
      "[1150]\ttraining's rmse: 3.71703\tvalid_1's rmse: 3.7755\n",
      "[1160]\ttraining's rmse: 3.71691\tvalid_1's rmse: 3.77554\n",
      "[1170]\ttraining's rmse: 3.71665\tvalid_1's rmse: 3.77546\n",
      "[1180]\ttraining's rmse: 3.71649\tvalid_1's rmse: 3.77536\n",
      "[1190]\ttraining's rmse: 3.71634\tvalid_1's rmse: 3.77533\n",
      "[1200]\ttraining's rmse: 3.71617\tvalid_1's rmse: 3.77529\n",
      "[1210]\ttraining's rmse: 3.716\tvalid_1's rmse: 3.77531\n",
      "[1220]\ttraining's rmse: 3.71581\tvalid_1's rmse: 3.77515\n",
      "[1230]\ttraining's rmse: 3.71557\tvalid_1's rmse: 3.77498\n",
      "[1240]\ttraining's rmse: 3.71542\tvalid_1's rmse: 3.77501\n",
      "[1250]\ttraining's rmse: 3.7153\tvalid_1's rmse: 3.77495\n",
      "[1260]\ttraining's rmse: 3.71507\tvalid_1's rmse: 3.77487\n",
      "[1270]\ttraining's rmse: 3.71498\tvalid_1's rmse: 3.7749\n",
      "[1280]\ttraining's rmse: 3.71481\tvalid_1's rmse: 3.77484\n",
      "[1290]\ttraining's rmse: 3.71463\tvalid_1's rmse: 3.77486\n",
      "[1300]\ttraining's rmse: 3.71438\tvalid_1's rmse: 3.77482\n",
      "[1310]\ttraining's rmse: 3.71427\tvalid_1's rmse: 3.77484\n",
      "[1320]\ttraining's rmse: 3.71416\tvalid_1's rmse: 3.77483\n",
      "[1330]\ttraining's rmse: 3.71381\tvalid_1's rmse: 3.77464\n",
      "[1340]\ttraining's rmse: 3.71366\tvalid_1's rmse: 3.77461\n",
      "[1350]\ttraining's rmse: 3.71352\tvalid_1's rmse: 3.77461\n",
      "[1360]\ttraining's rmse: 3.71343\tvalid_1's rmse: 3.7746\n",
      "[1370]\ttraining's rmse: 3.71329\tvalid_1's rmse: 3.77458\n",
      "[1380]\ttraining's rmse: 3.71294\tvalid_1's rmse: 3.77442\n",
      "[1390]\ttraining's rmse: 3.71278\tvalid_1's rmse: 3.7744\n",
      "[1400]\ttraining's rmse: 3.71263\tvalid_1's rmse: 3.77441\n",
      "[1410]\ttraining's rmse: 3.71238\tvalid_1's rmse: 3.7743\n",
      "[1420]\ttraining's rmse: 3.71225\tvalid_1's rmse: 3.77433\n",
      "[1430]\ttraining's rmse: 3.71209\tvalid_1's rmse: 3.77437\n",
      "[1440]\ttraining's rmse: 3.71197\tvalid_1's rmse: 3.77438\n",
      "[1450]\ttraining's rmse: 3.71184\tvalid_1's rmse: 3.77429\n",
      "[1460]\ttraining's rmse: 3.71174\tvalid_1's rmse: 3.7743\n",
      "[1470]\ttraining's rmse: 3.7116\tvalid_1's rmse: 3.77433\n",
      "[1480]\ttraining's rmse: 3.71141\tvalid_1's rmse: 3.77423\n",
      "[1490]\ttraining's rmse: 3.71127\tvalid_1's rmse: 3.77427\n"
     ]
    },
    {
     "name": "stdout",
     "output_type": "stream",
     "text": [
      "[1500]\ttraining's rmse: 3.71116\tvalid_1's rmse: 3.7743\n",
      "[1510]\ttraining's rmse: 3.71097\tvalid_1's rmse: 3.77426\n",
      "[1520]\ttraining's rmse: 3.71083\tvalid_1's rmse: 3.77422\n",
      "[1530]\ttraining's rmse: 3.71053\tvalid_1's rmse: 3.77413\n",
      "[1540]\ttraining's rmse: 3.71045\tvalid_1's rmse: 3.77406\n",
      "[1550]\ttraining's rmse: 3.7102\tvalid_1's rmse: 3.77389\n",
      "[1560]\ttraining's rmse: 3.70999\tvalid_1's rmse: 3.77381\n",
      "[1570]\ttraining's rmse: 3.70983\tvalid_1's rmse: 3.77382\n",
      "[1580]\ttraining's rmse: 3.70975\tvalid_1's rmse: 3.77385\n",
      "[1590]\ttraining's rmse: 3.70963\tvalid_1's rmse: 3.77379\n",
      "[1600]\ttraining's rmse: 3.70952\tvalid_1's rmse: 3.77376\n",
      "[1610]\ttraining's rmse: 3.70941\tvalid_1's rmse: 3.77374\n",
      "[1620]\ttraining's rmse: 3.70931\tvalid_1's rmse: 3.77379\n",
      "[1630]\ttraining's rmse: 3.70917\tvalid_1's rmse: 3.77383\n",
      "[1640]\ttraining's rmse: 3.70907\tvalid_1's rmse: 3.77377\n",
      "[1650]\ttraining's rmse: 3.70894\tvalid_1's rmse: 3.77378\n",
      "[1660]\ttraining's rmse: 3.70879\tvalid_1's rmse: 3.7738\n",
      "[1670]\ttraining's rmse: 3.70872\tvalid_1's rmse: 3.77377\n",
      "[1680]\ttraining's rmse: 3.70866\tvalid_1's rmse: 3.77379\n",
      "[1690]\ttraining's rmse: 3.70854\tvalid_1's rmse: 3.77375\n",
      "[1700]\ttraining's rmse: 3.70839\tvalid_1's rmse: 3.77368\n",
      "[1710]\ttraining's rmse: 3.70827\tvalid_1's rmse: 3.77365\n",
      "[1720]\ttraining's rmse: 3.70813\tvalid_1's rmse: 3.77358\n",
      "[1730]\ttraining's rmse: 3.70796\tvalid_1's rmse: 3.77354\n",
      "[1740]\ttraining's rmse: 3.70786\tvalid_1's rmse: 3.77352\n",
      "[1750]\ttraining's rmse: 3.70775\tvalid_1's rmse: 3.77348\n",
      "[1760]\ttraining's rmse: 3.70764\tvalid_1's rmse: 3.77341\n",
      "[1770]\ttraining's rmse: 3.70755\tvalid_1's rmse: 3.77339\n",
      "[1780]\ttraining's rmse: 3.7074\tvalid_1's rmse: 3.77337\n",
      "[1790]\ttraining's rmse: 3.70722\tvalid_1's rmse: 3.77332\n",
      "[1800]\ttraining's rmse: 3.70708\tvalid_1's rmse: 3.77332\n",
      "[1810]\ttraining's rmse: 3.7068\tvalid_1's rmse: 3.7731\n",
      "[1820]\ttraining's rmse: 3.7067\tvalid_1's rmse: 3.77308\n",
      "[1830]\ttraining's rmse: 3.70652\tvalid_1's rmse: 3.77305\n",
      "[1840]\ttraining's rmse: 3.70646\tvalid_1's rmse: 3.77303\n",
      "[1850]\ttraining's rmse: 3.70631\tvalid_1's rmse: 3.77297\n",
      "[1860]\ttraining's rmse: 3.70617\tvalid_1's rmse: 3.77298\n",
      "[1870]\ttraining's rmse: 3.70609\tvalid_1's rmse: 3.77301\n",
      "[1880]\ttraining's rmse: 3.70603\tvalid_1's rmse: 3.77306\n",
      "[1890]\ttraining's rmse: 3.70592\tvalid_1's rmse: 3.77308\n",
      "[1900]\ttraining's rmse: 3.7058\tvalid_1's rmse: 3.77303\n",
      "[1910]\ttraining's rmse: 3.70569\tvalid_1's rmse: 3.77302\n",
      "[1920]\ttraining's rmse: 3.70551\tvalid_1's rmse: 3.77296\n",
      "[1930]\ttraining's rmse: 3.70536\tvalid_1's rmse: 3.77295\n",
      "[1940]\ttraining's rmse: 3.70524\tvalid_1's rmse: 3.77293\n",
      "[1950]\ttraining's rmse: 3.70515\tvalid_1's rmse: 3.77295\n",
      "[1960]\ttraining's rmse: 3.70503\tvalid_1's rmse: 3.77293\n",
      "[1970]\ttraining's rmse: 3.70487\tvalid_1's rmse: 3.77291\n",
      "[1980]\ttraining's rmse: 3.70473\tvalid_1's rmse: 3.77299\n",
      "[1990]\ttraining's rmse: 3.70466\tvalid_1's rmse: 3.77294\n",
      "[2000]\ttraining's rmse: 3.70455\tvalid_1's rmse: 3.7729\n",
      "[2010]\ttraining's rmse: 3.70447\tvalid_1's rmse: 3.77294\n",
      "[2020]\ttraining's rmse: 3.70425\tvalid_1's rmse: 3.77284\n",
      "[2030]\ttraining's rmse: 3.70417\tvalid_1's rmse: 3.77287\n",
      "[2040]\ttraining's rmse: 3.70408\tvalid_1's rmse: 3.77291\n",
      "[2050]\ttraining's rmse: 3.70403\tvalid_1's rmse: 3.77289\n",
      "[2060]\ttraining's rmse: 3.70389\tvalid_1's rmse: 3.77286\n",
      "[2070]\ttraining's rmse: 3.70379\tvalid_1's rmse: 3.77289\n",
      "[2080]\ttraining's rmse: 3.70365\tvalid_1's rmse: 3.77292\n",
      "[2090]\ttraining's rmse: 3.70351\tvalid_1's rmse: 3.77296\n",
      "[2100]\ttraining's rmse: 3.70342\tvalid_1's rmse: 3.77292\n",
      "[2110]\ttraining's rmse: 3.70331\tvalid_1's rmse: 3.77289\n",
      "[2120]\ttraining's rmse: 3.7032\tvalid_1's rmse: 3.77286\n",
      "Early stopping, best iteration is:\n",
      "[2020]\ttraining's rmse: 3.70425\tvalid_1's rmse: 3.77284\n",
      "fold n°1\n",
      "[LightGBM] [Warning] Unknown parameter: bagging_fractions\n",
      "Training until validation scores don't improve for 100 rounds\n",
      "[10]\ttraining's rmse: 3.87971\tvalid_1's rmse: 3.72872\n",
      "[20]\ttraining's rmse: 3.87209\tvalid_1's rmse: 3.72148\n",
      "[30]\ttraining's rmse: 3.86361\tvalid_1's rmse: 3.71341\n",
      "[40]\ttraining's rmse: 3.86066\tvalid_1's rmse: 3.71059\n",
      "[50]\ttraining's rmse: 3.85766\tvalid_1's rmse: 3.70811\n",
      "[60]\ttraining's rmse: 3.85138\tvalid_1's rmse: 3.70262\n",
      "[70]\ttraining's rmse: 3.84818\tvalid_1's rmse: 3.69961\n",
      "[80]\ttraining's rmse: 3.84586\tvalid_1's rmse: 3.69768\n",
      "[90]\ttraining's rmse: 3.8397\tvalid_1's rmse: 3.69187\n",
      "[100]\ttraining's rmse: 3.83028\tvalid_1's rmse: 3.68313\n",
      "[110]\ttraining's rmse: 3.82802\tvalid_1's rmse: 3.68094\n",
      "[120]\ttraining's rmse: 3.82617\tvalid_1's rmse: 3.67949\n",
      "[130]\ttraining's rmse: 3.82321\tvalid_1's rmse: 3.67698\n",
      "[140]\ttraining's rmse: 3.82053\tvalid_1's rmse: 3.67471\n",
      "[150]\ttraining's rmse: 3.81745\tvalid_1's rmse: 3.67192\n",
      "[160]\ttraining's rmse: 3.81562\tvalid_1's rmse: 3.67059\n",
      "[170]\ttraining's rmse: 3.81264\tvalid_1's rmse: 3.66843\n",
      "[180]\ttraining's rmse: 3.81052\tvalid_1's rmse: 3.66652\n",
      "[190]\ttraining's rmse: 3.80836\tvalid_1's rmse: 3.66463\n",
      "[200]\ttraining's rmse: 3.80731\tvalid_1's rmse: 3.66382\n",
      "[210]\ttraining's rmse: 3.80502\tvalid_1's rmse: 3.66195\n",
      "[220]\ttraining's rmse: 3.80416\tvalid_1's rmse: 3.66124\n",
      "[230]\ttraining's rmse: 3.80307\tvalid_1's rmse: 3.6603\n",
      "[240]\ttraining's rmse: 3.80195\tvalid_1's rmse: 3.65947\n",
      "[250]\ttraining's rmse: 3.80044\tvalid_1's rmse: 3.65817\n",
      "[260]\ttraining's rmse: 3.79918\tvalid_1's rmse: 3.6571\n",
      "[270]\ttraining's rmse: 3.79875\tvalid_1's rmse: 3.65686\n",
      "[280]\ttraining's rmse: 3.79834\tvalid_1's rmse: 3.65662\n",
      "[290]\ttraining's rmse: 3.79766\tvalid_1's rmse: 3.65613\n",
      "[300]\ttraining's rmse: 3.79701\tvalid_1's rmse: 3.65588\n",
      "[310]\ttraining's rmse: 3.79668\tvalid_1's rmse: 3.65566\n",
      "[320]\ttraining's rmse: 3.79495\tvalid_1's rmse: 3.6544\n",
      "[330]\ttraining's rmse: 3.79427\tvalid_1's rmse: 3.65381\n",
      "[340]\ttraining's rmse: 3.79338\tvalid_1's rmse: 3.65292\n",
      "[350]\ttraining's rmse: 3.79268\tvalid_1's rmse: 3.65244\n",
      "[360]\ttraining's rmse: 3.79169\tvalid_1's rmse: 3.65176\n",
      "[370]\ttraining's rmse: 3.79062\tvalid_1's rmse: 3.65119\n",
      "[380]\ttraining's rmse: 3.78984\tvalid_1's rmse: 3.65065\n",
      "[390]\ttraining's rmse: 3.78898\tvalid_1's rmse: 3.64995\n",
      "[400]\ttraining's rmse: 3.78813\tvalid_1's rmse: 3.6492\n",
      "[410]\ttraining's rmse: 3.7874\tvalid_1's rmse: 3.6488\n",
      "[420]\ttraining's rmse: 3.78705\tvalid_1's rmse: 3.64872\n",
      "[430]\ttraining's rmse: 3.78644\tvalid_1's rmse: 3.64828\n",
      "[440]\ttraining's rmse: 3.78597\tvalid_1's rmse: 3.64796\n",
      "[450]\ttraining's rmse: 3.78521\tvalid_1's rmse: 3.6474\n",
      "[460]\ttraining's rmse: 3.7847\tvalid_1's rmse: 3.647\n",
      "[470]\ttraining's rmse: 3.78423\tvalid_1's rmse: 3.64676\n",
      "[480]\ttraining's rmse: 3.78368\tvalid_1's rmse: 3.64624\n",
      "[490]\ttraining's rmse: 3.78303\tvalid_1's rmse: 3.646\n",
      "[500]\ttraining's rmse: 3.78246\tvalid_1's rmse: 3.64562\n",
      "[510]\ttraining's rmse: 3.78223\tvalid_1's rmse: 3.64544\n",
      "[520]\ttraining's rmse: 3.78144\tvalid_1's rmse: 3.64511\n",
      "[530]\ttraining's rmse: 3.78103\tvalid_1's rmse: 3.6449\n",
      "[540]\ttraining's rmse: 3.78033\tvalid_1's rmse: 3.64441\n",
      "[550]\ttraining's rmse: 3.77973\tvalid_1's rmse: 3.64404\n",
      "[560]\ttraining's rmse: 3.77941\tvalid_1's rmse: 3.64397\n",
      "[570]\ttraining's rmse: 3.77912\tvalid_1's rmse: 3.64372\n",
      "[580]\ttraining's rmse: 3.77856\tvalid_1's rmse: 3.64331\n",
      "[590]\ttraining's rmse: 3.7782\tvalid_1's rmse: 3.64308\n",
      "[600]\ttraining's rmse: 3.77782\tvalid_1's rmse: 3.64281\n",
      "[610]\ttraining's rmse: 3.77744\tvalid_1's rmse: 3.64258\n",
      "[620]\ttraining's rmse: 3.77713\tvalid_1's rmse: 3.6425\n",
      "[630]\ttraining's rmse: 3.77689\tvalid_1's rmse: 3.64233\n",
      "[640]\ttraining's rmse: 3.77672\tvalid_1's rmse: 3.64221\n",
      "[650]\ttraining's rmse: 3.77625\tvalid_1's rmse: 3.64187\n",
      "[660]\ttraining's rmse: 3.77598\tvalid_1's rmse: 3.64169\n",
      "[670]\ttraining's rmse: 3.77569\tvalid_1's rmse: 3.64161\n",
      "[680]\ttraining's rmse: 3.77538\tvalid_1's rmse: 3.64154\n",
      "[690]\ttraining's rmse: 3.77513\tvalid_1's rmse: 3.64155\n",
      "[700]\ttraining's rmse: 3.77468\tvalid_1's rmse: 3.64128\n",
      "[710]\ttraining's rmse: 3.7744\tvalid_1's rmse: 3.64118\n",
      "[720]\ttraining's rmse: 3.77394\tvalid_1's rmse: 3.64091\n",
      "[730]\ttraining's rmse: 3.77348\tvalid_1's rmse: 3.64066\n",
      "[740]\ttraining's rmse: 3.77311\tvalid_1's rmse: 3.64056\n",
      "[750]\ttraining's rmse: 3.7724\tvalid_1's rmse: 3.6403\n",
      "[760]\ttraining's rmse: 3.77211\tvalid_1's rmse: 3.64012\n",
      "[770]\ttraining's rmse: 3.7718\tvalid_1's rmse: 3.63999\n",
      "[780]\ttraining's rmse: 3.7715\tvalid_1's rmse: 3.63984\n",
      "[790]\ttraining's rmse: 3.77106\tvalid_1's rmse: 3.63954\n",
      "[800]\ttraining's rmse: 3.77075\tvalid_1's rmse: 3.63938\n",
      "[810]\ttraining's rmse: 3.77045\tvalid_1's rmse: 3.63923\n",
      "[820]\ttraining's rmse: 3.77013\tvalid_1's rmse: 3.63914\n",
      "[830]\ttraining's rmse: 3.76994\tvalid_1's rmse: 3.63908\n",
      "[840]\ttraining's rmse: 3.76958\tvalid_1's rmse: 3.63884\n",
      "[850]\ttraining's rmse: 3.76927\tvalid_1's rmse: 3.63871\n",
      "[860]\ttraining's rmse: 3.76915\tvalid_1's rmse: 3.63869\n",
      "[870]\ttraining's rmse: 3.76895\tvalid_1's rmse: 3.63862\n"
     ]
    },
    {
     "name": "stdout",
     "output_type": "stream",
     "text": [
      "[880]\ttraining's rmse: 3.76872\tvalid_1's rmse: 3.63848\n",
      "[890]\ttraining's rmse: 3.76848\tvalid_1's rmse: 3.63838\n",
      "[900]\ttraining's rmse: 3.76822\tvalid_1's rmse: 3.63826\n",
      "[910]\ttraining's rmse: 3.76802\tvalid_1's rmse: 3.63818\n",
      "[920]\ttraining's rmse: 3.76773\tvalid_1's rmse: 3.63812\n",
      "[930]\ttraining's rmse: 3.76748\tvalid_1's rmse: 3.63805\n",
      "[940]\ttraining's rmse: 3.7673\tvalid_1's rmse: 3.63794\n",
      "[950]\ttraining's rmse: 3.76691\tvalid_1's rmse: 3.6377\n",
      "[960]\ttraining's rmse: 3.76674\tvalid_1's rmse: 3.63755\n",
      "[970]\ttraining's rmse: 3.76648\tvalid_1's rmse: 3.63748\n",
      "[980]\ttraining's rmse: 3.76638\tvalid_1's rmse: 3.63742\n",
      "[990]\ttraining's rmse: 3.76614\tvalid_1's rmse: 3.63739\n",
      "[1000]\ttraining's rmse: 3.76592\tvalid_1's rmse: 3.63739\n",
      "[1010]\ttraining's rmse: 3.76572\tvalid_1's rmse: 3.63737\n",
      "[1020]\ttraining's rmse: 3.76549\tvalid_1's rmse: 3.63726\n",
      "[1030]\ttraining's rmse: 3.76524\tvalid_1's rmse: 3.63717\n",
      "[1040]\ttraining's rmse: 3.76493\tvalid_1's rmse: 3.6371\n",
      "[1050]\ttraining's rmse: 3.76462\tvalid_1's rmse: 3.63689\n",
      "[1060]\ttraining's rmse: 3.76444\tvalid_1's rmse: 3.63682\n",
      "[1070]\ttraining's rmse: 3.76425\tvalid_1's rmse: 3.63683\n",
      "[1080]\ttraining's rmse: 3.76393\tvalid_1's rmse: 3.63669\n",
      "[1090]\ttraining's rmse: 3.76383\tvalid_1's rmse: 3.63665\n",
      "[1100]\ttraining's rmse: 3.76359\tvalid_1's rmse: 3.63657\n",
      "[1110]\ttraining's rmse: 3.76332\tvalid_1's rmse: 3.63642\n",
      "[1120]\ttraining's rmse: 3.76307\tvalid_1's rmse: 3.63637\n",
      "[1130]\ttraining's rmse: 3.76286\tvalid_1's rmse: 3.63623\n",
      "[1140]\ttraining's rmse: 3.76265\tvalid_1's rmse: 3.63611\n",
      "[1150]\ttraining's rmse: 3.76251\tvalid_1's rmse: 3.63607\n",
      "[1160]\ttraining's rmse: 3.76239\tvalid_1's rmse: 3.63605\n",
      "[1170]\ttraining's rmse: 3.76215\tvalid_1's rmse: 3.63596\n",
      "[1180]\ttraining's rmse: 3.76197\tvalid_1's rmse: 3.63597\n",
      "[1190]\ttraining's rmse: 3.76183\tvalid_1's rmse: 3.63594\n",
      "[1200]\ttraining's rmse: 3.76168\tvalid_1's rmse: 3.63593\n",
      "[1210]\ttraining's rmse: 3.76151\tvalid_1's rmse: 3.6359\n",
      "[1220]\ttraining's rmse: 3.76128\tvalid_1's rmse: 3.63575\n",
      "[1230]\ttraining's rmse: 3.76105\tvalid_1's rmse: 3.63563\n",
      "[1240]\ttraining's rmse: 3.76089\tvalid_1's rmse: 3.63553\n",
      "[1250]\ttraining's rmse: 3.76076\tvalid_1's rmse: 3.63556\n",
      "[1260]\ttraining's rmse: 3.76054\tvalid_1's rmse: 3.63552\n",
      "[1270]\ttraining's rmse: 3.76046\tvalid_1's rmse: 3.6355\n",
      "[1280]\ttraining's rmse: 3.76031\tvalid_1's rmse: 3.63542\n",
      "[1290]\ttraining's rmse: 3.76015\tvalid_1's rmse: 3.63542\n",
      "[1300]\ttraining's rmse: 3.75991\tvalid_1's rmse: 3.63534\n",
      "[1310]\ttraining's rmse: 3.75982\tvalid_1's rmse: 3.6353\n",
      "[1320]\ttraining's rmse: 3.75971\tvalid_1's rmse: 3.63527\n",
      "[1330]\ttraining's rmse: 3.75935\tvalid_1's rmse: 3.63506\n",
      "[1340]\ttraining's rmse: 3.75916\tvalid_1's rmse: 3.63495\n",
      "[1350]\ttraining's rmse: 3.75907\tvalid_1's rmse: 3.63496\n",
      "[1360]\ttraining's rmse: 3.75899\tvalid_1's rmse: 3.63496\n",
      "[1370]\ttraining's rmse: 3.75884\tvalid_1's rmse: 3.63494\n",
      "[1380]\ttraining's rmse: 3.75851\tvalid_1's rmse: 3.63487\n",
      "[1390]\ttraining's rmse: 3.75837\tvalid_1's rmse: 3.63478\n",
      "[1400]\ttraining's rmse: 3.75823\tvalid_1's rmse: 3.63469\n",
      "[1410]\ttraining's rmse: 3.758\tvalid_1's rmse: 3.63459\n",
      "[1420]\ttraining's rmse: 3.75785\tvalid_1's rmse: 3.63453\n",
      "[1430]\ttraining's rmse: 3.75767\tvalid_1's rmse: 3.63458\n",
      "[1440]\ttraining's rmse: 3.75755\tvalid_1's rmse: 3.63457\n",
      "[1450]\ttraining's rmse: 3.75742\tvalid_1's rmse: 3.63453\n",
      "[1460]\ttraining's rmse: 3.75731\tvalid_1's rmse: 3.63457\n",
      "[1470]\ttraining's rmse: 3.75716\tvalid_1's rmse: 3.6346\n",
      "[1480]\ttraining's rmse: 3.75702\tvalid_1's rmse: 3.63456\n",
      "[1490]\ttraining's rmse: 3.75687\tvalid_1's rmse: 3.63455\n",
      "[1500]\ttraining's rmse: 3.75673\tvalid_1's rmse: 3.63457\n",
      "[1510]\ttraining's rmse: 3.75654\tvalid_1's rmse: 3.63455\n",
      "[1520]\ttraining's rmse: 3.75639\tvalid_1's rmse: 3.63455\n",
      "[1530]\ttraining's rmse: 3.75604\tvalid_1's rmse: 3.63435\n",
      "[1540]\ttraining's rmse: 3.75593\tvalid_1's rmse: 3.63429\n",
      "[1550]\ttraining's rmse: 3.7557\tvalid_1's rmse: 3.63426\n",
      "[1560]\ttraining's rmse: 3.75546\tvalid_1's rmse: 3.63415\n",
      "[1570]\ttraining's rmse: 3.75529\tvalid_1's rmse: 3.63412\n",
      "[1580]\ttraining's rmse: 3.75519\tvalid_1's rmse: 3.63415\n",
      "[1590]\ttraining's rmse: 3.75504\tvalid_1's rmse: 3.63416\n",
      "[1600]\ttraining's rmse: 3.75494\tvalid_1's rmse: 3.63412\n",
      "[1610]\ttraining's rmse: 3.75477\tvalid_1's rmse: 3.63419\n",
      "[1620]\ttraining's rmse: 3.75469\tvalid_1's rmse: 3.63418\n",
      "[1630]\ttraining's rmse: 3.75453\tvalid_1's rmse: 3.63411\n",
      "[1640]\ttraining's rmse: 3.75439\tvalid_1's rmse: 3.63408\n",
      "[1650]\ttraining's rmse: 3.75427\tvalid_1's rmse: 3.63409\n",
      "[1660]\ttraining's rmse: 3.75406\tvalid_1's rmse: 3.63411\n",
      "[1670]\ttraining's rmse: 3.75397\tvalid_1's rmse: 3.6341\n",
      "[1680]\ttraining's rmse: 3.75388\tvalid_1's rmse: 3.63409\n",
      "[1690]\ttraining's rmse: 3.75378\tvalid_1's rmse: 3.63406\n",
      "[1700]\ttraining's rmse: 3.75363\tvalid_1's rmse: 3.63399\n",
      "[1710]\ttraining's rmse: 3.75352\tvalid_1's rmse: 3.63395\n",
      "[1720]\ttraining's rmse: 3.75337\tvalid_1's rmse: 3.63385\n",
      "[1730]\ttraining's rmse: 3.75319\tvalid_1's rmse: 3.63377\n",
      "[1740]\ttraining's rmse: 3.75307\tvalid_1's rmse: 3.6337\n",
      "[1750]\ttraining's rmse: 3.75297\tvalid_1's rmse: 3.63371\n",
      "[1760]\ttraining's rmse: 3.75281\tvalid_1's rmse: 3.63374\n",
      "[1770]\ttraining's rmse: 3.75273\tvalid_1's rmse: 3.63366\n",
      "[1780]\ttraining's rmse: 3.75256\tvalid_1's rmse: 3.63362\n",
      "[1790]\ttraining's rmse: 3.75232\tvalid_1's rmse: 3.6337\n",
      "[1800]\ttraining's rmse: 3.75218\tvalid_1's rmse: 3.6337\n",
      "[1810]\ttraining's rmse: 3.75189\tvalid_1's rmse: 3.63358\n",
      "[1820]\ttraining's rmse: 3.75177\tvalid_1's rmse: 3.63359\n",
      "[1830]\ttraining's rmse: 3.75161\tvalid_1's rmse: 3.63355\n",
      "[1840]\ttraining's rmse: 3.75155\tvalid_1's rmse: 3.6335\n",
      "[1850]\ttraining's rmse: 3.75141\tvalid_1's rmse: 3.63351\n",
      "[1860]\ttraining's rmse: 3.75121\tvalid_1's rmse: 3.63356\n",
      "[1870]\ttraining's rmse: 3.75114\tvalid_1's rmse: 3.63359\n",
      "[1880]\ttraining's rmse: 3.75107\tvalid_1's rmse: 3.63362\n",
      "[1890]\ttraining's rmse: 3.75092\tvalid_1's rmse: 3.63361\n",
      "[1900]\ttraining's rmse: 3.75077\tvalid_1's rmse: 3.6336\n",
      "[1910]\ttraining's rmse: 3.75065\tvalid_1's rmse: 3.63362\n",
      "[1920]\ttraining's rmse: 3.75048\tvalid_1's rmse: 3.63354\n",
      "[1930]\ttraining's rmse: 3.75037\tvalid_1's rmse: 3.63353\n",
      "[1940]\ttraining's rmse: 3.75027\tvalid_1's rmse: 3.63355\n",
      "Early stopping, best iteration is:\n",
      "[1840]\ttraining's rmse: 3.75155\tvalid_1's rmse: 3.6335\n",
      "fold n°2\n",
      "[LightGBM] [Warning] Unknown parameter: bagging_fractions\n",
      "Training until validation scores don't improve for 100 rounds\n",
      "[10]\ttraining's rmse: 3.81238\tvalid_1's rmse: 3.93267\n",
      "[20]\ttraining's rmse: 3.80474\tvalid_1's rmse: 3.92559\n",
      "[30]\ttraining's rmse: 3.79623\tvalid_1's rmse: 3.91756\n",
      "[40]\ttraining's rmse: 3.79334\tvalid_1's rmse: 3.91477\n",
      "[50]\ttraining's rmse: 3.79032\tvalid_1's rmse: 3.91218\n",
      "[60]\ttraining's rmse: 3.78441\tvalid_1's rmse: 3.90628\n",
      "[70]\ttraining's rmse: 3.78102\tvalid_1's rmse: 3.90352\n",
      "[80]\ttraining's rmse: 3.77875\tvalid_1's rmse: 3.90153\n",
      "[90]\ttraining's rmse: 3.77274\tvalid_1's rmse: 3.89561\n",
      "[100]\ttraining's rmse: 3.76374\tvalid_1's rmse: 3.88654\n",
      "[110]\ttraining's rmse: 3.76139\tvalid_1's rmse: 3.88442\n",
      "[120]\ttraining's rmse: 3.75957\tvalid_1's rmse: 3.88281\n",
      "[130]\ttraining's rmse: 3.75668\tvalid_1's rmse: 3.88008\n",
      "[140]\ttraining's rmse: 3.754\tvalid_1's rmse: 3.8777\n",
      "[150]\ttraining's rmse: 3.7509\tvalid_1's rmse: 3.87506\n",
      "[160]\ttraining's rmse: 3.74915\tvalid_1's rmse: 3.87354\n",
      "[170]\ttraining's rmse: 3.74638\tvalid_1's rmse: 3.87085\n",
      "[180]\ttraining's rmse: 3.74423\tvalid_1's rmse: 3.86892\n",
      "[190]\ttraining's rmse: 3.74194\tvalid_1's rmse: 3.86688\n",
      "[200]\ttraining's rmse: 3.74078\tvalid_1's rmse: 3.86624\n",
      "[210]\ttraining's rmse: 3.73857\tvalid_1's rmse: 3.86431\n",
      "[220]\ttraining's rmse: 3.7377\tvalid_1's rmse: 3.86377\n",
      "[230]\ttraining's rmse: 3.73657\tvalid_1's rmse: 3.86298\n",
      "[240]\ttraining's rmse: 3.73547\tvalid_1's rmse: 3.86211\n",
      "[250]\ttraining's rmse: 3.73399\tvalid_1's rmse: 3.86057\n",
      "[260]\ttraining's rmse: 3.73272\tvalid_1's rmse: 3.85966\n",
      "[270]\ttraining's rmse: 3.73235\tvalid_1's rmse: 3.85948\n",
      "[280]\ttraining's rmse: 3.73192\tvalid_1's rmse: 3.85913\n",
      "[290]\ttraining's rmse: 3.73122\tvalid_1's rmse: 3.85867\n",
      "[300]\ttraining's rmse: 3.73061\tvalid_1's rmse: 3.85825\n",
      "[310]\ttraining's rmse: 3.73025\tvalid_1's rmse: 3.85809\n",
      "[320]\ttraining's rmse: 3.72861\tvalid_1's rmse: 3.85645\n",
      "[330]\ttraining's rmse: 3.72793\tvalid_1's rmse: 3.85599\n",
      "[340]\ttraining's rmse: 3.72702\tvalid_1's rmse: 3.8553\n",
      "[350]\ttraining's rmse: 3.72637\tvalid_1's rmse: 3.8548\n",
      "[360]\ttraining's rmse: 3.7254\tvalid_1's rmse: 3.85399\n",
      "[370]\ttraining's rmse: 3.72442\tvalid_1's rmse: 3.85319\n",
      "[380]\ttraining's rmse: 3.72371\tvalid_1's rmse: 3.85243\n",
      "[390]\ttraining's rmse: 3.72281\tvalid_1's rmse: 3.85179\n",
      "[400]\ttraining's rmse: 3.72197\tvalid_1's rmse: 3.85111\n",
      "[410]\ttraining's rmse: 3.72125\tvalid_1's rmse: 3.8506\n"
     ]
    },
    {
     "name": "stdout",
     "output_type": "stream",
     "text": [
      "[420]\ttraining's rmse: 3.72087\tvalid_1's rmse: 3.8505\n",
      "[430]\ttraining's rmse: 3.72029\tvalid_1's rmse: 3.85007\n",
      "[440]\ttraining's rmse: 3.71982\tvalid_1's rmse: 3.8498\n",
      "[450]\ttraining's rmse: 3.71907\tvalid_1's rmse: 3.849\n",
      "[460]\ttraining's rmse: 3.71853\tvalid_1's rmse: 3.84874\n",
      "[470]\ttraining's rmse: 3.718\tvalid_1's rmse: 3.84842\n",
      "[480]\ttraining's rmse: 3.71737\tvalid_1's rmse: 3.84797\n",
      "[490]\ttraining's rmse: 3.71675\tvalid_1's rmse: 3.84756\n",
      "[500]\ttraining's rmse: 3.71617\tvalid_1's rmse: 3.84719\n",
      "[510]\ttraining's rmse: 3.71588\tvalid_1's rmse: 3.84704\n",
      "[520]\ttraining's rmse: 3.7151\tvalid_1's rmse: 3.84655\n",
      "[530]\ttraining's rmse: 3.71471\tvalid_1's rmse: 3.8464\n",
      "[540]\ttraining's rmse: 3.71392\tvalid_1's rmse: 3.84592\n",
      "[550]\ttraining's rmse: 3.71335\tvalid_1's rmse: 3.84553\n",
      "[560]\ttraining's rmse: 3.71302\tvalid_1's rmse: 3.84551\n",
      "[570]\ttraining's rmse: 3.71268\tvalid_1's rmse: 3.84536\n",
      "[580]\ttraining's rmse: 3.71213\tvalid_1's rmse: 3.84486\n",
      "[590]\ttraining's rmse: 3.71178\tvalid_1's rmse: 3.84467\n",
      "[600]\ttraining's rmse: 3.71143\tvalid_1's rmse: 3.84444\n",
      "[610]\ttraining's rmse: 3.71106\tvalid_1's rmse: 3.8443\n",
      "[620]\ttraining's rmse: 3.71069\tvalid_1's rmse: 3.84416\n",
      "[630]\ttraining's rmse: 3.71047\tvalid_1's rmse: 3.84397\n",
      "[640]\ttraining's rmse: 3.7103\tvalid_1's rmse: 3.84388\n",
      "[650]\ttraining's rmse: 3.70984\tvalid_1's rmse: 3.84354\n",
      "[660]\ttraining's rmse: 3.70955\tvalid_1's rmse: 3.84342\n",
      "[670]\ttraining's rmse: 3.70931\tvalid_1's rmse: 3.84324\n",
      "[680]\ttraining's rmse: 3.70898\tvalid_1's rmse: 3.84314\n",
      "[690]\ttraining's rmse: 3.70875\tvalid_1's rmse: 3.84307\n",
      "[700]\ttraining's rmse: 3.70828\tvalid_1's rmse: 3.84285\n",
      "[710]\ttraining's rmse: 3.70801\tvalid_1's rmse: 3.84272\n",
      "[720]\ttraining's rmse: 3.70753\tvalid_1's rmse: 3.84242\n",
      "[730]\ttraining's rmse: 3.70704\tvalid_1's rmse: 3.84224\n",
      "[740]\ttraining's rmse: 3.70669\tvalid_1's rmse: 3.84196\n",
      "[750]\ttraining's rmse: 3.7059\tvalid_1's rmse: 3.84139\n",
      "[760]\ttraining's rmse: 3.70555\tvalid_1's rmse: 3.84126\n",
      "[770]\ttraining's rmse: 3.70521\tvalid_1's rmse: 3.8411\n",
      "[780]\ttraining's rmse: 3.70489\tvalid_1's rmse: 3.84101\n",
      "[790]\ttraining's rmse: 3.70435\tvalid_1's rmse: 3.84061\n",
      "[800]\ttraining's rmse: 3.70401\tvalid_1's rmse: 3.84044\n",
      "[810]\ttraining's rmse: 3.70362\tvalid_1's rmse: 3.84037\n",
      "[820]\ttraining's rmse: 3.70334\tvalid_1's rmse: 3.84021\n",
      "[830]\ttraining's rmse: 3.70315\tvalid_1's rmse: 3.84017\n",
      "[840]\ttraining's rmse: 3.70275\tvalid_1's rmse: 3.83996\n",
      "[850]\ttraining's rmse: 3.70244\tvalid_1's rmse: 3.83988\n",
      "[860]\ttraining's rmse: 3.70229\tvalid_1's rmse: 3.83989\n",
      "[870]\ttraining's rmse: 3.70205\tvalid_1's rmse: 3.8398\n",
      "[880]\ttraining's rmse: 3.70177\tvalid_1's rmse: 3.83966\n",
      "[890]\ttraining's rmse: 3.70154\tvalid_1's rmse: 3.8396\n",
      "[900]\ttraining's rmse: 3.70131\tvalid_1's rmse: 3.83948\n",
      "[910]\ttraining's rmse: 3.70111\tvalid_1's rmse: 3.8394\n",
      "[920]\ttraining's rmse: 3.70082\tvalid_1's rmse: 3.83933\n",
      "[930]\ttraining's rmse: 3.70059\tvalid_1's rmse: 3.83928\n",
      "[940]\ttraining's rmse: 3.70041\tvalid_1's rmse: 3.83923\n",
      "[950]\ttraining's rmse: 3.69991\tvalid_1's rmse: 3.83908\n",
      "[960]\ttraining's rmse: 3.69973\tvalid_1's rmse: 3.83898\n",
      "[970]\ttraining's rmse: 3.69949\tvalid_1's rmse: 3.83898\n",
      "[980]\ttraining's rmse: 3.69936\tvalid_1's rmse: 3.83898\n",
      "[990]\ttraining's rmse: 3.69915\tvalid_1's rmse: 3.83888\n",
      "[1000]\ttraining's rmse: 3.69896\tvalid_1's rmse: 3.83885\n",
      "[1010]\ttraining's rmse: 3.69868\tvalid_1's rmse: 3.8388\n",
      "[1020]\ttraining's rmse: 3.69845\tvalid_1's rmse: 3.83874\n",
      "[1030]\ttraining's rmse: 3.69821\tvalid_1's rmse: 3.83865\n",
      "[1040]\ttraining's rmse: 3.6979\tvalid_1's rmse: 3.8386\n",
      "[1050]\ttraining's rmse: 3.69756\tvalid_1's rmse: 3.83842\n",
      "[1060]\ttraining's rmse: 3.69742\tvalid_1's rmse: 3.83838\n",
      "[1070]\ttraining's rmse: 3.69725\tvalid_1's rmse: 3.83836\n",
      "[1080]\ttraining's rmse: 3.69693\tvalid_1's rmse: 3.83828\n",
      "[1090]\ttraining's rmse: 3.69681\tvalid_1's rmse: 3.83831\n",
      "[1100]\ttraining's rmse: 3.69655\tvalid_1's rmse: 3.83826\n",
      "[1110]\ttraining's rmse: 3.69626\tvalid_1's rmse: 3.83811\n",
      "[1120]\ttraining's rmse: 3.69598\tvalid_1's rmse: 3.83796\n",
      "[1130]\ttraining's rmse: 3.69578\tvalid_1's rmse: 3.83789\n",
      "[1140]\ttraining's rmse: 3.6956\tvalid_1's rmse: 3.83786\n",
      "[1150]\ttraining's rmse: 3.69543\tvalid_1's rmse: 3.83786\n",
      "[1160]\ttraining's rmse: 3.69531\tvalid_1's rmse: 3.83784\n",
      "[1170]\ttraining's rmse: 3.69505\tvalid_1's rmse: 3.83772\n",
      "[1180]\ttraining's rmse: 3.69489\tvalid_1's rmse: 3.83762\n",
      "[1190]\ttraining's rmse: 3.69474\tvalid_1's rmse: 3.83758\n",
      "[1200]\ttraining's rmse: 3.69458\tvalid_1's rmse: 3.83761\n",
      "[1210]\ttraining's rmse: 3.69442\tvalid_1's rmse: 3.83767\n",
      "[1220]\ttraining's rmse: 3.69421\tvalid_1's rmse: 3.83757\n",
      "[1230]\ttraining's rmse: 3.69392\tvalid_1's rmse: 3.83738\n",
      "[1240]\ttraining's rmse: 3.69373\tvalid_1's rmse: 3.8374\n",
      "[1250]\ttraining's rmse: 3.69361\tvalid_1's rmse: 3.83741\n",
      "[1260]\ttraining's rmse: 3.69338\tvalid_1's rmse: 3.83745\n",
      "[1270]\ttraining's rmse: 3.69329\tvalid_1's rmse: 3.83751\n",
      "[1280]\ttraining's rmse: 3.6931\tvalid_1's rmse: 3.8375\n",
      "[1290]\ttraining's rmse: 3.69293\tvalid_1's rmse: 3.83752\n",
      "[1300]\ttraining's rmse: 3.69273\tvalid_1's rmse: 3.83749\n",
      "[1310]\ttraining's rmse: 3.69259\tvalid_1's rmse: 3.83752\n",
      "[1320]\ttraining's rmse: 3.69248\tvalid_1's rmse: 3.83752\n",
      "[1330]\ttraining's rmse: 3.69214\tvalid_1's rmse: 3.83737\n",
      "[1340]\ttraining's rmse: 3.69197\tvalid_1's rmse: 3.83734\n",
      "[1350]\ttraining's rmse: 3.69185\tvalid_1's rmse: 3.83735\n",
      "[1360]\ttraining's rmse: 3.69175\tvalid_1's rmse: 3.83735\n",
      "[1370]\ttraining's rmse: 3.6916\tvalid_1's rmse: 3.83735\n",
      "[1380]\ttraining's rmse: 3.69129\tvalid_1's rmse: 3.83719\n",
      "[1390]\ttraining's rmse: 3.69114\tvalid_1's rmse: 3.83715\n",
      "[1400]\ttraining's rmse: 3.69094\tvalid_1's rmse: 3.83721\n",
      "[1410]\ttraining's rmse: 3.69068\tvalid_1's rmse: 3.83723\n",
      "[1420]\ttraining's rmse: 3.69052\tvalid_1's rmse: 3.83722\n",
      "[1430]\ttraining's rmse: 3.69035\tvalid_1's rmse: 3.83723\n",
      "[1440]\ttraining's rmse: 3.69023\tvalid_1's rmse: 3.83718\n",
      "[1450]\ttraining's rmse: 3.69009\tvalid_1's rmse: 3.83709\n",
      "[1460]\ttraining's rmse: 3.68998\tvalid_1's rmse: 3.83712\n",
      "[1470]\ttraining's rmse: 3.68982\tvalid_1's rmse: 3.83716\n",
      "[1480]\ttraining's rmse: 3.68962\tvalid_1's rmse: 3.83706\n",
      "[1490]\ttraining's rmse: 3.68948\tvalid_1's rmse: 3.83712\n",
      "[1500]\ttraining's rmse: 3.68934\tvalid_1's rmse: 3.83707\n",
      "[1510]\ttraining's rmse: 3.68917\tvalid_1's rmse: 3.83708\n",
      "[1520]\ttraining's rmse: 3.68903\tvalid_1's rmse: 3.83701\n",
      "[1530]\ttraining's rmse: 3.68875\tvalid_1's rmse: 3.83688\n",
      "[1540]\ttraining's rmse: 3.68864\tvalid_1's rmse: 3.83688\n",
      "[1550]\ttraining's rmse: 3.68838\tvalid_1's rmse: 3.83685\n",
      "[1560]\ttraining's rmse: 3.68814\tvalid_1's rmse: 3.83676\n",
      "[1570]\ttraining's rmse: 3.68797\tvalid_1's rmse: 3.83679\n",
      "[1580]\ttraining's rmse: 3.68788\tvalid_1's rmse: 3.83683\n",
      "[1590]\ttraining's rmse: 3.68774\tvalid_1's rmse: 3.83678\n",
      "[1600]\ttraining's rmse: 3.68763\tvalid_1's rmse: 3.8368\n",
      "[1610]\ttraining's rmse: 3.68751\tvalid_1's rmse: 3.83681\n",
      "[1620]\ttraining's rmse: 3.68741\tvalid_1's rmse: 3.83683\n",
      "[1630]\ttraining's rmse: 3.6873\tvalid_1's rmse: 3.83677\n",
      "[1640]\ttraining's rmse: 3.68717\tvalid_1's rmse: 3.83679\n",
      "[1650]\ttraining's rmse: 3.68703\tvalid_1's rmse: 3.8368\n",
      "[1660]\ttraining's rmse: 3.68688\tvalid_1's rmse: 3.83676\n",
      "[1670]\ttraining's rmse: 3.6868\tvalid_1's rmse: 3.83671\n",
      "[1680]\ttraining's rmse: 3.68673\tvalid_1's rmse: 3.83673\n",
      "[1690]\ttraining's rmse: 3.68662\tvalid_1's rmse: 3.83678\n",
      "[1700]\ttraining's rmse: 3.68645\tvalid_1's rmse: 3.83674\n",
      "[1710]\ttraining's rmse: 3.68635\tvalid_1's rmse: 3.83674\n",
      "[1720]\ttraining's rmse: 3.6862\tvalid_1's rmse: 3.83671\n",
      "[1730]\ttraining's rmse: 3.68596\tvalid_1's rmse: 3.83661\n",
      "[1740]\ttraining's rmse: 3.68584\tvalid_1's rmse: 3.83659\n",
      "[1750]\ttraining's rmse: 3.68571\tvalid_1's rmse: 3.83659\n",
      "[1760]\ttraining's rmse: 3.68563\tvalid_1's rmse: 3.83657\n",
      "[1770]\ttraining's rmse: 3.68554\tvalid_1's rmse: 3.83655\n",
      "[1780]\ttraining's rmse: 3.68537\tvalid_1's rmse: 3.8366\n",
      "[1790]\ttraining's rmse: 3.68517\tvalid_1's rmse: 3.83665\n",
      "[1800]\ttraining's rmse: 3.68503\tvalid_1's rmse: 3.83663\n",
      "[1810]\ttraining's rmse: 3.68478\tvalid_1's rmse: 3.83646\n",
      "[1820]\ttraining's rmse: 3.68469\tvalid_1's rmse: 3.83646\n",
      "[1830]\ttraining's rmse: 3.68451\tvalid_1's rmse: 3.83643\n",
      "[1840]\ttraining's rmse: 3.68446\tvalid_1's rmse: 3.83641\n",
      "[1850]\ttraining's rmse: 3.68431\tvalid_1's rmse: 3.83638\n",
      "[1860]\ttraining's rmse: 3.68414\tvalid_1's rmse: 3.83639\n",
      "[1870]\ttraining's rmse: 3.68406\tvalid_1's rmse: 3.8364\n",
      "[1880]\ttraining's rmse: 3.684\tvalid_1's rmse: 3.83636\n",
      "[1890]\ttraining's rmse: 3.68384\tvalid_1's rmse: 3.83645\n",
      "[1900]\ttraining's rmse: 3.68371\tvalid_1's rmse: 3.83646\n",
      "[1910]\ttraining's rmse: 3.68361\tvalid_1's rmse: 3.8365\n"
     ]
    },
    {
     "name": "stdout",
     "output_type": "stream",
     "text": [
      "[1920]\ttraining's rmse: 3.68346\tvalid_1's rmse: 3.83645\n",
      "[1930]\ttraining's rmse: 3.68338\tvalid_1's rmse: 3.83644\n",
      "[1940]\ttraining's rmse: 3.68325\tvalid_1's rmse: 3.83649\n",
      "[1950]\ttraining's rmse: 3.68315\tvalid_1's rmse: 3.8365\n",
      "[1960]\ttraining's rmse: 3.68304\tvalid_1's rmse: 3.8365\n",
      "[1970]\ttraining's rmse: 3.68288\tvalid_1's rmse: 3.83654\n",
      "[1980]\ttraining's rmse: 3.68278\tvalid_1's rmse: 3.83656\n",
      "Early stopping, best iteration is:\n",
      "[1883]\ttraining's rmse: 3.68397\tvalid_1's rmse: 3.83635\n",
      "fold n°3\n",
      "[LightGBM] [Warning] Unknown parameter: bagging_fractions\n",
      "Training until validation scores don't improve for 100 rounds\n",
      "[10]\ttraining's rmse: 3.84682\tvalid_1's rmse: 3.83024\n",
      "[20]\ttraining's rmse: 3.83902\tvalid_1's rmse: 3.82322\n",
      "[30]\ttraining's rmse: 3.83031\tvalid_1's rmse: 3.81552\n",
      "[40]\ttraining's rmse: 3.82724\tvalid_1's rmse: 3.81286\n",
      "[50]\ttraining's rmse: 3.82429\tvalid_1's rmse: 3.81033\n",
      "[60]\ttraining's rmse: 3.81836\tvalid_1's rmse: 3.80454\n",
      "[70]\ttraining's rmse: 3.81506\tvalid_1's rmse: 3.80166\n",
      "[80]\ttraining's rmse: 3.81271\tvalid_1's rmse: 3.79978\n",
      "[90]\ttraining's rmse: 3.80655\tvalid_1's rmse: 3.79421\n",
      "[100]\ttraining's rmse: 3.79719\tvalid_1's rmse: 3.78612\n",
      "[110]\ttraining's rmse: 3.79478\tvalid_1's rmse: 3.78417\n",
      "[120]\ttraining's rmse: 3.79294\tvalid_1's rmse: 3.7826\n",
      "[130]\ttraining's rmse: 3.78995\tvalid_1's rmse: 3.7799\n",
      "[140]\ttraining's rmse: 3.78727\tvalid_1's rmse: 3.77764\n",
      "[150]\ttraining's rmse: 3.7841\tvalid_1's rmse: 3.77504\n",
      "[160]\ttraining's rmse: 3.78238\tvalid_1's rmse: 3.77356\n",
      "[170]\ttraining's rmse: 3.77958\tvalid_1's rmse: 3.77094\n",
      "[180]\ttraining's rmse: 3.77745\tvalid_1's rmse: 3.76908\n",
      "[190]\ttraining's rmse: 3.7751\tvalid_1's rmse: 3.76734\n",
      "[200]\ttraining's rmse: 3.77412\tvalid_1's rmse: 3.76637\n",
      "[210]\ttraining's rmse: 3.77192\tvalid_1's rmse: 3.76449\n",
      "[220]\ttraining's rmse: 3.77103\tvalid_1's rmse: 3.76374\n",
      "[230]\ttraining's rmse: 3.76989\tvalid_1's rmse: 3.76297\n",
      "[240]\ttraining's rmse: 3.7688\tvalid_1's rmse: 3.76216\n",
      "[250]\ttraining's rmse: 3.76725\tvalid_1's rmse: 3.76105\n",
      "[260]\ttraining's rmse: 3.76595\tvalid_1's rmse: 3.76\n",
      "[270]\ttraining's rmse: 3.76554\tvalid_1's rmse: 3.7598\n",
      "[280]\ttraining's rmse: 3.76511\tvalid_1's rmse: 3.7596\n",
      "[290]\ttraining's rmse: 3.76442\tvalid_1's rmse: 3.75906\n",
      "[300]\ttraining's rmse: 3.76377\tvalid_1's rmse: 3.75874\n",
      "[310]\ttraining's rmse: 3.76348\tvalid_1's rmse: 3.75858\n",
      "[320]\ttraining's rmse: 3.76175\tvalid_1's rmse: 3.75744\n",
      "[330]\ttraining's rmse: 3.76109\tvalid_1's rmse: 3.75694\n",
      "[340]\ttraining's rmse: 3.7602\tvalid_1's rmse: 3.75623\n",
      "[350]\ttraining's rmse: 3.75958\tvalid_1's rmse: 3.75574\n",
      "[360]\ttraining's rmse: 3.75859\tvalid_1's rmse: 3.75501\n",
      "[370]\ttraining's rmse: 3.75757\tvalid_1's rmse: 3.75422\n",
      "[380]\ttraining's rmse: 3.75679\tvalid_1's rmse: 3.75377\n",
      "[390]\ttraining's rmse: 3.75595\tvalid_1's rmse: 3.75302\n",
      "[400]\ttraining's rmse: 3.75504\tvalid_1's rmse: 3.75251\n",
      "[410]\ttraining's rmse: 3.75428\tvalid_1's rmse: 3.75207\n",
      "[420]\ttraining's rmse: 3.75393\tvalid_1's rmse: 3.75187\n",
      "[430]\ttraining's rmse: 3.75337\tvalid_1's rmse: 3.75148\n",
      "[440]\ttraining's rmse: 3.75283\tvalid_1's rmse: 3.75119\n",
      "[450]\ttraining's rmse: 3.75204\tvalid_1's rmse: 3.75068\n",
      "[460]\ttraining's rmse: 3.75153\tvalid_1's rmse: 3.75038\n",
      "[470]\ttraining's rmse: 3.75107\tvalid_1's rmse: 3.75003\n",
      "[480]\ttraining's rmse: 3.75045\tvalid_1's rmse: 3.74971\n",
      "[490]\ttraining's rmse: 3.74985\tvalid_1's rmse: 3.74931\n",
      "[500]\ttraining's rmse: 3.74929\tvalid_1's rmse: 3.74898\n",
      "[510]\ttraining's rmse: 3.74905\tvalid_1's rmse: 3.74882\n",
      "[520]\ttraining's rmse: 3.74832\tvalid_1's rmse: 3.74819\n",
      "[530]\ttraining's rmse: 3.74795\tvalid_1's rmse: 3.74795\n",
      "[540]\ttraining's rmse: 3.7472\tvalid_1's rmse: 3.74744\n",
      "[550]\ttraining's rmse: 3.74663\tvalid_1's rmse: 3.74714\n",
      "[560]\ttraining's rmse: 3.74633\tvalid_1's rmse: 3.747\n",
      "[570]\ttraining's rmse: 3.74597\tvalid_1's rmse: 3.74692\n",
      "[580]\ttraining's rmse: 3.74536\tvalid_1's rmse: 3.74658\n",
      "[590]\ttraining's rmse: 3.74498\tvalid_1's rmse: 3.74642\n",
      "[600]\ttraining's rmse: 3.74462\tvalid_1's rmse: 3.74621\n",
      "[610]\ttraining's rmse: 3.74425\tvalid_1's rmse: 3.74613\n",
      "[620]\ttraining's rmse: 3.74393\tvalid_1's rmse: 3.74595\n",
      "[630]\ttraining's rmse: 3.74368\tvalid_1's rmse: 3.74588\n",
      "[640]\ttraining's rmse: 3.74351\tvalid_1's rmse: 3.74588\n",
      "[650]\ttraining's rmse: 3.743\tvalid_1's rmse: 3.74563\n",
      "[660]\ttraining's rmse: 3.74271\tvalid_1's rmse: 3.74546\n",
      "[670]\ttraining's rmse: 3.74245\tvalid_1's rmse: 3.74532\n",
      "[680]\ttraining's rmse: 3.74213\tvalid_1's rmse: 3.74511\n",
      "[690]\ttraining's rmse: 3.74187\tvalid_1's rmse: 3.74509\n",
      "[700]\ttraining's rmse: 3.74141\tvalid_1's rmse: 3.74488\n",
      "[710]\ttraining's rmse: 3.74114\tvalid_1's rmse: 3.74479\n",
      "[720]\ttraining's rmse: 3.74065\tvalid_1's rmse: 3.74446\n",
      "[730]\ttraining's rmse: 3.74017\tvalid_1's rmse: 3.74407\n",
      "[740]\ttraining's rmse: 3.73982\tvalid_1's rmse: 3.74392\n",
      "[750]\ttraining's rmse: 3.73919\tvalid_1's rmse: 3.74348\n",
      "[760]\ttraining's rmse: 3.73884\tvalid_1's rmse: 3.74334\n",
      "[770]\ttraining's rmse: 3.73852\tvalid_1's rmse: 3.74326\n",
      "[780]\ttraining's rmse: 3.73824\tvalid_1's rmse: 3.74304\n",
      "[790]\ttraining's rmse: 3.73781\tvalid_1's rmse: 3.74274\n",
      "[800]\ttraining's rmse: 3.73745\tvalid_1's rmse: 3.74247\n",
      "[810]\ttraining's rmse: 3.73711\tvalid_1's rmse: 3.74235\n",
      "[820]\ttraining's rmse: 3.73681\tvalid_1's rmse: 3.74227\n",
      "[830]\ttraining's rmse: 3.73663\tvalid_1's rmse: 3.74224\n",
      "[840]\ttraining's rmse: 3.73623\tvalid_1's rmse: 3.74211\n",
      "[850]\ttraining's rmse: 3.73595\tvalid_1's rmse: 3.74189\n",
      "[860]\ttraining's rmse: 3.73582\tvalid_1's rmse: 3.74189\n",
      "[870]\ttraining's rmse: 3.7356\tvalid_1's rmse: 3.74176\n",
      "[880]\ttraining's rmse: 3.73533\tvalid_1's rmse: 3.74163\n",
      "[890]\ttraining's rmse: 3.7351\tvalid_1's rmse: 3.74154\n",
      "[900]\ttraining's rmse: 3.73487\tvalid_1's rmse: 3.7415\n",
      "[910]\ttraining's rmse: 3.73465\tvalid_1's rmse: 3.74149\n",
      "[920]\ttraining's rmse: 3.73442\tvalid_1's rmse: 3.74135\n",
      "[930]\ttraining's rmse: 3.73422\tvalid_1's rmse: 3.74129\n",
      "[940]\ttraining's rmse: 3.73407\tvalid_1's rmse: 3.74121\n",
      "[950]\ttraining's rmse: 3.73367\tvalid_1's rmse: 3.74101\n",
      "[960]\ttraining's rmse: 3.7335\tvalid_1's rmse: 3.74092\n",
      "[970]\ttraining's rmse: 3.73327\tvalid_1's rmse: 3.74082\n",
      "[980]\ttraining's rmse: 3.73315\tvalid_1's rmse: 3.74077\n",
      "[990]\ttraining's rmse: 3.73289\tvalid_1's rmse: 3.74071\n",
      "[1000]\ttraining's rmse: 3.73271\tvalid_1's rmse: 3.74065\n",
      "[1010]\ttraining's rmse: 3.73253\tvalid_1's rmse: 3.74054\n",
      "[1020]\ttraining's rmse: 3.73229\tvalid_1's rmse: 3.74039\n",
      "[1030]\ttraining's rmse: 3.73204\tvalid_1's rmse: 3.74031\n",
      "[1040]\ttraining's rmse: 3.73176\tvalid_1's rmse: 3.74015\n",
      "[1050]\ttraining's rmse: 3.73146\tvalid_1's rmse: 3.73994\n",
      "[1060]\ttraining's rmse: 3.73128\tvalid_1's rmse: 3.73988\n",
      "[1070]\ttraining's rmse: 3.7311\tvalid_1's rmse: 3.73986\n",
      "[1080]\ttraining's rmse: 3.73081\tvalid_1's rmse: 3.73975\n",
      "[1090]\ttraining's rmse: 3.73072\tvalid_1's rmse: 3.73974\n",
      "[1100]\ttraining's rmse: 3.73044\tvalid_1's rmse: 3.73964\n",
      "[1110]\ttraining's rmse: 3.73014\tvalid_1's rmse: 3.73955\n",
      "[1120]\ttraining's rmse: 3.72987\tvalid_1's rmse: 3.73942\n",
      "[1130]\ttraining's rmse: 3.72965\tvalid_1's rmse: 3.73947\n",
      "[1140]\ttraining's rmse: 3.72945\tvalid_1's rmse: 3.73949\n",
      "[1150]\ttraining's rmse: 3.72932\tvalid_1's rmse: 3.73948\n",
      "[1160]\ttraining's rmse: 3.7292\tvalid_1's rmse: 3.73942\n",
      "[1170]\ttraining's rmse: 3.72894\tvalid_1's rmse: 3.73933\n",
      "[1180]\ttraining's rmse: 3.72877\tvalid_1's rmse: 3.73929\n",
      "[1190]\ttraining's rmse: 3.72861\tvalid_1's rmse: 3.73928\n",
      "[1200]\ttraining's rmse: 3.72846\tvalid_1's rmse: 3.7393\n",
      "[1210]\ttraining's rmse: 3.72827\tvalid_1's rmse: 3.73931\n",
      "[1220]\ttraining's rmse: 3.72804\tvalid_1's rmse: 3.7392\n",
      "[1230]\ttraining's rmse: 3.72778\tvalid_1's rmse: 3.73897\n",
      "[1240]\ttraining's rmse: 3.72763\tvalid_1's rmse: 3.73891\n",
      "[1250]\ttraining's rmse: 3.72749\tvalid_1's rmse: 3.7389\n",
      "[1260]\ttraining's rmse: 3.72728\tvalid_1's rmse: 3.73885\n",
      "[1270]\ttraining's rmse: 3.72719\tvalid_1's rmse: 3.73885\n",
      "[1280]\ttraining's rmse: 3.727\tvalid_1's rmse: 3.73878\n",
      "[1290]\ttraining's rmse: 3.72682\tvalid_1's rmse: 3.73879\n",
      "[1300]\ttraining's rmse: 3.72655\tvalid_1's rmse: 3.73872\n",
      "[1310]\ttraining's rmse: 3.72645\tvalid_1's rmse: 3.73868\n",
      "[1320]\ttraining's rmse: 3.72634\tvalid_1's rmse: 3.73869\n",
      "[1330]\ttraining's rmse: 3.726\tvalid_1's rmse: 3.73857\n",
      "[1340]\ttraining's rmse: 3.72582\tvalid_1's rmse: 3.73849\n",
      "[1350]\ttraining's rmse: 3.72569\tvalid_1's rmse: 3.73847\n",
      "[1360]\ttraining's rmse: 3.7256\tvalid_1's rmse: 3.73844\n",
      "[1370]\ttraining's rmse: 3.72547\tvalid_1's rmse: 3.73844\n",
      "[1380]\ttraining's rmse: 3.72513\tvalid_1's rmse: 3.73832\n",
      "[1390]\ttraining's rmse: 3.72499\tvalid_1's rmse: 3.73828\n",
      "[1400]\ttraining's rmse: 3.72486\tvalid_1's rmse: 3.7383\n",
      "[1410]\ttraining's rmse: 3.72464\tvalid_1's rmse: 3.7382\n",
      "[1420]\ttraining's rmse: 3.72451\tvalid_1's rmse: 3.73816\n",
      "[1430]\ttraining's rmse: 3.72435\tvalid_1's rmse: 3.73811\n"
     ]
    },
    {
     "name": "stdout",
     "output_type": "stream",
     "text": [
      "[1440]\ttraining's rmse: 3.72423\tvalid_1's rmse: 3.7381\n",
      "[1450]\ttraining's rmse: 3.72409\tvalid_1's rmse: 3.73802\n",
      "[1460]\ttraining's rmse: 3.724\tvalid_1's rmse: 3.73804\n",
      "[1470]\ttraining's rmse: 3.72386\tvalid_1's rmse: 3.73798\n",
      "[1480]\ttraining's rmse: 3.7237\tvalid_1's rmse: 3.73791\n",
      "[1490]\ttraining's rmse: 3.72358\tvalid_1's rmse: 3.73792\n",
      "[1500]\ttraining's rmse: 3.72346\tvalid_1's rmse: 3.73788\n",
      "[1510]\ttraining's rmse: 3.72328\tvalid_1's rmse: 3.73777\n",
      "[1520]\ttraining's rmse: 3.72314\tvalid_1's rmse: 3.73778\n",
      "[1530]\ttraining's rmse: 3.72284\tvalid_1's rmse: 3.73763\n",
      "[1540]\ttraining's rmse: 3.72274\tvalid_1's rmse: 3.73756\n",
      "[1550]\ttraining's rmse: 3.72252\tvalid_1's rmse: 3.73744\n",
      "[1560]\ttraining's rmse: 3.72234\tvalid_1's rmse: 3.73742\n",
      "[1570]\ttraining's rmse: 3.72219\tvalid_1's rmse: 3.73743\n",
      "[1580]\ttraining's rmse: 3.72209\tvalid_1's rmse: 3.73743\n",
      "[1590]\ttraining's rmse: 3.72196\tvalid_1's rmse: 3.73738\n",
      "[1600]\ttraining's rmse: 3.72186\tvalid_1's rmse: 3.73739\n",
      "[1610]\ttraining's rmse: 3.72176\tvalid_1's rmse: 3.73736\n",
      "[1620]\ttraining's rmse: 3.72167\tvalid_1's rmse: 3.73735\n",
      "[1630]\ttraining's rmse: 3.72154\tvalid_1's rmse: 3.7373\n",
      "[1640]\ttraining's rmse: 3.7214\tvalid_1's rmse: 3.73729\n",
      "[1650]\ttraining's rmse: 3.72126\tvalid_1's rmse: 3.73716\n",
      "[1660]\ttraining's rmse: 3.72113\tvalid_1's rmse: 3.73711\n",
      "[1670]\ttraining's rmse: 3.72105\tvalid_1's rmse: 3.73706\n",
      "[1680]\ttraining's rmse: 3.72097\tvalid_1's rmse: 3.73704\n",
      "[1690]\ttraining's rmse: 3.72087\tvalid_1's rmse: 3.73696\n",
      "[1700]\ttraining's rmse: 3.72073\tvalid_1's rmse: 3.73702\n",
      "[1710]\ttraining's rmse: 3.72062\tvalid_1's rmse: 3.73703\n",
      "[1720]\ttraining's rmse: 3.72047\tvalid_1's rmse: 3.737\n",
      "[1730]\ttraining's rmse: 3.72032\tvalid_1's rmse: 3.73691\n",
      "[1740]\ttraining's rmse: 3.72023\tvalid_1's rmse: 3.73688\n",
      "[1750]\ttraining's rmse: 3.72012\tvalid_1's rmse: 3.73691\n",
      "[1760]\ttraining's rmse: 3.72002\tvalid_1's rmse: 3.7369\n",
      "[1770]\ttraining's rmse: 3.71994\tvalid_1's rmse: 3.7369\n",
      "[1780]\ttraining's rmse: 3.71981\tvalid_1's rmse: 3.73682\n",
      "[1790]\ttraining's rmse: 3.71964\tvalid_1's rmse: 3.7367\n",
      "[1800]\ttraining's rmse: 3.71949\tvalid_1's rmse: 3.73671\n",
      "[1810]\ttraining's rmse: 3.7192\tvalid_1's rmse: 3.7366\n",
      "[1820]\ttraining's rmse: 3.71909\tvalid_1's rmse: 3.73657\n",
      "[1830]\ttraining's rmse: 3.71891\tvalid_1's rmse: 3.73643\n",
      "[1840]\ttraining's rmse: 3.71885\tvalid_1's rmse: 3.73643\n",
      "[1850]\ttraining's rmse: 3.7187\tvalid_1's rmse: 3.73643\n",
      "[1860]\ttraining's rmse: 3.71853\tvalid_1's rmse: 3.73644\n",
      "[1870]\ttraining's rmse: 3.71847\tvalid_1's rmse: 3.73645\n",
      "[1880]\ttraining's rmse: 3.7184\tvalid_1's rmse: 3.73644\n",
      "[1890]\ttraining's rmse: 3.71829\tvalid_1's rmse: 3.73642\n",
      "[1900]\ttraining's rmse: 3.71817\tvalid_1's rmse: 3.73634\n",
      "[1910]\ttraining's rmse: 3.71805\tvalid_1's rmse: 3.73633\n",
      "[1920]\ttraining's rmse: 3.71788\tvalid_1's rmse: 3.73626\n",
      "[1930]\ttraining's rmse: 3.71773\tvalid_1's rmse: 3.73627\n",
      "[1940]\ttraining's rmse: 3.71762\tvalid_1's rmse: 3.73628\n",
      "[1950]\ttraining's rmse: 3.71752\tvalid_1's rmse: 3.73628\n",
      "[1960]\ttraining's rmse: 3.71738\tvalid_1's rmse: 3.73634\n",
      "[1970]\ttraining's rmse: 3.71726\tvalid_1's rmse: 3.73635\n",
      "[1980]\ttraining's rmse: 3.71713\tvalid_1's rmse: 3.7364\n",
      "[1990]\ttraining's rmse: 3.71706\tvalid_1's rmse: 3.73636\n",
      "[2000]\ttraining's rmse: 3.71694\tvalid_1's rmse: 3.73639\n",
      "[2010]\ttraining's rmse: 3.71688\tvalid_1's rmse: 3.73642\n",
      "[2020]\ttraining's rmse: 3.71665\tvalid_1's rmse: 3.73632\n",
      "[2030]\ttraining's rmse: 3.71655\tvalid_1's rmse: 3.7363\n",
      "Early stopping, best iteration is:\n",
      "[1934]\ttraining's rmse: 3.71769\tvalid_1's rmse: 3.73623\n",
      "Model: LGB; RMSE: 3.74 ; Improvement of: 3.52%\n"
     ]
    }
   ],
   "source": [
    "#train/test indices to split data in train/test sets -> each fold is then used once as a validation while the k - 1 remaining folds form the training set\n",
    "folds             = KFold(n_splits=4,shuffle=True,random_state=15)\n",
    "X                 = train\n",
    "y                 = target\n",
    "param             = params\n",
    "num_boost_rounds  = 10000\n",
    "early_stopping    = 100\n",
    "out_of_folds      = np.zeros(len(X))\n",
    "predictions       = np.zeros(len(y))\n",
    "feature_importance= pd.DataFrame()\n",
    "evals_result      = {}\n",
    "\n",
    "# for-loop to split data in n training and validation sets and perfom LGBM on every fold\n",
    "for fold, (train_ind,val_ind) in enumerate(folds.split(X,y)):\n",
    "    print(\"fold n°{}\".format(fold))\n",
    "    \n",
    "    #training&validation sets\n",
    "    training=lgb.Dataset(X.iloc[train_ind],label=y.iloc[train_ind])\n",
    "    validation=lgb.Dataset(X.iloc[val_ind],label=y.iloc[val_ind])\n",
    "    \n",
    "    #training for each fold:\n",
    "    lgb2=lgb.train(params, training,valid_sets = [training,validation], verbose_eval=10,num_boost_round=num_boost_rounds,\n",
    "                   early_stopping_rounds = early_stopping  , evals_result = evals_result)\n",
    "    \n",
    "    #predictions on validation fold -> OOF:\"Out-of-fold\" -> using k-fold validation in which the predictions from each set of folds are grouped together into one group of 1000 predictions\n",
    "    out_of_folds[val_ind] = lgb2.predict(X.iloc[val_ind], num_iteration=lgb2.best_iteration)\n",
    "    \n",
    "    #storing in feature importance\n",
    "    fold_importance= pd.DataFrame()\n",
    "    fold_importance[\"feature\"] = features\n",
    "    fold_importance[\"importance\"] = lgb2.feature_importance()\n",
    "    fold_importance[\"fold\"] = fold + 1\n",
    "    feature_importance = pd.concat([feature_importance, fold_importance], axis=0)\n",
    "    \n",
    "lgb_evaluation(lgb2)"
   ]
  },
  {
   "cell_type": "code",
   "execution_count": 40,
   "metadata": {
    "_uuid": "a72d35fcc6e0b01c41b15987190a216badf81af6",
    "execution": {
     "iopub.execute_input": "2022-07-19T15:20:32.659551Z",
     "iopub.status.busy": "2022-07-19T15:20:32.654931Z",
     "iopub.status.idle": "2022-07-19T15:20:32.667176Z",
     "shell.execute_reply": "2022-07-19T15:20:32.666083Z",
     "shell.execute_reply.started": "2022-07-19T15:20:32.659459Z"
    },
    "scrolled": true
   },
   "outputs": [
    {
     "data": {
      "text/plain": [
       "defaultdict(collections.OrderedDict,\n",
       "            {'training': OrderedDict([('rmse', 3.717690363490039)]),\n",
       "             'valid_1': OrderedDict([('rmse', 3.7362297208399)])})"
      ]
     },
     "execution_count": 40,
     "metadata": {},
     "output_type": "execute_result"
    }
   ],
   "source": [
    "lgb2.best_score"
   ]
  },
  {
   "cell_type": "markdown",
   "metadata": {
    "_uuid": "143e4d17a3caad2e95fb748de4c1f4828b73a2b6"
   },
   "source": [
    "We can nicely see how the training score keeps improving while overfitting the train and the validation score stagnates."
   ]
  },
  {
   "cell_type": "code",
   "execution_count": 41,
   "metadata": {
    "_uuid": "57cd9bda6ee72745c31441ecb5a9b7b9abc0ed1f",
    "execution": {
     "iopub.execute_input": "2022-07-19T15:20:32.669561Z",
     "iopub.status.busy": "2022-07-19T15:20:32.669144Z",
     "iopub.status.idle": "2022-07-19T15:20:32.882479Z",
     "shell.execute_reply": "2022-07-19T15:20:32.881712Z",
     "shell.execute_reply.started": "2022-07-19T15:20:32.669499Z"
    },
    "scrolled": true
   },
   "outputs": [
    {
     "data": {
      "image/png": "[encoded data removed]",
      "text/plain": [
       "<Figure size 432x288 with 1 Axes>"
      ]
     },
     "metadata": {
      "needs_background": "light"
     },
     "output_type": "display_data"
    }
   ],
   "source": [
    "_ = lgb.plot_metric(evals_result, metric='rmse')"
   ]
  },
  {
   "cell_type": "markdown",
   "metadata": {},
   "source": [
    "# Predict"
   ]
  },
  {
   "cell_type": "code",
   "execution_count": 42,
   "metadata": {},
   "outputs": [],
   "source": [
    "predictions = lgb2.predict(test)\n",
    "elo_sub_XX = pd.DataFrame({\"card_id\":org_test[\"card_id\"].values})\n",
    "elo_sub_XX[\"target\"] = predictions\n",
    "elo_sub_XX.to_csv(\"submission.csv\", index=False)"
   ]
  },
  {
   "cell_type": "markdown",
   "metadata": {},
   "source": [
    "## Score: 3.70814"
   ]
  }
 ],
 "metadata": {
  "kernelspec": {
   "display_name": "elo",
   "language": "python",
   "name": "elo"
  },
  "language_info": {
   "codemirror_mode": {
    "name": "ipython",
    "version": 3
   },
   "file_extension": ".py",
   "mimetype": "text/x-python",
   "name": "python",
   "nbconvert_exporter": "python",
   "pygments_lexer": "ipython3",
   "version": "3.10.4"
  }
 },
 "nbformat": 4,
 "nbformat_minor": 4
}
