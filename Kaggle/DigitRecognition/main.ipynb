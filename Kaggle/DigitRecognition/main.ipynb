{
 "cells": [
  {
   "cell_type": "code",
   "execution_count": 1,
   "id": "29327815",
   "metadata": {},
   "outputs": [],
   "source": [
    "# graphs and tablesd\n",
    "import numpy as np\n",
    "import pandas as pd\n",
    "import matplotlib.pyplot as plt\n",
    "import seaborn as sns\n",
    "\n",
    "# NN's tools\n",
    "import torch\n",
    "import torch.nn as nn\n",
    "from torch.autograd import Variable\n",
    "from torch.utils.data import DataLoader\n",
    "\n",
    "# to separate the data\n",
    "from sklearn.model_selection import train_test_split"
   ]
  },
  {
   "cell_type": "markdown",
   "id": "45ed426f",
   "metadata": {},
   "source": [
    "## 1. Import Data"
   ]
  },
  {
   "cell_type": "code",
   "execution_count": 2,
   "id": "f24e41dc",
   "metadata": {},
   "outputs": [],
   "source": [
    "train = pd.read_csv(\"data/train.csv\",dtype=np.float32)\n",
    "test = pd.read_csv(\"data/test.csv\", dtype=np.float32)"
   ]
  },
  {
   "cell_type": "markdown",
   "id": "925bcc0d",
   "metadata": {},
   "source": [
    "## 2. Prepare Data"
   ]
  },
  {
   "cell_type": "code",
   "execution_count": 3,
   "id": "2fe73fe4",
   "metadata": {},
   "outputs": [],
   "source": [
    "targets_numpy = train.label.values\n",
    "features_numpy = train.iloc[:,train.columns!=\"label\"].values/255 # normalization \n",
    "\n",
    "features_train, features_test, targets_train, targets_test = train_test_split(features_numpy, targets_numpy, test_size=0.2, random_state=42)\n",
    "\n",
    "# create feature and targets tensor for train set\n",
    "FeaturesTrain = torch.from_numpy(features_train)\n",
    "TargetsTrain = torch.from_numpy(targets_train).type(torch.LongTensor)\n",
    "\n",
    "\n",
    "FeaturesTest = torch.from_numpy(features_test)\n",
    "TargetsTest = torch.from_numpy(targets_test).type(torch.LongTensor)\n",
    "\n",
    "#batch size, epoch and iterations\n",
    "batch_size = 100\n",
    "num_iterations = 10000\n",
    "num_epochs = num_iterations/(len(features_train)/batch_size)\n",
    "num_epochs = int(num_epochs)\n",
    "\n",
    "#pytorch train and test set\n",
    "train = torch.utils.data.TensorDataset(FeaturesTrain, TargetsTrain)\n",
    "test = torch.utils.data.TensorDataset(FeaturesTest, TargetsTest)\n",
    "\n",
    "#dataloader\n",
    "train_loader = DataLoader(train, batch_size=batch_size, shuffle=False)\n",
    "test_loader = DataLoader(test, batch_size=batch_size, shuffle=False)"
   ]
  },
  {
   "cell_type": "code",
   "execution_count": 4,
   "id": "79d025c0",
   "metadata": {},
   "outputs": [],
   "source": [
    "# Create CNN Model\n",
    "\n",
    "class CNNModel(nn.Module):\n",
    "    def __init__(self):\n",
    "        super(CNNModel, self).__init__()\n",
    "        \n",
    "        # Convolution 1\n",
    "        self.cnn1 = nn.Conv2d(in_channels=1, out_channels=16, kernel_size=5, stride=1, padding=0)\n",
    "        self.relu1 = nn.ReLU()\n",
    "        \n",
    "        # Max Pooling 1\n",
    "        self.maxpool1 = nn.MaxPool2d(kernel_size=2)\n",
    "     \n",
    "        # Convolution 2\n",
    "        self.cnn2 = nn.Conv2d(in_channels=16, out_channels=32, kernel_size=5, stride=1, padding=0)\n",
    "        self.relu2 = nn.ReLU()\n",
    "        \n",
    "        # Max Pooling 2\n",
    "        self.maxpool2 = nn.MaxPool2d(kernel_size=2)\n",
    "        \n",
    "        # Fully connected 1\n",
    "        self.fc1 = nn.Linear(32 * 4 * 4, 10) \n",
    "    \n",
    "    def forward(self, x):\n",
    "        \n",
    "        # Convolution 1\n",
    "        out = self.cnn1(x)\n",
    "        out = self.relu1(out)\n",
    "        \n",
    "        # Max Pooling 1\n",
    "        out = self.maxpool1(out)\n",
    "        \n",
    "        # Convolution 2 \n",
    "        out = self.cnn2(out)\n",
    "        out = self.relu2(out)\n",
    "        \n",
    "        # Max Pooling 2 \n",
    "        out = self.maxpool2(out)\n",
    "        \n",
    "        # flatten\n",
    "        out = out.view(out.size(0), -1)\n",
    "\n",
    "        # Linear function\n",
    "        out = self.fc1(out)\n",
    "        \n",
    "        return out\n",
    "    \n",
    "# Model\n",
    "model = CNNModel()\n",
    "\n",
    "# Loss Funciton \n",
    "error = nn.CrossEntropyLoss()\n",
    "\n",
    "# Optimizer\n",
    "learning_rate = 0.1\n",
    "optimizer = torch.optim.SGD(model.parameters(), lr=learning_rate)"
   ]
  },
  {
   "cell_type": "markdown",
   "id": "45ed426f",
   "metadata": {},
   "source": [
    "## 3. Train Model"
   ]
  },
  {
   "cell_type": "code",
   "execution_count": 5,
   "id": "402b39e9",
   "metadata": {},
   "outputs": [
    {
     "name": "stdout",
     "output_type": "stream",
     "text": [
      "Iteration: 1000  Loss: 0.046640802174806595  Accuracy: 97.61904907226562 %\n",
      "Iteration: 2000  Loss: 0.01922767050564289  Accuracy: 98.20237731933594 %\n",
      "Iteration: 3000  Loss: 0.029458055272698402  Accuracy: 98.32142639160156 %\n",
      "Iteration: 4000  Loss: 0.004333339631557465  Accuracy: 98.55952453613281 %\n",
      "Iteration: 5000  Loss: 0.0051883612759411335  Accuracy: 98.48809814453125 %\n",
      "Iteration: 6000  Loss: 0.021358836442232132  Accuracy: 98.36904907226562 %\n",
      "Iteration: 7000  Loss: 0.01151804905384779  Accuracy: 98.53571319580078 %\n",
      "Iteration: 8000  Loss: 0.2521005868911743  Accuracy: 98.19047546386719 %\n",
      "Iteration: 9000  Loss: 0.0031241043470799923  Accuracy: 98.76190185546875 %\n"
     ]
    }
   ],
   "source": [
    "# CNN model training\n",
    "count = 0\n",
    "loss_list = []\n",
    "iteration_list = []\n",
    "accuracy_list = []\n",
    "for epoch in range(num_epochs):\n",
    "    for i, (images, labels) in enumerate(train_loader):\n",
    "        \n",
    "        train = Variable(images.view(100,1,28,28))\n",
    "        labels = Variable(labels)\n",
    "        \n",
    "        # Clear gradients\n",
    "        optimizer.zero_grad()\n",
    "        \n",
    "        # Forward propagation\n",
    "        outputs = model(train)\n",
    "        \n",
    "        # Calculate softmax and cross entropy loss\n",
    "        loss = error(outputs, labels)\n",
    "        \n",
    "        # Calculating gradients\n",
    "        loss.backward()\n",
    "        \n",
    "        # Update parameters\n",
    "        optimizer.step()\n",
    "        \n",
    "        count += 1\n",
    "        \n",
    "        if count % 50 == 0:\n",
    "            # Calculate Accuracy         \n",
    "            correct = 0\n",
    "            total = 0\n",
    "            # Iterate through test dataset\n",
    "            for images, labels in test_loader:\n",
    "                \n",
    "                test = Variable(images.view(100,1,28,28))\n",
    "                \n",
    "                # Forward propagation\n",
    "                outputs = model(test)\n",
    "                \n",
    "                # Get predictions from the maximum value\n",
    "                predicted = torch.max(outputs.data, 1)[1]\n",
    "                \n",
    "                # Total number of labels\n",
    "                total += len(labels)\n",
    "                \n",
    "                correct += (predicted == labels).sum()\n",
    "            \n",
    "            accuracy = 100 * correct / float(total)\n",
    "            \n",
    "            # store loss and iteration\n",
    "            loss_list.append(loss.data)\n",
    "            iteration_list.append(count)\n",
    "            accuracy_list.append(accuracy)\n",
    "            \n",
    "        if count % 1000 == 0:\n",
    "            # Print Loss\n",
    "            print('Iteration: {}  Loss: {}  Accuracy: {} %'.format(count, loss.data, accuracy))"
   ]
  },
  {
   "cell_type": "code",
   "execution_count": 6,
   "id": "ac26a7df",
   "metadata": {},
   "outputs": [
    {
     "data": {
      "image/png": "[encoded data removed]",
      "text/plain": [
       "<Figure size 432x288 with 1 Axes>"
      ]
     },
     "metadata": {
      "needs_background": "light"
     },
     "output_type": "display_data"
    },
    {
     "data": {
      "image/png": "[encoded data removed]",
      "text/plain": [
       "<Figure size 432x288 with 1 Axes>"
      ]
     },
     "metadata": {
      "needs_background": "light"
     },
     "output_type": "display_data"
    }
   ],
   "source": [
    "# visualization loss \n",
    "plt.plot(iteration_list,loss_list)\n",
    "plt.xlabel(\"Number of iteration\")\n",
    "plt.ylabel(\"Loss\")\n",
    "plt.title(\"CNN: Loss vs Number of iteration\")\n",
    "plt.show()\n",
    "\n",
    "# visualization accuracy \n",
    "plt.plot(iteration_list,accuracy_list,color = \"red\")\n",
    "plt.xlabel(\"Number of iteration\")\n",
    "plt.ylabel(\"Accuracy\")\n",
    "plt.title(\"CNN: Accuracy vs Number of iteration\")\n",
    "plt.show()"
   ]
  },
  {
   "cell_type": "code",
   "execution_count": 7,
   "id": "f1b94ff0",
   "metadata": {},
   "outputs": [],
   "source": [
    "# saving weights\n",
    "PATH = './digit_net.pth'\n",
    "torch.save(model.state_dict(), PATH)"
   ]
  },
  {
   "cell_type": "code",
   "execution_count": 8,
   "id": "6c5b6ba3",
   "metadata": {},
   "outputs": [],
   "source": [
    "# prepeare test data for predicting\n",
    "\n",
    "test = pd.read_csv(\"data/test.csv\", dtype=np.float32)\n",
    "\n",
    "features_numpy = test.iloc[:, test.columns!=\"label\"].values/255 # normalization \n",
    "targets_numpy = np.zeros(28000) # dummy variables for the model to work with\n",
    "\n",
    "FeaturesTest = torch.from_numpy(features_numpy)\n",
    "TargetTest = torch.from_numpy(targets_numpy)\n",
    "\n",
    "test = torch.utils.data.TensorDataset(FeaturesTest, TargetTest)\n",
    "\n",
    "testloader = DataLoader(test, batch_size=batch_size, shuffle=False)"
   ]
  },
  {
   "cell_type": "markdown",
   "id": "45ed426f",
   "metadata": {},
   "source": [
    "## 4. Predict"
   ]
  },
  {
   "cell_type": "code",
   "execution_count": 9,
   "id": "861dba38",
   "metadata": {},
   "outputs": [
    {
     "data": {
      "text/plain": [
       "<All keys matched successfully>"
      ]
     },
     "execution_count": 9,
     "metadata": {},
     "output_type": "execute_result"
    }
   ],
   "source": [
    "net = CNNModel()\n",
    "net.load_state_dict(torch.load('./digit_net.pth'))"
   ]
  },
  {
   "cell_type": "code",
   "execution_count": 10,
   "id": "02f1a0c9",
   "metadata": {},
   "outputs": [],
   "source": [
    "# make a submission\n",
    "submission = []\n",
    "for images, i in testloader:\n",
    "\n",
    "    test = Variable(images.view(100,1,28,28))\n",
    "    outputs = model(test)\n",
    "    predicted = torch.max(outputs.data, 1)[1]\n",
    "    submission.append(predicted.numpy()) "
   ]
  },
  {
   "cell_type": "code",
   "execution_count": 11,
   "id": "b36b8c79",
   "metadata": {},
   "outputs": [],
   "source": [
    "predictions = []\n",
    "\n",
    "data = np.asarray(submission)\n",
    "for row in data:\n",
    "    for index in row:\n",
    "        predictions.append(index)\n",
    "        \n",
    "submission = np.array(predictions)"
   ]
  },
  {
   "cell_type": "code",
   "execution_count": 12,
   "id": "154cccea",
   "metadata": {},
   "outputs": [],
   "source": [
    "my_submission = pd.read_csv('data/sample_submission.csv')"
   ]
  },
  {
   "cell_type": "code",
   "execution_count": 13,
   "id": "b821ad6c",
   "metadata": {},
   "outputs": [],
   "source": [
    "my_submission['Label'] = submission"
   ]
  },
  {
   "cell_type": "code",
   "execution_count": 14,
   "id": "e42afdf0",
   "metadata": {},
   "outputs": [],
   "source": [
    "my_submission = my_submission.set_index('ImageId')\n",
    "my_submission.to_csv('submission.csv')"
   ]
  },
  {
   "cell_type": "markdown",
   "id": "a9a05066",
   "metadata": {},
   "source": [
    "## Predict: 0.98460"
   ]
  }
 ],
 "metadata": {
  "kernelspec": {
   "display_name": "Python 3 (ipykernel)",
   "language": "python",
   "name": "python3"
  },
  "language_info": {
   "codemirror_mode": {
    "name": "ipython",
    "version": 3
   },
   "file_extension": ".py",
   "mimetype": "text/x-python",
   "name": "python",
   "nbconvert_exporter": "python",
   "pygments_lexer": "ipython3",
   "version": "3.10.4"
  }
 },
 "nbformat": 4,
 "nbformat_minor": 5
}
