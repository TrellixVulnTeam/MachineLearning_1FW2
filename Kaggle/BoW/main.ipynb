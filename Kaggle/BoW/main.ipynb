{
 "cells": [
  {
   "cell_type": "code",
   "execution_count": 1,
   "id": "697bcbed",
   "metadata": {},
   "outputs": [],
   "source": [
    "# to input data and graphs\n",
    "import numpy as np \n",
    "import pandas as pd \n",
    "import os\n",
    "import matplotlib.pyplot as plt\n",
    "\n",
    "# to \n",
    "import re\n",
    "from nltk.corpus import stopwords\n",
    "# import nltk\n",
    "# nltk.download('stopwords')\n",
    "\n",
    "import tensorflow as tf\n",
    "from tensorflow.keras.preprocessing.sequence import pad_sequences\n",
    "from tensorflow.keras.preprocessing.text import Tokenizer"
   ]
  },
  {
   "cell_type": "markdown",
   "id": "c217ac02",
   "metadata": {},
   "source": [
    "## 1. Input Data"
   ]
  },
  {
   "cell_type": "code",
   "execution_count": 2,
   "id": "7d4fc7e4",
   "metadata": {},
   "outputs": [],
   "source": [
    "train_data = pd.read_csv(\"data/labeledTrainData.tsv\", delimiter='\\t')\n",
    "test_data =  pd.read_csv(\"data/testData.tsv\", delimiter='\\t')"
   ]
  },
  {
   "cell_type": "code",
   "execution_count": 3,
   "id": "e17117cf",
   "metadata": {},
   "outputs": [
    {
     "data": {
      "image/png": "[encoded data removed]",
      "text/plain": [
       "<Figure size 216x216 with 1 Axes>"
      ]
     },
     "metadata": {},
     "output_type": "display_data"
    }
   ],
   "source": [
    "plt.figure(figsize=(3,3))\n",
    "train_data['sentiment'].value_counts(normalize=True).plot(kind=\"pie\", \n",
    "                                                     labels=['Positive', 'Negative'], \n",
    "                                                     legend=True, \n",
    "                                                     colors=['turquoise', 'steelblue'],\n",
    "                                                     title=\"The relationship between positive and negative reviews:\", \n",
    "                                                     labeldistance=None, \n",
    "                                                     autopct='%0.0f%%', \n",
    "                                                     startangle=90)\n",
    "plt.ylabel(None)\n",
    "plt.show()"
   ]
  },
  {
   "cell_type": "code",
   "execution_count": 4,
   "id": "74992f72",
   "metadata": {},
   "outputs": [
    {
     "data": {
      "image/png": "[encoded data removed]",
      "text/plain": [
       "<Figure size 432x288 with 1 Axes>"
      ]
     },
     "metadata": {
      "needs_background": "light"
     },
     "output_type": "display_data"
    }
   ],
   "source": [
    "plt.hist(train_data[train_data['sentiment']==1]['review'].str.len(), color='turquoise', alpha=0.5, label=\"Positive\")\n",
    "plt.hist(train_data[train_data['sentiment']==0]['review'].str.len(), color='steelblue', alpha=0.5, label=\"Negative\")\n",
    "plt.title(\"Length for reviews\")\n",
    "plt.xlabel(\"Length of review\")\n",
    "plt.ylabel(\"Count\")\n",
    "plt.legend()\n",
    "plt.show()"
   ]
  },
  {
   "cell_type": "markdown",
   "id": "25a6afa1",
   "metadata": {},
   "source": [
    "## 2. Data Preprocessing"
   ]
  },
  {
   "cell_type": "code",
   "execution_count": 5,
   "id": "90405687",
   "metadata": {},
   "outputs": [],
   "source": [
    "# clean data from punctuation marks and convert to lowercase\n",
    "\n",
    "stopwords_eng = set(stopwords.words(\"english\"))\n",
    "\n",
    "def clean_text(text):\n",
    "    text = text.lower() # convert to lowercase\n",
    "    text = re.sub(\"[^a-z]\", \" \", text)\n",
    "    words = [word for word in text.split() if word not in stopwords_eng]\n",
    "    text = \" \".join(words)\n",
    "    return text\n",
    "\n",
    "clean_train_reviews = train_data['review'].map(clean_text)\n",
    "clean_test_reviews = test_data['review'].map(clean_text)"
   ]
  },
  {
   "cell_type": "code",
   "execution_count": 6,
   "id": "90935e73",
   "metadata": {},
   "outputs": [],
   "source": [
    "# prepare data for training\n",
    "MAX_SEQUENCE_LENGTH = 174\n",
    "\n",
    "tokenizer = Tokenizer()\n",
    "\n",
    "tokenizer.fit_on_texts(clean_train_reviews + clean_train_reviews)\n",
    "\n",
    "text_sequences = tokenizer.texts_to_sequences(clean_train_reviews)\n",
    "train_inputs = pad_sequences(text_sequences,maxlen=MAX_SEQUENCE_LENGTH, padding='post')\n",
    "\n",
    "text_sequences = tokenizer.texts_to_sequences(clean_test_reviews)\n",
    "test_inputs = pad_sequences(text_sequences, maxlen=MAX_SEQUENCE_LENGTH, padding='post')"
   ]
  },
  {
   "cell_type": "markdown",
   "id": "65d61f2a",
   "metadata": {},
   "source": [
    "## 3. Build and Train Model"
   ]
  },
  {
   "cell_type": "code",
   "execution_count": 7,
   "id": "e199e8ac",
   "metadata": {},
   "outputs": [
    {
     "name": "stdout",
     "output_type": "stream",
     "text": [
      "Model: \"sequential\"\n",
      "_________________________________________________________________\n",
      " Layer (type)                Output Shape              Param #   \n",
      "=================================================================\n",
      " embedding (Embedding)       (None, None, 16)          1528208   \n",
      "                                                                 \n",
      " global_average_pooling1d (G  (None, 16)               0         \n",
      " lobalAveragePooling1D)                                          \n",
      "                                                                 \n",
      " dense (Dense)               (None, 16)                272       \n",
      "                                                                 \n",
      " dense_1 (Dense)             (None, 1)                 17        \n",
      "                                                                 \n",
      "=================================================================\n",
      "Total params: 1,528,497\n",
      "Trainable params: 1,528,497\n",
      "Non-trainable params: 0\n",
      "_________________________________________________________________\n"
     ]
    },
    {
     "name": "stderr",
     "output_type": "stream",
     "text": [
      "2022-07-18 20:47:14.757168: I tensorflow/core/platform/cpu_feature_guard.cc:193] This TensorFlow binary is optimized with oneAPI Deep Neural Network Library (oneDNN) to use the following CPU instructions in performance-critical operations:  AVX2 FMA\n",
      "To enable them in other operations, rebuild TensorFlow with the appropriate compiler flags.\n"
     ]
    }
   ],
   "source": [
    "vocab_size = len(tokenizer.word_index) + 1\n",
    "\n",
    "model = tf.keras.Sequential()\n",
    "model.add(tf.keras.layers.Embedding(vocab_size, 16))\n",
    "model.add(tf.keras.layers.GlobalAveragePooling1D())\n",
    "model.add(tf.keras.layers.Dense(16, activation=tf.nn.relu))\n",
    "model.add(tf.keras.layers.Dense(1, activation=tf.nn.sigmoid))\n",
    "\n",
    "model.summary()"
   ]
  },
  {
   "cell_type": "code",
   "execution_count": 8,
   "id": "4e798b09",
   "metadata": {},
   "outputs": [],
   "source": [
    "model.compile(optimizer='adam',\n",
    "              loss='binary_crossentropy',\n",
    "              metrics=['acc'])"
   ]
  },
  {
   "cell_type": "code",
   "execution_count": 9,
   "id": "3d7e2ab9",
   "metadata": {},
   "outputs": [],
   "source": [
    "X_val = train_inputs[:5000]\n",
    "X_train = train_inputs[5000:]\n",
    "\n",
    "y_val = np.array(train_data['sentiment'][:5000])\n",
    "y_train = np.array(train_data['sentiment'][5000:])"
   ]
  },
  {
   "cell_type": "code",
   "execution_count": 10,
   "id": "b8a54e89",
   "metadata": {},
   "outputs": [
    {
     "name": "stdout",
     "output_type": "stream",
     "text": [
      "Epoch 1/15\n",
      "40/40 [==============================] - 1s 20ms/step - loss: 0.6921 - acc: 0.5124 - val_loss: 0.6894 - val_acc: 0.5380\n",
      "Epoch 2/15\n",
      "40/40 [==============================] - 1s 13ms/step - loss: 0.6823 - acc: 0.7324 - val_loss: 0.6720 - val_acc: 0.8036\n",
      "Epoch 3/15\n",
      "40/40 [==============================] - 1s 14ms/step - loss: 0.6530 - acc: 0.8329 - val_loss: 0.6342 - val_acc: 0.8320\n",
      "Epoch 4/15\n",
      "40/40 [==============================] - 1s 19ms/step - loss: 0.6000 - acc: 0.8552 - val_loss: 0.5764 - val_acc: 0.8414\n",
      "Epoch 5/15\n",
      "40/40 [==============================] - 1s 19ms/step - loss: 0.5285 - acc: 0.8745 - val_loss: 0.5103 - val_acc: 0.8436\n",
      "Epoch 6/15\n",
      "40/40 [==============================] - 1s 21ms/step - loss: 0.4535 - acc: 0.8861 - val_loss: 0.4483 - val_acc: 0.8588\n",
      "Epoch 7/15\n",
      "40/40 [==============================] - 1s 17ms/step - loss: 0.3872 - acc: 0.8994 - val_loss: 0.3983 - val_acc: 0.8720\n",
      "Epoch 8/15\n",
      "40/40 [==============================] - 1s 18ms/step - loss: 0.3335 - acc: 0.9102 - val_loss: 0.3625 - val_acc: 0.8760\n",
      "Epoch 9/15\n",
      "40/40 [==============================] - 1s 18ms/step - loss: 0.2896 - acc: 0.9222 - val_loss: 0.3342 - val_acc: 0.8838\n",
      "Epoch 10/15\n",
      "40/40 [==============================] - 1s 19ms/step - loss: 0.2551 - acc: 0.9305 - val_loss: 0.3138 - val_acc: 0.8872\n",
      "Epoch 11/15\n",
      "40/40 [==============================] - 1s 16ms/step - loss: 0.2268 - acc: 0.9379 - val_loss: 0.2989 - val_acc: 0.8882\n",
      "Epoch 12/15\n",
      "40/40 [==============================] - 1s 16ms/step - loss: 0.2034 - acc: 0.9441 - val_loss: 0.2902 - val_acc: 0.8872\n",
      "Epoch 13/15\n",
      "40/40 [==============================] - 1s 17ms/step - loss: 0.1836 - acc: 0.9496 - val_loss: 0.2805 - val_acc: 0.8926\n",
      "Epoch 14/15\n",
      "40/40 [==============================] - 1s 17ms/step - loss: 0.1662 - acc: 0.9554 - val_loss: 0.2750 - val_acc: 0.8934\n",
      "Epoch 15/15\n",
      "40/40 [==============================] - 1s 17ms/step - loss: 0.1514 - acc: 0.9603 - val_loss: 0.2717 - val_acc: 0.8936\n"
     ]
    }
   ],
   "source": [
    "history = model.fit(X_train,\n",
    "                    y_train,\n",
    "                    epochs=15,\n",
    "                    batch_size=512,\n",
    "                    validation_data=[X_val, y_val],\n",
    "                    verbose=1)"
   ]
  },
  {
   "cell_type": "markdown",
   "id": "050312fe",
   "metadata": {},
   "source": [
    "## 4. Prediction"
   ]
  },
  {
   "cell_type": "code",
   "execution_count": 11,
   "id": "6d8a5043",
   "metadata": {},
   "outputs": [
    {
     "name": "stdout",
     "output_type": "stream",
     "text": [
      "782/782 [==============================] - 1s 568us/step\n"
     ]
    }
   ],
   "source": [
    "predictions = np.rint(model.predict(test_inputs)).astype('int32').squeeze()"
   ]
  },
  {
   "cell_type": "code",
   "execution_count": 12,
   "id": "fba4cf14",
   "metadata": {},
   "outputs": [],
   "source": [
    "submission = pd.DataFrame({'id': test_data['id'], 'sentiment':predictions})"
   ]
  },
  {
   "cell_type": "code",
   "execution_count": 13,
   "id": "e925fffa",
   "metadata": {},
   "outputs": [],
   "source": [
    "submission.to_csv('submission.csv', index = False)"
   ]
  },
  {
   "cell_type": "markdown",
   "id": "f7debc99",
   "metadata": {},
   "source": [
    "## Score: 0.87764"
   ]
  }
 ],
 "metadata": {
  "kernelspec": {
   "display_name": "ker",
   "language": "python",
   "name": "ker"
  },
  "language_info": {
   "codemirror_mode": {
    "name": "ipython",
    "version": 3
   },
   "file_extension": ".py",
   "mimetype": "text/x-python",
   "name": "python",
   "nbconvert_exporter": "python",
   "pygments_lexer": "ipython3",
   "version": "3.10.4"
  }
 },
 "nbformat": 4,
 "nbformat_minor": 5
}
